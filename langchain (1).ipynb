{
  "nbformat": 4,
  "nbformat_minor": 0,
  "metadata": {
    "colab": {
      "provenance": [],
      "collapsed_sections": [
        "_t2ZECmk-bLr"
      ]
    },
    "kernelspec": {
      "name": "python3",
      "display_name": "Python 3"
    },
    "language_info": {
      "name": "python"
    },
    "widgets": {
      "application/vnd.jupyter.widget-state+json": {
        "fb271da2793d47aa86016d4125105802": {
          "model_module": "@jupyter-widgets/controls",
          "model_name": "HBoxModel",
          "model_module_version": "1.5.0",
          "state": {
            "_dom_classes": [],
            "_model_module": "@jupyter-widgets/controls",
            "_model_module_version": "1.5.0",
            "_model_name": "HBoxModel",
            "_view_count": null,
            "_view_module": "@jupyter-widgets/controls",
            "_view_module_version": "1.5.0",
            "_view_name": "HBoxView",
            "box_style": "",
            "children": [
              "IPY_MODEL_680f6becefb54433b60ebfa59bbee333",
              "IPY_MODEL_fb8095acc1714a669960f642bcb73c4c",
              "IPY_MODEL_35b9e2d83cd24bf8948cccceaddaaa55"
            ],
            "layout": "IPY_MODEL_8e42169e46b5464a96bf54c0d72f4c1d"
          }
        },
        "680f6becefb54433b60ebfa59bbee333": {
          "model_module": "@jupyter-widgets/controls",
          "model_name": "HTMLModel",
          "model_module_version": "1.5.0",
          "state": {
            "_dom_classes": [],
            "_model_module": "@jupyter-widgets/controls",
            "_model_module_version": "1.5.0",
            "_model_name": "HTMLModel",
            "_view_count": null,
            "_view_module": "@jupyter-widgets/controls",
            "_view_module_version": "1.5.0",
            "_view_name": "HTMLView",
            "description": "",
            "description_tooltip": null,
            "layout": "IPY_MODEL_c58533a8d1814649878a74e6275eecac",
            "placeholder": "​",
            "style": "IPY_MODEL_538eceff0b5f4c2db61edbacb1488e81",
            "value": "modules.json: 100%"
          }
        },
        "fb8095acc1714a669960f642bcb73c4c": {
          "model_module": "@jupyter-widgets/controls",
          "model_name": "FloatProgressModel",
          "model_module_version": "1.5.0",
          "state": {
            "_dom_classes": [],
            "_model_module": "@jupyter-widgets/controls",
            "_model_module_version": "1.5.0",
            "_model_name": "FloatProgressModel",
            "_view_count": null,
            "_view_module": "@jupyter-widgets/controls",
            "_view_module_version": "1.5.0",
            "_view_name": "ProgressView",
            "bar_style": "success",
            "description": "",
            "description_tooltip": null,
            "layout": "IPY_MODEL_bbcdb8aabd424c6b9a377021d7359635",
            "max": 349,
            "min": 0,
            "orientation": "horizontal",
            "style": "IPY_MODEL_844f2f5fccf94d11aaf8a3dcf3a790bc",
            "value": 349
          }
        },
        "35b9e2d83cd24bf8948cccceaddaaa55": {
          "model_module": "@jupyter-widgets/controls",
          "model_name": "HTMLModel",
          "model_module_version": "1.5.0",
          "state": {
            "_dom_classes": [],
            "_model_module": "@jupyter-widgets/controls",
            "_model_module_version": "1.5.0",
            "_model_name": "HTMLModel",
            "_view_count": null,
            "_view_module": "@jupyter-widgets/controls",
            "_view_module_version": "1.5.0",
            "_view_name": "HTMLView",
            "description": "",
            "description_tooltip": null,
            "layout": "IPY_MODEL_3c3f5f29e6934a588026c5b15bcc897f",
            "placeholder": "​",
            "style": "IPY_MODEL_2993ffccbbbb4a91a4235f9cad2ed0bc",
            "value": " 349/349 [00:00&lt;00:00, 7.23kB/s]"
          }
        },
        "8e42169e46b5464a96bf54c0d72f4c1d": {
          "model_module": "@jupyter-widgets/base",
          "model_name": "LayoutModel",
          "model_module_version": "1.2.0",
          "state": {
            "_model_module": "@jupyter-widgets/base",
            "_model_module_version": "1.2.0",
            "_model_name": "LayoutModel",
            "_view_count": null,
            "_view_module": "@jupyter-widgets/base",
            "_view_module_version": "1.2.0",
            "_view_name": "LayoutView",
            "align_content": null,
            "align_items": null,
            "align_self": null,
            "border": null,
            "bottom": null,
            "display": null,
            "flex": null,
            "flex_flow": null,
            "grid_area": null,
            "grid_auto_columns": null,
            "grid_auto_flow": null,
            "grid_auto_rows": null,
            "grid_column": null,
            "grid_gap": null,
            "grid_row": null,
            "grid_template_areas": null,
            "grid_template_columns": null,
            "grid_template_rows": null,
            "height": null,
            "justify_content": null,
            "justify_items": null,
            "left": null,
            "margin": null,
            "max_height": null,
            "max_width": null,
            "min_height": null,
            "min_width": null,
            "object_fit": null,
            "object_position": null,
            "order": null,
            "overflow": null,
            "overflow_x": null,
            "overflow_y": null,
            "padding": null,
            "right": null,
            "top": null,
            "visibility": null,
            "width": null
          }
        },
        "c58533a8d1814649878a74e6275eecac": {
          "model_module": "@jupyter-widgets/base",
          "model_name": "LayoutModel",
          "model_module_version": "1.2.0",
          "state": {
            "_model_module": "@jupyter-widgets/base",
            "_model_module_version": "1.2.0",
            "_model_name": "LayoutModel",
            "_view_count": null,
            "_view_module": "@jupyter-widgets/base",
            "_view_module_version": "1.2.0",
            "_view_name": "LayoutView",
            "align_content": null,
            "align_items": null,
            "align_self": null,
            "border": null,
            "bottom": null,
            "display": null,
            "flex": null,
            "flex_flow": null,
            "grid_area": null,
            "grid_auto_columns": null,
            "grid_auto_flow": null,
            "grid_auto_rows": null,
            "grid_column": null,
            "grid_gap": null,
            "grid_row": null,
            "grid_template_areas": null,
            "grid_template_columns": null,
            "grid_template_rows": null,
            "height": null,
            "justify_content": null,
            "justify_items": null,
            "left": null,
            "margin": null,
            "max_height": null,
            "max_width": null,
            "min_height": null,
            "min_width": null,
            "object_fit": null,
            "object_position": null,
            "order": null,
            "overflow": null,
            "overflow_x": null,
            "overflow_y": null,
            "padding": null,
            "right": null,
            "top": null,
            "visibility": null,
            "width": null
          }
        },
        "538eceff0b5f4c2db61edbacb1488e81": {
          "model_module": "@jupyter-widgets/controls",
          "model_name": "DescriptionStyleModel",
          "model_module_version": "1.5.0",
          "state": {
            "_model_module": "@jupyter-widgets/controls",
            "_model_module_version": "1.5.0",
            "_model_name": "DescriptionStyleModel",
            "_view_count": null,
            "_view_module": "@jupyter-widgets/base",
            "_view_module_version": "1.2.0",
            "_view_name": "StyleView",
            "description_width": ""
          }
        },
        "bbcdb8aabd424c6b9a377021d7359635": {
          "model_module": "@jupyter-widgets/base",
          "model_name": "LayoutModel",
          "model_module_version": "1.2.0",
          "state": {
            "_model_module": "@jupyter-widgets/base",
            "_model_module_version": "1.2.0",
            "_model_name": "LayoutModel",
            "_view_count": null,
            "_view_module": "@jupyter-widgets/base",
            "_view_module_version": "1.2.0",
            "_view_name": "LayoutView",
            "align_content": null,
            "align_items": null,
            "align_self": null,
            "border": null,
            "bottom": null,
            "display": null,
            "flex": null,
            "flex_flow": null,
            "grid_area": null,
            "grid_auto_columns": null,
            "grid_auto_flow": null,
            "grid_auto_rows": null,
            "grid_column": null,
            "grid_gap": null,
            "grid_row": null,
            "grid_template_areas": null,
            "grid_template_columns": null,
            "grid_template_rows": null,
            "height": null,
            "justify_content": null,
            "justify_items": null,
            "left": null,
            "margin": null,
            "max_height": null,
            "max_width": null,
            "min_height": null,
            "min_width": null,
            "object_fit": null,
            "object_position": null,
            "order": null,
            "overflow": null,
            "overflow_x": null,
            "overflow_y": null,
            "padding": null,
            "right": null,
            "top": null,
            "visibility": null,
            "width": null
          }
        },
        "844f2f5fccf94d11aaf8a3dcf3a790bc": {
          "model_module": "@jupyter-widgets/controls",
          "model_name": "ProgressStyleModel",
          "model_module_version": "1.5.0",
          "state": {
            "_model_module": "@jupyter-widgets/controls",
            "_model_module_version": "1.5.0",
            "_model_name": "ProgressStyleModel",
            "_view_count": null,
            "_view_module": "@jupyter-widgets/base",
            "_view_module_version": "1.2.0",
            "_view_name": "StyleView",
            "bar_color": null,
            "description_width": ""
          }
        },
        "3c3f5f29e6934a588026c5b15bcc897f": {
          "model_module": "@jupyter-widgets/base",
          "model_name": "LayoutModel",
          "model_module_version": "1.2.0",
          "state": {
            "_model_module": "@jupyter-widgets/base",
            "_model_module_version": "1.2.0",
            "_model_name": "LayoutModel",
            "_view_count": null,
            "_view_module": "@jupyter-widgets/base",
            "_view_module_version": "1.2.0",
            "_view_name": "LayoutView",
            "align_content": null,
            "align_items": null,
            "align_self": null,
            "border": null,
            "bottom": null,
            "display": null,
            "flex": null,
            "flex_flow": null,
            "grid_area": null,
            "grid_auto_columns": null,
            "grid_auto_flow": null,
            "grid_auto_rows": null,
            "grid_column": null,
            "grid_gap": null,
            "grid_row": null,
            "grid_template_areas": null,
            "grid_template_columns": null,
            "grid_template_rows": null,
            "height": null,
            "justify_content": null,
            "justify_items": null,
            "left": null,
            "margin": null,
            "max_height": null,
            "max_width": null,
            "min_height": null,
            "min_width": null,
            "object_fit": null,
            "object_position": null,
            "order": null,
            "overflow": null,
            "overflow_x": null,
            "overflow_y": null,
            "padding": null,
            "right": null,
            "top": null,
            "visibility": null,
            "width": null
          }
        },
        "2993ffccbbbb4a91a4235f9cad2ed0bc": {
          "model_module": "@jupyter-widgets/controls",
          "model_name": "DescriptionStyleModel",
          "model_module_version": "1.5.0",
          "state": {
            "_model_module": "@jupyter-widgets/controls",
            "_model_module_version": "1.5.0",
            "_model_name": "DescriptionStyleModel",
            "_view_count": null,
            "_view_module": "@jupyter-widgets/base",
            "_view_module_version": "1.2.0",
            "_view_name": "StyleView",
            "description_width": ""
          }
        },
        "91990719931444dd82e8b6f54e22d99a": {
          "model_module": "@jupyter-widgets/controls",
          "model_name": "HBoxModel",
          "model_module_version": "1.5.0",
          "state": {
            "_dom_classes": [],
            "_model_module": "@jupyter-widgets/controls",
            "_model_module_version": "1.5.0",
            "_model_name": "HBoxModel",
            "_view_count": null,
            "_view_module": "@jupyter-widgets/controls",
            "_view_module_version": "1.5.0",
            "_view_name": "HBoxView",
            "box_style": "",
            "children": [
              "IPY_MODEL_7b8851a7fb3848d0bb80bece0ab5ef11",
              "IPY_MODEL_ae08c6f83db94e73989a040b6e04b409",
              "IPY_MODEL_33733940a04e474bade881fc0c155814"
            ],
            "layout": "IPY_MODEL_1e44ec52d66a49fd988ec342d2350be2"
          }
        },
        "7b8851a7fb3848d0bb80bece0ab5ef11": {
          "model_module": "@jupyter-widgets/controls",
          "model_name": "HTMLModel",
          "model_module_version": "1.5.0",
          "state": {
            "_dom_classes": [],
            "_model_module": "@jupyter-widgets/controls",
            "_model_module_version": "1.5.0",
            "_model_name": "HTMLModel",
            "_view_count": null,
            "_view_module": "@jupyter-widgets/controls",
            "_view_module_version": "1.5.0",
            "_view_name": "HTMLView",
            "description": "",
            "description_tooltip": null,
            "layout": "IPY_MODEL_7fe9d1338755436893174e3f330a600a",
            "placeholder": "​",
            "style": "IPY_MODEL_32b6e1df5f7146a2bf9e131f61caf6f3",
            "value": "config_sentence_transformers.json: 100%"
          }
        },
        "ae08c6f83db94e73989a040b6e04b409": {
          "model_module": "@jupyter-widgets/controls",
          "model_name": "FloatProgressModel",
          "model_module_version": "1.5.0",
          "state": {
            "_dom_classes": [],
            "_model_module": "@jupyter-widgets/controls",
            "_model_module_version": "1.5.0",
            "_model_name": "FloatProgressModel",
            "_view_count": null,
            "_view_module": "@jupyter-widgets/controls",
            "_view_module_version": "1.5.0",
            "_view_name": "ProgressView",
            "bar_style": "success",
            "description": "",
            "description_tooltip": null,
            "layout": "IPY_MODEL_c902decdd2e146bb9904d958331e0925",
            "max": 116,
            "min": 0,
            "orientation": "horizontal",
            "style": "IPY_MODEL_83c59bc35196409f9b860934a2372df6",
            "value": 116
          }
        },
        "33733940a04e474bade881fc0c155814": {
          "model_module": "@jupyter-widgets/controls",
          "model_name": "HTMLModel",
          "model_module_version": "1.5.0",
          "state": {
            "_dom_classes": [],
            "_model_module": "@jupyter-widgets/controls",
            "_model_module_version": "1.5.0",
            "_model_name": "HTMLModel",
            "_view_count": null,
            "_view_module": "@jupyter-widgets/controls",
            "_view_module_version": "1.5.0",
            "_view_name": "HTMLView",
            "description": "",
            "description_tooltip": null,
            "layout": "IPY_MODEL_adeb6071fc0d4533a9aee66749ee10bf",
            "placeholder": "​",
            "style": "IPY_MODEL_387bf8df70f84511aaee38ae4c535c4f",
            "value": " 116/116 [00:00&lt;00:00, 773B/s]"
          }
        },
        "1e44ec52d66a49fd988ec342d2350be2": {
          "model_module": "@jupyter-widgets/base",
          "model_name": "LayoutModel",
          "model_module_version": "1.2.0",
          "state": {
            "_model_module": "@jupyter-widgets/base",
            "_model_module_version": "1.2.0",
            "_model_name": "LayoutModel",
            "_view_count": null,
            "_view_module": "@jupyter-widgets/base",
            "_view_module_version": "1.2.0",
            "_view_name": "LayoutView",
            "align_content": null,
            "align_items": null,
            "align_self": null,
            "border": null,
            "bottom": null,
            "display": null,
            "flex": null,
            "flex_flow": null,
            "grid_area": null,
            "grid_auto_columns": null,
            "grid_auto_flow": null,
            "grid_auto_rows": null,
            "grid_column": null,
            "grid_gap": null,
            "grid_row": null,
            "grid_template_areas": null,
            "grid_template_columns": null,
            "grid_template_rows": null,
            "height": null,
            "justify_content": null,
            "justify_items": null,
            "left": null,
            "margin": null,
            "max_height": null,
            "max_width": null,
            "min_height": null,
            "min_width": null,
            "object_fit": null,
            "object_position": null,
            "order": null,
            "overflow": null,
            "overflow_x": null,
            "overflow_y": null,
            "padding": null,
            "right": null,
            "top": null,
            "visibility": null,
            "width": null
          }
        },
        "7fe9d1338755436893174e3f330a600a": {
          "model_module": "@jupyter-widgets/base",
          "model_name": "LayoutModel",
          "model_module_version": "1.2.0",
          "state": {
            "_model_module": "@jupyter-widgets/base",
            "_model_module_version": "1.2.0",
            "_model_name": "LayoutModel",
            "_view_count": null,
            "_view_module": "@jupyter-widgets/base",
            "_view_module_version": "1.2.0",
            "_view_name": "LayoutView",
            "align_content": null,
            "align_items": null,
            "align_self": null,
            "border": null,
            "bottom": null,
            "display": null,
            "flex": null,
            "flex_flow": null,
            "grid_area": null,
            "grid_auto_columns": null,
            "grid_auto_flow": null,
            "grid_auto_rows": null,
            "grid_column": null,
            "grid_gap": null,
            "grid_row": null,
            "grid_template_areas": null,
            "grid_template_columns": null,
            "grid_template_rows": null,
            "height": null,
            "justify_content": null,
            "justify_items": null,
            "left": null,
            "margin": null,
            "max_height": null,
            "max_width": null,
            "min_height": null,
            "min_width": null,
            "object_fit": null,
            "object_position": null,
            "order": null,
            "overflow": null,
            "overflow_x": null,
            "overflow_y": null,
            "padding": null,
            "right": null,
            "top": null,
            "visibility": null,
            "width": null
          }
        },
        "32b6e1df5f7146a2bf9e131f61caf6f3": {
          "model_module": "@jupyter-widgets/controls",
          "model_name": "DescriptionStyleModel",
          "model_module_version": "1.5.0",
          "state": {
            "_model_module": "@jupyter-widgets/controls",
            "_model_module_version": "1.5.0",
            "_model_name": "DescriptionStyleModel",
            "_view_count": null,
            "_view_module": "@jupyter-widgets/base",
            "_view_module_version": "1.2.0",
            "_view_name": "StyleView",
            "description_width": ""
          }
        },
        "c902decdd2e146bb9904d958331e0925": {
          "model_module": "@jupyter-widgets/base",
          "model_name": "LayoutModel",
          "model_module_version": "1.2.0",
          "state": {
            "_model_module": "@jupyter-widgets/base",
            "_model_module_version": "1.2.0",
            "_model_name": "LayoutModel",
            "_view_count": null,
            "_view_module": "@jupyter-widgets/base",
            "_view_module_version": "1.2.0",
            "_view_name": "LayoutView",
            "align_content": null,
            "align_items": null,
            "align_self": null,
            "border": null,
            "bottom": null,
            "display": null,
            "flex": null,
            "flex_flow": null,
            "grid_area": null,
            "grid_auto_columns": null,
            "grid_auto_flow": null,
            "grid_auto_rows": null,
            "grid_column": null,
            "grid_gap": null,
            "grid_row": null,
            "grid_template_areas": null,
            "grid_template_columns": null,
            "grid_template_rows": null,
            "height": null,
            "justify_content": null,
            "justify_items": null,
            "left": null,
            "margin": null,
            "max_height": null,
            "max_width": null,
            "min_height": null,
            "min_width": null,
            "object_fit": null,
            "object_position": null,
            "order": null,
            "overflow": null,
            "overflow_x": null,
            "overflow_y": null,
            "padding": null,
            "right": null,
            "top": null,
            "visibility": null,
            "width": null
          }
        },
        "83c59bc35196409f9b860934a2372df6": {
          "model_module": "@jupyter-widgets/controls",
          "model_name": "ProgressStyleModel",
          "model_module_version": "1.5.0",
          "state": {
            "_model_module": "@jupyter-widgets/controls",
            "_model_module_version": "1.5.0",
            "_model_name": "ProgressStyleModel",
            "_view_count": null,
            "_view_module": "@jupyter-widgets/base",
            "_view_module_version": "1.2.0",
            "_view_name": "StyleView",
            "bar_color": null,
            "description_width": ""
          }
        },
        "adeb6071fc0d4533a9aee66749ee10bf": {
          "model_module": "@jupyter-widgets/base",
          "model_name": "LayoutModel",
          "model_module_version": "1.2.0",
          "state": {
            "_model_module": "@jupyter-widgets/base",
            "_model_module_version": "1.2.0",
            "_model_name": "LayoutModel",
            "_view_count": null,
            "_view_module": "@jupyter-widgets/base",
            "_view_module_version": "1.2.0",
            "_view_name": "LayoutView",
            "align_content": null,
            "align_items": null,
            "align_self": null,
            "border": null,
            "bottom": null,
            "display": null,
            "flex": null,
            "flex_flow": null,
            "grid_area": null,
            "grid_auto_columns": null,
            "grid_auto_flow": null,
            "grid_auto_rows": null,
            "grid_column": null,
            "grid_gap": null,
            "grid_row": null,
            "grid_template_areas": null,
            "grid_template_columns": null,
            "grid_template_rows": null,
            "height": null,
            "justify_content": null,
            "justify_items": null,
            "left": null,
            "margin": null,
            "max_height": null,
            "max_width": null,
            "min_height": null,
            "min_width": null,
            "object_fit": null,
            "object_position": null,
            "order": null,
            "overflow": null,
            "overflow_x": null,
            "overflow_y": null,
            "padding": null,
            "right": null,
            "top": null,
            "visibility": null,
            "width": null
          }
        },
        "387bf8df70f84511aaee38ae4c535c4f": {
          "model_module": "@jupyter-widgets/controls",
          "model_name": "DescriptionStyleModel",
          "model_module_version": "1.5.0",
          "state": {
            "_model_module": "@jupyter-widgets/controls",
            "_model_module_version": "1.5.0",
            "_model_name": "DescriptionStyleModel",
            "_view_count": null,
            "_view_module": "@jupyter-widgets/base",
            "_view_module_version": "1.2.0",
            "_view_name": "StyleView",
            "description_width": ""
          }
        },
        "f3597a5134d840bf899b565c4719d3c2": {
          "model_module": "@jupyter-widgets/controls",
          "model_name": "HBoxModel",
          "model_module_version": "1.5.0",
          "state": {
            "_dom_classes": [],
            "_model_module": "@jupyter-widgets/controls",
            "_model_module_version": "1.5.0",
            "_model_name": "HBoxModel",
            "_view_count": null,
            "_view_module": "@jupyter-widgets/controls",
            "_view_module_version": "1.5.0",
            "_view_name": "HBoxView",
            "box_style": "",
            "children": [
              "IPY_MODEL_21244ecee2cf44e189c8222e8bfacc24",
              "IPY_MODEL_50809cd7b670416bb2c7c91958a498d8",
              "IPY_MODEL_ade96a00edc349258bf57d53720205a3"
            ],
            "layout": "IPY_MODEL_3adbdd360d3943ea9e5b619441ffebf0"
          }
        },
        "21244ecee2cf44e189c8222e8bfacc24": {
          "model_module": "@jupyter-widgets/controls",
          "model_name": "HTMLModel",
          "model_module_version": "1.5.0",
          "state": {
            "_dom_classes": [],
            "_model_module": "@jupyter-widgets/controls",
            "_model_module_version": "1.5.0",
            "_model_name": "HTMLModel",
            "_view_count": null,
            "_view_module": "@jupyter-widgets/controls",
            "_view_module_version": "1.5.0",
            "_view_name": "HTMLView",
            "description": "",
            "description_tooltip": null,
            "layout": "IPY_MODEL_7f264747da7b4e27b99fb48f3810f603",
            "placeholder": "​",
            "style": "IPY_MODEL_ff95fd02dd84434eb7eb15fbe1134dee",
            "value": "README.md: 100%"
          }
        },
        "50809cd7b670416bb2c7c91958a498d8": {
          "model_module": "@jupyter-widgets/controls",
          "model_name": "FloatProgressModel",
          "model_module_version": "1.5.0",
          "state": {
            "_dom_classes": [],
            "_model_module": "@jupyter-widgets/controls",
            "_model_module_version": "1.5.0",
            "_model_name": "FloatProgressModel",
            "_view_count": null,
            "_view_module": "@jupyter-widgets/controls",
            "_view_module_version": "1.5.0",
            "_view_name": "ProgressView",
            "bar_style": "success",
            "description": "",
            "description_tooltip": null,
            "layout": "IPY_MODEL_0a316701447c4d2ea06c03ef7cb0c357",
            "max": 10621,
            "min": 0,
            "orientation": "horizontal",
            "style": "IPY_MODEL_90dc785a09a34cd6b347aa7e6e482806",
            "value": 10621
          }
        },
        "ade96a00edc349258bf57d53720205a3": {
          "model_module": "@jupyter-widgets/controls",
          "model_name": "HTMLModel",
          "model_module_version": "1.5.0",
          "state": {
            "_dom_classes": [],
            "_model_module": "@jupyter-widgets/controls",
            "_model_module_version": "1.5.0",
            "_model_name": "HTMLModel",
            "_view_count": null,
            "_view_module": "@jupyter-widgets/controls",
            "_view_module_version": "1.5.0",
            "_view_name": "HTMLView",
            "description": "",
            "description_tooltip": null,
            "layout": "IPY_MODEL_79af48c92a504e00a3b30f6ebaa9cfa9",
            "placeholder": "​",
            "style": "IPY_MODEL_395dd328efa84ee887be9aae2c469aab",
            "value": " 10.6k/10.6k [00:00&lt;00:00, 70.0kB/s]"
          }
        },
        "3adbdd360d3943ea9e5b619441ffebf0": {
          "model_module": "@jupyter-widgets/base",
          "model_name": "LayoutModel",
          "model_module_version": "1.2.0",
          "state": {
            "_model_module": "@jupyter-widgets/base",
            "_model_module_version": "1.2.0",
            "_model_name": "LayoutModel",
            "_view_count": null,
            "_view_module": "@jupyter-widgets/base",
            "_view_module_version": "1.2.0",
            "_view_name": "LayoutView",
            "align_content": null,
            "align_items": null,
            "align_self": null,
            "border": null,
            "bottom": null,
            "display": null,
            "flex": null,
            "flex_flow": null,
            "grid_area": null,
            "grid_auto_columns": null,
            "grid_auto_flow": null,
            "grid_auto_rows": null,
            "grid_column": null,
            "grid_gap": null,
            "grid_row": null,
            "grid_template_areas": null,
            "grid_template_columns": null,
            "grid_template_rows": null,
            "height": null,
            "justify_content": null,
            "justify_items": null,
            "left": null,
            "margin": null,
            "max_height": null,
            "max_width": null,
            "min_height": null,
            "min_width": null,
            "object_fit": null,
            "object_position": null,
            "order": null,
            "overflow": null,
            "overflow_x": null,
            "overflow_y": null,
            "padding": null,
            "right": null,
            "top": null,
            "visibility": null,
            "width": null
          }
        },
        "7f264747da7b4e27b99fb48f3810f603": {
          "model_module": "@jupyter-widgets/base",
          "model_name": "LayoutModel",
          "model_module_version": "1.2.0",
          "state": {
            "_model_module": "@jupyter-widgets/base",
            "_model_module_version": "1.2.0",
            "_model_name": "LayoutModel",
            "_view_count": null,
            "_view_module": "@jupyter-widgets/base",
            "_view_module_version": "1.2.0",
            "_view_name": "LayoutView",
            "align_content": null,
            "align_items": null,
            "align_self": null,
            "border": null,
            "bottom": null,
            "display": null,
            "flex": null,
            "flex_flow": null,
            "grid_area": null,
            "grid_auto_columns": null,
            "grid_auto_flow": null,
            "grid_auto_rows": null,
            "grid_column": null,
            "grid_gap": null,
            "grid_row": null,
            "grid_template_areas": null,
            "grid_template_columns": null,
            "grid_template_rows": null,
            "height": null,
            "justify_content": null,
            "justify_items": null,
            "left": null,
            "margin": null,
            "max_height": null,
            "max_width": null,
            "min_height": null,
            "min_width": null,
            "object_fit": null,
            "object_position": null,
            "order": null,
            "overflow": null,
            "overflow_x": null,
            "overflow_y": null,
            "padding": null,
            "right": null,
            "top": null,
            "visibility": null,
            "width": null
          }
        },
        "ff95fd02dd84434eb7eb15fbe1134dee": {
          "model_module": "@jupyter-widgets/controls",
          "model_name": "DescriptionStyleModel",
          "model_module_version": "1.5.0",
          "state": {
            "_model_module": "@jupyter-widgets/controls",
            "_model_module_version": "1.5.0",
            "_model_name": "DescriptionStyleModel",
            "_view_count": null,
            "_view_module": "@jupyter-widgets/base",
            "_view_module_version": "1.2.0",
            "_view_name": "StyleView",
            "description_width": ""
          }
        },
        "0a316701447c4d2ea06c03ef7cb0c357": {
          "model_module": "@jupyter-widgets/base",
          "model_name": "LayoutModel",
          "model_module_version": "1.2.0",
          "state": {
            "_model_module": "@jupyter-widgets/base",
            "_model_module_version": "1.2.0",
            "_model_name": "LayoutModel",
            "_view_count": null,
            "_view_module": "@jupyter-widgets/base",
            "_view_module_version": "1.2.0",
            "_view_name": "LayoutView",
            "align_content": null,
            "align_items": null,
            "align_self": null,
            "border": null,
            "bottom": null,
            "display": null,
            "flex": null,
            "flex_flow": null,
            "grid_area": null,
            "grid_auto_columns": null,
            "grid_auto_flow": null,
            "grid_auto_rows": null,
            "grid_column": null,
            "grid_gap": null,
            "grid_row": null,
            "grid_template_areas": null,
            "grid_template_columns": null,
            "grid_template_rows": null,
            "height": null,
            "justify_content": null,
            "justify_items": null,
            "left": null,
            "margin": null,
            "max_height": null,
            "max_width": null,
            "min_height": null,
            "min_width": null,
            "object_fit": null,
            "object_position": null,
            "order": null,
            "overflow": null,
            "overflow_x": null,
            "overflow_y": null,
            "padding": null,
            "right": null,
            "top": null,
            "visibility": null,
            "width": null
          }
        },
        "90dc785a09a34cd6b347aa7e6e482806": {
          "model_module": "@jupyter-widgets/controls",
          "model_name": "ProgressStyleModel",
          "model_module_version": "1.5.0",
          "state": {
            "_model_module": "@jupyter-widgets/controls",
            "_model_module_version": "1.5.0",
            "_model_name": "ProgressStyleModel",
            "_view_count": null,
            "_view_module": "@jupyter-widgets/base",
            "_view_module_version": "1.2.0",
            "_view_name": "StyleView",
            "bar_color": null,
            "description_width": ""
          }
        },
        "79af48c92a504e00a3b30f6ebaa9cfa9": {
          "model_module": "@jupyter-widgets/base",
          "model_name": "LayoutModel",
          "model_module_version": "1.2.0",
          "state": {
            "_model_module": "@jupyter-widgets/base",
            "_model_module_version": "1.2.0",
            "_model_name": "LayoutModel",
            "_view_count": null,
            "_view_module": "@jupyter-widgets/base",
            "_view_module_version": "1.2.0",
            "_view_name": "LayoutView",
            "align_content": null,
            "align_items": null,
            "align_self": null,
            "border": null,
            "bottom": null,
            "display": null,
            "flex": null,
            "flex_flow": null,
            "grid_area": null,
            "grid_auto_columns": null,
            "grid_auto_flow": null,
            "grid_auto_rows": null,
            "grid_column": null,
            "grid_gap": null,
            "grid_row": null,
            "grid_template_areas": null,
            "grid_template_columns": null,
            "grid_template_rows": null,
            "height": null,
            "justify_content": null,
            "justify_items": null,
            "left": null,
            "margin": null,
            "max_height": null,
            "max_width": null,
            "min_height": null,
            "min_width": null,
            "object_fit": null,
            "object_position": null,
            "order": null,
            "overflow": null,
            "overflow_x": null,
            "overflow_y": null,
            "padding": null,
            "right": null,
            "top": null,
            "visibility": null,
            "width": null
          }
        },
        "395dd328efa84ee887be9aae2c469aab": {
          "model_module": "@jupyter-widgets/controls",
          "model_name": "DescriptionStyleModel",
          "model_module_version": "1.5.0",
          "state": {
            "_model_module": "@jupyter-widgets/controls",
            "_model_module_version": "1.5.0",
            "_model_name": "DescriptionStyleModel",
            "_view_count": null,
            "_view_module": "@jupyter-widgets/base",
            "_view_module_version": "1.2.0",
            "_view_name": "StyleView",
            "description_width": ""
          }
        },
        "dfffbe5fe41646e2861a1d3b2859eea6": {
          "model_module": "@jupyter-widgets/controls",
          "model_name": "HBoxModel",
          "model_module_version": "1.5.0",
          "state": {
            "_dom_classes": [],
            "_model_module": "@jupyter-widgets/controls",
            "_model_module_version": "1.5.0",
            "_model_name": "HBoxModel",
            "_view_count": null,
            "_view_module": "@jupyter-widgets/controls",
            "_view_module_version": "1.5.0",
            "_view_name": "HBoxView",
            "box_style": "",
            "children": [
              "IPY_MODEL_38e28a742bd444a18e77c87444a920b4",
              "IPY_MODEL_92bdc74fb9124d658c61db7d0426e1b7",
              "IPY_MODEL_2a5067d8c1fc4cab9c6daddddf3a50b9"
            ],
            "layout": "IPY_MODEL_23445228b94d4fc8ad7ccc0c12b60a0e"
          }
        },
        "38e28a742bd444a18e77c87444a920b4": {
          "model_module": "@jupyter-widgets/controls",
          "model_name": "HTMLModel",
          "model_module_version": "1.5.0",
          "state": {
            "_dom_classes": [],
            "_model_module": "@jupyter-widgets/controls",
            "_model_module_version": "1.5.0",
            "_model_name": "HTMLModel",
            "_view_count": null,
            "_view_module": "@jupyter-widgets/controls",
            "_view_module_version": "1.5.0",
            "_view_name": "HTMLView",
            "description": "",
            "description_tooltip": null,
            "layout": "IPY_MODEL_f34f9d65f139473e892095b170d28cc7",
            "placeholder": "​",
            "style": "IPY_MODEL_a7caacf4595a4563907d16aff3441dc2",
            "value": "sentence_bert_config.json: 100%"
          }
        },
        "92bdc74fb9124d658c61db7d0426e1b7": {
          "model_module": "@jupyter-widgets/controls",
          "model_name": "FloatProgressModel",
          "model_module_version": "1.5.0",
          "state": {
            "_dom_classes": [],
            "_model_module": "@jupyter-widgets/controls",
            "_model_module_version": "1.5.0",
            "_model_name": "FloatProgressModel",
            "_view_count": null,
            "_view_module": "@jupyter-widgets/controls",
            "_view_module_version": "1.5.0",
            "_view_name": "ProgressView",
            "bar_style": "success",
            "description": "",
            "description_tooltip": null,
            "layout": "IPY_MODEL_2303b53a7d1b478689a0ff2c5208f06f",
            "max": 53,
            "min": 0,
            "orientation": "horizontal",
            "style": "IPY_MODEL_dbd519f99bab49a2a7611d5a1bbe90af",
            "value": 53
          }
        },
        "2a5067d8c1fc4cab9c6daddddf3a50b9": {
          "model_module": "@jupyter-widgets/controls",
          "model_name": "HTMLModel",
          "model_module_version": "1.5.0",
          "state": {
            "_dom_classes": [],
            "_model_module": "@jupyter-widgets/controls",
            "_model_module_version": "1.5.0",
            "_model_name": "HTMLModel",
            "_view_count": null,
            "_view_module": "@jupyter-widgets/controls",
            "_view_module_version": "1.5.0",
            "_view_name": "HTMLView",
            "description": "",
            "description_tooltip": null,
            "layout": "IPY_MODEL_20c430ec9a214cd79e33118851889e64",
            "placeholder": "​",
            "style": "IPY_MODEL_deb782074d3d448dbf0afe2d5595d1ed",
            "value": " 53.0/53.0 [00:00&lt;00:00, 556B/s]"
          }
        },
        "23445228b94d4fc8ad7ccc0c12b60a0e": {
          "model_module": "@jupyter-widgets/base",
          "model_name": "LayoutModel",
          "model_module_version": "1.2.0",
          "state": {
            "_model_module": "@jupyter-widgets/base",
            "_model_module_version": "1.2.0",
            "_model_name": "LayoutModel",
            "_view_count": null,
            "_view_module": "@jupyter-widgets/base",
            "_view_module_version": "1.2.0",
            "_view_name": "LayoutView",
            "align_content": null,
            "align_items": null,
            "align_self": null,
            "border": null,
            "bottom": null,
            "display": null,
            "flex": null,
            "flex_flow": null,
            "grid_area": null,
            "grid_auto_columns": null,
            "grid_auto_flow": null,
            "grid_auto_rows": null,
            "grid_column": null,
            "grid_gap": null,
            "grid_row": null,
            "grid_template_areas": null,
            "grid_template_columns": null,
            "grid_template_rows": null,
            "height": null,
            "justify_content": null,
            "justify_items": null,
            "left": null,
            "margin": null,
            "max_height": null,
            "max_width": null,
            "min_height": null,
            "min_width": null,
            "object_fit": null,
            "object_position": null,
            "order": null,
            "overflow": null,
            "overflow_x": null,
            "overflow_y": null,
            "padding": null,
            "right": null,
            "top": null,
            "visibility": null,
            "width": null
          }
        },
        "f34f9d65f139473e892095b170d28cc7": {
          "model_module": "@jupyter-widgets/base",
          "model_name": "LayoutModel",
          "model_module_version": "1.2.0",
          "state": {
            "_model_module": "@jupyter-widgets/base",
            "_model_module_version": "1.2.0",
            "_model_name": "LayoutModel",
            "_view_count": null,
            "_view_module": "@jupyter-widgets/base",
            "_view_module_version": "1.2.0",
            "_view_name": "LayoutView",
            "align_content": null,
            "align_items": null,
            "align_self": null,
            "border": null,
            "bottom": null,
            "display": null,
            "flex": null,
            "flex_flow": null,
            "grid_area": null,
            "grid_auto_columns": null,
            "grid_auto_flow": null,
            "grid_auto_rows": null,
            "grid_column": null,
            "grid_gap": null,
            "grid_row": null,
            "grid_template_areas": null,
            "grid_template_columns": null,
            "grid_template_rows": null,
            "height": null,
            "justify_content": null,
            "justify_items": null,
            "left": null,
            "margin": null,
            "max_height": null,
            "max_width": null,
            "min_height": null,
            "min_width": null,
            "object_fit": null,
            "object_position": null,
            "order": null,
            "overflow": null,
            "overflow_x": null,
            "overflow_y": null,
            "padding": null,
            "right": null,
            "top": null,
            "visibility": null,
            "width": null
          }
        },
        "a7caacf4595a4563907d16aff3441dc2": {
          "model_module": "@jupyter-widgets/controls",
          "model_name": "DescriptionStyleModel",
          "model_module_version": "1.5.0",
          "state": {
            "_model_module": "@jupyter-widgets/controls",
            "_model_module_version": "1.5.0",
            "_model_name": "DescriptionStyleModel",
            "_view_count": null,
            "_view_module": "@jupyter-widgets/base",
            "_view_module_version": "1.2.0",
            "_view_name": "StyleView",
            "description_width": ""
          }
        },
        "2303b53a7d1b478689a0ff2c5208f06f": {
          "model_module": "@jupyter-widgets/base",
          "model_name": "LayoutModel",
          "model_module_version": "1.2.0",
          "state": {
            "_model_module": "@jupyter-widgets/base",
            "_model_module_version": "1.2.0",
            "_model_name": "LayoutModel",
            "_view_count": null,
            "_view_module": "@jupyter-widgets/base",
            "_view_module_version": "1.2.0",
            "_view_name": "LayoutView",
            "align_content": null,
            "align_items": null,
            "align_self": null,
            "border": null,
            "bottom": null,
            "display": null,
            "flex": null,
            "flex_flow": null,
            "grid_area": null,
            "grid_auto_columns": null,
            "grid_auto_flow": null,
            "grid_auto_rows": null,
            "grid_column": null,
            "grid_gap": null,
            "grid_row": null,
            "grid_template_areas": null,
            "grid_template_columns": null,
            "grid_template_rows": null,
            "height": null,
            "justify_content": null,
            "justify_items": null,
            "left": null,
            "margin": null,
            "max_height": null,
            "max_width": null,
            "min_height": null,
            "min_width": null,
            "object_fit": null,
            "object_position": null,
            "order": null,
            "overflow": null,
            "overflow_x": null,
            "overflow_y": null,
            "padding": null,
            "right": null,
            "top": null,
            "visibility": null,
            "width": null
          }
        },
        "dbd519f99bab49a2a7611d5a1bbe90af": {
          "model_module": "@jupyter-widgets/controls",
          "model_name": "ProgressStyleModel",
          "model_module_version": "1.5.0",
          "state": {
            "_model_module": "@jupyter-widgets/controls",
            "_model_module_version": "1.5.0",
            "_model_name": "ProgressStyleModel",
            "_view_count": null,
            "_view_module": "@jupyter-widgets/base",
            "_view_module_version": "1.2.0",
            "_view_name": "StyleView",
            "bar_color": null,
            "description_width": ""
          }
        },
        "20c430ec9a214cd79e33118851889e64": {
          "model_module": "@jupyter-widgets/base",
          "model_name": "LayoutModel",
          "model_module_version": "1.2.0",
          "state": {
            "_model_module": "@jupyter-widgets/base",
            "_model_module_version": "1.2.0",
            "_model_name": "LayoutModel",
            "_view_count": null,
            "_view_module": "@jupyter-widgets/base",
            "_view_module_version": "1.2.0",
            "_view_name": "LayoutView",
            "align_content": null,
            "align_items": null,
            "align_self": null,
            "border": null,
            "bottom": null,
            "display": null,
            "flex": null,
            "flex_flow": null,
            "grid_area": null,
            "grid_auto_columns": null,
            "grid_auto_flow": null,
            "grid_auto_rows": null,
            "grid_column": null,
            "grid_gap": null,
            "grid_row": null,
            "grid_template_areas": null,
            "grid_template_columns": null,
            "grid_template_rows": null,
            "height": null,
            "justify_content": null,
            "justify_items": null,
            "left": null,
            "margin": null,
            "max_height": null,
            "max_width": null,
            "min_height": null,
            "min_width": null,
            "object_fit": null,
            "object_position": null,
            "order": null,
            "overflow": null,
            "overflow_x": null,
            "overflow_y": null,
            "padding": null,
            "right": null,
            "top": null,
            "visibility": null,
            "width": null
          }
        },
        "deb782074d3d448dbf0afe2d5595d1ed": {
          "model_module": "@jupyter-widgets/controls",
          "model_name": "DescriptionStyleModel",
          "model_module_version": "1.5.0",
          "state": {
            "_model_module": "@jupyter-widgets/controls",
            "_model_module_version": "1.5.0",
            "_model_name": "DescriptionStyleModel",
            "_view_count": null,
            "_view_module": "@jupyter-widgets/base",
            "_view_module_version": "1.2.0",
            "_view_name": "StyleView",
            "description_width": ""
          }
        },
        "a58a3527fa894147bd58f2273f908ce6": {
          "model_module": "@jupyter-widgets/controls",
          "model_name": "HBoxModel",
          "model_module_version": "1.5.0",
          "state": {
            "_dom_classes": [],
            "_model_module": "@jupyter-widgets/controls",
            "_model_module_version": "1.5.0",
            "_model_name": "HBoxModel",
            "_view_count": null,
            "_view_module": "@jupyter-widgets/controls",
            "_view_module_version": "1.5.0",
            "_view_name": "HBoxView",
            "box_style": "",
            "children": [
              "IPY_MODEL_1cb466da15f848599bca9e0f078b3e8c",
              "IPY_MODEL_ec6734f6f9cb47399ece97e693d492f6",
              "IPY_MODEL_7d9745958acc43e989b87b915ba821d6"
            ],
            "layout": "IPY_MODEL_a8146bc51d3549df8fd74e7654ee7bbf"
          }
        },
        "1cb466da15f848599bca9e0f078b3e8c": {
          "model_module": "@jupyter-widgets/controls",
          "model_name": "HTMLModel",
          "model_module_version": "1.5.0",
          "state": {
            "_dom_classes": [],
            "_model_module": "@jupyter-widgets/controls",
            "_model_module_version": "1.5.0",
            "_model_name": "HTMLModel",
            "_view_count": null,
            "_view_module": "@jupyter-widgets/controls",
            "_view_module_version": "1.5.0",
            "_view_name": "HTMLView",
            "description": "",
            "description_tooltip": null,
            "layout": "IPY_MODEL_32472bac083e4b899bf4b3925cb8ff0a",
            "placeholder": "​",
            "style": "IPY_MODEL_0324a76968f946039ac625cdf0305652",
            "value": "config.json: 100%"
          }
        },
        "ec6734f6f9cb47399ece97e693d492f6": {
          "model_module": "@jupyter-widgets/controls",
          "model_name": "FloatProgressModel",
          "model_module_version": "1.5.0",
          "state": {
            "_dom_classes": [],
            "_model_module": "@jupyter-widgets/controls",
            "_model_module_version": "1.5.0",
            "_model_name": "FloatProgressModel",
            "_view_count": null,
            "_view_module": "@jupyter-widgets/controls",
            "_view_module_version": "1.5.0",
            "_view_name": "ProgressView",
            "bar_style": "success",
            "description": "",
            "description_tooltip": null,
            "layout": "IPY_MODEL_113dca74cc2b4e8784d6b933271796ff",
            "max": 571,
            "min": 0,
            "orientation": "horizontal",
            "style": "IPY_MODEL_ecd0cea13de44809acca02dcf2879fc2",
            "value": 571
          }
        },
        "7d9745958acc43e989b87b915ba821d6": {
          "model_module": "@jupyter-widgets/controls",
          "model_name": "HTMLModel",
          "model_module_version": "1.5.0",
          "state": {
            "_dom_classes": [],
            "_model_module": "@jupyter-widgets/controls",
            "_model_module_version": "1.5.0",
            "_model_name": "HTMLModel",
            "_view_count": null,
            "_view_module": "@jupyter-widgets/controls",
            "_view_module_version": "1.5.0",
            "_view_name": "HTMLView",
            "description": "",
            "description_tooltip": null,
            "layout": "IPY_MODEL_c822feff60bc4c50a11dd17477c7abc2",
            "placeholder": "​",
            "style": "IPY_MODEL_e55767f190c34aa491c45dfde029f094",
            "value": " 571/571 [00:00&lt;00:00, 7.90kB/s]"
          }
        },
        "a8146bc51d3549df8fd74e7654ee7bbf": {
          "model_module": "@jupyter-widgets/base",
          "model_name": "LayoutModel",
          "model_module_version": "1.2.0",
          "state": {
            "_model_module": "@jupyter-widgets/base",
            "_model_module_version": "1.2.0",
            "_model_name": "LayoutModel",
            "_view_count": null,
            "_view_module": "@jupyter-widgets/base",
            "_view_module_version": "1.2.0",
            "_view_name": "LayoutView",
            "align_content": null,
            "align_items": null,
            "align_self": null,
            "border": null,
            "bottom": null,
            "display": null,
            "flex": null,
            "flex_flow": null,
            "grid_area": null,
            "grid_auto_columns": null,
            "grid_auto_flow": null,
            "grid_auto_rows": null,
            "grid_column": null,
            "grid_gap": null,
            "grid_row": null,
            "grid_template_areas": null,
            "grid_template_columns": null,
            "grid_template_rows": null,
            "height": null,
            "justify_content": null,
            "justify_items": null,
            "left": null,
            "margin": null,
            "max_height": null,
            "max_width": null,
            "min_height": null,
            "min_width": null,
            "object_fit": null,
            "object_position": null,
            "order": null,
            "overflow": null,
            "overflow_x": null,
            "overflow_y": null,
            "padding": null,
            "right": null,
            "top": null,
            "visibility": null,
            "width": null
          }
        },
        "32472bac083e4b899bf4b3925cb8ff0a": {
          "model_module": "@jupyter-widgets/base",
          "model_name": "LayoutModel",
          "model_module_version": "1.2.0",
          "state": {
            "_model_module": "@jupyter-widgets/base",
            "_model_module_version": "1.2.0",
            "_model_name": "LayoutModel",
            "_view_count": null,
            "_view_module": "@jupyter-widgets/base",
            "_view_module_version": "1.2.0",
            "_view_name": "LayoutView",
            "align_content": null,
            "align_items": null,
            "align_self": null,
            "border": null,
            "bottom": null,
            "display": null,
            "flex": null,
            "flex_flow": null,
            "grid_area": null,
            "grid_auto_columns": null,
            "grid_auto_flow": null,
            "grid_auto_rows": null,
            "grid_column": null,
            "grid_gap": null,
            "grid_row": null,
            "grid_template_areas": null,
            "grid_template_columns": null,
            "grid_template_rows": null,
            "height": null,
            "justify_content": null,
            "justify_items": null,
            "left": null,
            "margin": null,
            "max_height": null,
            "max_width": null,
            "min_height": null,
            "min_width": null,
            "object_fit": null,
            "object_position": null,
            "order": null,
            "overflow": null,
            "overflow_x": null,
            "overflow_y": null,
            "padding": null,
            "right": null,
            "top": null,
            "visibility": null,
            "width": null
          }
        },
        "0324a76968f946039ac625cdf0305652": {
          "model_module": "@jupyter-widgets/controls",
          "model_name": "DescriptionStyleModel",
          "model_module_version": "1.5.0",
          "state": {
            "_model_module": "@jupyter-widgets/controls",
            "_model_module_version": "1.5.0",
            "_model_name": "DescriptionStyleModel",
            "_view_count": null,
            "_view_module": "@jupyter-widgets/base",
            "_view_module_version": "1.2.0",
            "_view_name": "StyleView",
            "description_width": ""
          }
        },
        "113dca74cc2b4e8784d6b933271796ff": {
          "model_module": "@jupyter-widgets/base",
          "model_name": "LayoutModel",
          "model_module_version": "1.2.0",
          "state": {
            "_model_module": "@jupyter-widgets/base",
            "_model_module_version": "1.2.0",
            "_model_name": "LayoutModel",
            "_view_count": null,
            "_view_module": "@jupyter-widgets/base",
            "_view_module_version": "1.2.0",
            "_view_name": "LayoutView",
            "align_content": null,
            "align_items": null,
            "align_self": null,
            "border": null,
            "bottom": null,
            "display": null,
            "flex": null,
            "flex_flow": null,
            "grid_area": null,
            "grid_auto_columns": null,
            "grid_auto_flow": null,
            "grid_auto_rows": null,
            "grid_column": null,
            "grid_gap": null,
            "grid_row": null,
            "grid_template_areas": null,
            "grid_template_columns": null,
            "grid_template_rows": null,
            "height": null,
            "justify_content": null,
            "justify_items": null,
            "left": null,
            "margin": null,
            "max_height": null,
            "max_width": null,
            "min_height": null,
            "min_width": null,
            "object_fit": null,
            "object_position": null,
            "order": null,
            "overflow": null,
            "overflow_x": null,
            "overflow_y": null,
            "padding": null,
            "right": null,
            "top": null,
            "visibility": null,
            "width": null
          }
        },
        "ecd0cea13de44809acca02dcf2879fc2": {
          "model_module": "@jupyter-widgets/controls",
          "model_name": "ProgressStyleModel",
          "model_module_version": "1.5.0",
          "state": {
            "_model_module": "@jupyter-widgets/controls",
            "_model_module_version": "1.5.0",
            "_model_name": "ProgressStyleModel",
            "_view_count": null,
            "_view_module": "@jupyter-widgets/base",
            "_view_module_version": "1.2.0",
            "_view_name": "StyleView",
            "bar_color": null,
            "description_width": ""
          }
        },
        "c822feff60bc4c50a11dd17477c7abc2": {
          "model_module": "@jupyter-widgets/base",
          "model_name": "LayoutModel",
          "model_module_version": "1.2.0",
          "state": {
            "_model_module": "@jupyter-widgets/base",
            "_model_module_version": "1.2.0",
            "_model_name": "LayoutModel",
            "_view_count": null,
            "_view_module": "@jupyter-widgets/base",
            "_view_module_version": "1.2.0",
            "_view_name": "LayoutView",
            "align_content": null,
            "align_items": null,
            "align_self": null,
            "border": null,
            "bottom": null,
            "display": null,
            "flex": null,
            "flex_flow": null,
            "grid_area": null,
            "grid_auto_columns": null,
            "grid_auto_flow": null,
            "grid_auto_rows": null,
            "grid_column": null,
            "grid_gap": null,
            "grid_row": null,
            "grid_template_areas": null,
            "grid_template_columns": null,
            "grid_template_rows": null,
            "height": null,
            "justify_content": null,
            "justify_items": null,
            "left": null,
            "margin": null,
            "max_height": null,
            "max_width": null,
            "min_height": null,
            "min_width": null,
            "object_fit": null,
            "object_position": null,
            "order": null,
            "overflow": null,
            "overflow_x": null,
            "overflow_y": null,
            "padding": null,
            "right": null,
            "top": null,
            "visibility": null,
            "width": null
          }
        },
        "e55767f190c34aa491c45dfde029f094": {
          "model_module": "@jupyter-widgets/controls",
          "model_name": "DescriptionStyleModel",
          "model_module_version": "1.5.0",
          "state": {
            "_model_module": "@jupyter-widgets/controls",
            "_model_module_version": "1.5.0",
            "_model_name": "DescriptionStyleModel",
            "_view_count": null,
            "_view_module": "@jupyter-widgets/base",
            "_view_module_version": "1.2.0",
            "_view_name": "StyleView",
            "description_width": ""
          }
        },
        "8e63b326637d471b9228cc3357ed7046": {
          "model_module": "@jupyter-widgets/controls",
          "model_name": "HBoxModel",
          "model_module_version": "1.5.0",
          "state": {
            "_dom_classes": [],
            "_model_module": "@jupyter-widgets/controls",
            "_model_module_version": "1.5.0",
            "_model_name": "HBoxModel",
            "_view_count": null,
            "_view_module": "@jupyter-widgets/controls",
            "_view_module_version": "1.5.0",
            "_view_name": "HBoxView",
            "box_style": "",
            "children": [
              "IPY_MODEL_74cec673596a47059f4c82e50313db76",
              "IPY_MODEL_7e562beaaad94523ad5a6f361867904f",
              "IPY_MODEL_a6f8f69336a24762aa597f12625e952c"
            ],
            "layout": "IPY_MODEL_5fc8a855217c485eb4abcbea97296573"
          }
        },
        "74cec673596a47059f4c82e50313db76": {
          "model_module": "@jupyter-widgets/controls",
          "model_name": "HTMLModel",
          "model_module_version": "1.5.0",
          "state": {
            "_dom_classes": [],
            "_model_module": "@jupyter-widgets/controls",
            "_model_module_version": "1.5.0",
            "_model_name": "HTMLModel",
            "_view_count": null,
            "_view_module": "@jupyter-widgets/controls",
            "_view_module_version": "1.5.0",
            "_view_name": "HTMLView",
            "description": "",
            "description_tooltip": null,
            "layout": "IPY_MODEL_0f56a9b0c8f142be8463b4f5b982cedf",
            "placeholder": "​",
            "style": "IPY_MODEL_a7b01681fe5c42cca64042565a02aaa8",
            "value": "pytorch_model.bin: 100%"
          }
        },
        "7e562beaaad94523ad5a6f361867904f": {
          "model_module": "@jupyter-widgets/controls",
          "model_name": "FloatProgressModel",
          "model_module_version": "1.5.0",
          "state": {
            "_dom_classes": [],
            "_model_module": "@jupyter-widgets/controls",
            "_model_module_version": "1.5.0",
            "_model_name": "FloatProgressModel",
            "_view_count": null,
            "_view_module": "@jupyter-widgets/controls",
            "_view_module_version": "1.5.0",
            "_view_name": "ProgressView",
            "bar_style": "success",
            "description": "",
            "description_tooltip": null,
            "layout": "IPY_MODEL_dfafe1e704c04af281592c61ecaeeac1",
            "max": 438011953,
            "min": 0,
            "orientation": "horizontal",
            "style": "IPY_MODEL_ad16516bbf5e4fcfa3282590e0f330ff",
            "value": 438011953
          }
        },
        "a6f8f69336a24762aa597f12625e952c": {
          "model_module": "@jupyter-widgets/controls",
          "model_name": "HTMLModel",
          "model_module_version": "1.5.0",
          "state": {
            "_dom_classes": [],
            "_model_module": "@jupyter-widgets/controls",
            "_model_module_version": "1.5.0",
            "_model_name": "HTMLModel",
            "_view_count": null,
            "_view_module": "@jupyter-widgets/controls",
            "_view_module_version": "1.5.0",
            "_view_name": "HTMLView",
            "description": "",
            "description_tooltip": null,
            "layout": "IPY_MODEL_b5e19685d1124dada23e23cec81b1ff5",
            "placeholder": "​",
            "style": "IPY_MODEL_21b219fe9d774202987d342d38641974",
            "value": " 438M/438M [00:03&lt;00:00, 137MB/s]"
          }
        },
        "5fc8a855217c485eb4abcbea97296573": {
          "model_module": "@jupyter-widgets/base",
          "model_name": "LayoutModel",
          "model_module_version": "1.2.0",
          "state": {
            "_model_module": "@jupyter-widgets/base",
            "_model_module_version": "1.2.0",
            "_model_name": "LayoutModel",
            "_view_count": null,
            "_view_module": "@jupyter-widgets/base",
            "_view_module_version": "1.2.0",
            "_view_name": "LayoutView",
            "align_content": null,
            "align_items": null,
            "align_self": null,
            "border": null,
            "bottom": null,
            "display": null,
            "flex": null,
            "flex_flow": null,
            "grid_area": null,
            "grid_auto_columns": null,
            "grid_auto_flow": null,
            "grid_auto_rows": null,
            "grid_column": null,
            "grid_gap": null,
            "grid_row": null,
            "grid_template_areas": null,
            "grid_template_columns": null,
            "grid_template_rows": null,
            "height": null,
            "justify_content": null,
            "justify_items": null,
            "left": null,
            "margin": null,
            "max_height": null,
            "max_width": null,
            "min_height": null,
            "min_width": null,
            "object_fit": null,
            "object_position": null,
            "order": null,
            "overflow": null,
            "overflow_x": null,
            "overflow_y": null,
            "padding": null,
            "right": null,
            "top": null,
            "visibility": null,
            "width": null
          }
        },
        "0f56a9b0c8f142be8463b4f5b982cedf": {
          "model_module": "@jupyter-widgets/base",
          "model_name": "LayoutModel",
          "model_module_version": "1.2.0",
          "state": {
            "_model_module": "@jupyter-widgets/base",
            "_model_module_version": "1.2.0",
            "_model_name": "LayoutModel",
            "_view_count": null,
            "_view_module": "@jupyter-widgets/base",
            "_view_module_version": "1.2.0",
            "_view_name": "LayoutView",
            "align_content": null,
            "align_items": null,
            "align_self": null,
            "border": null,
            "bottom": null,
            "display": null,
            "flex": null,
            "flex_flow": null,
            "grid_area": null,
            "grid_auto_columns": null,
            "grid_auto_flow": null,
            "grid_auto_rows": null,
            "grid_column": null,
            "grid_gap": null,
            "grid_row": null,
            "grid_template_areas": null,
            "grid_template_columns": null,
            "grid_template_rows": null,
            "height": null,
            "justify_content": null,
            "justify_items": null,
            "left": null,
            "margin": null,
            "max_height": null,
            "max_width": null,
            "min_height": null,
            "min_width": null,
            "object_fit": null,
            "object_position": null,
            "order": null,
            "overflow": null,
            "overflow_x": null,
            "overflow_y": null,
            "padding": null,
            "right": null,
            "top": null,
            "visibility": null,
            "width": null
          }
        },
        "a7b01681fe5c42cca64042565a02aaa8": {
          "model_module": "@jupyter-widgets/controls",
          "model_name": "DescriptionStyleModel",
          "model_module_version": "1.5.0",
          "state": {
            "_model_module": "@jupyter-widgets/controls",
            "_model_module_version": "1.5.0",
            "_model_name": "DescriptionStyleModel",
            "_view_count": null,
            "_view_module": "@jupyter-widgets/base",
            "_view_module_version": "1.2.0",
            "_view_name": "StyleView",
            "description_width": ""
          }
        },
        "dfafe1e704c04af281592c61ecaeeac1": {
          "model_module": "@jupyter-widgets/base",
          "model_name": "LayoutModel",
          "model_module_version": "1.2.0",
          "state": {
            "_model_module": "@jupyter-widgets/base",
            "_model_module_version": "1.2.0",
            "_model_name": "LayoutModel",
            "_view_count": null,
            "_view_module": "@jupyter-widgets/base",
            "_view_module_version": "1.2.0",
            "_view_name": "LayoutView",
            "align_content": null,
            "align_items": null,
            "align_self": null,
            "border": null,
            "bottom": null,
            "display": null,
            "flex": null,
            "flex_flow": null,
            "grid_area": null,
            "grid_auto_columns": null,
            "grid_auto_flow": null,
            "grid_auto_rows": null,
            "grid_column": null,
            "grid_gap": null,
            "grid_row": null,
            "grid_template_areas": null,
            "grid_template_columns": null,
            "grid_template_rows": null,
            "height": null,
            "justify_content": null,
            "justify_items": null,
            "left": null,
            "margin": null,
            "max_height": null,
            "max_width": null,
            "min_height": null,
            "min_width": null,
            "object_fit": null,
            "object_position": null,
            "order": null,
            "overflow": null,
            "overflow_x": null,
            "overflow_y": null,
            "padding": null,
            "right": null,
            "top": null,
            "visibility": null,
            "width": null
          }
        },
        "ad16516bbf5e4fcfa3282590e0f330ff": {
          "model_module": "@jupyter-widgets/controls",
          "model_name": "ProgressStyleModel",
          "model_module_version": "1.5.0",
          "state": {
            "_model_module": "@jupyter-widgets/controls",
            "_model_module_version": "1.5.0",
            "_model_name": "ProgressStyleModel",
            "_view_count": null,
            "_view_module": "@jupyter-widgets/base",
            "_view_module_version": "1.2.0",
            "_view_name": "StyleView",
            "bar_color": null,
            "description_width": ""
          }
        },
        "b5e19685d1124dada23e23cec81b1ff5": {
          "model_module": "@jupyter-widgets/base",
          "model_name": "LayoutModel",
          "model_module_version": "1.2.0",
          "state": {
            "_model_module": "@jupyter-widgets/base",
            "_model_module_version": "1.2.0",
            "_model_name": "LayoutModel",
            "_view_count": null,
            "_view_module": "@jupyter-widgets/base",
            "_view_module_version": "1.2.0",
            "_view_name": "LayoutView",
            "align_content": null,
            "align_items": null,
            "align_self": null,
            "border": null,
            "bottom": null,
            "display": null,
            "flex": null,
            "flex_flow": null,
            "grid_area": null,
            "grid_auto_columns": null,
            "grid_auto_flow": null,
            "grid_auto_rows": null,
            "grid_column": null,
            "grid_gap": null,
            "grid_row": null,
            "grid_template_areas": null,
            "grid_template_columns": null,
            "grid_template_rows": null,
            "height": null,
            "justify_content": null,
            "justify_items": null,
            "left": null,
            "margin": null,
            "max_height": null,
            "max_width": null,
            "min_height": null,
            "min_width": null,
            "object_fit": null,
            "object_position": null,
            "order": null,
            "overflow": null,
            "overflow_x": null,
            "overflow_y": null,
            "padding": null,
            "right": null,
            "top": null,
            "visibility": null,
            "width": null
          }
        },
        "21b219fe9d774202987d342d38641974": {
          "model_module": "@jupyter-widgets/controls",
          "model_name": "DescriptionStyleModel",
          "model_module_version": "1.5.0",
          "state": {
            "_model_module": "@jupyter-widgets/controls",
            "_model_module_version": "1.5.0",
            "_model_name": "DescriptionStyleModel",
            "_view_count": null,
            "_view_module": "@jupyter-widgets/base",
            "_view_module_version": "1.2.0",
            "_view_name": "StyleView",
            "description_width": ""
          }
        },
        "389aac133a944da38c9549aba0ede7b3": {
          "model_module": "@jupyter-widgets/controls",
          "model_name": "HBoxModel",
          "model_module_version": "1.5.0",
          "state": {
            "_dom_classes": [],
            "_model_module": "@jupyter-widgets/controls",
            "_model_module_version": "1.5.0",
            "_model_name": "HBoxModel",
            "_view_count": null,
            "_view_module": "@jupyter-widgets/controls",
            "_view_module_version": "1.5.0",
            "_view_name": "HBoxView",
            "box_style": "",
            "children": [
              "IPY_MODEL_20c7a77384d14aa1aff72feb207d267d",
              "IPY_MODEL_505202781173452381cd2f90cbd2cb01",
              "IPY_MODEL_cec50d0117d6410bad8e4965f573eb19"
            ],
            "layout": "IPY_MODEL_503ae90484524b6ab1f4d39bc82f1f94"
          }
        },
        "20c7a77384d14aa1aff72feb207d267d": {
          "model_module": "@jupyter-widgets/controls",
          "model_name": "HTMLModel",
          "model_module_version": "1.5.0",
          "state": {
            "_dom_classes": [],
            "_model_module": "@jupyter-widgets/controls",
            "_model_module_version": "1.5.0",
            "_model_name": "HTMLModel",
            "_view_count": null,
            "_view_module": "@jupyter-widgets/controls",
            "_view_module_version": "1.5.0",
            "_view_name": "HTMLView",
            "description": "",
            "description_tooltip": null,
            "layout": "IPY_MODEL_338b9b9c863249aa8df6732d2168e9a2",
            "placeholder": "​",
            "style": "IPY_MODEL_834d389ced9748c48a925371675f6ac9",
            "value": "tokenizer_config.json: 100%"
          }
        },
        "505202781173452381cd2f90cbd2cb01": {
          "model_module": "@jupyter-widgets/controls",
          "model_name": "FloatProgressModel",
          "model_module_version": "1.5.0",
          "state": {
            "_dom_classes": [],
            "_model_module": "@jupyter-widgets/controls",
            "_model_module_version": "1.5.0",
            "_model_name": "FloatProgressModel",
            "_view_count": null,
            "_view_module": "@jupyter-widgets/controls",
            "_view_module_version": "1.5.0",
            "_view_name": "ProgressView",
            "bar_style": "success",
            "description": "",
            "description_tooltip": null,
            "layout": "IPY_MODEL_6afc5252a63a4a0990e3a0bdbc54bd84",
            "max": 363,
            "min": 0,
            "orientation": "horizontal",
            "style": "IPY_MODEL_e921bd35f2d34d0f981a3fc22127b2c8",
            "value": 363
          }
        },
        "cec50d0117d6410bad8e4965f573eb19": {
          "model_module": "@jupyter-widgets/controls",
          "model_name": "HTMLModel",
          "model_module_version": "1.5.0",
          "state": {
            "_dom_classes": [],
            "_model_module": "@jupyter-widgets/controls",
            "_model_module_version": "1.5.0",
            "_model_name": "HTMLModel",
            "_view_count": null,
            "_view_module": "@jupyter-widgets/controls",
            "_view_module_version": "1.5.0",
            "_view_name": "HTMLView",
            "description": "",
            "description_tooltip": null,
            "layout": "IPY_MODEL_239275f69ea645f49dc5b7fe0e3687a0",
            "placeholder": "​",
            "style": "IPY_MODEL_61e60e507c5b4487a056d0e864e93c48",
            "value": " 363/363 [00:00&lt;00:00, 7.80kB/s]"
          }
        },
        "503ae90484524b6ab1f4d39bc82f1f94": {
          "model_module": "@jupyter-widgets/base",
          "model_name": "LayoutModel",
          "model_module_version": "1.2.0",
          "state": {
            "_model_module": "@jupyter-widgets/base",
            "_model_module_version": "1.2.0",
            "_model_name": "LayoutModel",
            "_view_count": null,
            "_view_module": "@jupyter-widgets/base",
            "_view_module_version": "1.2.0",
            "_view_name": "LayoutView",
            "align_content": null,
            "align_items": null,
            "align_self": null,
            "border": null,
            "bottom": null,
            "display": null,
            "flex": null,
            "flex_flow": null,
            "grid_area": null,
            "grid_auto_columns": null,
            "grid_auto_flow": null,
            "grid_auto_rows": null,
            "grid_column": null,
            "grid_gap": null,
            "grid_row": null,
            "grid_template_areas": null,
            "grid_template_columns": null,
            "grid_template_rows": null,
            "height": null,
            "justify_content": null,
            "justify_items": null,
            "left": null,
            "margin": null,
            "max_height": null,
            "max_width": null,
            "min_height": null,
            "min_width": null,
            "object_fit": null,
            "object_position": null,
            "order": null,
            "overflow": null,
            "overflow_x": null,
            "overflow_y": null,
            "padding": null,
            "right": null,
            "top": null,
            "visibility": null,
            "width": null
          }
        },
        "338b9b9c863249aa8df6732d2168e9a2": {
          "model_module": "@jupyter-widgets/base",
          "model_name": "LayoutModel",
          "model_module_version": "1.2.0",
          "state": {
            "_model_module": "@jupyter-widgets/base",
            "_model_module_version": "1.2.0",
            "_model_name": "LayoutModel",
            "_view_count": null,
            "_view_module": "@jupyter-widgets/base",
            "_view_module_version": "1.2.0",
            "_view_name": "LayoutView",
            "align_content": null,
            "align_items": null,
            "align_self": null,
            "border": null,
            "bottom": null,
            "display": null,
            "flex": null,
            "flex_flow": null,
            "grid_area": null,
            "grid_auto_columns": null,
            "grid_auto_flow": null,
            "grid_auto_rows": null,
            "grid_column": null,
            "grid_gap": null,
            "grid_row": null,
            "grid_template_areas": null,
            "grid_template_columns": null,
            "grid_template_rows": null,
            "height": null,
            "justify_content": null,
            "justify_items": null,
            "left": null,
            "margin": null,
            "max_height": null,
            "max_width": null,
            "min_height": null,
            "min_width": null,
            "object_fit": null,
            "object_position": null,
            "order": null,
            "overflow": null,
            "overflow_x": null,
            "overflow_y": null,
            "padding": null,
            "right": null,
            "top": null,
            "visibility": null,
            "width": null
          }
        },
        "834d389ced9748c48a925371675f6ac9": {
          "model_module": "@jupyter-widgets/controls",
          "model_name": "DescriptionStyleModel",
          "model_module_version": "1.5.0",
          "state": {
            "_model_module": "@jupyter-widgets/controls",
            "_model_module_version": "1.5.0",
            "_model_name": "DescriptionStyleModel",
            "_view_count": null,
            "_view_module": "@jupyter-widgets/base",
            "_view_module_version": "1.2.0",
            "_view_name": "StyleView",
            "description_width": ""
          }
        },
        "6afc5252a63a4a0990e3a0bdbc54bd84": {
          "model_module": "@jupyter-widgets/base",
          "model_name": "LayoutModel",
          "model_module_version": "1.2.0",
          "state": {
            "_model_module": "@jupyter-widgets/base",
            "_model_module_version": "1.2.0",
            "_model_name": "LayoutModel",
            "_view_count": null,
            "_view_module": "@jupyter-widgets/base",
            "_view_module_version": "1.2.0",
            "_view_name": "LayoutView",
            "align_content": null,
            "align_items": null,
            "align_self": null,
            "border": null,
            "bottom": null,
            "display": null,
            "flex": null,
            "flex_flow": null,
            "grid_area": null,
            "grid_auto_columns": null,
            "grid_auto_flow": null,
            "grid_auto_rows": null,
            "grid_column": null,
            "grid_gap": null,
            "grid_row": null,
            "grid_template_areas": null,
            "grid_template_columns": null,
            "grid_template_rows": null,
            "height": null,
            "justify_content": null,
            "justify_items": null,
            "left": null,
            "margin": null,
            "max_height": null,
            "max_width": null,
            "min_height": null,
            "min_width": null,
            "object_fit": null,
            "object_position": null,
            "order": null,
            "overflow": null,
            "overflow_x": null,
            "overflow_y": null,
            "padding": null,
            "right": null,
            "top": null,
            "visibility": null,
            "width": null
          }
        },
        "e921bd35f2d34d0f981a3fc22127b2c8": {
          "model_module": "@jupyter-widgets/controls",
          "model_name": "ProgressStyleModel",
          "model_module_version": "1.5.0",
          "state": {
            "_model_module": "@jupyter-widgets/controls",
            "_model_module_version": "1.5.0",
            "_model_name": "ProgressStyleModel",
            "_view_count": null,
            "_view_module": "@jupyter-widgets/base",
            "_view_module_version": "1.2.0",
            "_view_name": "StyleView",
            "bar_color": null,
            "description_width": ""
          }
        },
        "239275f69ea645f49dc5b7fe0e3687a0": {
          "model_module": "@jupyter-widgets/base",
          "model_name": "LayoutModel",
          "model_module_version": "1.2.0",
          "state": {
            "_model_module": "@jupyter-widgets/base",
            "_model_module_version": "1.2.0",
            "_model_name": "LayoutModel",
            "_view_count": null,
            "_view_module": "@jupyter-widgets/base",
            "_view_module_version": "1.2.0",
            "_view_name": "LayoutView",
            "align_content": null,
            "align_items": null,
            "align_self": null,
            "border": null,
            "bottom": null,
            "display": null,
            "flex": null,
            "flex_flow": null,
            "grid_area": null,
            "grid_auto_columns": null,
            "grid_auto_flow": null,
            "grid_auto_rows": null,
            "grid_column": null,
            "grid_gap": null,
            "grid_row": null,
            "grid_template_areas": null,
            "grid_template_columns": null,
            "grid_template_rows": null,
            "height": null,
            "justify_content": null,
            "justify_items": null,
            "left": null,
            "margin": null,
            "max_height": null,
            "max_width": null,
            "min_height": null,
            "min_width": null,
            "object_fit": null,
            "object_position": null,
            "order": null,
            "overflow": null,
            "overflow_x": null,
            "overflow_y": null,
            "padding": null,
            "right": null,
            "top": null,
            "visibility": null,
            "width": null
          }
        },
        "61e60e507c5b4487a056d0e864e93c48": {
          "model_module": "@jupyter-widgets/controls",
          "model_name": "DescriptionStyleModel",
          "model_module_version": "1.5.0",
          "state": {
            "_model_module": "@jupyter-widgets/controls",
            "_model_module_version": "1.5.0",
            "_model_name": "DescriptionStyleModel",
            "_view_count": null,
            "_view_module": "@jupyter-widgets/base",
            "_view_module_version": "1.2.0",
            "_view_name": "StyleView",
            "description_width": ""
          }
        },
        "6a46facd52184acd9d66c350f417a809": {
          "model_module": "@jupyter-widgets/controls",
          "model_name": "HBoxModel",
          "model_module_version": "1.5.0",
          "state": {
            "_dom_classes": [],
            "_model_module": "@jupyter-widgets/controls",
            "_model_module_version": "1.5.0",
            "_model_name": "HBoxModel",
            "_view_count": null,
            "_view_module": "@jupyter-widgets/controls",
            "_view_module_version": "1.5.0",
            "_view_name": "HBoxView",
            "box_style": "",
            "children": [
              "IPY_MODEL_1744681f2b64424981c2bf6bfbc281c5",
              "IPY_MODEL_93d04922014c4af8819c0472f449e32a",
              "IPY_MODEL_f07f34ec82de44b99937e895369f4d96"
            ],
            "layout": "IPY_MODEL_58f24d3003ce4ba9a8fdee439d70b739"
          }
        },
        "1744681f2b64424981c2bf6bfbc281c5": {
          "model_module": "@jupyter-widgets/controls",
          "model_name": "HTMLModel",
          "model_module_version": "1.5.0",
          "state": {
            "_dom_classes": [],
            "_model_module": "@jupyter-widgets/controls",
            "_model_module_version": "1.5.0",
            "_model_name": "HTMLModel",
            "_view_count": null,
            "_view_module": "@jupyter-widgets/controls",
            "_view_module_version": "1.5.0",
            "_view_name": "HTMLView",
            "description": "",
            "description_tooltip": null,
            "layout": "IPY_MODEL_8094a314e2f14c7387e3ba5b9bd02109",
            "placeholder": "​",
            "style": "IPY_MODEL_08b450cf303a4a078c67f4df27de906a",
            "value": "vocab.txt: 100%"
          }
        },
        "93d04922014c4af8819c0472f449e32a": {
          "model_module": "@jupyter-widgets/controls",
          "model_name": "FloatProgressModel",
          "model_module_version": "1.5.0",
          "state": {
            "_dom_classes": [],
            "_model_module": "@jupyter-widgets/controls",
            "_model_module_version": "1.5.0",
            "_model_name": "FloatProgressModel",
            "_view_count": null,
            "_view_module": "@jupyter-widgets/controls",
            "_view_module_version": "1.5.0",
            "_view_name": "ProgressView",
            "bar_style": "success",
            "description": "",
            "description_tooltip": null,
            "layout": "IPY_MODEL_35711731859248bfae3082fda0527e88",
            "max": 231536,
            "min": 0,
            "orientation": "horizontal",
            "style": "IPY_MODEL_60a05920f2e2454faf4508ee293285b3",
            "value": 231536
          }
        },
        "f07f34ec82de44b99937e895369f4d96": {
          "model_module": "@jupyter-widgets/controls",
          "model_name": "HTMLModel",
          "model_module_version": "1.5.0",
          "state": {
            "_dom_classes": [],
            "_model_module": "@jupyter-widgets/controls",
            "_model_module_version": "1.5.0",
            "_model_name": "HTMLModel",
            "_view_count": null,
            "_view_module": "@jupyter-widgets/controls",
            "_view_module_version": "1.5.0",
            "_view_name": "HTMLView",
            "description": "",
            "description_tooltip": null,
            "layout": "IPY_MODEL_7010c35d6d024a17be72760389a3d7de",
            "placeholder": "​",
            "style": "IPY_MODEL_27b52a0396694505aa2f59ea449781b7",
            "value": " 232k/232k [00:00&lt;00:00, 5.56MB/s]"
          }
        },
        "58f24d3003ce4ba9a8fdee439d70b739": {
          "model_module": "@jupyter-widgets/base",
          "model_name": "LayoutModel",
          "model_module_version": "1.2.0",
          "state": {
            "_model_module": "@jupyter-widgets/base",
            "_model_module_version": "1.2.0",
            "_model_name": "LayoutModel",
            "_view_count": null,
            "_view_module": "@jupyter-widgets/base",
            "_view_module_version": "1.2.0",
            "_view_name": "LayoutView",
            "align_content": null,
            "align_items": null,
            "align_self": null,
            "border": null,
            "bottom": null,
            "display": null,
            "flex": null,
            "flex_flow": null,
            "grid_area": null,
            "grid_auto_columns": null,
            "grid_auto_flow": null,
            "grid_auto_rows": null,
            "grid_column": null,
            "grid_gap": null,
            "grid_row": null,
            "grid_template_areas": null,
            "grid_template_columns": null,
            "grid_template_rows": null,
            "height": null,
            "justify_content": null,
            "justify_items": null,
            "left": null,
            "margin": null,
            "max_height": null,
            "max_width": null,
            "min_height": null,
            "min_width": null,
            "object_fit": null,
            "object_position": null,
            "order": null,
            "overflow": null,
            "overflow_x": null,
            "overflow_y": null,
            "padding": null,
            "right": null,
            "top": null,
            "visibility": null,
            "width": null
          }
        },
        "8094a314e2f14c7387e3ba5b9bd02109": {
          "model_module": "@jupyter-widgets/base",
          "model_name": "LayoutModel",
          "model_module_version": "1.2.0",
          "state": {
            "_model_module": "@jupyter-widgets/base",
            "_model_module_version": "1.2.0",
            "_model_name": "LayoutModel",
            "_view_count": null,
            "_view_module": "@jupyter-widgets/base",
            "_view_module_version": "1.2.0",
            "_view_name": "LayoutView",
            "align_content": null,
            "align_items": null,
            "align_self": null,
            "border": null,
            "bottom": null,
            "display": null,
            "flex": null,
            "flex_flow": null,
            "grid_area": null,
            "grid_auto_columns": null,
            "grid_auto_flow": null,
            "grid_auto_rows": null,
            "grid_column": null,
            "grid_gap": null,
            "grid_row": null,
            "grid_template_areas": null,
            "grid_template_columns": null,
            "grid_template_rows": null,
            "height": null,
            "justify_content": null,
            "justify_items": null,
            "left": null,
            "margin": null,
            "max_height": null,
            "max_width": null,
            "min_height": null,
            "min_width": null,
            "object_fit": null,
            "object_position": null,
            "order": null,
            "overflow": null,
            "overflow_x": null,
            "overflow_y": null,
            "padding": null,
            "right": null,
            "top": null,
            "visibility": null,
            "width": null
          }
        },
        "08b450cf303a4a078c67f4df27de906a": {
          "model_module": "@jupyter-widgets/controls",
          "model_name": "DescriptionStyleModel",
          "model_module_version": "1.5.0",
          "state": {
            "_model_module": "@jupyter-widgets/controls",
            "_model_module_version": "1.5.0",
            "_model_name": "DescriptionStyleModel",
            "_view_count": null,
            "_view_module": "@jupyter-widgets/base",
            "_view_module_version": "1.2.0",
            "_view_name": "StyleView",
            "description_width": ""
          }
        },
        "35711731859248bfae3082fda0527e88": {
          "model_module": "@jupyter-widgets/base",
          "model_name": "LayoutModel",
          "model_module_version": "1.2.0",
          "state": {
            "_model_module": "@jupyter-widgets/base",
            "_model_module_version": "1.2.0",
            "_model_name": "LayoutModel",
            "_view_count": null,
            "_view_module": "@jupyter-widgets/base",
            "_view_module_version": "1.2.0",
            "_view_name": "LayoutView",
            "align_content": null,
            "align_items": null,
            "align_self": null,
            "border": null,
            "bottom": null,
            "display": null,
            "flex": null,
            "flex_flow": null,
            "grid_area": null,
            "grid_auto_columns": null,
            "grid_auto_flow": null,
            "grid_auto_rows": null,
            "grid_column": null,
            "grid_gap": null,
            "grid_row": null,
            "grid_template_areas": null,
            "grid_template_columns": null,
            "grid_template_rows": null,
            "height": null,
            "justify_content": null,
            "justify_items": null,
            "left": null,
            "margin": null,
            "max_height": null,
            "max_width": null,
            "min_height": null,
            "min_width": null,
            "object_fit": null,
            "object_position": null,
            "order": null,
            "overflow": null,
            "overflow_x": null,
            "overflow_y": null,
            "padding": null,
            "right": null,
            "top": null,
            "visibility": null,
            "width": null
          }
        },
        "60a05920f2e2454faf4508ee293285b3": {
          "model_module": "@jupyter-widgets/controls",
          "model_name": "ProgressStyleModel",
          "model_module_version": "1.5.0",
          "state": {
            "_model_module": "@jupyter-widgets/controls",
            "_model_module_version": "1.5.0",
            "_model_name": "ProgressStyleModel",
            "_view_count": null,
            "_view_module": "@jupyter-widgets/base",
            "_view_module_version": "1.2.0",
            "_view_name": "StyleView",
            "bar_color": null,
            "description_width": ""
          }
        },
        "7010c35d6d024a17be72760389a3d7de": {
          "model_module": "@jupyter-widgets/base",
          "model_name": "LayoutModel",
          "model_module_version": "1.2.0",
          "state": {
            "_model_module": "@jupyter-widgets/base",
            "_model_module_version": "1.2.0",
            "_model_name": "LayoutModel",
            "_view_count": null,
            "_view_module": "@jupyter-widgets/base",
            "_view_module_version": "1.2.0",
            "_view_name": "LayoutView",
            "align_content": null,
            "align_items": null,
            "align_self": null,
            "border": null,
            "bottom": null,
            "display": null,
            "flex": null,
            "flex_flow": null,
            "grid_area": null,
            "grid_auto_columns": null,
            "grid_auto_flow": null,
            "grid_auto_rows": null,
            "grid_column": null,
            "grid_gap": null,
            "grid_row": null,
            "grid_template_areas": null,
            "grid_template_columns": null,
            "grid_template_rows": null,
            "height": null,
            "justify_content": null,
            "justify_items": null,
            "left": null,
            "margin": null,
            "max_height": null,
            "max_width": null,
            "min_height": null,
            "min_width": null,
            "object_fit": null,
            "object_position": null,
            "order": null,
            "overflow": null,
            "overflow_x": null,
            "overflow_y": null,
            "padding": null,
            "right": null,
            "top": null,
            "visibility": null,
            "width": null
          }
        },
        "27b52a0396694505aa2f59ea449781b7": {
          "model_module": "@jupyter-widgets/controls",
          "model_name": "DescriptionStyleModel",
          "model_module_version": "1.5.0",
          "state": {
            "_model_module": "@jupyter-widgets/controls",
            "_model_module_version": "1.5.0",
            "_model_name": "DescriptionStyleModel",
            "_view_count": null,
            "_view_module": "@jupyter-widgets/base",
            "_view_module_version": "1.2.0",
            "_view_name": "StyleView",
            "description_width": ""
          }
        },
        "f6b1d17c36a14b37ab8167ab1d1fd852": {
          "model_module": "@jupyter-widgets/controls",
          "model_name": "HBoxModel",
          "model_module_version": "1.5.0",
          "state": {
            "_dom_classes": [],
            "_model_module": "@jupyter-widgets/controls",
            "_model_module_version": "1.5.0",
            "_model_name": "HBoxModel",
            "_view_count": null,
            "_view_module": "@jupyter-widgets/controls",
            "_view_module_version": "1.5.0",
            "_view_name": "HBoxView",
            "box_style": "",
            "children": [
              "IPY_MODEL_3e14c476374a4aea84f2bf2d3f0e0fb0",
              "IPY_MODEL_17c5c76e5ac94073ba739a34999bb7ce",
              "IPY_MODEL_36a289d8b5fd4863bbf47330369835d2"
            ],
            "layout": "IPY_MODEL_141d446b31f445aea9d2c18605526675"
          }
        },
        "3e14c476374a4aea84f2bf2d3f0e0fb0": {
          "model_module": "@jupyter-widgets/controls",
          "model_name": "HTMLModel",
          "model_module_version": "1.5.0",
          "state": {
            "_dom_classes": [],
            "_model_module": "@jupyter-widgets/controls",
            "_model_module_version": "1.5.0",
            "_model_name": "HTMLModel",
            "_view_count": null,
            "_view_module": "@jupyter-widgets/controls",
            "_view_module_version": "1.5.0",
            "_view_name": "HTMLView",
            "description": "",
            "description_tooltip": null,
            "layout": "IPY_MODEL_fd5f2aaa7825474a94d342e4b0c4e95a",
            "placeholder": "​",
            "style": "IPY_MODEL_1873ca88421a42b7aa54c277d2c140cb",
            "value": "tokenizer.json: 100%"
          }
        },
        "17c5c76e5ac94073ba739a34999bb7ce": {
          "model_module": "@jupyter-widgets/controls",
          "model_name": "FloatProgressModel",
          "model_module_version": "1.5.0",
          "state": {
            "_dom_classes": [],
            "_model_module": "@jupyter-widgets/controls",
            "_model_module_version": "1.5.0",
            "_model_name": "FloatProgressModel",
            "_view_count": null,
            "_view_module": "@jupyter-widgets/controls",
            "_view_module_version": "1.5.0",
            "_view_name": "ProgressView",
            "bar_style": "success",
            "description": "",
            "description_tooltip": null,
            "layout": "IPY_MODEL_f55112f3d21644d2ae041b49ad2ba01d",
            "max": 466021,
            "min": 0,
            "orientation": "horizontal",
            "style": "IPY_MODEL_4e6eee4a72634365a86e1dc165637cc9",
            "value": 466021
          }
        },
        "36a289d8b5fd4863bbf47330369835d2": {
          "model_module": "@jupyter-widgets/controls",
          "model_name": "HTMLModel",
          "model_module_version": "1.5.0",
          "state": {
            "_dom_classes": [],
            "_model_module": "@jupyter-widgets/controls",
            "_model_module_version": "1.5.0",
            "_model_name": "HTMLModel",
            "_view_count": null,
            "_view_module": "@jupyter-widgets/controls",
            "_view_module_version": "1.5.0",
            "_view_name": "HTMLView",
            "description": "",
            "description_tooltip": null,
            "layout": "IPY_MODEL_90a462b803ab4f2a94742dbed42cb7d4",
            "placeholder": "​",
            "style": "IPY_MODEL_171f10a2fa074f94a4884872afcb3c0d",
            "value": " 466k/466k [00:00&lt;00:00, 13.9MB/s]"
          }
        },
        "141d446b31f445aea9d2c18605526675": {
          "model_module": "@jupyter-widgets/base",
          "model_name": "LayoutModel",
          "model_module_version": "1.2.0",
          "state": {
            "_model_module": "@jupyter-widgets/base",
            "_model_module_version": "1.2.0",
            "_model_name": "LayoutModel",
            "_view_count": null,
            "_view_module": "@jupyter-widgets/base",
            "_view_module_version": "1.2.0",
            "_view_name": "LayoutView",
            "align_content": null,
            "align_items": null,
            "align_self": null,
            "border": null,
            "bottom": null,
            "display": null,
            "flex": null,
            "flex_flow": null,
            "grid_area": null,
            "grid_auto_columns": null,
            "grid_auto_flow": null,
            "grid_auto_rows": null,
            "grid_column": null,
            "grid_gap": null,
            "grid_row": null,
            "grid_template_areas": null,
            "grid_template_columns": null,
            "grid_template_rows": null,
            "height": null,
            "justify_content": null,
            "justify_items": null,
            "left": null,
            "margin": null,
            "max_height": null,
            "max_width": null,
            "min_height": null,
            "min_width": null,
            "object_fit": null,
            "object_position": null,
            "order": null,
            "overflow": null,
            "overflow_x": null,
            "overflow_y": null,
            "padding": null,
            "right": null,
            "top": null,
            "visibility": null,
            "width": null
          }
        },
        "fd5f2aaa7825474a94d342e4b0c4e95a": {
          "model_module": "@jupyter-widgets/base",
          "model_name": "LayoutModel",
          "model_module_version": "1.2.0",
          "state": {
            "_model_module": "@jupyter-widgets/base",
            "_model_module_version": "1.2.0",
            "_model_name": "LayoutModel",
            "_view_count": null,
            "_view_module": "@jupyter-widgets/base",
            "_view_module_version": "1.2.0",
            "_view_name": "LayoutView",
            "align_content": null,
            "align_items": null,
            "align_self": null,
            "border": null,
            "bottom": null,
            "display": null,
            "flex": null,
            "flex_flow": null,
            "grid_area": null,
            "grid_auto_columns": null,
            "grid_auto_flow": null,
            "grid_auto_rows": null,
            "grid_column": null,
            "grid_gap": null,
            "grid_row": null,
            "grid_template_areas": null,
            "grid_template_columns": null,
            "grid_template_rows": null,
            "height": null,
            "justify_content": null,
            "justify_items": null,
            "left": null,
            "margin": null,
            "max_height": null,
            "max_width": null,
            "min_height": null,
            "min_width": null,
            "object_fit": null,
            "object_position": null,
            "order": null,
            "overflow": null,
            "overflow_x": null,
            "overflow_y": null,
            "padding": null,
            "right": null,
            "top": null,
            "visibility": null,
            "width": null
          }
        },
        "1873ca88421a42b7aa54c277d2c140cb": {
          "model_module": "@jupyter-widgets/controls",
          "model_name": "DescriptionStyleModel",
          "model_module_version": "1.5.0",
          "state": {
            "_model_module": "@jupyter-widgets/controls",
            "_model_module_version": "1.5.0",
            "_model_name": "DescriptionStyleModel",
            "_view_count": null,
            "_view_module": "@jupyter-widgets/base",
            "_view_module_version": "1.2.0",
            "_view_name": "StyleView",
            "description_width": ""
          }
        },
        "f55112f3d21644d2ae041b49ad2ba01d": {
          "model_module": "@jupyter-widgets/base",
          "model_name": "LayoutModel",
          "model_module_version": "1.2.0",
          "state": {
            "_model_module": "@jupyter-widgets/base",
            "_model_module_version": "1.2.0",
            "_model_name": "LayoutModel",
            "_view_count": null,
            "_view_module": "@jupyter-widgets/base",
            "_view_module_version": "1.2.0",
            "_view_name": "LayoutView",
            "align_content": null,
            "align_items": null,
            "align_self": null,
            "border": null,
            "bottom": null,
            "display": null,
            "flex": null,
            "flex_flow": null,
            "grid_area": null,
            "grid_auto_columns": null,
            "grid_auto_flow": null,
            "grid_auto_rows": null,
            "grid_column": null,
            "grid_gap": null,
            "grid_row": null,
            "grid_template_areas": null,
            "grid_template_columns": null,
            "grid_template_rows": null,
            "height": null,
            "justify_content": null,
            "justify_items": null,
            "left": null,
            "margin": null,
            "max_height": null,
            "max_width": null,
            "min_height": null,
            "min_width": null,
            "object_fit": null,
            "object_position": null,
            "order": null,
            "overflow": null,
            "overflow_x": null,
            "overflow_y": null,
            "padding": null,
            "right": null,
            "top": null,
            "visibility": null,
            "width": null
          }
        },
        "4e6eee4a72634365a86e1dc165637cc9": {
          "model_module": "@jupyter-widgets/controls",
          "model_name": "ProgressStyleModel",
          "model_module_version": "1.5.0",
          "state": {
            "_model_module": "@jupyter-widgets/controls",
            "_model_module_version": "1.5.0",
            "_model_name": "ProgressStyleModel",
            "_view_count": null,
            "_view_module": "@jupyter-widgets/base",
            "_view_module_version": "1.2.0",
            "_view_name": "StyleView",
            "bar_color": null,
            "description_width": ""
          }
        },
        "90a462b803ab4f2a94742dbed42cb7d4": {
          "model_module": "@jupyter-widgets/base",
          "model_name": "LayoutModel",
          "model_module_version": "1.2.0",
          "state": {
            "_model_module": "@jupyter-widgets/base",
            "_model_module_version": "1.2.0",
            "_model_name": "LayoutModel",
            "_view_count": null,
            "_view_module": "@jupyter-widgets/base",
            "_view_module_version": "1.2.0",
            "_view_name": "LayoutView",
            "align_content": null,
            "align_items": null,
            "align_self": null,
            "border": null,
            "bottom": null,
            "display": null,
            "flex": null,
            "flex_flow": null,
            "grid_area": null,
            "grid_auto_columns": null,
            "grid_auto_flow": null,
            "grid_auto_rows": null,
            "grid_column": null,
            "grid_gap": null,
            "grid_row": null,
            "grid_template_areas": null,
            "grid_template_columns": null,
            "grid_template_rows": null,
            "height": null,
            "justify_content": null,
            "justify_items": null,
            "left": null,
            "margin": null,
            "max_height": null,
            "max_width": null,
            "min_height": null,
            "min_width": null,
            "object_fit": null,
            "object_position": null,
            "order": null,
            "overflow": null,
            "overflow_x": null,
            "overflow_y": null,
            "padding": null,
            "right": null,
            "top": null,
            "visibility": null,
            "width": null
          }
        },
        "171f10a2fa074f94a4884872afcb3c0d": {
          "model_module": "@jupyter-widgets/controls",
          "model_name": "DescriptionStyleModel",
          "model_module_version": "1.5.0",
          "state": {
            "_model_module": "@jupyter-widgets/controls",
            "_model_module_version": "1.5.0",
            "_model_name": "DescriptionStyleModel",
            "_view_count": null,
            "_view_module": "@jupyter-widgets/base",
            "_view_module_version": "1.2.0",
            "_view_name": "StyleView",
            "description_width": ""
          }
        },
        "2d18a79b27cc4403b888c981187502af": {
          "model_module": "@jupyter-widgets/controls",
          "model_name": "HBoxModel",
          "model_module_version": "1.5.0",
          "state": {
            "_dom_classes": [],
            "_model_module": "@jupyter-widgets/controls",
            "_model_module_version": "1.5.0",
            "_model_name": "HBoxModel",
            "_view_count": null,
            "_view_module": "@jupyter-widgets/controls",
            "_view_module_version": "1.5.0",
            "_view_name": "HBoxView",
            "box_style": "",
            "children": [
              "IPY_MODEL_ca3019758af14e67a8532d41d45b80f6",
              "IPY_MODEL_e2b6a611d16f4e8fb67f7a577c0a8601",
              "IPY_MODEL_1a4175b522d248a297a5b3ed654430d2"
            ],
            "layout": "IPY_MODEL_3b23a26db774491697f47a404e86b6d0"
          }
        },
        "ca3019758af14e67a8532d41d45b80f6": {
          "model_module": "@jupyter-widgets/controls",
          "model_name": "HTMLModel",
          "model_module_version": "1.5.0",
          "state": {
            "_dom_classes": [],
            "_model_module": "@jupyter-widgets/controls",
            "_model_module_version": "1.5.0",
            "_model_name": "HTMLModel",
            "_view_count": null,
            "_view_module": "@jupyter-widgets/controls",
            "_view_module_version": "1.5.0",
            "_view_name": "HTMLView",
            "description": "",
            "description_tooltip": null,
            "layout": "IPY_MODEL_f023c5ccb1834ade889870dccd5683a3",
            "placeholder": "​",
            "style": "IPY_MODEL_749441cf768a485fa1730ba3ded01fc9",
            "value": "special_tokens_map.json: 100%"
          }
        },
        "e2b6a611d16f4e8fb67f7a577c0a8601": {
          "model_module": "@jupyter-widgets/controls",
          "model_name": "FloatProgressModel",
          "model_module_version": "1.5.0",
          "state": {
            "_dom_classes": [],
            "_model_module": "@jupyter-widgets/controls",
            "_model_module_version": "1.5.0",
            "_model_name": "FloatProgressModel",
            "_view_count": null,
            "_view_module": "@jupyter-widgets/controls",
            "_view_module_version": "1.5.0",
            "_view_name": "ProgressView",
            "bar_style": "success",
            "description": "",
            "description_tooltip": null,
            "layout": "IPY_MODEL_09649c852aa442d397614abe62c04224",
            "max": 239,
            "min": 0,
            "orientation": "horizontal",
            "style": "IPY_MODEL_f4db6d1797404eaead41795cb8fdf9d5",
            "value": 239
          }
        },
        "1a4175b522d248a297a5b3ed654430d2": {
          "model_module": "@jupyter-widgets/controls",
          "model_name": "HTMLModel",
          "model_module_version": "1.5.0",
          "state": {
            "_dom_classes": [],
            "_model_module": "@jupyter-widgets/controls",
            "_model_module_version": "1.5.0",
            "_model_name": "HTMLModel",
            "_view_count": null,
            "_view_module": "@jupyter-widgets/controls",
            "_view_module_version": "1.5.0",
            "_view_name": "HTMLView",
            "description": "",
            "description_tooltip": null,
            "layout": "IPY_MODEL_a14b913dea70434b93f73dc45422c67f",
            "placeholder": "​",
            "style": "IPY_MODEL_99afa9ac98d3407f8a74a482332677df",
            "value": " 239/239 [00:00&lt;00:00, 9.84kB/s]"
          }
        },
        "3b23a26db774491697f47a404e86b6d0": {
          "model_module": "@jupyter-widgets/base",
          "model_name": "LayoutModel",
          "model_module_version": "1.2.0",
          "state": {
            "_model_module": "@jupyter-widgets/base",
            "_model_module_version": "1.2.0",
            "_model_name": "LayoutModel",
            "_view_count": null,
            "_view_module": "@jupyter-widgets/base",
            "_view_module_version": "1.2.0",
            "_view_name": "LayoutView",
            "align_content": null,
            "align_items": null,
            "align_self": null,
            "border": null,
            "bottom": null,
            "display": null,
            "flex": null,
            "flex_flow": null,
            "grid_area": null,
            "grid_auto_columns": null,
            "grid_auto_flow": null,
            "grid_auto_rows": null,
            "grid_column": null,
            "grid_gap": null,
            "grid_row": null,
            "grid_template_areas": null,
            "grid_template_columns": null,
            "grid_template_rows": null,
            "height": null,
            "justify_content": null,
            "justify_items": null,
            "left": null,
            "margin": null,
            "max_height": null,
            "max_width": null,
            "min_height": null,
            "min_width": null,
            "object_fit": null,
            "object_position": null,
            "order": null,
            "overflow": null,
            "overflow_x": null,
            "overflow_y": null,
            "padding": null,
            "right": null,
            "top": null,
            "visibility": null,
            "width": null
          }
        },
        "f023c5ccb1834ade889870dccd5683a3": {
          "model_module": "@jupyter-widgets/base",
          "model_name": "LayoutModel",
          "model_module_version": "1.2.0",
          "state": {
            "_model_module": "@jupyter-widgets/base",
            "_model_module_version": "1.2.0",
            "_model_name": "LayoutModel",
            "_view_count": null,
            "_view_module": "@jupyter-widgets/base",
            "_view_module_version": "1.2.0",
            "_view_name": "LayoutView",
            "align_content": null,
            "align_items": null,
            "align_self": null,
            "border": null,
            "bottom": null,
            "display": null,
            "flex": null,
            "flex_flow": null,
            "grid_area": null,
            "grid_auto_columns": null,
            "grid_auto_flow": null,
            "grid_auto_rows": null,
            "grid_column": null,
            "grid_gap": null,
            "grid_row": null,
            "grid_template_areas": null,
            "grid_template_columns": null,
            "grid_template_rows": null,
            "height": null,
            "justify_content": null,
            "justify_items": null,
            "left": null,
            "margin": null,
            "max_height": null,
            "max_width": null,
            "min_height": null,
            "min_width": null,
            "object_fit": null,
            "object_position": null,
            "order": null,
            "overflow": null,
            "overflow_x": null,
            "overflow_y": null,
            "padding": null,
            "right": null,
            "top": null,
            "visibility": null,
            "width": null
          }
        },
        "749441cf768a485fa1730ba3ded01fc9": {
          "model_module": "@jupyter-widgets/controls",
          "model_name": "DescriptionStyleModel",
          "model_module_version": "1.5.0",
          "state": {
            "_model_module": "@jupyter-widgets/controls",
            "_model_module_version": "1.5.0",
            "_model_name": "DescriptionStyleModel",
            "_view_count": null,
            "_view_module": "@jupyter-widgets/base",
            "_view_module_version": "1.2.0",
            "_view_name": "StyleView",
            "description_width": ""
          }
        },
        "09649c852aa442d397614abe62c04224": {
          "model_module": "@jupyter-widgets/base",
          "model_name": "LayoutModel",
          "model_module_version": "1.2.0",
          "state": {
            "_model_module": "@jupyter-widgets/base",
            "_model_module_version": "1.2.0",
            "_model_name": "LayoutModel",
            "_view_count": null,
            "_view_module": "@jupyter-widgets/base",
            "_view_module_version": "1.2.0",
            "_view_name": "LayoutView",
            "align_content": null,
            "align_items": null,
            "align_self": null,
            "border": null,
            "bottom": null,
            "display": null,
            "flex": null,
            "flex_flow": null,
            "grid_area": null,
            "grid_auto_columns": null,
            "grid_auto_flow": null,
            "grid_auto_rows": null,
            "grid_column": null,
            "grid_gap": null,
            "grid_row": null,
            "grid_template_areas": null,
            "grid_template_columns": null,
            "grid_template_rows": null,
            "height": null,
            "justify_content": null,
            "justify_items": null,
            "left": null,
            "margin": null,
            "max_height": null,
            "max_width": null,
            "min_height": null,
            "min_width": null,
            "object_fit": null,
            "object_position": null,
            "order": null,
            "overflow": null,
            "overflow_x": null,
            "overflow_y": null,
            "padding": null,
            "right": null,
            "top": null,
            "visibility": null,
            "width": null
          }
        },
        "f4db6d1797404eaead41795cb8fdf9d5": {
          "model_module": "@jupyter-widgets/controls",
          "model_name": "ProgressStyleModel",
          "model_module_version": "1.5.0",
          "state": {
            "_model_module": "@jupyter-widgets/controls",
            "_model_module_version": "1.5.0",
            "_model_name": "ProgressStyleModel",
            "_view_count": null,
            "_view_module": "@jupyter-widgets/base",
            "_view_module_version": "1.2.0",
            "_view_name": "StyleView",
            "bar_color": null,
            "description_width": ""
          }
        },
        "a14b913dea70434b93f73dc45422c67f": {
          "model_module": "@jupyter-widgets/base",
          "model_name": "LayoutModel",
          "model_module_version": "1.2.0",
          "state": {
            "_model_module": "@jupyter-widgets/base",
            "_model_module_version": "1.2.0",
            "_model_name": "LayoutModel",
            "_view_count": null,
            "_view_module": "@jupyter-widgets/base",
            "_view_module_version": "1.2.0",
            "_view_name": "LayoutView",
            "align_content": null,
            "align_items": null,
            "align_self": null,
            "border": null,
            "bottom": null,
            "display": null,
            "flex": null,
            "flex_flow": null,
            "grid_area": null,
            "grid_auto_columns": null,
            "grid_auto_flow": null,
            "grid_auto_rows": null,
            "grid_column": null,
            "grid_gap": null,
            "grid_row": null,
            "grid_template_areas": null,
            "grid_template_columns": null,
            "grid_template_rows": null,
            "height": null,
            "justify_content": null,
            "justify_items": null,
            "left": null,
            "margin": null,
            "max_height": null,
            "max_width": null,
            "min_height": null,
            "min_width": null,
            "object_fit": null,
            "object_position": null,
            "order": null,
            "overflow": null,
            "overflow_x": null,
            "overflow_y": null,
            "padding": null,
            "right": null,
            "top": null,
            "visibility": null,
            "width": null
          }
        },
        "99afa9ac98d3407f8a74a482332677df": {
          "model_module": "@jupyter-widgets/controls",
          "model_name": "DescriptionStyleModel",
          "model_module_version": "1.5.0",
          "state": {
            "_model_module": "@jupyter-widgets/controls",
            "_model_module_version": "1.5.0",
            "_model_name": "DescriptionStyleModel",
            "_view_count": null,
            "_view_module": "@jupyter-widgets/base",
            "_view_module_version": "1.2.0",
            "_view_name": "StyleView",
            "description_width": ""
          }
        },
        "be79726363d2409c975f453065542a8b": {
          "model_module": "@jupyter-widgets/controls",
          "model_name": "HBoxModel",
          "model_module_version": "1.5.0",
          "state": {
            "_dom_classes": [],
            "_model_module": "@jupyter-widgets/controls",
            "_model_module_version": "1.5.0",
            "_model_name": "HBoxModel",
            "_view_count": null,
            "_view_module": "@jupyter-widgets/controls",
            "_view_module_version": "1.5.0",
            "_view_name": "HBoxView",
            "box_style": "",
            "children": [
              "IPY_MODEL_34333d2aead249ffa41472ccd5fd8606",
              "IPY_MODEL_e018355bc01f4cc8b75d4ea1c0b42428",
              "IPY_MODEL_c390e734782542ba91e4606da1272595"
            ],
            "layout": "IPY_MODEL_7d8921248b8b44c0954a217f56b2cff7"
          }
        },
        "34333d2aead249ffa41472ccd5fd8606": {
          "model_module": "@jupyter-widgets/controls",
          "model_name": "HTMLModel",
          "model_module_version": "1.5.0",
          "state": {
            "_dom_classes": [],
            "_model_module": "@jupyter-widgets/controls",
            "_model_module_version": "1.5.0",
            "_model_name": "HTMLModel",
            "_view_count": null,
            "_view_module": "@jupyter-widgets/controls",
            "_view_module_version": "1.5.0",
            "_view_name": "HTMLView",
            "description": "",
            "description_tooltip": null,
            "layout": "IPY_MODEL_4ba4c57101694d48a50e2c1811e6ebdc",
            "placeholder": "​",
            "style": "IPY_MODEL_8a7209f1ad8a4658925fb7b33993151a",
            "value": "1_Pooling/config.json: 100%"
          }
        },
        "e018355bc01f4cc8b75d4ea1c0b42428": {
          "model_module": "@jupyter-widgets/controls",
          "model_name": "FloatProgressModel",
          "model_module_version": "1.5.0",
          "state": {
            "_dom_classes": [],
            "_model_module": "@jupyter-widgets/controls",
            "_model_module_version": "1.5.0",
            "_model_name": "FloatProgressModel",
            "_view_count": null,
            "_view_module": "@jupyter-widgets/controls",
            "_view_module_version": "1.5.0",
            "_view_name": "ProgressView",
            "bar_style": "success",
            "description": "",
            "description_tooltip": null,
            "layout": "IPY_MODEL_dbbee93c80e44a68b3953738d90b554f",
            "max": 190,
            "min": 0,
            "orientation": "horizontal",
            "style": "IPY_MODEL_792930d19e3a478e8880dd4aa05ab76f",
            "value": 190
          }
        },
        "c390e734782542ba91e4606da1272595": {
          "model_module": "@jupyter-widgets/controls",
          "model_name": "HTMLModel",
          "model_module_version": "1.5.0",
          "state": {
            "_dom_classes": [],
            "_model_module": "@jupyter-widgets/controls",
            "_model_module_version": "1.5.0",
            "_model_name": "HTMLModel",
            "_view_count": null,
            "_view_module": "@jupyter-widgets/controls",
            "_view_module_version": "1.5.0",
            "_view_name": "HTMLView",
            "description": "",
            "description_tooltip": null,
            "layout": "IPY_MODEL_38418412a10f42b69d81c44ef938784d",
            "placeholder": "​",
            "style": "IPY_MODEL_d04f889ea0a44baeb12c6e3eb8f6f8be",
            "value": " 190/190 [00:00&lt;00:00, 5.17kB/s]"
          }
        },
        "7d8921248b8b44c0954a217f56b2cff7": {
          "model_module": "@jupyter-widgets/base",
          "model_name": "LayoutModel",
          "model_module_version": "1.2.0",
          "state": {
            "_model_module": "@jupyter-widgets/base",
            "_model_module_version": "1.2.0",
            "_model_name": "LayoutModel",
            "_view_count": null,
            "_view_module": "@jupyter-widgets/base",
            "_view_module_version": "1.2.0",
            "_view_name": "LayoutView",
            "align_content": null,
            "align_items": null,
            "align_self": null,
            "border": null,
            "bottom": null,
            "display": null,
            "flex": null,
            "flex_flow": null,
            "grid_area": null,
            "grid_auto_columns": null,
            "grid_auto_flow": null,
            "grid_auto_rows": null,
            "grid_column": null,
            "grid_gap": null,
            "grid_row": null,
            "grid_template_areas": null,
            "grid_template_columns": null,
            "grid_template_rows": null,
            "height": null,
            "justify_content": null,
            "justify_items": null,
            "left": null,
            "margin": null,
            "max_height": null,
            "max_width": null,
            "min_height": null,
            "min_width": null,
            "object_fit": null,
            "object_position": null,
            "order": null,
            "overflow": null,
            "overflow_x": null,
            "overflow_y": null,
            "padding": null,
            "right": null,
            "top": null,
            "visibility": null,
            "width": null
          }
        },
        "4ba4c57101694d48a50e2c1811e6ebdc": {
          "model_module": "@jupyter-widgets/base",
          "model_name": "LayoutModel",
          "model_module_version": "1.2.0",
          "state": {
            "_model_module": "@jupyter-widgets/base",
            "_model_module_version": "1.2.0",
            "_model_name": "LayoutModel",
            "_view_count": null,
            "_view_module": "@jupyter-widgets/base",
            "_view_module_version": "1.2.0",
            "_view_name": "LayoutView",
            "align_content": null,
            "align_items": null,
            "align_self": null,
            "border": null,
            "bottom": null,
            "display": null,
            "flex": null,
            "flex_flow": null,
            "grid_area": null,
            "grid_auto_columns": null,
            "grid_auto_flow": null,
            "grid_auto_rows": null,
            "grid_column": null,
            "grid_gap": null,
            "grid_row": null,
            "grid_template_areas": null,
            "grid_template_columns": null,
            "grid_template_rows": null,
            "height": null,
            "justify_content": null,
            "justify_items": null,
            "left": null,
            "margin": null,
            "max_height": null,
            "max_width": null,
            "min_height": null,
            "min_width": null,
            "object_fit": null,
            "object_position": null,
            "order": null,
            "overflow": null,
            "overflow_x": null,
            "overflow_y": null,
            "padding": null,
            "right": null,
            "top": null,
            "visibility": null,
            "width": null
          }
        },
        "8a7209f1ad8a4658925fb7b33993151a": {
          "model_module": "@jupyter-widgets/controls",
          "model_name": "DescriptionStyleModel",
          "model_module_version": "1.5.0",
          "state": {
            "_model_module": "@jupyter-widgets/controls",
            "_model_module_version": "1.5.0",
            "_model_name": "DescriptionStyleModel",
            "_view_count": null,
            "_view_module": "@jupyter-widgets/base",
            "_view_module_version": "1.2.0",
            "_view_name": "StyleView",
            "description_width": ""
          }
        },
        "dbbee93c80e44a68b3953738d90b554f": {
          "model_module": "@jupyter-widgets/base",
          "model_name": "LayoutModel",
          "model_module_version": "1.2.0",
          "state": {
            "_model_module": "@jupyter-widgets/base",
            "_model_module_version": "1.2.0",
            "_model_name": "LayoutModel",
            "_view_count": null,
            "_view_module": "@jupyter-widgets/base",
            "_view_module_version": "1.2.0",
            "_view_name": "LayoutView",
            "align_content": null,
            "align_items": null,
            "align_self": null,
            "border": null,
            "bottom": null,
            "display": null,
            "flex": null,
            "flex_flow": null,
            "grid_area": null,
            "grid_auto_columns": null,
            "grid_auto_flow": null,
            "grid_auto_rows": null,
            "grid_column": null,
            "grid_gap": null,
            "grid_row": null,
            "grid_template_areas": null,
            "grid_template_columns": null,
            "grid_template_rows": null,
            "height": null,
            "justify_content": null,
            "justify_items": null,
            "left": null,
            "margin": null,
            "max_height": null,
            "max_width": null,
            "min_height": null,
            "min_width": null,
            "object_fit": null,
            "object_position": null,
            "order": null,
            "overflow": null,
            "overflow_x": null,
            "overflow_y": null,
            "padding": null,
            "right": null,
            "top": null,
            "visibility": null,
            "width": null
          }
        },
        "792930d19e3a478e8880dd4aa05ab76f": {
          "model_module": "@jupyter-widgets/controls",
          "model_name": "ProgressStyleModel",
          "model_module_version": "1.5.0",
          "state": {
            "_model_module": "@jupyter-widgets/controls",
            "_model_module_version": "1.5.0",
            "_model_name": "ProgressStyleModel",
            "_view_count": null,
            "_view_module": "@jupyter-widgets/base",
            "_view_module_version": "1.2.0",
            "_view_name": "StyleView",
            "bar_color": null,
            "description_width": ""
          }
        },
        "38418412a10f42b69d81c44ef938784d": {
          "model_module": "@jupyter-widgets/base",
          "model_name": "LayoutModel",
          "model_module_version": "1.2.0",
          "state": {
            "_model_module": "@jupyter-widgets/base",
            "_model_module_version": "1.2.0",
            "_model_name": "LayoutModel",
            "_view_count": null,
            "_view_module": "@jupyter-widgets/base",
            "_view_module_version": "1.2.0",
            "_view_name": "LayoutView",
            "align_content": null,
            "align_items": null,
            "align_self": null,
            "border": null,
            "bottom": null,
            "display": null,
            "flex": null,
            "flex_flow": null,
            "grid_area": null,
            "grid_auto_columns": null,
            "grid_auto_flow": null,
            "grid_auto_rows": null,
            "grid_column": null,
            "grid_gap": null,
            "grid_row": null,
            "grid_template_areas": null,
            "grid_template_columns": null,
            "grid_template_rows": null,
            "height": null,
            "justify_content": null,
            "justify_items": null,
            "left": null,
            "margin": null,
            "max_height": null,
            "max_width": null,
            "min_height": null,
            "min_width": null,
            "object_fit": null,
            "object_position": null,
            "order": null,
            "overflow": null,
            "overflow_x": null,
            "overflow_y": null,
            "padding": null,
            "right": null,
            "top": null,
            "visibility": null,
            "width": null
          }
        },
        "d04f889ea0a44baeb12c6e3eb8f6f8be": {
          "model_module": "@jupyter-widgets/controls",
          "model_name": "DescriptionStyleModel",
          "model_module_version": "1.5.0",
          "state": {
            "_model_module": "@jupyter-widgets/controls",
            "_model_module_version": "1.5.0",
            "_model_name": "DescriptionStyleModel",
            "_view_count": null,
            "_view_module": "@jupyter-widgets/base",
            "_view_module_version": "1.2.0",
            "_view_name": "StyleView",
            "description_width": ""
          }
        }
      }
    }
  },
  "cells": [
    {
      "cell_type": "markdown",
      "source": [
        "### Quick Start"
      ],
      "metadata": {
        "id": "Z4FYzW5D5lbX"
      }
    },
    {
      "cell_type": "code",
      "execution_count": null,
      "metadata": {
        "colab": {
          "base_uri": "https://localhost:8080/"
        },
        "id": "ISPBmkg25d2b",
        "outputId": "5a0fb487-28c8-4e34-af7b-b8afdb7109fd"
      },
      "outputs": [
        {
          "output_type": "stream",
          "name": "stdout",
          "text": [
            "Collecting langchain-openai\n",
            "  Downloading langchain_openai-0.0.8-py3-none-any.whl (32 kB)\n",
            "Collecting langchain-core<0.2.0,>=0.1.27 (from langchain-openai)\n",
            "  Downloading langchain_core-0.1.32-py3-none-any.whl (260 kB)\n",
            "\u001b[2K     \u001b[90m━━━━━━━━━━━━━━━━━━━━━━━━━━━━━━━━━━━━━━━━\u001b[0m \u001b[32m260.9/260.9 kB\u001b[0m \u001b[31m8.0 MB/s\u001b[0m eta \u001b[36m0:00:00\u001b[0m\n",
            "\u001b[?25hCollecting openai<2.0.0,>=1.10.0 (from langchain-openai)\n",
            "  Downloading openai-1.14.1-py3-none-any.whl (257 kB)\n",
            "\u001b[2K     \u001b[90m━━━━━━━━━━━━━━━━━━━━━━━━━━━━━━━━━━━━━━━━\u001b[0m \u001b[32m257.5/257.5 kB\u001b[0m \u001b[31m10.3 MB/s\u001b[0m eta \u001b[36m0:00:00\u001b[0m\n",
            "\u001b[?25hCollecting tiktoken<1,>=0.5.2 (from langchain-openai)\n",
            "  Downloading tiktoken-0.6.0-cp310-cp310-manylinux_2_17_x86_64.manylinux2014_x86_64.whl (1.8 MB)\n",
            "\u001b[2K     \u001b[90m━━━━━━━━━━━━━━━━━━━━━━━━━━━━━━━━━━━━━━━━\u001b[0m \u001b[32m1.8/1.8 MB\u001b[0m \u001b[31m14.6 MB/s\u001b[0m eta \u001b[36m0:00:00\u001b[0m\n",
            "\u001b[?25hRequirement already satisfied: PyYAML>=5.3 in /usr/local/lib/python3.10/dist-packages (from langchain-core<0.2.0,>=0.1.27->langchain-openai) (6.0.1)\n",
            "Requirement already satisfied: anyio<5,>=3 in /usr/local/lib/python3.10/dist-packages (from langchain-core<0.2.0,>=0.1.27->langchain-openai) (3.7.1)\n",
            "Collecting jsonpatch<2.0,>=1.33 (from langchain-core<0.2.0,>=0.1.27->langchain-openai)\n",
            "  Downloading jsonpatch-1.33-py2.py3-none-any.whl (12 kB)\n",
            "Collecting langsmith<0.2.0,>=0.1.0 (from langchain-core<0.2.0,>=0.1.27->langchain-openai)\n",
            "  Downloading langsmith-0.1.27-py3-none-any.whl (68 kB)\n",
            "\u001b[2K     \u001b[90m━━━━━━━━━━━━━━━━━━━━━━━━━━━━━━━━━━━━━━━━\u001b[0m \u001b[32m68.0/68.0 kB\u001b[0m \u001b[31m6.1 MB/s\u001b[0m eta \u001b[36m0:00:00\u001b[0m\n",
            "\u001b[?25hCollecting packaging<24.0,>=23.2 (from langchain-core<0.2.0,>=0.1.27->langchain-openai)\n",
            "  Downloading packaging-23.2-py3-none-any.whl (53 kB)\n",
            "\u001b[2K     \u001b[90m━━━━━━━━━━━━━━━━━━━━━━━━━━━━━━━━━━━━━━━━\u001b[0m \u001b[32m53.0/53.0 kB\u001b[0m \u001b[31m4.8 MB/s\u001b[0m eta \u001b[36m0:00:00\u001b[0m\n",
            "\u001b[?25hRequirement already satisfied: pydantic<3,>=1 in /usr/local/lib/python3.10/dist-packages (from langchain-core<0.2.0,>=0.1.27->langchain-openai) (2.6.4)\n",
            "Requirement already satisfied: requests<3,>=2 in /usr/local/lib/python3.10/dist-packages (from langchain-core<0.2.0,>=0.1.27->langchain-openai) (2.31.0)\n",
            "Requirement already satisfied: tenacity<9.0.0,>=8.1.0 in /usr/local/lib/python3.10/dist-packages (from langchain-core<0.2.0,>=0.1.27->langchain-openai) (8.2.3)\n",
            "Requirement already satisfied: distro<2,>=1.7.0 in /usr/lib/python3/dist-packages (from openai<2.0.0,>=1.10.0->langchain-openai) (1.7.0)\n",
            "Collecting httpx<1,>=0.23.0 (from openai<2.0.0,>=1.10.0->langchain-openai)\n",
            "  Downloading httpx-0.27.0-py3-none-any.whl (75 kB)\n",
            "\u001b[2K     \u001b[90m━━━━━━━━━━━━━━━━━━━━━━━━━━━━━━━━━━━━━━━━\u001b[0m \u001b[32m75.6/75.6 kB\u001b[0m \u001b[31m5.9 MB/s\u001b[0m eta \u001b[36m0:00:00\u001b[0m\n",
            "\u001b[?25hRequirement already satisfied: sniffio in /usr/local/lib/python3.10/dist-packages (from openai<2.0.0,>=1.10.0->langchain-openai) (1.3.1)\n",
            "Requirement already satisfied: tqdm>4 in /usr/local/lib/python3.10/dist-packages (from openai<2.0.0,>=1.10.0->langchain-openai) (4.66.2)\n",
            "Requirement already satisfied: typing-extensions<5,>=4.7 in /usr/local/lib/python3.10/dist-packages (from openai<2.0.0,>=1.10.0->langchain-openai) (4.10.0)\n",
            "Requirement already satisfied: regex>=2022.1.18 in /usr/local/lib/python3.10/dist-packages (from tiktoken<1,>=0.5.2->langchain-openai) (2023.12.25)\n",
            "Requirement already satisfied: idna>=2.8 in /usr/local/lib/python3.10/dist-packages (from anyio<5,>=3->langchain-core<0.2.0,>=0.1.27->langchain-openai) (3.6)\n",
            "Requirement already satisfied: exceptiongroup in /usr/local/lib/python3.10/dist-packages (from anyio<5,>=3->langchain-core<0.2.0,>=0.1.27->langchain-openai) (1.2.0)\n",
            "Requirement already satisfied: certifi in /usr/local/lib/python3.10/dist-packages (from httpx<1,>=0.23.0->openai<2.0.0,>=1.10.0->langchain-openai) (2024.2.2)\n",
            "Collecting httpcore==1.* (from httpx<1,>=0.23.0->openai<2.0.0,>=1.10.0->langchain-openai)\n",
            "  Downloading httpcore-1.0.4-py3-none-any.whl (77 kB)\n",
            "\u001b[2K     \u001b[90m━━━━━━━━━━━━━━━━━━━━━━━━━━━━━━━━━━━━━━━━\u001b[0m \u001b[32m77.8/77.8 kB\u001b[0m \u001b[31m7.0 MB/s\u001b[0m eta \u001b[36m0:00:00\u001b[0m\n",
            "\u001b[?25hCollecting h11<0.15,>=0.13 (from httpcore==1.*->httpx<1,>=0.23.0->openai<2.0.0,>=1.10.0->langchain-openai)\n",
            "  Downloading h11-0.14.0-py3-none-any.whl (58 kB)\n",
            "\u001b[2K     \u001b[90m━━━━━━━━━━━━━━━━━━━━━━━━━━━━━━━━━━━━━━━━\u001b[0m \u001b[32m58.3/58.3 kB\u001b[0m \u001b[31m5.8 MB/s\u001b[0m eta \u001b[36m0:00:00\u001b[0m\n",
            "\u001b[?25hCollecting jsonpointer>=1.9 (from jsonpatch<2.0,>=1.33->langchain-core<0.2.0,>=0.1.27->langchain-openai)\n",
            "  Downloading jsonpointer-2.4-py2.py3-none-any.whl (7.8 kB)\n",
            "Collecting orjson<4.0.0,>=3.9.14 (from langsmith<0.2.0,>=0.1.0->langchain-core<0.2.0,>=0.1.27->langchain-openai)\n",
            "  Downloading orjson-3.9.15-cp310-cp310-manylinux_2_17_x86_64.manylinux2014_x86_64.whl (138 kB)\n",
            "\u001b[2K     \u001b[90m━━━━━━━━━━━━━━━━━━━━━━━━━━━━━━━━━━━━━━━━\u001b[0m \u001b[32m138.5/138.5 kB\u001b[0m \u001b[31m2.9 MB/s\u001b[0m eta \u001b[36m0:00:00\u001b[0m\n",
            "\u001b[?25hRequirement already satisfied: annotated-types>=0.4.0 in /usr/local/lib/python3.10/dist-packages (from pydantic<3,>=1->langchain-core<0.2.0,>=0.1.27->langchain-openai) (0.6.0)\n",
            "Requirement already satisfied: pydantic-core==2.16.3 in /usr/local/lib/python3.10/dist-packages (from pydantic<3,>=1->langchain-core<0.2.0,>=0.1.27->langchain-openai) (2.16.3)\n",
            "Requirement already satisfied: charset-normalizer<4,>=2 in /usr/local/lib/python3.10/dist-packages (from requests<3,>=2->langchain-core<0.2.0,>=0.1.27->langchain-openai) (3.3.2)\n",
            "Requirement already satisfied: urllib3<3,>=1.21.1 in /usr/local/lib/python3.10/dist-packages (from requests<3,>=2->langchain-core<0.2.0,>=0.1.27->langchain-openai) (2.0.7)\n",
            "Installing collected packages: packaging, orjson, jsonpointer, h11, tiktoken, jsonpatch, httpcore, langsmith, httpx, openai, langchain-core, langchain-openai\n",
            "  Attempting uninstall: packaging\n",
            "    Found existing installation: packaging 24.0\n",
            "    Uninstalling packaging-24.0:\n",
            "      Successfully uninstalled packaging-24.0\n",
            "Successfully installed h11-0.14.0 httpcore-1.0.4 httpx-0.27.0 jsonpatch-1.33 jsonpointer-2.4 langchain-core-0.1.32 langchain-openai-0.0.8 langsmith-0.1.27 openai-1.14.1 orjson-3.9.15 packaging-23.2 tiktoken-0.6.0\n"
          ]
        }
      ],
      "source": [
        "pip install langchain-openai"
      ]
    },
    {
      "cell_type": "code",
      "source": [
        "from langchain_openai import ChatOpenAI\n",
        "\n",
        "llm_openai = ChatOpenAI(openai_api_key=\"sk-XXXX\", model='gpt-3.5-turbo')"
      ],
      "metadata": {
        "id": "jlDWL92T5xsk"
      },
      "execution_count": null,
      "outputs": []
    },
    {
      "cell_type": "code",
      "source": [
        "print(llm_openai)"
      ],
      "metadata": {
        "colab": {
          "base_uri": "https://localhost:8080/"
        },
        "id": "zLQ3CMX150UJ",
        "outputId": "8cb82455-5bbf-4cbb-d077-3988072d9f95"
      },
      "execution_count": null,
      "outputs": [
        {
          "output_type": "stream",
          "name": "stdout",
          "text": [
            "client=<openai.resources.chat.completions.Completions object at 0x784148f13490> async_client=<openai.resources.chat.completions.AsyncCompletions object at 0x784148f3c970> openai_api_key=SecretStr('**********') openai_proxy=''\n"
          ]
        }
      ]
    },
    {
      "cell_type": "code",
      "source": [
        "llm_openai.invoke(\"What is space?\")"
      ],
      "metadata": {
        "colab": {
          "base_uri": "https://localhost:8080/"
        },
        "id": "WYZVFzQ952Kn",
        "outputId": "e02fb3a9-9f52-4952-dc09-e1e66f82d669"
      },
      "execution_count": null,
      "outputs": [
        {
          "output_type": "execute_result",
          "data": {
            "text/plain": [
              "AIMessage(content=\"Space is the vast expanse that exists beyond the Earth's atmosphere, where objects such as planets, stars, galaxies, and other celestial bodies exist. It is a near-perfect vacuum with little to no matter, allowing for the movement of objects and the transmission of light and other forms of energy. Space is also the setting for various phenomena such as black holes, supernovae, and cosmic radiation. It is infinite in size and continues to expand as the universe evolves.\")"
            ]
          },
          "metadata": {},
          "execution_count": 40
        }
      ]
    },
    {
      "cell_type": "code",
      "source": [
        "llm_openai.invoke(\"Can you tell me the revenue of my company in FY 2022-23\")"
      ],
      "metadata": {
        "colab": {
          "base_uri": "https://localhost:8080/"
        },
        "id": "rnqJ7sIV65rp",
        "outputId": "20727b8d-98c7-417d-8e9e-f7ded11812fd"
      },
      "execution_count": null,
      "outputs": [
        {
          "output_type": "execute_result",
          "data": {
            "text/plain": [
              "AIMessage(content=\"I'm sorry, but as an AI assistant, I do not have access to real-time or specific financial data. I recommend checking your company's financial reports, speaking with your finance department, or consulting with a financial advisor for accurate information on your company's revenue in FY 2022-23.\")"
            ]
          },
          "metadata": {},
          "execution_count": 41
        }
      ]
    },
    {
      "cell_type": "markdown",
      "source": [
        "### Hugging face models"
      ],
      "metadata": {
        "id": "W4unt39P9Gcr"
      }
    },
    {
      "cell_type": "code",
      "source": [
        "!pip install huggingface_hub\n",
        "!pip install langchain"
      ],
      "metadata": {
        "colab": {
          "base_uri": "https://localhost:8080/"
        },
        "id": "ZTZCwOhW9KCf",
        "outputId": "110b76aa-fad7-4628-821c-195ef2c9ae3c"
      },
      "execution_count": null,
      "outputs": [
        {
          "output_type": "stream",
          "name": "stdout",
          "text": [
            "Requirement already satisfied: huggingface_hub in /usr/local/lib/python3.10/dist-packages (0.20.3)\n",
            "Requirement already satisfied: filelock in /usr/local/lib/python3.10/dist-packages (from huggingface_hub) (3.13.1)\n",
            "Requirement already satisfied: fsspec>=2023.5.0 in /usr/local/lib/python3.10/dist-packages (from huggingface_hub) (2023.6.0)\n",
            "Requirement already satisfied: requests in /usr/local/lib/python3.10/dist-packages (from huggingface_hub) (2.31.0)\n",
            "Requirement already satisfied: tqdm>=4.42.1 in /usr/local/lib/python3.10/dist-packages (from huggingface_hub) (4.66.2)\n",
            "Requirement already satisfied: pyyaml>=5.1 in /usr/local/lib/python3.10/dist-packages (from huggingface_hub) (6.0.1)\n",
            "Requirement already satisfied: typing-extensions>=3.7.4.3 in /usr/local/lib/python3.10/dist-packages (from huggingface_hub) (4.10.0)\n",
            "Requirement already satisfied: packaging>=20.9 in /usr/local/lib/python3.10/dist-packages (from huggingface_hub) (23.2)\n",
            "Requirement already satisfied: charset-normalizer<4,>=2 in /usr/local/lib/python3.10/dist-packages (from requests->huggingface_hub) (3.3.2)\n",
            "Requirement already satisfied: idna<4,>=2.5 in /usr/local/lib/python3.10/dist-packages (from requests->huggingface_hub) (3.6)\n",
            "Requirement already satisfied: urllib3<3,>=1.21.1 in /usr/local/lib/python3.10/dist-packages (from requests->huggingface_hub) (2.0.7)\n",
            "Requirement already satisfied: certifi>=2017.4.17 in /usr/local/lib/python3.10/dist-packages (from requests->huggingface_hub) (2024.2.2)\n",
            "Collecting langchain\n",
            "  Downloading langchain-0.1.12-py3-none-any.whl (809 kB)\n",
            "\u001b[2K     \u001b[90m━━━━━━━━━━━━━━━━━━━━━━━━━━━━━━━━━━━━━━━━\u001b[0m \u001b[32m809.1/809.1 kB\u001b[0m \u001b[31m5.5 MB/s\u001b[0m eta \u001b[36m0:00:00\u001b[0m\n",
            "\u001b[?25hRequirement already satisfied: PyYAML>=5.3 in /usr/local/lib/python3.10/dist-packages (from langchain) (6.0.1)\n",
            "Requirement already satisfied: SQLAlchemy<3,>=1.4 in /usr/local/lib/python3.10/dist-packages (from langchain) (2.0.28)\n",
            "Requirement already satisfied: aiohttp<4.0.0,>=3.8.3 in /usr/local/lib/python3.10/dist-packages (from langchain) (3.9.3)\n",
            "Requirement already satisfied: async-timeout<5.0.0,>=4.0.0 in /usr/local/lib/python3.10/dist-packages (from langchain) (4.0.3)\n",
            "Collecting dataclasses-json<0.7,>=0.5.7 (from langchain)\n",
            "  Downloading dataclasses_json-0.6.4-py3-none-any.whl (28 kB)\n",
            "Requirement already satisfied: jsonpatch<2.0,>=1.33 in /usr/local/lib/python3.10/dist-packages (from langchain) (1.33)\n",
            "Collecting langchain-community<0.1,>=0.0.28 (from langchain)\n",
            "  Downloading langchain_community-0.0.28-py3-none-any.whl (1.8 MB)\n",
            "\u001b[2K     \u001b[90m━━━━━━━━━━━━━━━━━━━━━━━━━━━━━━━━━━━━━━━━\u001b[0m \u001b[32m1.8/1.8 MB\u001b[0m \u001b[31m14.8 MB/s\u001b[0m eta \u001b[36m0:00:00\u001b[0m\n",
            "\u001b[?25hRequirement already satisfied: langchain-core<0.2.0,>=0.1.31 in /usr/local/lib/python3.10/dist-packages (from langchain) (0.1.32)\n",
            "Collecting langchain-text-splitters<0.1,>=0.0.1 (from langchain)\n",
            "  Downloading langchain_text_splitters-0.0.1-py3-none-any.whl (21 kB)\n",
            "Requirement already satisfied: langsmith<0.2.0,>=0.1.17 in /usr/local/lib/python3.10/dist-packages (from langchain) (0.1.27)\n",
            "Requirement already satisfied: numpy<2,>=1 in /usr/local/lib/python3.10/dist-packages (from langchain) (1.25.2)\n",
            "Requirement already satisfied: pydantic<3,>=1 in /usr/local/lib/python3.10/dist-packages (from langchain) (2.6.4)\n",
            "Requirement already satisfied: requests<3,>=2 in /usr/local/lib/python3.10/dist-packages (from langchain) (2.31.0)\n",
            "Requirement already satisfied: tenacity<9.0.0,>=8.1.0 in /usr/local/lib/python3.10/dist-packages (from langchain) (8.2.3)\n",
            "Requirement already satisfied: aiosignal>=1.1.2 in /usr/local/lib/python3.10/dist-packages (from aiohttp<4.0.0,>=3.8.3->langchain) (1.3.1)\n",
            "Requirement already satisfied: attrs>=17.3.0 in /usr/local/lib/python3.10/dist-packages (from aiohttp<4.0.0,>=3.8.3->langchain) (23.2.0)\n",
            "Requirement already satisfied: frozenlist>=1.1.1 in /usr/local/lib/python3.10/dist-packages (from aiohttp<4.0.0,>=3.8.3->langchain) (1.4.1)\n",
            "Requirement already satisfied: multidict<7.0,>=4.5 in /usr/local/lib/python3.10/dist-packages (from aiohttp<4.0.0,>=3.8.3->langchain) (6.0.5)\n",
            "Requirement already satisfied: yarl<2.0,>=1.0 in /usr/local/lib/python3.10/dist-packages (from aiohttp<4.0.0,>=3.8.3->langchain) (1.9.4)\n",
            "Collecting marshmallow<4.0.0,>=3.18.0 (from dataclasses-json<0.7,>=0.5.7->langchain)\n",
            "  Downloading marshmallow-3.21.1-py3-none-any.whl (49 kB)\n",
            "\u001b[2K     \u001b[90m━━━━━━━━━━━━━━━━━━━━━━━━━━━━━━━━━━━━━━━━\u001b[0m \u001b[32m49.4/49.4 kB\u001b[0m \u001b[31m6.5 MB/s\u001b[0m eta \u001b[36m0:00:00\u001b[0m\n",
            "\u001b[?25hCollecting typing-inspect<1,>=0.4.0 (from dataclasses-json<0.7,>=0.5.7->langchain)\n",
            "  Downloading typing_inspect-0.9.0-py3-none-any.whl (8.8 kB)\n",
            "Requirement already satisfied: jsonpointer>=1.9 in /usr/local/lib/python3.10/dist-packages (from jsonpatch<2.0,>=1.33->langchain) (2.4)\n",
            "Requirement already satisfied: anyio<5,>=3 in /usr/local/lib/python3.10/dist-packages (from langchain-core<0.2.0,>=0.1.31->langchain) (3.7.1)\n",
            "Requirement already satisfied: packaging<24.0,>=23.2 in /usr/local/lib/python3.10/dist-packages (from langchain-core<0.2.0,>=0.1.31->langchain) (23.2)\n",
            "Requirement already satisfied: orjson<4.0.0,>=3.9.14 in /usr/local/lib/python3.10/dist-packages (from langsmith<0.2.0,>=0.1.17->langchain) (3.9.15)\n",
            "Requirement already satisfied: annotated-types>=0.4.0 in /usr/local/lib/python3.10/dist-packages (from pydantic<3,>=1->langchain) (0.6.0)\n",
            "Requirement already satisfied: pydantic-core==2.16.3 in /usr/local/lib/python3.10/dist-packages (from pydantic<3,>=1->langchain) (2.16.3)\n",
            "Requirement already satisfied: typing-extensions>=4.6.1 in /usr/local/lib/python3.10/dist-packages (from pydantic<3,>=1->langchain) (4.10.0)\n",
            "Requirement already satisfied: charset-normalizer<4,>=2 in /usr/local/lib/python3.10/dist-packages (from requests<3,>=2->langchain) (3.3.2)\n",
            "Requirement already satisfied: idna<4,>=2.5 in /usr/local/lib/python3.10/dist-packages (from requests<3,>=2->langchain) (3.6)\n",
            "Requirement already satisfied: urllib3<3,>=1.21.1 in /usr/local/lib/python3.10/dist-packages (from requests<3,>=2->langchain) (2.0.7)\n",
            "Requirement already satisfied: certifi>=2017.4.17 in /usr/local/lib/python3.10/dist-packages (from requests<3,>=2->langchain) (2024.2.2)\n",
            "Requirement already satisfied: greenlet!=0.4.17 in /usr/local/lib/python3.10/dist-packages (from SQLAlchemy<3,>=1.4->langchain) (3.0.3)\n",
            "Requirement already satisfied: sniffio>=1.1 in /usr/local/lib/python3.10/dist-packages (from anyio<5,>=3->langchain-core<0.2.0,>=0.1.31->langchain) (1.3.1)\n",
            "Requirement already satisfied: exceptiongroup in /usr/local/lib/python3.10/dist-packages (from anyio<5,>=3->langchain-core<0.2.0,>=0.1.31->langchain) (1.2.0)\n",
            "Collecting mypy-extensions>=0.3.0 (from typing-inspect<1,>=0.4.0->dataclasses-json<0.7,>=0.5.7->langchain)\n",
            "  Downloading mypy_extensions-1.0.0-py3-none-any.whl (4.7 kB)\n",
            "Installing collected packages: mypy-extensions, marshmallow, typing-inspect, dataclasses-json, langchain-text-splitters, langchain-community, langchain\n",
            "Successfully installed dataclasses-json-0.6.4 langchain-0.1.12 langchain-community-0.0.28 langchain-text-splitters-0.0.1 marshmallow-3.21.1 mypy-extensions-1.0.0 typing-inspect-0.9.0\n"
          ]
        }
      ]
    },
    {
      "cell_type": "code",
      "source": [
        "from langchain import HuggingFaceHub\n",
        "import os\n",
        "os.environ[\"HUGGINGFACEHUB_API_TOKEN\"] = \"hf_XXXX\"\n",
        "llm_hf = HuggingFaceHub(repo_id = \"google/flan-t5-xxl\", model_kwargs={\"temperature\":0.1, \"max_length\":512})\n"
      ],
      "metadata": {
        "id": "R496pdmm-aHl",
        "colab": {
          "base_uri": "https://localhost:8080/"
        },
        "outputId": "6eed51fd-278b-45b7-d6b4-f06921403716"
      },
      "execution_count": null,
      "outputs": [
        {
          "output_type": "stream",
          "name": "stderr",
          "text": [
            "/usr/local/lib/python3.10/dist-packages/langchain_core/_api/deprecation.py:117: LangChainDeprecationWarning: The class `langchain_community.llms.huggingface_hub.HuggingFaceHub` was deprecated in langchain-community 0.0.21 and will be removed in 0.2.0. Use HuggingFaceEndpoint instead.\n",
            "  warn_deprecated(\n"
          ]
        }
      ]
    },
    {
      "cell_type": "code",
      "source": [
        "print(llm_hf)"
      ],
      "metadata": {
        "colab": {
          "base_uri": "https://localhost:8080/"
        },
        "id": "74wabQDo_JGE",
        "outputId": "108ae1b4-1f02-449c-d738-14d4fd359c32"
      },
      "execution_count": null,
      "outputs": [
        {
          "output_type": "stream",
          "name": "stdout",
          "text": [
            "\u001b[1mHuggingFaceHub\u001b[0m\n",
            "Params: {'repo_id': 'google/flan-t5-xxl', 'task': 'text2text-generation', 'model_kwargs': {'temperature': 0.1, 'max_length': 512}}\n"
          ]
        }
      ]
    },
    {
      "cell_type": "code",
      "source": [
        "llm_hf.invoke(\"Tell about space\")"
      ],
      "metadata": {
        "colab": {
          "base_uri": "https://localhost:8080/",
          "height": 35
        },
        "id": "SRz-ouQh_St7",
        "outputId": "c4d097dd-7e47-4fb7-9571-8893e4009f2d"
      },
      "execution_count": null,
      "outputs": [
        {
          "output_type": "execute_result",
          "data": {
            "text/plain": [
              "'The space shuttle is a large spacecraft that is launched into space.'"
            ],
            "application/vnd.google.colaboratory.intrinsic+json": {
              "type": "string"
            }
          },
          "metadata": {},
          "execution_count": 36
        }
      ]
    },
    {
      "cell_type": "code",
      "source": [
        "llm_hf.invoke(\"Can you tell me the revenue of my company in FY 2022-23\")"
      ],
      "metadata": {
        "id": "XH5qmR8q_lVI",
        "outputId": "5a42515b-95a3-4d67-b0f5-1ac82a4a826b",
        "colab": {
          "base_uri": "https://localhost:8080/",
          "height": 35
        }
      },
      "execution_count": null,
      "outputs": [
        {
          "output_type": "execute_result",
          "data": {
            "text/plain": [
              "'I am a manager in a company.'"
            ],
            "application/vnd.google.colaboratory.intrinsic+json": {
              "type": "string"
            }
          },
          "metadata": {},
          "execution_count": 37
        }
      ]
    },
    {
      "cell_type": "markdown",
      "source": [
        "### Prompts\n"
      ],
      "metadata": {
        "id": "rRFaZvGbzdR2"
      }
    },
    {
      "cell_type": "code",
      "source": [
        "from langchain.prompts import PromptTemplate"
      ],
      "metadata": {
        "id": "WPSWfmfyzfoL"
      },
      "execution_count": null,
      "outputs": []
    },
    {
      "cell_type": "code",
      "source": [
        "prompt_template = PromptTemplate.from_template(\n",
        "    \"\"\"\n",
        "    You are an expert in teaching science having more than 10 years of expereience.\n",
        "    You will be given a topic and you have to explain the topic in three different stages - child, young, adult.\n",
        "    Here child needs to be explained in very easy words, young and old people can also understand some tough words.\n",
        "\n",
        "    Topic: {topic}\n",
        "    \"\"\"\n",
        ")"
      ],
      "metadata": {
        "id": "a4eqg6r20an-"
      },
      "execution_count": null,
      "outputs": []
    },
    {
      "cell_type": "code",
      "source": [
        "prompt = prompt_template.format(topic=\"Explain about ozone layer\")\n",
        "prompt.format()"
      ],
      "metadata": {
        "colab": {
          "base_uri": "https://localhost:8080/",
          "height": 70
        },
        "id": "gfJpxz493w2K",
        "outputId": "e9f404c3-a694-4c68-fa1c-a3560b990111"
      },
      "execution_count": null,
      "outputs": [
        {
          "output_type": "execute_result",
          "data": {
            "text/plain": [
              "'\\n    You are an expert in teaching science having more than 10 years of expereience.\\n    You will be given a topic and you have to explain the topic in three different stages - child, young, adult.\\n    Here child needs to be explained in very easy words, young and old people can also understand some tough words.\\n\\n    Topic: Explain about ozone layer\\n    '"
            ],
            "application/vnd.google.colaboratory.intrinsic+json": {
              "type": "string"
            }
          },
          "metadata": {},
          "execution_count": 32
        }
      ]
    },
    {
      "cell_type": "code",
      "source": [
        "llm_openai.invoke(prompt)"
      ],
      "metadata": {
        "colab": {
          "base_uri": "https://localhost:8080/"
        },
        "id": "V5khIYHA32PQ",
        "outputId": "d963f3ae-c4f1-444d-c69d-c8e59e20d230"
      },
      "execution_count": null,
      "outputs": [
        {
          "output_type": "execute_result",
          "data": {
            "text/plain": [
              "AIMessage(content=\"Child: The ozone layer is like a big invisible umbrella that protects us from the sun's harmful rays. It's like wearing sunscreen for the Earth!\\n\\nYoung: The ozone layer is a layer of gas in the Earth's atmosphere that helps to shield us from the sun's ultraviolet (UV) rays. It acts like a protective barrier, absorbing and filtering out the dangerous UV radiation before it reaches the Earth's surface.\\n\\nAdult: The ozone layer is primarily located in the stratosphere, about 10 to 30 kilometers above the Earth's surface. It is made up of ozone molecules (O3) which absorb and scatter the UV radiation, preventing it from reaching the Earth's surface where it can cause harm to living organisms. However, human activities such as the use of certain chemicals called chlorofluorocarbons (CFCs) have been damaging the ozone layer, leading to the formation of the ozone hole and increased UV radiation reaching the Earth. Efforts have been made to reduce the use of these harmful chemicals through international agreements like the Montreal Protocol, in order to protect and preserve the ozone layer for future generations.\")"
            ]
          },
          "metadata": {},
          "execution_count": 42
        }
      ]
    },
    {
      "cell_type": "code",
      "source": [
        "llm_hf.invoke(prompt)"
      ],
      "metadata": {
        "colab": {
          "base_uri": "https://localhost:8080/",
          "height": 35
        },
        "id": "-e1MPQQL5VcJ",
        "outputId": "da4b5eaf-da0a-4a1f-d120-be9f8f6789b5"
      },
      "execution_count": null,
      "outputs": [
        {
          "output_type": "execute_result",
          "data": {
            "text/plain": [
              "'The ozone layer is a layer of the atmosphere that protects the earth from harmful ultraviolet rays.'"
            ],
            "application/vnd.google.colaboratory.intrinsic+json": {
              "type": "string"
            }
          },
          "metadata": {},
          "execution_count": 43
        }
      ]
    },
    {
      "cell_type": "markdown",
      "source": [
        "### Contextual Prompts"
      ],
      "metadata": {
        "id": "_t2ZECmk-bLr"
      }
    },
    {
      "cell_type": "code",
      "source": [
        "llm_openai.invoke(\"What was the revenue of comapny in fy 2023\")"
      ],
      "metadata": {
        "colab": {
          "base_uri": "https://localhost:8080/"
        },
        "id": "0H0i1fVf-KFc",
        "outputId": "dac89e53-cf26-4ff1-fce0-fd23ac0b1a74"
      },
      "execution_count": null,
      "outputs": [
        {
          "output_type": "execute_result",
          "data": {
            "text/plain": [
              "AIMessage(content=\"I'm sorry, but I do not have access to real-time data or specific company information. Please check the company's official financial reports or website for the most up-to-date information on their revenue for FY 2023.\")"
            ]
          },
          "metadata": {},
          "execution_count": 44
        }
      ]
    },
    {
      "cell_type": "code",
      "source": [
        "contextual_prompt_temp = PromptTemplate.from_template(\n",
        "    \"\"\"\n",
        "    Context: The fictional company, XYZ Corp, has seen steady revenue growth over the past nine fiscal years, from FY 2015 to FY 2023. In FY 2015, the company reported revenue of $100 million, which increased to $110 million in FY 2016. The growth trajectory continued, with revenues reaching $120 million in FY 2017, $130 million in FY 2018, and $140 million in FY 2019. Despite economic challenges, the company managed to achieve revenue of $150 million in FY 2020, demonstrating resilience and adaptability. The positive trend persisted in FY 2021, with revenue increasing to $160 million, followed by $170 million in FY 2022, and finally reaching $180 million in FY 2023. This consistent growth reflects XYZ Corp's strong market position and effective business strategies.\n",
        "\n",
        "    You are a chatbot and you are given data about a company.\n",
        "    You have to answer the following question in a friendly and professional tone.\n",
        "\n",
        "    Question: {question}\n",
        "    \"\"\"\n",
        ")"
      ],
      "metadata": {
        "id": "_e0nYkQE567b"
      },
      "execution_count": null,
      "outputs": []
    },
    {
      "cell_type": "code",
      "source": [
        "contextual_prompt = contextual_prompt_temp.format(question=\"What was the revenue of comapny in fy 2023\")\n",
        "contextual_prompt.format()"
      ],
      "metadata": {
        "colab": {
          "base_uri": "https://localhost:8080/",
          "height": 139
        },
        "id": "wdcaeZH_9yGZ",
        "outputId": "798569b1-4cf3-4f1b-c64c-093e7feb4da4"
      },
      "execution_count": null,
      "outputs": [
        {
          "output_type": "execute_result",
          "data": {
            "text/plain": [
              "\"\\n    Context: The fictional company, XYZ Corp, has seen steady revenue growth over the past nine fiscal years, from FY 2015 to FY 2023. In FY 2015, the company reported revenue of $100 million, which increased to $110 million in FY 2016. The growth trajectory continued, with revenues reaching $120 million in FY 2017, $130 million in FY 2018, and $140 million in FY 2019. Despite economic challenges, the company managed to achieve revenue of $150 million in FY 2020, demonstrating resilience and adaptability. The positive trend persisted in FY 2021, with revenue increasing to $160 million, followed by $170 million in FY 2022, and finally reaching $180 million in FY 2023. This consistent growth reflects XYZ Corp's strong market position and effective business strategies.\\n    \\n    You are a chatbot and you are given data about a company. \\n    You are to answer the following question in a friendly and professional tone.\\n\\n    Question: What was the revenue of comapny in fy 2023\\n    \""
            ],
            "application/vnd.google.colaboratory.intrinsic+json": {
              "type": "string"
            }
          },
          "metadata": {},
          "execution_count": 46
        }
      ]
    },
    {
      "cell_type": "code",
      "source": [
        "llm_openai.invoke(contextual_prompt)"
      ],
      "metadata": {
        "colab": {
          "base_uri": "https://localhost:8080/"
        },
        "id": "aXR3il5W-FSH",
        "outputId": "a65fee0a-297f-473d-9bef-06142fba4d3a"
      },
      "execution_count": null,
      "outputs": [
        {
          "output_type": "execute_result",
          "data": {
            "text/plain": [
              "AIMessage(content='The revenue of XYZ Corp in FY 2023 was $180 million. This marked a continued growth trajectory for the company over the past nine fiscal years. If you have any more questions or need further information, feel free to ask!')"
            ]
          },
          "metadata": {},
          "execution_count": 47
        }
      ]
    },
    {
      "cell_type": "markdown",
      "source": [
        "### Chains"
      ],
      "metadata": {
        "id": "mAd2AFW0DM5y"
      }
    },
    {
      "cell_type": "code",
      "source": [
        "from langchain.chains import LLMChain"
      ],
      "metadata": {
        "id": "P10A6ACmE-OI"
      },
      "execution_count": null,
      "outputs": []
    },
    {
      "cell_type": "code",
      "source": [
        "classification_prompt_template = \"\"\"\n",
        "    You are expert in classifying the input into categories.\n",
        "    There are 3 categories Politics, Sports, or Technology. You have to classify the input into any one of the category.\n",
        "\n",
        "    Here are some details about each category:\n",
        "    Politics: Input should fall into this category if it pertains to government, policies, or political events. Examples include news about elections, legislation, political campaigns, and government actions.\n",
        "\n",
        "    Sports: Input should fall into this category if it relates to sports, athletic events, or sports teams. Examples include news about game results, player trades, upcoming matches, and sports-related achievements.\n",
        "\n",
        "    Technology: Input should fall into this category if it involves advancements, innovations, or developments in technology. Examples include news about new gadgets, software releases, scientific discoveries, and technological breakthroughs.\n",
        "\n",
        "    Input: {input_text}\n",
        "    \"\"\""
      ],
      "metadata": {
        "id": "4pffI82uDPKZ"
      },
      "execution_count": null,
      "outputs": []
    },
    {
      "cell_type": "code",
      "source": [
        "classification_prompt = PromptTemplate(\n",
        "    template=classification_prompt_template,\n",
        "    input_variables=[\"input_text\"],\n",
        ")"
      ],
      "metadata": {
        "id": "TSADpGJXFWUX"
      },
      "execution_count": null,
      "outputs": []
    },
    {
      "cell_type": "code",
      "source": [
        "llmchain = LLMChain(llm=llm_openai, prompt=classification_prompt, verbose=True)\n",
        "llmchain.invoke(\"New Bill Proposed to Reform Tax Policies\")"
      ],
      "metadata": {
        "colab": {
          "base_uri": "https://localhost:8080/"
        },
        "id": "BCIcYOEgDX-W",
        "outputId": "f1584fa6-2da9-44be-a87f-df92f8bf8f0a"
      },
      "execution_count": null,
      "outputs": [
        {
          "output_type": "stream",
          "name": "stdout",
          "text": [
            "\n",
            "\n",
            "\u001b[1m> Entering new LLMChain chain...\u001b[0m\n",
            "Prompt after formatting:\n",
            "\u001b[32;1m\u001b[1;3m\n",
            "    You are expert in classifying the input into categories.\n",
            "    There are 3 categories Politics, Sports, or Technology. You have to classify the input into any one of the category.\n",
            "\n",
            "    Here are some details about each category:\n",
            "    Politics: Input should fall into this category if it pertains to government, policies, or political events. Examples include news about elections, legislation, political campaigns, and government actions.\n",
            "\n",
            "    Sports: Input should fall into this category if it relates to sports, athletic events, or sports teams. Examples include news about game results, player trades, upcoming matches, and sports-related achievements.\n",
            "\n",
            "    Technology: Input should fall into this category if it involves advancements, innovations, or developments in technology. Examples include news about new gadgets, software releases, scientific discoveries, and technological breakthroughs.\n",
            "\n",
            "    Input: New Bill Proposed to Reform Tax Policies\n",
            "    \u001b[0m\n",
            "\n",
            "\u001b[1m> Finished chain.\u001b[0m\n"
          ]
        },
        {
          "output_type": "execute_result",
          "data": {
            "text/plain": [
              "{'input_text': 'New Bill Proposed to Reform Tax Policies',\n",
              " 'text': 'Category: Politics'}"
            ]
          },
          "metadata": {},
          "execution_count": 20
        }
      ]
    },
    {
      "cell_type": "markdown",
      "source": [
        "### PAL Chain\n"
      ],
      "metadata": {
        "id": "CMjPdOX5Hdy9"
      }
    },
    {
      "cell_type": "code",
      "source": [
        "!pip install langchain_experimental\n",
        "from langchain_experimental.pal_chain.base import PALChain"
      ],
      "metadata": {
        "colab": {
          "base_uri": "https://localhost:8080/"
        },
        "id": "Cd87xm7kHguc",
        "outputId": "6b79404e-7b66-4e3e-8f60-9ff245cd4655"
      },
      "execution_count": null,
      "outputs": [
        {
          "output_type": "stream",
          "name": "stdout",
          "text": [
            "Collecting langchain_experimental\n",
            "  Downloading langchain_experimental-0.0.54-py3-none-any.whl (177 kB)\n",
            "\u001b[?25l     \u001b[90m━━━━━━━━━━━━━━━━━━━━━━━━━━━━━━━━━━━━━━━━\u001b[0m \u001b[32m0.0/177.6 kB\u001b[0m \u001b[31m?\u001b[0m eta \u001b[36m-:--:--\u001b[0m\r\u001b[2K     \u001b[91m━━━━━━━━━━━━━━━━━━━━━━━━━━━━━━━━\u001b[0m\u001b[90m╺\u001b[0m\u001b[90m━━━━━━━\u001b[0m \u001b[32m143.4/177.6 kB\u001b[0m \u001b[31m4.1 MB/s\u001b[0m eta \u001b[36m0:00:01\u001b[0m\r\u001b[2K     \u001b[91m━━━━━━━━━━━━━━━━━━━━━━━━━━━━━━━━━━━━━━━\u001b[0m\u001b[90m╺\u001b[0m \u001b[32m174.1/177.6 kB\u001b[0m \u001b[31m4.5 MB/s\u001b[0m eta \u001b[36m0:00:01\u001b[0m\r\u001b[2K     \u001b[90m━━━━━━━━━━━━━━━━━━━━━━━━━━━━━━━━━━━━━━━━\u001b[0m \u001b[32m177.6/177.6 kB\u001b[0m \u001b[31m2.3 MB/s\u001b[0m eta \u001b[36m0:00:00\u001b[0m\n",
            "\u001b[?25hRequirement already satisfied: langchain<0.2.0,>=0.1.12 in /usr/local/lib/python3.10/dist-packages (from langchain_experimental) (0.1.12)\n",
            "Requirement already satisfied: langchain-core<0.2.0,>=0.1.31 in /usr/local/lib/python3.10/dist-packages (from langchain_experimental) (0.1.32)\n",
            "Requirement already satisfied: PyYAML>=5.3 in /usr/local/lib/python3.10/dist-packages (from langchain<0.2.0,>=0.1.12->langchain_experimental) (6.0.1)\n",
            "Requirement already satisfied: SQLAlchemy<3,>=1.4 in /usr/local/lib/python3.10/dist-packages (from langchain<0.2.0,>=0.1.12->langchain_experimental) (2.0.28)\n",
            "Requirement already satisfied: aiohttp<4.0.0,>=3.8.3 in /usr/local/lib/python3.10/dist-packages (from langchain<0.2.0,>=0.1.12->langchain_experimental) (3.9.3)\n",
            "Requirement already satisfied: async-timeout<5.0.0,>=4.0.0 in /usr/local/lib/python3.10/dist-packages (from langchain<0.2.0,>=0.1.12->langchain_experimental) (4.0.3)\n",
            "Requirement already satisfied: dataclasses-json<0.7,>=0.5.7 in /usr/local/lib/python3.10/dist-packages (from langchain<0.2.0,>=0.1.12->langchain_experimental) (0.6.4)\n",
            "Requirement already satisfied: jsonpatch<2.0,>=1.33 in /usr/local/lib/python3.10/dist-packages (from langchain<0.2.0,>=0.1.12->langchain_experimental) (1.33)\n",
            "Requirement already satisfied: langchain-community<0.1,>=0.0.28 in /usr/local/lib/python3.10/dist-packages (from langchain<0.2.0,>=0.1.12->langchain_experimental) (0.0.28)\n",
            "Requirement already satisfied: langchain-text-splitters<0.1,>=0.0.1 in /usr/local/lib/python3.10/dist-packages (from langchain<0.2.0,>=0.1.12->langchain_experimental) (0.0.1)\n",
            "Requirement already satisfied: langsmith<0.2.0,>=0.1.17 in /usr/local/lib/python3.10/dist-packages (from langchain<0.2.0,>=0.1.12->langchain_experimental) (0.1.27)\n",
            "Requirement already satisfied: numpy<2,>=1 in /usr/local/lib/python3.10/dist-packages (from langchain<0.2.0,>=0.1.12->langchain_experimental) (1.25.2)\n",
            "Requirement already satisfied: pydantic<3,>=1 in /usr/local/lib/python3.10/dist-packages (from langchain<0.2.0,>=0.1.12->langchain_experimental) (2.6.4)\n",
            "Requirement already satisfied: requests<3,>=2 in /usr/local/lib/python3.10/dist-packages (from langchain<0.2.0,>=0.1.12->langchain_experimental) (2.31.0)\n",
            "Requirement already satisfied: tenacity<9.0.0,>=8.1.0 in /usr/local/lib/python3.10/dist-packages (from langchain<0.2.0,>=0.1.12->langchain_experimental) (8.2.3)\n",
            "Requirement already satisfied: anyio<5,>=3 in /usr/local/lib/python3.10/dist-packages (from langchain-core<0.2.0,>=0.1.31->langchain_experimental) (3.7.1)\n",
            "Requirement already satisfied: packaging<24.0,>=23.2 in /usr/local/lib/python3.10/dist-packages (from langchain-core<0.2.0,>=0.1.31->langchain_experimental) (23.2)\n",
            "Requirement already satisfied: aiosignal>=1.1.2 in /usr/local/lib/python3.10/dist-packages (from aiohttp<4.0.0,>=3.8.3->langchain<0.2.0,>=0.1.12->langchain_experimental) (1.3.1)\n",
            "Requirement already satisfied: attrs>=17.3.0 in /usr/local/lib/python3.10/dist-packages (from aiohttp<4.0.0,>=3.8.3->langchain<0.2.0,>=0.1.12->langchain_experimental) (23.2.0)\n",
            "Requirement already satisfied: frozenlist>=1.1.1 in /usr/local/lib/python3.10/dist-packages (from aiohttp<4.0.0,>=3.8.3->langchain<0.2.0,>=0.1.12->langchain_experimental) (1.4.1)\n",
            "Requirement already satisfied: multidict<7.0,>=4.5 in /usr/local/lib/python3.10/dist-packages (from aiohttp<4.0.0,>=3.8.3->langchain<0.2.0,>=0.1.12->langchain_experimental) (6.0.5)\n",
            "Requirement already satisfied: yarl<2.0,>=1.0 in /usr/local/lib/python3.10/dist-packages (from aiohttp<4.0.0,>=3.8.3->langchain<0.2.0,>=0.1.12->langchain_experimental) (1.9.4)\n",
            "Requirement already satisfied: idna>=2.8 in /usr/local/lib/python3.10/dist-packages (from anyio<5,>=3->langchain-core<0.2.0,>=0.1.31->langchain_experimental) (3.6)\n",
            "Requirement already satisfied: sniffio>=1.1 in /usr/local/lib/python3.10/dist-packages (from anyio<5,>=3->langchain-core<0.2.0,>=0.1.31->langchain_experimental) (1.3.1)\n",
            "Requirement already satisfied: exceptiongroup in /usr/local/lib/python3.10/dist-packages (from anyio<5,>=3->langchain-core<0.2.0,>=0.1.31->langchain_experimental) (1.2.0)\n",
            "Requirement already satisfied: marshmallow<4.0.0,>=3.18.0 in /usr/local/lib/python3.10/dist-packages (from dataclasses-json<0.7,>=0.5.7->langchain<0.2.0,>=0.1.12->langchain_experimental) (3.21.1)\n",
            "Requirement already satisfied: typing-inspect<1,>=0.4.0 in /usr/local/lib/python3.10/dist-packages (from dataclasses-json<0.7,>=0.5.7->langchain<0.2.0,>=0.1.12->langchain_experimental) (0.9.0)\n",
            "Requirement already satisfied: jsonpointer>=1.9 in /usr/local/lib/python3.10/dist-packages (from jsonpatch<2.0,>=1.33->langchain<0.2.0,>=0.1.12->langchain_experimental) (2.4)\n",
            "Requirement already satisfied: orjson<4.0.0,>=3.9.14 in /usr/local/lib/python3.10/dist-packages (from langsmith<0.2.0,>=0.1.17->langchain<0.2.0,>=0.1.12->langchain_experimental) (3.9.15)\n",
            "Requirement already satisfied: annotated-types>=0.4.0 in /usr/local/lib/python3.10/dist-packages (from pydantic<3,>=1->langchain<0.2.0,>=0.1.12->langchain_experimental) (0.6.0)\n",
            "Requirement already satisfied: pydantic-core==2.16.3 in /usr/local/lib/python3.10/dist-packages (from pydantic<3,>=1->langchain<0.2.0,>=0.1.12->langchain_experimental) (2.16.3)\n",
            "Requirement already satisfied: typing-extensions>=4.6.1 in /usr/local/lib/python3.10/dist-packages (from pydantic<3,>=1->langchain<0.2.0,>=0.1.12->langchain_experimental) (4.10.0)\n",
            "Requirement already satisfied: charset-normalizer<4,>=2 in /usr/local/lib/python3.10/dist-packages (from requests<3,>=2->langchain<0.2.0,>=0.1.12->langchain_experimental) (3.3.2)\n",
            "Requirement already satisfied: urllib3<3,>=1.21.1 in /usr/local/lib/python3.10/dist-packages (from requests<3,>=2->langchain<0.2.0,>=0.1.12->langchain_experimental) (2.0.7)\n",
            "Requirement already satisfied: certifi>=2017.4.17 in /usr/local/lib/python3.10/dist-packages (from requests<3,>=2->langchain<0.2.0,>=0.1.12->langchain_experimental) (2024.2.2)\n",
            "Requirement already satisfied: greenlet!=0.4.17 in /usr/local/lib/python3.10/dist-packages (from SQLAlchemy<3,>=1.4->langchain<0.2.0,>=0.1.12->langchain_experimental) (3.0.3)\n",
            "Requirement already satisfied: mypy-extensions>=0.3.0 in /usr/local/lib/python3.10/dist-packages (from typing-inspect<1,>=0.4.0->dataclasses-json<0.7,>=0.5.7->langchain<0.2.0,>=0.1.12->langchain_experimental) (1.0.0)\n",
            "Installing collected packages: langchain_experimental\n",
            "Successfully installed langchain_experimental-0.0.54\n"
          ]
        }
      ]
    },
    {
      "cell_type": "code",
      "source": [
        "plc = PALChain.from_math_prompt(llm=llm_openai, verbose=True)\n",
        "plc.run(\"Add 2 and 3 and muliply it with 100\")"
      ],
      "metadata": {
        "colab": {
          "base_uri": "https://localhost:8080/",
          "height": 191
        },
        "id": "h7-Bgg_0I4Fn",
        "outputId": "bf3407b9-b1cc-4ff1-f437-d8b4cd11f3a9"
      },
      "execution_count": null,
      "outputs": [
        {
          "output_type": "stream",
          "name": "stdout",
          "text": [
            "\n",
            "\n",
            "\u001b[1m> Entering new PALChain chain...\u001b[0m\n",
            "\u001b[32;1m\u001b[1;3mdef solution():\n",
            "    \"\"\"Add 2 and 3 and multiply it with 100\"\"\"\n",
            "    result = (2 + 3) * 100\n",
            "    return result\u001b[0m\n",
            "\n",
            "\u001b[1m> Finished chain.\u001b[0m\n"
          ]
        },
        {
          "output_type": "execute_result",
          "data": {
            "text/plain": [
              "'500'"
            ],
            "application/vnd.google.colaboratory.intrinsic+json": {
              "type": "string"
            }
          },
          "metadata": {},
          "execution_count": 30
        }
      ]
    },
    {
      "cell_type": "code",
      "source": [
        "print(plc.get_prompts)"
      ],
      "metadata": {
        "colab": {
          "base_uri": "https://localhost:8080/"
        },
        "id": "3D25Z6kPKF6B",
        "outputId": "9a4ed762-2227-4a7c-bfa9-bf43c1da76b7"
      },
      "execution_count": null,
      "outputs": [
        {
          "output_type": "stream",
          "name": "stdout",
          "text": [
            "<bound method Runnable.get_prompts of PALChain(verbose=True, llm_chain=LLMChain(prompt=PromptTemplate(input_variables=['question'], template='Q: Olivia has $23. She bought five bagels for $3 each. How much money does she have left?\\n\\n# solution in Python:\\n\\n\\ndef solution():\\n    \"\"\"Olivia has $23. She bought five bagels for $3 each. How much money does she have left?\"\"\"\\n    money_initial = 23\\n    bagels = 5\\n    bagel_cost = 3\\n    money_spent = bagels * bagel_cost\\n    money_left = money_initial - money_spent\\n    result = money_left\\n    return result\\n\\n\\n\\n\\n\\nQ: Michael had 58 golf balls. On tuesday, he lost 23 golf balls. On wednesday, he lost 2 more. How many golf balls did he have at the end of wednesday?\\n\\n# solution in Python:\\n\\n\\ndef solution():\\n    \"\"\"Michael had 58 golf balls. On tuesday, he lost 23 golf balls. On wednesday, he lost 2 more. How many golf balls did he have at the end of wednesday?\"\"\"\\n    golf_balls_initial = 58\\n    golf_balls_lost_tuesday = 23\\n    golf_balls_lost_wednesday = 2\\n    golf_balls_left = golf_balls_initial - golf_balls_lost_tuesday - golf_balls_lost_wednesday\\n    result = golf_balls_left\\n    return result\\n\\n\\n\\n\\n\\nQ: There were nine computers in the server room. Five more computers were installed each day, from monday to thursday. How many computers are now in the server room?\\n\\n# solution in Python:\\n\\n\\ndef solution():\\n    \"\"\"There were nine computers in the server room. Five more computers were installed each day, from monday to thursday. How many computers are now in the server room?\"\"\"\\n    computers_initial = 9\\n    computers_per_day = 5\\n    num_days = 4  # 4 days between monday and thursday\\n    computers_added = computers_per_day * num_days\\n    computers_total = computers_initial + computers_added\\n    result = computers_total\\n    return result\\n\\n\\n\\n\\n\\nQ: Shawn has five toys. For Christmas, he got two toys each from his mom and dad. How many toys does he have now?\\n\\n# solution in Python:\\n\\n\\ndef solution():\\n    \"\"\"Shawn has five toys. For Christmas, he got two toys each from his mom and dad. How many toys does he have now?\"\"\"\\n    toys_initial = 5\\n    mom_toys = 2\\n    dad_toys = 2\\n    total_received = mom_toys + dad_toys\\n    total_toys = toys_initial + total_received\\n    result = total_toys\\n    return result\\n\\n\\n\\n\\n\\nQ: Jason had 20 lollipops. He gave Denny some lollipops. Now Jason has 12 lollipops. How many lollipops did Jason give to Denny?\\n\\n# solution in Python:\\n\\n\\ndef solution():\\n    \"\"\"Jason had 20 lollipops. He gave Denny some lollipops. Now Jason has 12 lollipops. How many lollipops did Jason give to Denny?\"\"\"\\n    jason_lollipops_initial = 20\\n    jason_lollipops_after = 12\\n    denny_lollipops = jason_lollipops_initial - jason_lollipops_after\\n    result = denny_lollipops\\n    return result\\n\\n\\n\\n\\n\\nQ: Leah had 32 chocolates and her sister had 42. If they ate 35, how many pieces do they have left in total?\\n\\n# solution in Python:\\n\\n\\ndef solution():\\n    \"\"\"Leah had 32 chocolates and her sister had 42. If they ate 35, how many pieces do they have left in total?\"\"\"\\n    leah_chocolates = 32\\n    sister_chocolates = 42\\n    total_chocolates = leah_chocolates + sister_chocolates\\n    chocolates_eaten = 35\\n    chocolates_left = total_chocolates - chocolates_eaten\\n    result = chocolates_left\\n    return result\\n\\n\\n\\n\\n\\nQ: If there are 3 cars in the parking lot and 2 more cars arrive, how many cars are in the parking lot?\\n\\n# solution in Python:\\n\\n\\ndef solution():\\n    \"\"\"If there are 3 cars in the parking lot and 2 more cars arrive, how many cars are in the parking lot?\"\"\"\\n    cars_initial = 3\\n    cars_arrived = 2\\n    total_cars = cars_initial + cars_arrived\\n    result = total_cars\\n    return result\\n\\n\\n\\n\\n\\nQ: There are 15 trees in the grove. Grove workers will plant trees in the grove today. After they are done, there will be 21 trees. How many trees did the grove workers plant today?\\n\\n# solution in Python:\\n\\n\\ndef solution():\\n    \"\"\"There are 15 trees in the grove. Grove workers will plant trees in the grove today. After they are done, there will be 21 trees. How many trees did the grove workers plant today?\"\"\"\\n    trees_initial = 15\\n    trees_after = 21\\n    trees_added = trees_after - trees_initial\\n    result = trees_added\\n    return result\\n\\n\\n\\n\\n\\nQ: {question}\\n\\n# solution in Python:\\n\\n\\n'), llm=ChatOpenAI(client=<openai.resources.chat.completions.Completions object at 0x7ac136d6c880>, async_client=<openai.resources.chat.completions.AsyncCompletions object at 0x7ac136d6dd20>, openai_api_key=SecretStr('**********'), openai_proxy='')), code_validations=<langchain_experimental.pal_chain.base.PALValidation object at 0x7ac133b9af20>)>\n"
          ]
        }
      ]
    },
    {
      "cell_type": "markdown",
      "source": [
        "### SequentialChain"
      ],
      "metadata": {
        "id": "Ms6MsbTjLOEG"
      }
    },
    {
      "cell_type": "code",
      "source": [
        "classification_prompt_template_1 = \"\"\"\n",
        "    You are expert in classifying the input into categories.\n",
        "    There are 3 categories Politics, Sports, or Technology. You have to classify the input into any one of the category.\n",
        "\n",
        "    Input: {input_text_1}\n",
        "    \"\"\""
      ],
      "metadata": {
        "id": "IrWb_26aLP1I"
      },
      "execution_count": null,
      "outputs": []
    },
    {
      "cell_type": "code",
      "source": [
        "classification_prompt_1 = PromptTemplate(\n",
        "    template=classification_prompt_template_1,\n",
        "    input_variables=[\"input_text_1\"],\n",
        ")"
      ],
      "metadata": {
        "id": "WiBNs6XALqSe"
      },
      "execution_count": null,
      "outputs": []
    },
    {
      "cell_type": "code",
      "source": [
        "llmchain_for_classification = LLMChain(llm=llm_hf, prompt=classification_prompt_1, verbose=True)"
      ],
      "metadata": {
        "id": "i1bQGyBgL2Ci"
      },
      "execution_count": null,
      "outputs": []
    },
    {
      "cell_type": "code",
      "source": [
        "joke_gen_prompt_template = \"\"\"\n",
        "    You are expert in creating rap song from a text.\n",
        "    You will be given an input. You have create a rap song from that word.\n",
        "\n",
        "    Input: {input_text_2}\n",
        "    \"\"\""
      ],
      "metadata": {
        "id": "HQoM9I2nL9xR"
      },
      "execution_count": null,
      "outputs": []
    },
    {
      "cell_type": "code",
      "source": [
        "joke_gen_prompt = PromptTemplate(\n",
        "    template=joke_gen_prompt_template,\n",
        "    input_variables=[\"input_text_2\"],\n",
        ")"
      ],
      "metadata": {
        "id": "zeEL7aGPMfkF"
      },
      "execution_count": null,
      "outputs": []
    },
    {
      "cell_type": "code",
      "source": [
        "llmchain_for_joke = LLMChain(llm=llm_openai, prompt=joke_gen_prompt, verbose=True)"
      ],
      "metadata": {
        "id": "4-6PsBPkMq39"
      },
      "execution_count": null,
      "outputs": []
    },
    {
      "cell_type": "code",
      "source": [
        "from langchain.chains import SimpleSequentialChain\n",
        "\n",
        "overall_chain = SimpleSequentialChain(\n",
        "                  chains=[llmchain_for_classification, llmchain_for_joke],\n",
        "                  verbose=True)"
      ],
      "metadata": {
        "id": "mrsIB620NPbq"
      },
      "execution_count": null,
      "outputs": []
    },
    {
      "cell_type": "code",
      "source": [
        "overall_chain.invoke(\"New Bill Proposed to Reform Tax Policies\")"
      ],
      "metadata": {
        "colab": {
          "base_uri": "https://localhost:8080/"
        },
        "id": "FI0P1DY0NdRb",
        "outputId": "10f0cffe-ab82-4ef7-bf4f-b5caa7388f5a"
      },
      "execution_count": null,
      "outputs": [
        {
          "output_type": "stream",
          "name": "stdout",
          "text": [
            "\n",
            "\n",
            "\u001b[1m> Entering new SimpleSequentialChain chain...\u001b[0m\n",
            "\n",
            "\n",
            "\u001b[1m> Entering new LLMChain chain...\u001b[0m\n",
            "Prompt after formatting:\n",
            "\u001b[32;1m\u001b[1;3m\n",
            "    You are expert in classifying the input into categories.\n",
            "    There are 3 categories Politics, Sports, or Technology. You have to classify the input into any one of the category.\n",
            "\n",
            "    Input: New Bill Proposed to Reform Tax Policies\n",
            "    \u001b[0m\n",
            "\n",
            "\u001b[1m> Finished chain.\u001b[0m\n",
            "\u001b[36;1m\u001b[1;3mPolitics\u001b[0m\n",
            "\n",
            "\n",
            "\u001b[1m> Entering new LLMChain chain...\u001b[0m\n",
            "Prompt after formatting:\n",
            "\u001b[32;1m\u001b[1;3m\n",
            "    You are expert in creating rap song from a text.\n",
            "    You will be given an input. You have create a rap song from that word.\n",
            "\n",
            "    Input: Politics\n",
            "    \u001b[0m\n",
            "\n",
            "\u001b[1m> Finished chain.\u001b[0m\n",
            "\u001b[33;1m\u001b[1;3m(Verse 1)\n",
            "Yo, I'm spitting facts about politics\n",
            "It's a game of power, full of tricks\n",
            "Politicians talking, but do they really care?\n",
            "Or are they just in it for the power they wear?\n",
            "\n",
            "(Chorus)\n",
            "Politics, it's a dirty game\n",
            "Full of lies, deceit, and shame\n",
            "But we gotta stay informed, gotta stay aware\n",
            "So we can make a change, show we really care\n",
            "\n",
            "(Verse 2)\n",
            "Lobbyists, corruption, it's all the same\n",
            "Trying to push their agenda, playing the game\n",
            "But we the people, we hold the power\n",
            "We gotta stand up, make our voices louder\n",
            "\n",
            "(Chorus)\n",
            "Politics, it's a dirty game\n",
            "Full of lies, deceit, and shame\n",
            "But we gotta stay informed, gotta stay aware\n",
            "So we can make a change, show we really care\n",
            "\n",
            "(Bridge)\n",
            "Don't let them fool you, don't let them win\n",
            "We gotta fight back, let the truth begin\n",
            "We gotta rise up, make our voices heard\n",
            "Together we can make a change, spread the word\n",
            "\n",
            "(Chorus)\n",
            "Politics, it's a dirty game\n",
            "Full of lies, deceit, and shame\n",
            "But we gotta stay informed, gotta stay aware\n",
            "So we can make a change, show we really care\n",
            "\n",
            "(Outro)\n",
            "So let's come together, stand up tall\n",
            "And show the world that we won't fall\n",
            "Politics may be dirty, but we can clean it up\n",
            "Let's make a difference, let's rise above.\u001b[0m\n",
            "\n",
            "\u001b[1m> Finished chain.\u001b[0m\n"
          ]
        },
        {
          "output_type": "execute_result",
          "data": {
            "text/plain": [
              "{'input': 'New Bill Proposed to Reform Tax Policies',\n",
              " 'output': \"(Verse 1)\\nYo, I'm spitting facts about politics\\nIt's a game of power, full of tricks\\nPoliticians talking, but do they really care?\\nOr are they just in it for the power they wear?\\n\\n(Chorus)\\nPolitics, it's a dirty game\\nFull of lies, deceit, and shame\\nBut we gotta stay informed, gotta stay aware\\nSo we can make a change, show we really care\\n\\n(Verse 2)\\nLobbyists, corruption, it's all the same\\nTrying to push their agenda, playing the game\\nBut we the people, we hold the power\\nWe gotta stand up, make our voices louder\\n\\n(Chorus)\\nPolitics, it's a dirty game\\nFull of lies, deceit, and shame\\nBut we gotta stay informed, gotta stay aware\\nSo we can make a change, show we really care\\n\\n(Bridge)\\nDon't let them fool you, don't let them win\\nWe gotta fight back, let the truth begin\\nWe gotta rise up, make our voices heard\\nTogether we can make a change, spread the word\\n\\n(Chorus)\\nPolitics, it's a dirty game\\nFull of lies, deceit, and shame\\nBut we gotta stay informed, gotta stay aware\\nSo we can make a change, show we really care\\n\\n(Outro)\\nSo let's come together, stand up tall\\nAnd show the world that we won't fall\\nPolitics may be dirty, but we can clean it up\\nLet's make a difference, let's rise above.\"}"
            ]
          },
          "metadata": {},
          "execution_count": 43
        }
      ]
    },
    {
      "cell_type": "markdown",
      "source": [
        "### Agents"
      ],
      "metadata": {
        "id": "IvMp4EgmTIh2"
      }
    },
    {
      "cell_type": "code",
      "source": [
        "!pip install google-search-results\n",
        "%pip install --upgrade --quiet  youtube_search"
      ],
      "metadata": {
        "colab": {
          "base_uri": "https://localhost:8080/"
        },
        "id": "_sfnkGxbXAjn",
        "outputId": "d79c728c-6231-4da8-9d4b-3152b66eeab9"
      },
      "execution_count": null,
      "outputs": [
        {
          "output_type": "stream",
          "name": "stdout",
          "text": [
            "Collecting google-search-results\n",
            "  Downloading google_search_results-2.4.2.tar.gz (18 kB)\n",
            "  Preparing metadata (setup.py) ... \u001b[?25l\u001b[?25hdone\n",
            "Requirement already satisfied: requests in /usr/local/lib/python3.10/dist-packages (from google-search-results) (2.31.0)\n",
            "Requirement already satisfied: charset-normalizer<4,>=2 in /usr/local/lib/python3.10/dist-packages (from requests->google-search-results) (3.3.2)\n",
            "Requirement already satisfied: idna<4,>=2.5 in /usr/local/lib/python3.10/dist-packages (from requests->google-search-results) (3.6)\n",
            "Requirement already satisfied: urllib3<3,>=1.21.1 in /usr/local/lib/python3.10/dist-packages (from requests->google-search-results) (2.0.7)\n",
            "Requirement already satisfied: certifi>=2017.4.17 in /usr/local/lib/python3.10/dist-packages (from requests->google-search-results) (2024.2.2)\n",
            "Building wheels for collected packages: google-search-results\n",
            "  Building wheel for google-search-results (setup.py) ... \u001b[?25l\u001b[?25hdone\n",
            "  Created wheel for google-search-results: filename=google_search_results-2.4.2-py3-none-any.whl size=32004 sha256=21da76026db18fa9c3c01be5a988dd458313c6b11797d09c8f27947a7ad3d5bf\n",
            "  Stored in directory: /root/.cache/pip/wheels/d3/b2/c3/03302d12bb44a2cdff3c9371f31b72c0c4e84b8d2285eeac53\n",
            "Successfully built google-search-results\n",
            "Installing collected packages: google-search-results\n",
            "Successfully installed google-search-results-2.4.2\n"
          ]
        }
      ]
    },
    {
      "cell_type": "code",
      "source": [
        "from langchain_community.utilities import SerpAPIWrapper\n",
        "from langchain_community.tools import YouTubeSearchTool\n",
        "\n",
        "from langchain.agents import initialize_agent, load_tools, AgentType\n",
        "from langchain.tools import Tool"
      ],
      "metadata": {
        "id": "SZJqyiIXUNoj"
      },
      "execution_count": null,
      "outputs": []
    },
    {
      "cell_type": "code",
      "source": [
        "os.environ[\"SERPAPI_API_KEY\"] = \"XXXX\""
      ],
      "metadata": {
        "id": "NXpvUiBjWUFM"
      },
      "execution_count": null,
      "outputs": []
    },
    {
      "cell_type": "code",
      "source": [
        "search = SerpAPIWrapper() #google_search\n",
        "yt_tool = YouTubeSearchTool() #youtube_link"
      ],
      "metadata": {
        "id": "hxpTwiISVGIg"
      },
      "execution_count": null,
      "outputs": []
    },
    {
      "cell_type": "code",
      "source": [
        "rap_gen_prompt_template = \"\"\"\n",
        "    You are expert in creating rap song from a text.\n",
        "    You will be given an input. You have create a rap song from that word.\n",
        "\n",
        "    Input: {input_text_2}\n",
        "    \"\"\""
      ],
      "metadata": {
        "id": "_1l8QEVcaCbO"
      },
      "execution_count": null,
      "outputs": []
    },
    {
      "cell_type": "code",
      "source": [
        "rap_gen_prompt = PromptTemplate(\n",
        "    template=rap_gen_prompt_template,\n",
        "    input_variables=[\"input_text_2\"],\n",
        ")"
      ],
      "metadata": {
        "id": "9IVgSRIyaORU"
      },
      "execution_count": null,
      "outputs": []
    },
    {
      "cell_type": "code",
      "source": [
        "llmchain_for_rap = LLMChain(llm=llm_openai, prompt=rap_gen_prompt, verbose=True)"
      ],
      "metadata": {
        "id": "gBR_0xaLeHf9"
      },
      "execution_count": null,
      "outputs": []
    },
    {
      "cell_type": "code",
      "source": [
        "tools = [\n",
        "    Tool(\n",
        "\t    name=\"Search\",\n",
        "\t    func=search.run,\n",
        "\t    description=\"useful for when you need to perform a google search and answer some questions.\"\n",
        "\t),\n",
        "\tTool(\n",
        "\t    name=\"YT_video\",\n",
        "\t    func=yt_tool.run,\n",
        "\t    description=\"useful when you need to find youtube video link of any channel.\"\n",
        "\t),\n",
        "\tTool(\n",
        "\t    func=llmchain_for_rap.invoke,\n",
        "\t    name=\"rapGenerator\",\n",
        "\t    description=\"useful when you create a rap from some text.\"\n",
        "\t),\n",
        "]\n",
        "agent = initialize_agent(tools, llm_openai, agent=AgentType.OPENAI_FUNCTIONS, verbose=True)\n",
        "\n"
      ],
      "metadata": {
        "id": "pOj7nFs4ZEe_"
      },
      "execution_count": null,
      "outputs": []
    },
    {
      "cell_type": "code",
      "source": [
        "input = \"Can you make a rap w=using word laptop\"\n",
        "agent.run(input)"
      ],
      "metadata": {
        "colab": {
          "base_uri": "https://localhost:8080/",
          "height": 1000
        },
        "id": "Myj8n0dBduOi",
        "outputId": "684fcc7c-9706-4465-a151-ace3b4da52a0"
      },
      "execution_count": null,
      "outputs": [
        {
          "output_type": "stream",
          "name": "stdout",
          "text": [
            "\n",
            "\n",
            "\u001b[1m> Entering new AgentExecutor chain...\u001b[0m\n",
            "\u001b[32;1m\u001b[1;3m\n",
            "Invoking: `rapGenerator` with `laptop`\n",
            "\n",
            "\n",
            "\u001b[0m\n",
            "\n",
            "\u001b[1m> Entering new LLMChain chain...\u001b[0m\n",
            "Prompt after formatting:\n",
            "\u001b[32;1m\u001b[1;3m\n",
            "    You are expert in creating rap song from a text.\n",
            "    You will be given an input. You have create a rap song from that word.\n",
            "\n",
            "    Input: laptop\n",
            "    \u001b[0m\n",
            "\n",
            "\u001b[1m> Finished chain.\u001b[0m\n",
            "\u001b[38;5;200m\u001b[1;3m{'input_text_2': 'laptop', 'text': \"(Verse 1)\\nYo, I'm typing on my laptop, feeling so fly\\nGot my fingers dancing, feeling so high\\nFrom work to play, this device never stops\\nIt's my trusty companion, never gonna flop\\n\\n(Chorus)\\nLaptop, laptop, you're my favorite tool\\nHelping me stay connected, never acting a fool\\nFrom emails to music, you do it all\\nLaptop, oh laptop, you never let me fall\\n\\n(Verse 2)\\nI carry you with me wherever I go\\nFrom coffee shops to planes, you steal the show\\nWith your sleek design and powerful speed\\nYou're the one thing I know I'll always need\\n\\n(Chorus)\\nLaptop, laptop, you're my favorite tool\\nHelping me stay connected, never acting a fool\\nFrom emails to music, you do it all\\nLaptop, oh laptop, you never let me fall\\n\\n(Bridge)\\nYou're more than just a machine\\nYou're a part of my routine\\nFrom work to play, day to night\\nYou're always there, shining so bright\\n\\n(Chorus)\\nLaptop, laptop, you're my favorite tool\\nHelping me stay connected, never acting a fool\\nFrom emails to music, you do it all\\nLaptop, oh laptop, you never let me fall\\n\\n(Outro)\\nSo here's to you, my trusty friend\\nWith you by my side, I know I'll never bend\\nLaptop, oh laptop, you're the best\\nYou passed the test, now let's take a rest\"}\u001b[0m\u001b[32;1m\u001b[1;3mHere's a rap using the word \"laptop\":\n",
            "\n",
            "(Verse 1)\n",
            "Yo, I'm typing on my laptop, feeling so fly\n",
            "Got my fingers dancing, feeling so high\n",
            "From work to play, this device never stops\n",
            "It's my trusty companion, never gonna flop\n",
            "\n",
            "(Chorus)\n",
            "Laptop, laptop, you're my favorite tool\n",
            "Helping me stay connected, never acting a fool\n",
            "From emails to music, you do it all\n",
            "Laptop, oh laptop, you never let me fall\n",
            "\n",
            "(Verse 2)\n",
            "I carry you with me wherever I go\n",
            "From coffee shops to planes, you steal the show\n",
            "With your sleek design and powerful speed\n",
            "You're the one thing I know I'll always need\n",
            "\n",
            "(Chorus)\n",
            "Laptop, laptop, you're my favorite tool\n",
            "Helping me stay connected, never acting a fool\n",
            "From emails to music, you do it all\n",
            "Laptop, oh laptop, you never let me fall\n",
            "\n",
            "(Bridge)\n",
            "You're more than just a machine\n",
            "You're a part of my routine\n",
            "From work to play, day to night\n",
            "You're always there, shining so bright\n",
            "\n",
            "(Chorus)\n",
            "Laptop, laptop, you're my favorite tool\n",
            "Helping me stay connected, never acting a fool\n",
            "From emails to music, you do it all\n",
            "Laptop, oh laptop, you never let me fall\n",
            "\n",
            "(Outro)\n",
            "So here's to you, my trusty friend\n",
            "With you by my side, I know I'll never bend\n",
            "Laptop, oh laptop, you're the best\n",
            "You passed the test, now let's take a rest\u001b[0m\n",
            "\n",
            "\u001b[1m> Finished chain.\u001b[0m\n"
          ]
        },
        {
          "output_type": "execute_result",
          "data": {
            "text/plain": [
              "'Here\\'s a rap using the word \"laptop\":\\n\\n(Verse 1)\\nYo, I\\'m typing on my laptop, feeling so fly\\nGot my fingers dancing, feeling so high\\nFrom work to play, this device never stops\\nIt\\'s my trusty companion, never gonna flop\\n\\n(Chorus)\\nLaptop, laptop, you\\'re my favorite tool\\nHelping me stay connected, never acting a fool\\nFrom emails to music, you do it all\\nLaptop, oh laptop, you never let me fall\\n\\n(Verse 2)\\nI carry you with me wherever I go\\nFrom coffee shops to planes, you steal the show\\nWith your sleek design and powerful speed\\nYou\\'re the one thing I know I\\'ll always need\\n\\n(Chorus)\\nLaptop, laptop, you\\'re my favorite tool\\nHelping me stay connected, never acting a fool\\nFrom emails to music, you do it all\\nLaptop, oh laptop, you never let me fall\\n\\n(Bridge)\\nYou\\'re more than just a machine\\nYou\\'re a part of my routine\\nFrom work to play, day to night\\nYou\\'re always there, shining so bright\\n\\n(Chorus)\\nLaptop, laptop, you\\'re my favorite tool\\nHelping me stay connected, never acting a fool\\nFrom emails to music, you do it all\\nLaptop, oh laptop, you never let me fall\\n\\n(Outro)\\nSo here\\'s to you, my trusty friend\\nWith you by my side, I know I\\'ll never bend\\nLaptop, oh laptop, you\\'re the best\\nYou passed the test, now let\\'s take a rest'"
            ],
            "application/vnd.google.colaboratory.intrinsic+json": {
              "type": "string"
            }
          },
          "metadata": {},
          "execution_count": 40
        }
      ]
    },
    {
      "cell_type": "code",
      "source": [
        "agent.run(\"Can you give me youtube video link of channel named MrBeast\")"
      ],
      "metadata": {
        "colab": {
          "base_uri": "https://localhost:8080/",
          "height": 281
        },
        "id": "IIQxYr5Dg3iZ",
        "outputId": "0a26a7a1-4a8c-44ae-8620-a67939950824"
      },
      "execution_count": null,
      "outputs": [
        {
          "output_type": "stream",
          "name": "stdout",
          "text": [
            "\n",
            "\n",
            "\u001b[1m> Entering new AgentExecutor chain...\u001b[0m\n",
            "\u001b[32;1m\u001b[1;3m\n",
            "Invoking: `YT_video` with `MrBeast`\n",
            "\n",
            "\n",
            "\u001b[0m\u001b[33;1m\u001b[1;3m['https://www.youtube.com/watch?v=jaRfBM7ESfc&pp=ygUHTXJCZWFzdA%3D%3D', 'https://www.youtube.com/watch?v=krsBRQbOPQ4&pp=ygUHTXJCZWFzdA%3D%3D']\u001b[0m\u001b[32;1m\u001b[1;3mHere are the YouTube video links of the channel named MrBeast:\n",
            "1. [Video 1](https://www.youtube.com/watch?v=jaRfBM7ESfc&pp=ygUHTXJCZWFzdA%3D%3D)\n",
            "2. [Video 2](https://www.youtube.com/watch?v=krsBRQbOPQ4&pp=ygUHTXJCZWFzdA%3D%3D)\u001b[0m\n",
            "\n",
            "\u001b[1m> Finished chain.\u001b[0m\n"
          ]
        },
        {
          "output_type": "execute_result",
          "data": {
            "text/plain": [
              "'Here are the YouTube video links of the channel named MrBeast:\\n1. [Video 1](https://www.youtube.com/watch?v=jaRfBM7ESfc&pp=ygUHTXJCZWFzdA%3D%3D)\\n2. [Video 2](https://www.youtube.com/watch?v=krsBRQbOPQ4&pp=ygUHTXJCZWFzdA%3D%3D)'"
            ],
            "application/vnd.google.colaboratory.intrinsic+json": {
              "type": "string"
            }
          },
          "metadata": {},
          "execution_count": 41
        }
      ]
    },
    {
      "cell_type": "code",
      "source": [
        "agent.run(\"Can you tell me capital of Japan\")"
      ],
      "metadata": {
        "colab": {
          "base_uri": "https://localhost:8080/",
          "height": 209
        },
        "id": "dMual5tGhLma",
        "outputId": "1f2af581-2377-4bd3-d92d-4bb3d9385c3d"
      },
      "execution_count": null,
      "outputs": [
        {
          "output_type": "stream",
          "name": "stdout",
          "text": [
            "\n",
            "\n",
            "\u001b[1m> Entering new AgentExecutor chain...\u001b[0m\n",
            "\u001b[32;1m\u001b[1;3m\n",
            "Invoking: `Search` with `capital of Japan`\n",
            "\n",
            "\n",
            "\u001b[0m\u001b[36;1m\u001b[1;3mTokyo\u001b[0m\u001b[32;1m\u001b[1;3mThe capital of Japan is Tokyo.\u001b[0m\n",
            "\n",
            "\u001b[1m> Finished chain.\u001b[0m\n"
          ]
        },
        {
          "output_type": "execute_result",
          "data": {
            "text/plain": [
              "'The capital of Japan is Tokyo.'"
            ],
            "application/vnd.google.colaboratory.intrinsic+json": {
              "type": "string"
            }
          },
          "metadata": {},
          "execution_count": 42
        }
      ]
    },
    {
      "cell_type": "markdown",
      "source": [
        "### Why we need memory?"
      ],
      "metadata": {
        "id": "UGrBszpEJ_t2"
      }
    },
    {
      "cell_type": "code",
      "source": [
        "llm_openai.invoke(\"Hi Open AI I am a software developer and currently living in Mumbai\")"
      ],
      "metadata": {
        "colab": {
          "base_uri": "https://localhost:8080/"
        },
        "id": "eRuIlbEoKDEb",
        "outputId": "3fb12e60-ee7b-4fdc-e08a-7c9cac0bb7b3"
      },
      "execution_count": null,
      "outputs": [
        {
          "output_type": "execute_result",
          "data": {
            "text/plain": [
              "AIMessage(content=\"Hello! It's great to meet another software developer. How can I assist you today?\")"
            ]
          },
          "metadata": {},
          "execution_count": 8
        }
      ]
    },
    {
      "cell_type": "code",
      "source": [
        "llm_openai.invoke(\"In which city I am residing currently?\")"
      ],
      "metadata": {
        "colab": {
          "base_uri": "https://localhost:8080/"
        },
        "id": "nJkYrDiLKW2D",
        "outputId": "7a708421-d48d-4021-d24d-4d51e48f3ace"
      },
      "execution_count": null,
      "outputs": [
        {
          "output_type": "execute_result",
          "data": {
            "text/plain": [
              "AIMessage(content=\"I'm sorry, I do not have that information as I am an AI virtual assistant and do not have access to your personal details.\")"
            ]
          },
          "metadata": {},
          "execution_count": 9
        }
      ]
    },
    {
      "cell_type": "markdown",
      "source": [
        "### Conversation Buffer Memory"
      ],
      "metadata": {
        "id": "GEWREfqCLai2"
      }
    },
    {
      "cell_type": "code",
      "source": [
        "from langchain.chains import ConversationChain\n",
        "from langchain.chains.conversation.memory import ConversationBufferMemory\n",
        "\n",
        "convo = ConversationChain(\n",
        "    llm=llm_openai,\n",
        "    verbose=True,\n",
        "    memory=ConversationBufferMemory()\n",
        ")"
      ],
      "metadata": {
        "id": "EOJDUVj-LbtD"
      },
      "execution_count": null,
      "outputs": []
    },
    {
      "cell_type": "code",
      "source": [
        "print(convo.prompt.template)"
      ],
      "metadata": {
        "colab": {
          "base_uri": "https://localhost:8080/"
        },
        "id": "rzqEuvddLxDY",
        "outputId": "a3b835be-f957-41df-aa27-f40faddd7971"
      },
      "execution_count": null,
      "outputs": [
        {
          "output_type": "stream",
          "name": "stdout",
          "text": [
            "The following is a friendly conversation between a human and an AI. The AI is talkative and provides lots of specific details from its context. If the AI does not know the answer to a question, it truthfully says it does not know.\n",
            "\n",
            "Current conversation:\n",
            "{history}\n",
            "Human: {input}\n",
            "AI:\n"
          ]
        }
      ]
    },
    {
      "cell_type": "code",
      "source": [
        "convo.invoke(\"Hi Open AI I am a software developer and currently living in Mumbai\")"
      ],
      "metadata": {
        "colab": {
          "base_uri": "https://localhost:8080/"
        },
        "id": "z8bn2mwlL5T9",
        "outputId": "a8692708-e6b6-4751-a247-8bb13f0c7429"
      },
      "execution_count": null,
      "outputs": [
        {
          "output_type": "stream",
          "name": "stdout",
          "text": [
            "\n",
            "\n",
            "\u001b[1m> Entering new ConversationChain chain...\u001b[0m\n",
            "Prompt after formatting:\n",
            "\u001b[32;1m\u001b[1;3mThe following is a friendly conversation between a human and an AI. The AI is talkative and provides lots of specific details from its context. If the AI does not know the answer to a question, it truthfully says it does not know.\n",
            "\n",
            "Current conversation:\n",
            "\n",
            "Human: Hi Open AI I am a software developer and currently living in Mumbai\n",
            "AI:\u001b[0m\n",
            "\n",
            "\u001b[1m> Finished chain.\u001b[0m\n"
          ]
        },
        {
          "output_type": "execute_result",
          "data": {
            "text/plain": [
              "{'input': 'Hi Open AI I am a software developer and currently living in Mumbai',\n",
              " 'history': '',\n",
              " 'response': \"Hello! Nice to meet you. That's great to hear that you're a software developer. Mumbai is such a vibrant city with a booming tech scene. How long have you been living there?\"}"
            ]
          },
          "metadata": {},
          "execution_count": 17
        }
      ]
    },
    {
      "cell_type": "code",
      "source": [
        "convo.invoke(\"In which city I am residing currently?\")"
      ],
      "metadata": {
        "colab": {
          "base_uri": "https://localhost:8080/"
        },
        "id": "tvecgV_IMOy8",
        "outputId": "ba0f655b-02f6-43f7-c706-41ce17e6d0ea"
      },
      "execution_count": null,
      "outputs": [
        {
          "output_type": "stream",
          "name": "stdout",
          "text": [
            "\n",
            "\n",
            "\u001b[1m> Entering new ConversationChain chain...\u001b[0m\n",
            "Prompt after formatting:\n",
            "\u001b[32;1m\u001b[1;3mThe following is a friendly conversation between a human and an AI. The AI is talkative and provides lots of specific details from its context. If the AI does not know the answer to a question, it truthfully says it does not know.\n",
            "\n",
            "Current conversation:\n",
            "Human: Hi Open AI I am a software developer and currently living in Mumbai\n",
            "AI: Hello! Nice to meet you. That's great to hear that you're a software developer. Mumbai is such a vibrant city with a booming tech scene. How long have you been living there?\n",
            "Human: In which city I am residing currently?\n",
            "AI:\u001b[0m\n",
            "\n",
            "\u001b[1m> Finished chain.\u001b[0m\n"
          ]
        },
        {
          "output_type": "execute_result",
          "data": {
            "text/plain": [
              "{'input': 'In which city I am residing currently?',\n",
              " 'history': \"Human: Hi Open AI I am a software developer and currently living in Mumbai\\nAI: Hello! Nice to meet you. That's great to hear that you're a software developer. Mumbai is such a vibrant city with a booming tech scene. How long have you been living there?\",\n",
              " 'response': 'You mentioned earlier that you are currently living in Mumbai.'}"
            ]
          },
          "metadata": {},
          "execution_count": 18
        }
      ]
    },
    {
      "cell_type": "markdown",
      "source": [
        "### Conversation Buffer Window"
      ],
      "metadata": {
        "id": "WoFZKKkNMro6"
      }
    },
    {
      "cell_type": "code",
      "source": [
        "from langchain.chains.conversation.memory import ConversationBufferWindowMemory\n",
        "\n",
        "convo_buffer_window = ConversationChain(\n",
        "    llm=llm_openai,\n",
        "    verbose=True,\n",
        "    memory=ConversationBufferWindowMemory(k=2)\n",
        ")"
      ],
      "metadata": {
        "id": "MfbAhZQoMzAd"
      },
      "execution_count": null,
      "outputs": []
    },
    {
      "cell_type": "code",
      "source": [
        "convo_buffer_window.invoke(\"Hi Open AI I am a software developer and currently living in Mumbai\")"
      ],
      "metadata": {
        "colab": {
          "base_uri": "https://localhost:8080/"
        },
        "id": "GEcUjrISM8Ra",
        "outputId": "0796dcff-71fd-43b2-ac3e-a5318b1e5fc2"
      },
      "execution_count": null,
      "outputs": [
        {
          "output_type": "stream",
          "name": "stdout",
          "text": [
            "\n",
            "\n",
            "\u001b[1m> Entering new ConversationChain chain...\u001b[0m\n",
            "Prompt after formatting:\n",
            "\u001b[32;1m\u001b[1;3mThe following is a friendly conversation between a human and an AI. The AI is talkative and provides lots of specific details from its context. If the AI does not know the answer to a question, it truthfully says it does not know.\n",
            "\n",
            "Current conversation:\n",
            "\n",
            "Human: Hi Open AI I am a software developer and currently living in Mumbai\n",
            "AI:\u001b[0m\n",
            "\n",
            "\u001b[1m> Finished chain.\u001b[0m\n"
          ]
        },
        {
          "output_type": "execute_result",
          "data": {
            "text/plain": [
              "{'input': 'Hi Open AI I am a software developer and currently living in Mumbai',\n",
              " 'history': '',\n",
              " 'response': \"Hello! It's nice to meet you, a software developer living in Mumbai. How can I assist you today?\"}"
            ]
          },
          "metadata": {},
          "execution_count": 29
        }
      ]
    },
    {
      "cell_type": "code",
      "source": [
        "convo_buffer_window.invoke(\"I like to play badmintion\")"
      ],
      "metadata": {
        "colab": {
          "base_uri": "https://localhost:8080/"
        },
        "id": "Nj-cB_hdNF_A",
        "outputId": "045cde45-2220-4ec6-865a-f9e0ad4cb926"
      },
      "execution_count": null,
      "outputs": [
        {
          "output_type": "stream",
          "name": "stdout",
          "text": [
            "\n",
            "\n",
            "\u001b[1m> Entering new ConversationChain chain...\u001b[0m\n",
            "Prompt after formatting:\n",
            "\u001b[32;1m\u001b[1;3mThe following is a friendly conversation between a human and an AI. The AI is talkative and provides lots of specific details from its context. If the AI does not know the answer to a question, it truthfully says it does not know.\n",
            "\n",
            "Current conversation:\n",
            "Human: Hi Open AI I am a software developer and currently living in Mumbai\n",
            "AI: Hello! It's nice to meet you, a software developer living in Mumbai. How can I assist you today?\n",
            "Human: I like to play badmintion\n",
            "AI:\u001b[0m\n",
            "\n",
            "\u001b[1m> Finished chain.\u001b[0m\n"
          ]
        },
        {
          "output_type": "execute_result",
          "data": {
            "text/plain": [
              "{'input': 'I like to play badmintion',\n",
              " 'history': \"Human: Hi Open AI I am a software developer and currently living in Mumbai\\nAI: Hello! It's nice to meet you, a software developer living in Mumbai. How can I assist you today?\",\n",
              " 'response': \"That's great to hear! Badminton is a fun and exciting sport. Do you play casually with friends or do you participate in any organized leagues or tournaments in Mumbai?\"}"
            ]
          },
          "metadata": {},
          "execution_count": 30
        }
      ]
    },
    {
      "cell_type": "code",
      "source": [
        "convo_buffer_window.invoke(\"I like to eat fries.\")"
      ],
      "metadata": {
        "colab": {
          "base_uri": "https://localhost:8080/"
        },
        "id": "q1jChOFCNLy9",
        "outputId": "fe99e7ec-8848-4318-a8c6-2ef7a2d04a41"
      },
      "execution_count": null,
      "outputs": [
        {
          "output_type": "stream",
          "name": "stdout",
          "text": [
            "\n",
            "\n",
            "\u001b[1m> Entering new ConversationChain chain...\u001b[0m\n",
            "Prompt after formatting:\n",
            "\u001b[32;1m\u001b[1;3mThe following is a friendly conversation between a human and an AI. The AI is talkative and provides lots of specific details from its context. If the AI does not know the answer to a question, it truthfully says it does not know.\n",
            "\n",
            "Current conversation:\n",
            "Human: Hi Open AI I am a software developer and currently living in Mumbai\n",
            "AI: Hello! It's nice to meet you, a software developer living in Mumbai. How can I assist you today?\n",
            "Human: I like to play badmintion\n",
            "AI: That's great to hear! Badminton is a fun and exciting sport. Do you play casually with friends or do you participate in any organized leagues or tournaments in Mumbai?\n",
            "Human: I like to eat fries.\n",
            "AI:\u001b[0m\n",
            "\n",
            "\u001b[1m> Finished chain.\u001b[0m\n"
          ]
        },
        {
          "output_type": "execute_result",
          "data": {
            "text/plain": [
              "{'input': 'I like to eat fries.',\n",
              " 'history': \"Human: Hi Open AI I am a software developer and currently living in Mumbai\\nAI: Hello! It's nice to meet you, a software developer living in Mumbai. How can I assist you today?\\nHuman: I like to play badmintion\\nAI: That's great to hear! Badminton is a fun and exciting sport. Do you play casually with friends or do you participate in any organized leagues or tournaments in Mumbai?\",\n",
              " 'response': 'Fries are a delicious snack! There are many places in Mumbai where you can find tasty fries. Do you have a favorite spot to get fries from, or do you prefer to make them at home?'}"
            ]
          },
          "metadata": {},
          "execution_count": 31
        }
      ]
    },
    {
      "cell_type": "code",
      "source": [
        "convo_buffer_window.invoke(\"I like to watch cricket quite often in my spare time\")"
      ],
      "metadata": {
        "colab": {
          "base_uri": "https://localhost:8080/"
        },
        "id": "7fVzqYX8NXsh",
        "outputId": "cf5b30ab-c8f6-4ac3-eea0-a57ea4781d66"
      },
      "execution_count": null,
      "outputs": [
        {
          "output_type": "stream",
          "name": "stdout",
          "text": [
            "\n",
            "\n",
            "\u001b[1m> Entering new ConversationChain chain...\u001b[0m\n",
            "Prompt after formatting:\n",
            "\u001b[32;1m\u001b[1;3mThe following is a friendly conversation between a human and an AI. The AI is talkative and provides lots of specific details from its context. If the AI does not know the answer to a question, it truthfully says it does not know.\n",
            "\n",
            "Current conversation:\n",
            "Human: I like to play badmintion\n",
            "AI: That's great to hear! Badminton is a fun and exciting sport. Do you play casually with friends or do you participate in any organized leagues or tournaments in Mumbai?\n",
            "Human: I like to eat fries.\n",
            "AI: Fries are a delicious snack! There are many places in Mumbai where you can find tasty fries. Do you have a favorite spot to get fries from, or do you prefer to make them at home?\n",
            "Human: I like to watch cricket quite often in my spare time\n",
            "AI:\u001b[0m\n",
            "\n",
            "\u001b[1m> Finished chain.\u001b[0m\n"
          ]
        },
        {
          "output_type": "execute_result",
          "data": {
            "text/plain": [
              "{'input': 'I like to watch cricket quite often in my spare time',\n",
              " 'history': \"Human: I like to play badmintion\\nAI: That's great to hear! Badminton is a fun and exciting sport. Do you play casually with friends or do you participate in any organized leagues or tournaments in Mumbai?\\nHuman: I like to eat fries.\\nAI: Fries are a delicious snack! There are many places in Mumbai where you can find tasty fries. Do you have a favorite spot to get fries from, or do you prefer to make them at home?\",\n",
              " 'response': \"Cricket is a popular sport in India, so I'm not surprised that you enjoy watching it in your spare time. There are so many exciting matches and tournaments to follow! Do you have a favorite team or player that you like to watch?\"}"
            ]
          },
          "metadata": {},
          "execution_count": 32
        }
      ]
    },
    {
      "cell_type": "code",
      "source": [
        "convo_buffer_window.invoke(\"What i like to play?\")"
      ],
      "metadata": {
        "colab": {
          "base_uri": "https://localhost:8080/"
        },
        "id": "Q7Tta6MANfvz",
        "outputId": "70bdf85a-3ae7-4889-9824-a503af72b55e"
      },
      "execution_count": null,
      "outputs": [
        {
          "output_type": "stream",
          "name": "stdout",
          "text": [
            "\n",
            "\n",
            "\u001b[1m> Entering new ConversationChain chain...\u001b[0m\n",
            "Prompt after formatting:\n",
            "\u001b[32;1m\u001b[1;3mThe following is a friendly conversation between a human and an AI. The AI is talkative and provides lots of specific details from its context. If the AI does not know the answer to a question, it truthfully says it does not know.\n",
            "\n",
            "Current conversation:\n",
            "Human: I like to eat fries.\n",
            "AI: Fries are a delicious snack! There are many places in Mumbai where you can find tasty fries. Do you have a favorite spot to get fries from, or do you prefer to make them at home?\n",
            "Human: I like to watch cricket quite often in my spare time\n",
            "AI: Cricket is a popular sport in India, so I'm not surprised that you enjoy watching it in your spare time. There are so many exciting matches and tournaments to follow! Do you have a favorite team or player that you like to watch?\n",
            "Human: What i like to play?\n",
            "AI:\u001b[0m\n",
            "\n",
            "\u001b[1m> Finished chain.\u001b[0m\n"
          ]
        },
        {
          "output_type": "execute_result",
          "data": {
            "text/plain": [
              "{'input': 'What i like to play?',\n",
              " 'history': \"Human: I like to eat fries.\\nAI: Fries are a delicious snack! There are many places in Mumbai where you can find tasty fries. Do you have a favorite spot to get fries from, or do you prefer to make them at home?\\nHuman: I like to watch cricket quite often in my spare time\\nAI: Cricket is a popular sport in India, so I'm not surprised that you enjoy watching it in your spare time. There are so many exciting matches and tournaments to follow! Do you have a favorite team or player that you like to watch?\",\n",
              " 'response': \"I'm not sure what you like to play. Could you provide more details or context so I can give you a more accurate response?\"}"
            ]
          },
          "metadata": {},
          "execution_count": 33
        }
      ]
    },
    {
      "cell_type": "markdown",
      "source": [
        "### Conversation Knowledge Graph"
      ],
      "metadata": {
        "id": "nNQ8XqdqOpKs"
      }
    },
    {
      "cell_type": "code",
      "source": [
        "from langchain.memory import ConversationKGMemory"
      ],
      "metadata": {
        "id": "yqeNRe8eP_U5"
      },
      "execution_count": null,
      "outputs": []
    },
    {
      "cell_type": "code",
      "source": [
        "kg_template = \"\"\"The following is a friendly conversation between a human and an AI. The AI is talkative and provides lots of specific details from its context.\n",
        "If the AI does not know the answer to a question, it truthfully says it does not know. The AI ONLY uses information contained in the \"Relevant Information\" section and does not hallucinate.\n",
        "\n",
        "Relevant Information:\n",
        "\n",
        "{history}\n",
        "\n",
        "Conversation:\n",
        "Human: {input}\n",
        "AI:\"\"\""
      ],
      "metadata": {
        "id": "IWW2zzVpOsOb"
      },
      "execution_count": null,
      "outputs": []
    },
    {
      "cell_type": "code",
      "source": [
        "kg_prompt = PromptTemplate(input_variables=[\"history\", \"input\"], template=kg_template)\n",
        "conversation_with_kg = ConversationChain(\n",
        "    llm=llm_openai, verbose=True, prompt=kg_prompt, memory=ConversationKGMemory(llm=llm_openai)\n",
        ")"
      ],
      "metadata": {
        "id": "MprsJNqiP3NZ"
      },
      "execution_count": null,
      "outputs": []
    },
    {
      "cell_type": "code",
      "source": [
        "conversation_with_kg.invoke(\"Hi, what's up?\")"
      ],
      "metadata": {
        "colab": {
          "base_uri": "https://localhost:8080/"
        },
        "id": "WU2VU2I1QCn2",
        "outputId": "a41699e9-8b6b-4bf5-af32-3fc7523b2390"
      },
      "execution_count": null,
      "outputs": [
        {
          "output_type": "stream",
          "name": "stdout",
          "text": [
            "\n",
            "\n",
            "\u001b[1m> Entering new ConversationChain chain...\u001b[0m\n",
            "Prompt after formatting:\n",
            "\u001b[32;1m\u001b[1;3mThe following is a friendly conversation between a human and an AI. The AI is talkative and provides lots of specific details from its context. \n",
            "If the AI does not know the answer to a question, it truthfully says it does not know. The AI ONLY uses information contained in the \"Relevant Information\" section and does not hallucinate.\n",
            "\n",
            "Relevant Information:\n",
            "\n",
            "\n",
            "\n",
            "Conversation:\n",
            "Human: Hi, what's up?\n",
            "AI:\u001b[0m\n",
            "\n",
            "\u001b[1m> Finished chain.\u001b[0m\n"
          ]
        },
        {
          "output_type": "execute_result",
          "data": {
            "text/plain": [
              "{'input': \"Hi, what's up?\",\n",
              " 'history': '',\n",
              " 'response': \"Hello! I'm doing well, thank you for asking. I am currently processing information and ready to assist you with any questions you may have. How can I help you today?\"}"
            ]
          },
          "metadata": {},
          "execution_count": 39
        }
      ]
    },
    {
      "cell_type": "code",
      "source": [
        "conversation_with_kg.invoke(\n",
        "    \"My name is James and I'm helping Will. He's an engineer.\"\n",
        ")"
      ],
      "metadata": {
        "colab": {
          "base_uri": "https://localhost:8080/"
        },
        "id": "2JahcihtQLSC",
        "outputId": "0d8f22b8-3da2-4e0f-8fe7-d9605d1e0536"
      },
      "execution_count": null,
      "outputs": [
        {
          "output_type": "stream",
          "name": "stdout",
          "text": [
            "\n",
            "\n",
            "\u001b[1m> Entering new ConversationChain chain...\u001b[0m\n",
            "Prompt after formatting:\n",
            "\u001b[32;1m\u001b[1;3mThe following is a friendly conversation between a human and an AI. The AI is talkative and provides lots of specific details from its context. \n",
            "If the AI does not know the answer to a question, it truthfully says it does not know. The AI ONLY uses information contained in the \"Relevant Information\" section and does not hallucinate.\n",
            "\n",
            "Relevant Information:\n",
            "\n",
            "\n",
            "\n",
            "Conversation:\n",
            "Human: My name is James and I'm helping Will. He's an engineer.\n",
            "AI:\u001b[0m\n",
            "\n",
            "\u001b[1m> Finished chain.\u001b[0m\n"
          ]
        },
        {
          "output_type": "execute_result",
          "data": {
            "text/plain": [
              "{'input': \"My name is James and I'm helping Will. He's an engineer.\",\n",
              " 'history': '',\n",
              " 'response': \"Hello James! It's nice to meet you. How can I assist you with helping Will, the engineer?\"}"
            ]
          },
          "metadata": {},
          "execution_count": 40
        }
      ]
    },
    {
      "cell_type": "code",
      "source": [
        "conversation_with_kg.invoke(\"What do you know about Will?\")"
      ],
      "metadata": {
        "colab": {
          "base_uri": "https://localhost:8080/"
        },
        "id": "6MEYywQNQWkg",
        "outputId": "a58992a2-dfeb-4573-a36f-412659e5f2eb"
      },
      "execution_count": null,
      "outputs": [
        {
          "output_type": "stream",
          "name": "stdout",
          "text": [
            "\n",
            "\n",
            "\u001b[1m> Entering new ConversationChain chain...\u001b[0m\n",
            "Prompt after formatting:\n",
            "\u001b[32;1m\u001b[1;3mThe following is a friendly conversation between a human and an AI. The AI is talkative and provides lots of specific details from its context. \n",
            "If the AI does not know the answer to a question, it truthfully says it does not know. The AI ONLY uses information contained in the \"Relevant Information\" section and does not hallucinate.\n",
            "\n",
            "Relevant Information:\n",
            "\n",
            "On Will: Will is engineer.\n",
            "\n",
            "Conversation:\n",
            "Human: What do you know about Will?\n",
            "AI:\u001b[0m\n",
            "\n",
            "\u001b[1m> Finished chain.\u001b[0m\n"
          ]
        },
        {
          "output_type": "execute_result",
          "data": {
            "text/plain": [
              "{'input': 'What do you know about Will?',\n",
              " 'history': 'On Will: Will is engineer.',\n",
              " 'response': 'Will is an engineer.'}"
            ]
          },
          "metadata": {},
          "execution_count": 41
        }
      ]
    },
    {
      "cell_type": "markdown",
      "source": [
        "### Embeddings"
      ],
      "metadata": {
        "id": "jzlnwmrN9L8q"
      }
    },
    {
      "cell_type": "code",
      "source": [
        "import os\n",
        "os.environ[\"OPENAI_API_KEY\"] = \"sk-XXXX\""
      ],
      "metadata": {
        "id": "bVd-XAbt9f8e"
      },
      "execution_count": null,
      "outputs": []
    },
    {
      "cell_type": "code",
      "source": [
        "from langchain_openai import OpenAIEmbeddings"
      ],
      "metadata": {
        "id": "NupFGWyl9RTS"
      },
      "execution_count": null,
      "outputs": []
    },
    {
      "cell_type": "code",
      "source": [
        "embeddings = OpenAIEmbeddings()"
      ],
      "metadata": {
        "id": "IbBC7Ar_9XBY"
      },
      "execution_count": null,
      "outputs": []
    },
    {
      "cell_type": "code",
      "source": [
        "print(embeddings)"
      ],
      "metadata": {
        "colab": {
          "base_uri": "https://localhost:8080/"
        },
        "id": "bmXsGVml9zgD",
        "outputId": "4e30e926-172e-4ee0-adeb-83566b989518"
      },
      "execution_count": null,
      "outputs": [
        {
          "output_type": "stream",
          "name": "stdout",
          "text": [
            "client=<openai.resources.embeddings.Embeddings object at 0x78414310ce50> async_client=<openai.resources.embeddings.AsyncEmbeddings object at 0x78414310e2f0> model='text-embedding-ada-002' dimensions=None deployment='text-embedding-ada-002' openai_api_version='' openai_api_base=None openai_api_type='' openai_proxy='' embedding_ctx_length=8191 openai_api_key=SecretStr('**********') openai_organization=None allowed_special=set() disallowed_special='all' chunk_size=1000 max_retries=2 request_timeout=None headers=None tiktoken_enabled=True tiktoken_model_name=None show_progress_bar=False model_kwargs={} skip_empty=False default_headers=None default_query=None retry_min_seconds=4 retry_max_seconds=20 http_client=None\n"
          ]
        }
      ]
    },
    {
      "cell_type": "code",
      "source": [
        "query = \"Cat is very angry.\"\n",
        "\n",
        "query_embedding = embeddings.embed_query(query)\n",
        "\n",
        "print(query_embedding)"
      ],
      "metadata": {
        "colab": {
          "base_uri": "https://localhost:8080/"
        },
        "id": "g6i7p7yz9pBU",
        "outputId": "b13d674a-fd97-4ffe-efa4-5f8277c7bf04"
      },
      "execution_count": null,
      "outputs": [
        {
          "output_type": "stream",
          "name": "stdout",
          "text": [
            "[-0.022404389879159162, -0.0052473113000743084, -0.008860316294920236, -0.020550925672854697, -0.001905124554078988, 0.005917314086135552, -0.018785123136864517, -0.011934815200128013, 0.0026768800376899674, -0.02460851194259188, 0.013024351805624342, 0.0193361531870614, 0.007338721443768791, -0.004862215927453936, -0.022153921843855597, 0.006299277886539621, 0.02820273169509165, 0.017132032986273867, 0.015854643957315975, -0.015817074403946255, -0.003901043980503102, 0.026900297538984066, -0.006931710653569848, -0.0114714486828906, -0.0005287229532606256, 0.022517100401913508, 0.004483382767943579, -0.014113889342443262, 0.021402517737944896, -0.0036349213437470904, 0.0023747527023497954, -0.017983625051364065, -0.010713782363869885, -0.010413220348976569, -0.03190966383299095, 0.002432673517004472, 0.010093872626075799, -0.007877227999068237, -0.004113941996775652, -0.010043779577808642, 0.022492055274763816, -0.01130238289875908, 0.002143069443731089, 0.0037476320993320845, -0.002784894599103746, 0.005967407600064006, -0.01948643512583065, -0.014815200400086805, -0.022517100401913508, 0.009693123583325575, 0.02360663793873243, -0.0074389089372869956, -0.011790795474468777, -0.013149586754598716, -0.00929237454057535, -0.0035785660823699178, 0.0024561549535218434, -0.012404442999152847, -0.0016108242866343901, -0.003472117074233643, -0.00275671696841516, -0.006051940492129765, -0.004705673638219855, 0.008359380224313102, -0.0003909653825037428, 0.000699354465292634, 0.009912283347046844, -0.005579181586549923, -0.028803855724878282, 0.0014934173368781813, 0.018522132537986104, 0.0031089378176837866, 0.024345519481068282, -0.02270495189405248, -0.008703774005686154, 0.025723096469205675, -0.004715066026562286, 0.013400054789902284, -0.005100160933521361, -0.01502809888202065, 0.03333733293807291, -0.016718760448626205, -0.005353760075379935, 0.03140872776238382, 0.011383785149931129, 0.009229757066088163, 0.011133316183304971, 0.023418786446593457, -0.021865884255182308, 0.021490181270904365, 0.002091410376525131, 0.0202879332113311, 0.011721916718194166, 0.031108163884845316, 0.0007529703576801474, 0.007589189944733654, 0.017946053635349162, 0.02204121132110125, -0.01849708554819123, -0.0563052754310038, -0.0028005487348948953, -0.01005630307270608, -0.02725095167082195, -0.005178432543799698, -0.020350549754495694, 0.0007322284647754215, -0.01992475465327319, -0.0010449225280391378, 0.014902864864368866, -0.02745132758918095, -0.006674980405156267, 0.0067626444037770335, -0.004414504011668968, -0.036893983137202956, 0.01809633557411841, -0.01435183388284939, 0.03311191189256422, -0.0022870887037290287, -0.0255978615202313, -0.019862136247463406, 0.02892909067385266, 0.020864010251322857, 0.014226599865197607, 0.014940434417738587, 0.010012470374903751, 0.0030056196832718707, 0.0006492608349488559, -0.019599145648584997, -0.03211003602605958, -0.005770163719582605, 0.042178862593663095, 0.01805876602074869, 0.011941076481915435, 0.00859732476471923, -0.026424406595526626, 0.0458857947315624, -0.036568374132514764, 0.009586674342358652, 0.0036505757123688875, -0.038522028160643915, -0.007695638720039281, 0.01938624716665115, -0.021202141819585896, -0.0011263246627958618, -0.0007784085611714124, 0.018108858137693258, 0.014802676905189367, -0.009236019279198177, 0.012661173247566429, 0.008365641506100524, 0.013349960810312533, -0.00958041306057123, 0.005118946175867518, -0.017946053635349162, 0.015278566917324217, 0.025134495002993886, 0.005303666561451481, 0.0031793821272359003, 0.009467702537816883, -0.019636715201954716, 0.011909768210333137, 0.019511482115625527, 0.03140872776238382, -0.017332407041987682, 0.018785123136864517, 0.018860264106249143, 0.01961166821215984, -0.003191905622133338, -0.009605460050366105, -0.013475194827964316, 0.013124539764803841, 0.008741344490378467, -0.00013589862175900219, 0.02299299134537095, -0.009217233571190725, 0.011922291705230575, -0.00406071737629219, 0.014965481407533463, 0.0014574125218786965, -0.01569183945497188, -0.044633452692399385, 0.010068826567603517, 0.02875376174528853, 0.030882742839336626, -0.007269842687494181, -0.009724431854907872, 0.011358738160136253, -0.04242933249161185, 0.0024905943316591485, -0.011158363173099846, 0.012160236245636703, 0.01021284536194016, -0.00862863303630153, -0.007551619460041342, -0.6744610794642145, -0.021928500798346903, -0.007426385442389558, 0.004953011032629711, 0.014614826344372988, 0.023919724379845776, 0.00023657514694960932, -0.014802676905189367, -0.012060049217779796, 0.020262886221536224, -0.021590369230083867, -0.00678142964612319, -0.0013548770476902085, -0.002168116433525964, -0.005792079602822473, -0.005062590914490345, -0.005018758682349313, -0.013237250287558188, -0.0008750736762305573, 0.025209635972378512, 0.00013628998097454709, -0.002661225901898819, -0.00938003807353482, -0.005594835722341072, 0.018234093086667635, -0.008810223246653077, 0.014940434417738587, -0.00748900245121545, -0.009342467588842508, 0.030657321793827932, -0.024107575871984747, 0.013900990860509416, -0.01673128301220105, -0.0001794370652779381, 0.04450821960607019, 0.010219107575050176, -0.007107038185150085, 0.02033802719092085, 0.01322472679266075, 0.0319597578125807, -0.023644209354747335, -0.0194363411462409, -0.011020605660550626, -0.009686862301538151, -0.034314159952137484, -0.02204121132110125, 0.002919521237928608, -0.001120063031762467, -0.014138936332238138, 0.014890341369471429, 0.0035691734611968395, 0.0023043083927976812, 0.013400054789902284, 0.005751378477236449, -0.009617983545263541, 0.0053099283089002, 0.018183999107077884, -0.014477068831823767, -0.023205889827304794, 0.028503293709984966, 0.0031026763030657157, 0.022930374802206353, -0.003309312571889547, 0.005184693825587121, 0.0159297849267006, -0.01128359719075163, -0.022116352290485874, 0.006327455517228207, 0.010882848148001403, 0.005669976226064401, 0.008090126481002083, -0.0028850818597913027, -0.02762665465509989, 0.030607227814238185, 0.014138936332238138, 0.01271126722715618, 0.007313674919635213, -0.010932942127591154, 0.008184052227071569, -0.021640461347028433, 0.02207878087447097, 0.00517530143724469, -0.028277872664476275, 0.007864705435493391, 0.034890235129484054, -0.00991854556015686, -0.006950495430254708, 0.0020945412502494905, 0.006543484640055765, 0.00511581506931251, 0.011364999441923677, 0.026048703611248683, -0.007144608669842398, -0.006750120908879596, -0.00045671332326165586, 0.02010008171919213, -0.005632406207033385, 0.013500241817759192, 0.01191602949212056, -0.019373724603076303, 0.0039260909702979775, -0.0005388982346571316, -0.003976184484226431, -0.0020961065706963464, 0.013324913820517658, 0.004182820753050262, -0.0256980494794108, 0.019999895622657814, 0.01754530552392153, 0.00670628914239986, 0.0040106238623637365, -0.0006426077573884231, -0.0005529870500014249, -0.0014981136474647204, -0.012535939229914646, -0.028327966644066026, 0.024195239404944217, 0.007376291928461104, 0.0059611458526152876, -0.013349960810312533, -0.00651843765026089, 0.002418584701660179, 0.031233398833819693, -0.022291679356404817, 0.006693765647502423, 0.0016781377224621447, -0.02517206455636361, 0.009993685598218892, -0.05184694104983898, 0.0037163235949191384, 0.005951753464272858, -0.009254804055883038, 0.005563527450758774, -0.015190903384364745, -0.011346214665238817, 0.0132748207722505, 0.044182610601382, -0.006393203632609106, 0.012335564242878237, 0.0008406342980932521, -0.022404389879159162, 0.0033969765705103134, -0.017607922067086123, 0.03163414880789251, 0.014589779354578112, -0.004984319304212008, -0.01201621745130006, -0.008572277774924355, 0.013149586754598716, 0.031183304854229942, -0.006349371866129371, 0.003531603209335175, -0.0003931178436373244, -0.01824661565024248, 0.006339979012125645, 0.0034470700844387676, -0.010932942127591154, -0.011033129155448062, -8.932717342342412e-05, -0.0011364999441923678, 0.013349960810312533, 0.026098797590838434, -0.02043821515010035, -0.002661225901898819, -0.01948643512583065, -0.024345519481068282, 0.014326787824377109, 0.04055082129551251, -0.03777062219208804, -0.026224032539812807, -0.027200859553877382, -0.005065721555384056, 0.0066812421526049855, 0.006020632220547468, -0.020688683185403917, 0.008979289030784595, -0.009367514578637383, -0.017858390102389692, -0.0123230407479808, -0.009793310611182483, 0.014877817874573991, 0.001342353552792771, 0.011089484416825236, -0.004439551001463844, 0.005391330560072248, 0.021577844803863835, -0.011139578396414985, 0.026574688534295874, -0.02132737676856027, 0.02493412094728007, -0.009386300286644835, 0.017883437092184568, -0.003155900690718529, 0.00016084761895487825, -0.03496537796151387, -0.022103827864265846, 0.003631790470022731, 0.02452084840963241, 0.020801393708158263, 0.035892107270698324, -0.010406958135866553, 0.006768906151225752, 0.018409420152586575, 0.025522720550846676, 0.007539095965143904, -0.02963040080017361, -0.01768306303647075, -0.010751351917239606, 0.026975436645723508, 0.025184588982583637, -0.00035280810637067635, 0.018171476543503037, -0.014101365847545825, 0.005882874707998247, 0.014539685374988362, 0.024545895399427285, 0.0003653315139566209, 0.005820257233511059, 0.013738187289487912, 0.0065998399014329375, -0.03075750789036225, -0.01601744845966007, -0.004736981909802153, 0.005654322090273252, 0.0020131389990774426, 0.01000620909311633, 0.009185925299608428, 0.023907199953625745, 0.022454483858748913, -0.015416324429873438, -0.0355665019913005, -0.0030870219344439186, 0.007783302718660048, 0.0020334895618704545, 0.0005048501866315403, -0.023594115375157584, 0.030657321793827932, -0.00980583410607992, 0.02612384458063331, 0.029981056794656676, 0.003907305727951821, 0.023969818359435527, 0.021790743285797682, -0.026775062590009693, 0.007902274988863112, 0.011427616916410865, 0.022504577838338664, 0.022492055274763816, -0.015103238920082683, 0.02311822443170014, -0.009041906505271783, 0.006981804167498302, -0.005504041082826594, 0.0016640487907025275, 0.01610511199261954, -0.021703079752838212, 0.025773188586150242, -0.009079476058641504, 0.023068132314755574, 0.006837784907500363, 0.00948022603271432, -0.0001940151014695357, 0.013011829242049496, 0.007470217208869294, 0.021477656844684338, 0.021915976372126875, 0.0030666713716509066, 0.0114714486828906, 0.018684935177685016, -0.005472732811244296, -0.03777062219208804, -0.008566016493136933, 0.018509608111766076, -0.038246509410255106, 0.03135863378279407, -0.0057263319531028695, -0.006437035399088842, 0.010613594404690386, 0.016543431520062078, 0.011321167675443942, 0.022905327812411478, -0.04285512945547954, -0.003287396688649679, 0.01942381672002087, -0.003663098974435677, -0.014414451357336579, -0.033312284085632846, 0.0005244180309934625, -0.008979289030784595, 0.016756330001995924, 0.014151459827135575, 0.026699921620625067, 0.0083906884958954, 0.004545999776769471, 0.015679316891397035, -0.0036850150905061926, 0.02232925077241972, -0.022241585376815066, -0.008133958247481818, 0.01849708554819123, 0.007726947457282875, -0.007570404702387498, -0.01924848965410193, -0.010613594404690386, 0.004110811355881941, 0.008973026817674581, -0.019085685151757834, -0.017081939006684116, -0.004041932599607331, -0.0077582561945264686, -0.021577844803863835, -0.008058818209419786, -0.01365052282520585, -0.006668718657707548, -0.034815096022744615, 0.005237918446070582, -0.011790795474468777, -0.008666203520993841, 0.048165057764379744, 0.007695638720039281, -0.014426974852234016, -0.0034408083369900488, -0.0011271074394346135, -0.011008082165653188, 0.09793310797447001, 0.007482740703766731, -0.02970554176955823, -0.008252930983346179, 0.008578539988034371, -0.023468880426183208, -0.017207173955658493, -0.023581590948937553, 0.015253519927529342, -0.005889135989785669, -0.006687503900053704, -0.0038885204856056645, 0.008991812525682033, -0.006806476170256768, 0.011327428957231364, 0.003071367565822122, 0.01123350414248447, 0.007370030181012385, 0.016004925896085227, -0.009286112327465335, 0.0038822587381569457, -0.006549746387504483, 0.010275462836427348, 0.009749478844702748, -0.007526572935907762, -0.0061677821214391184, 0.01331239032562022, 0.016543431520062078, 0.0006069942725006522, -0.03721959214189115, 0.004555392630773197, 0.009192187512718442, -0.0037163235949191384, -0.00137835848420758, 0.004020016250706166, 0.01468996638243502, 0.013324913820517658, 0.03130853980320432, 0.027852075700608582, -0.006737597413982158, 0.02171560231641306, 0.021978594777936653, -0.0008328071137823536, 0.009880975075464546, -0.0048465617916627875, -0.017307360052192806, -0.015128285909877559, 0.0010519669357112844, -0.005904790591238115, -0.00497179580931457, 0.02255467181792841, -0.0010026559655909341, -0.00567623797351312, 0.0013619214553623551, 0.0036693607218843956, 0.024583464952797004, -0.014489591395398613, -0.012667434529353852, 0.0016139551603587495, 0.0003036928304100141, -0.007889751493965674, -0.009041906505271783, 0.004361279391185507, -0.014063795362853512, 0.006296147245645909, -0.03393845696785954, 0.006430774117301419, -0.01853465510156095, -0.033036769060534404, -0.004677495541869973, -0.015040622376918087, -0.029655447789968484, -0.024959167937074946, 0.0037194544686434978, 0.003713192721194779, 0.011602944913652397, 0.0018675543022173234, -0.01876007614706964, -0.02438309089708319, 0.03701921622353215, -0.013299867762045375, -0.022441961295174066, 0.007589189944733654, -0.023331122913633987, -0.002608001281415357, -0.0010237891886073739, 0.014113889342443262, 0.01152154266248035, -0.0128490247397054, 0.001595952811066669, 0.03213508487849964, 0.012398181717365425, 0.018522132537986104, -0.0092422805609856, 0.013349960810312533, 0.0008148047062826112, -0.0036098745867828635, -0.00678142964612319, -0.006944234148467286, 0.0027942872202768245, 0.018221570523092787, -0.03371303592235085, -0.02204121132110125, -0.010150227887452972, 0.018747553583494794, -0.002813072229792333, 0.027376186619796326, 0.003227910320717499, -0.008622371754514106, -0.002207252005834484, 0.0028709930444470095, 1.0083550668646978e-05, 0.006687503900053704, -0.0035942202181610664, 0.004865347034008944, 0.019561576095215274, -0.009887236357251968, 0.02375691987750168, 0.018021194604733788, -0.0025907815923467046, -0.007169655659637273, -0.011903506928545715, 0.00998742431643147, 0.030882742839336626, 0.00812143475258438, 0.01298678225225462, 0.001402622580948379, -0.015040622376918087, -0.016856517961175425, -0.0017000537221173364, 0.013299867762045375, 0.005237918446070582, -0.02990591582527205, -0.041677926523055964, -0.024408137886878064, 0.014927911854163742, -0.009793310611182483, 0.02667487463083019, -0.002989965547480722, -0.0300561977640413, -0.04215381746651341, -0.00763302171121339, -0.006931710653569848, -0.012241638496808751, -0.026850203559394315, -0.023907199953625745, -0.02308065487833042, -0.015666792465177003, 5.728484137750057e-05, 0.015316137402016528, -0.008484614241964885, -0.0004938921868039445, -0.024595987516371848, 0.012341826455988253, -0.012429489988947722, -0.03108311689505044, -0.00805255599630977, 0.01569183945497188, 0.021177096692436205, 0.010813969391726793, 0.028878996694262908, -0.003393845696785954, 0.020914104230912608, 0.0010981470321072752, -0.021928500798346903, -0.00034380690262080513, -0.002066363619560904, -0.017895961518404595, -0.04686262174562698, 0.02388215296383087, 0.021314854204985426, -0.015579128932217533, 0.021778218859577654, -0.009837143308984811, 0.005613620964687228, 0.009198448794505865, 0.01902306860859324, -0.017244743509028212, -0.007244795697699306, 0.00944265554802201, 0.0076392834586621085, 0.008973026817674581, 0.01587969094711085, -0.004001231474021307, 0.003810249108157976, -0.014802676905189367, 0.003177816806789045, -0.009110785261546394, 0.007864705435493391, -0.006606101648881656, 0.01106443742703036, 0.000729488979370438, 0.011289859403861643, -0.023468880426183208, 0.001646829101633875, -0.018860264106249143, -0.017445117564742027, 0.02915451171936135, -0.0055259569660664615, 0.0006379115050095461, 0.0034940329574735104, 0.029354885775075164, -0.025823282565739993, 0.007996200734932598, -0.0037507629730564435, 0.006574793377299358, -0.017232219082808184, -0.009492748596289166, 0.00670628914239986, -0.02412009843555959, -0.005275488930762895, -0.02165298577324846, -0.028979182790797225, -0.02597356450450924, 0.007614236468867233, -0.0009001204914024463, -0.028828902714673157, 0.012611079267976678, -0.006894140168877535, -0.03236050592400833, -0.007326197948871354, -0.0009134266465233117, 0.04180315960938516, -0.02659973552409075, 0.034414347911316985, 0.020275410647756256, -0.007820872737691064, 0.008340594516305649, 0.016581002936076984, -0.00146993590036081, -0.019561576095215274, 0.015328660896913966, 0.001018310217797407, -0.011070699640140375, 0.010557239143313212, -0.026925342666133757, 0.02412009843555959, -0.005369414211171084, -0.02752646669592039, 0.029079370749976723, 0.012329302961090815, 0.0032905275623740385, -0.020400643734085445, -0.008941718546092284, -0.009574150847461214, 0.016029972885880102, -0.028403105750805464, -0.0041953442479477, -0.02762665465509989, -0.002640875339105807, -0.030657321793827932, 0.02375691987750168, -0.016280440921183668, 0.016455767987102608, 0.002784894599103746, 0.002011573678630587, 0.002858469549549572, 0.0032748731937522414, -0.0038791280972632343, -0.0018268532930466235, -0.015278566917324217, 0.0045679156600093385, 0.008040032501412333, 0.013287344267147937, -0.007539095965143904, -0.006030024608889898, -0.010469575610353742, -0.007075729913567788, 0.002847511607929638, 0.032460693883187834, 0.034664814083975364, -0.0003987925086069793, -0.0028036796086192547, 0.009041906505271783, 0.010475836892141164, -0.01068873537407501, -0.01997484863286294, 0.004389457021874094, -0.005632406207033385, -0.004304924129808334, 0.034890235129484054, 0.007814611455903642, -0.0004657145270115271, -0.01021284536194016, -0.023544021395567834, 0.005594835722341072, -0.021577844803863835, 0.003198167369582057, -0.009129570038231253, 0.004376933526976656, -0.010851539876419106, 0.006937972401018567, -0.025585338956656455, -0.0097682645527102, 0.005266096076759169, -0.014940434417738587, 0.015140809404774996, 0.005237918446070582, -0.02619898555001793, 0.009085738271751518, 0.0010754483722286558, 0.042779986623449735, -0.029855823708327484, 0.006712550889848579, 0.01356285929224638, 0.001977134300493282, 0.027651701644894767, -0.035065562195403, -0.0037413703518833657, -0.026775062590009693, -0.00623039913026501, -0.012686220237361304, -0.001134934507330188, -0.01109574662993525, 0.037795667319237725, 0.021815790275592557, 0.018021194604733788, -0.032610975821957086, 0.005081375691175205, 0.009160878309813552, -0.025234682962173387, -0.010237892351735035, 0.012686220237361304, -0.002168116433525964, 0.01863484306074045, -0.017745679579635347, 0.010369387651174242, 0.0017063153531507312, 0.002276130762109095, 0.0017204041684950244, -0.0012390354183808554, 0.026474500575116376, -0.016681189032611298, -0.03721959214189115, -0.027827028710813707, -0.016255393931388792, -0.018998021618798364, 0.022654857914462728, -0.0037601555942295218, 0.006581055124748077, 0.02465860592218163, 0.030732462763212558, -0.003155900690718529, -0.001930171427458539, -0.004877870528906382, -0.014063795362853512, -0.0072009639312195705, -0.018259140076462507, -0.018747553583494794, -0.02807749860876246, -0.034815096022744615, 0.010507146095046055, 0.011602944913652397, -0.006831523160051644, -0.011465187401103177, 0.00893545726430486, -0.02687525054918919, 0.01863484306074045, -0.021490181270904365, 0.015641745475382128, 0.011252288919169332, -0.012836501244807962, -0.003390714823061595, 0.03130853980320432, 0.014765107351819646, 0.016668666469036454, -0.0014957654339637888, -0.00356604258747248, -0.011602944913652397, 0.001337657358621556, 0.0047651595404907396, 0.0025610384083806143, -0.008916671556297408, -0.04120203557959853, -0.011527803944267773, 0.012755098993635914, 0.016843993534955394, 0.020137653135207035, -0.003431415948647619, 0.016718760448626205, -0.010976773894070889, -0.004104549608433222, 0.023531498831992986, -0.016042495449454946, -0.005344367687037505, -0.008985550312572019, -0.01341257828479972, 0.015641745475382128, 0.010244153633522457, 0.0008930760837302997, 0.004098287860984503, 0.0012726921362947328, -0.03163414880789251, 0.0010128312469874401, -0.02285523383282173, -0.01569183945497188, -0.00855975428002692, -0.017244743509028212, 0.0020475783772147477, 0.007194702183770852, -0.021540275250494116, 0.024896549531265164, 0.006624886891227813, -0.00392295986374297, -0.013375007800107409, 0.01085780115820653, -0.007495264198664169, 0.005976799988406436, 0.01633053303812823, -0.01375071078438535, -0.0009267327434365151, -0.017908484081979443, -0.0017704979152541266, -0.031183304854229942, -0.010043779577808642, -0.002802114288172399, 0.0019786996209401374, -0.03854707328779361, 0.003531603209335175, 0.0008617675211096919, 0.0025219028360720943, 0.017307360052192806, -0.0123230407479808, -0.01293668827266487, -0.011358738160136253, -0.008991812525682033, 0.0025813889711736263, 0.00220881732628134, -0.013763233347960195, 0.009536581294091493, 0.005297404814002762, -0.026474500575116376, 0.00482464590842292, 0.011152101891312423, 0.01800867204115894, 0.02151522826069924, 0.22461998887009968, 0.004076371977744636, 0.004276746499119748, 0.009304898035472787, 0.010807708109939371, 0.00017190345131040257, 0.02270495189405248, -0.001687530227219899, 0.005328713551246356, 0.016581002936076984, 0.013349960810312533, -0.0005075896720365238, -0.003816510855606695, 0.014439498347131454, 0.011477709964678022, 0.02473374502892107, -0.022692429330477635, 0.004614878533044081, -0.010100134839185815, -0.04751383975500336, 0.013162110249496154, 0.0041702972581528245, 0.00649339112612731, 0.009098261766648956, 0.03892277627207155, 0.0010057868393152935, -0.02563543107360102, -0.010187798372145285, 0.010331818097804521, -0.005118946175867518, -0.006668718657707548, 0.006255446120059885, 0.010682473160964996, -0.015240996432631904, 0.006349371866129371, -0.00178302129373624, -0.004192213141392693, 0.008879102002927687, 0.010419481630763991, -0.008340594516305649, -0.029354885775075164, 0.0017094462268750906, -0.004414504011668968, -0.004511560398632166, 0.0033406210763024928, 0.02205373574732128, 0.0006523917086732153, 0.010112658334083252, 0.014614826344372988, 0.013863421307139696, -0.007870966717280815, -0.004113941996775652, 0.010876586866213981, 0.01646829241332264, -0.020262886221536224, -0.005341236580482498, 0.04145250547754727, -0.0013368745819828042, 0.010588548346218103, -0.009192187512718442, 0.006906663663774973, 0.021252235799175644, -0.004295531741465904, 0.018083813010543567, -0.010043779577808642, 0.027701795624484517, -0.04756393373459311, 0.0022917851307308916, 0.00035456920828871305, -0.006693765647502423, -0.009392561568432259, -0.008140220460591834, 0.0069191871586724105, -0.003941745106089126, -0.018021194604733788, -0.002255780199316083, 0.0033249669405113437, 0.014527161880090924, 0.011239765424271894, 0.02096419821050236, -0.0124232287071603, 0.0038227726030554137, 0.0014503681142065497, 0.0003187600583450851, -0.00446772863215243, -0.032460693883187834, 0.007006851157293177, -0.009304898035472787, -0.0004915440897183369, 0.007877227999068237, 0.00929237454057535, -0.017658016046675874, 0.002086714182353916, -0.007388815423358542, 0.020400643734085445, 0.03539117120009119, 0.008472090747067448, 0.03747005831454953, -0.011083223135037812, 0.007501525946112887, -0.03834669736943461, -0.030356759778934615, 0.02128980721519055, 0.015491465399258062, 0.0030212740518936678, 0.004420765759117687, 0.00958041306057123, -0.005078245050281494, -0.008503399018649745, -0.002421715575384538, -0.028904043684057783, -0.018421944578806602, -0.00026631827270803745, -0.004555392630773197, 0.007933584191768003, 0.012548462724812083, 0.0030212740518936678, -0.00017190345131040257, 0.013137063259701279, 0.0020835833086295568, 0.0023027430723508253, -0.037344825228220344, 0.014026225809483792, -0.005932968221926701, -0.005698154322414283, -0.030406853758524366, -0.021627938783453586, 0.013763233347960195, -0.007858443222383377, -0.05144619293841135, 0.006480867631229873, -0.01942381672002087, 0.009473963819604306, 0.005519695218617743, -0.010776398907034482, 0.02393224694342062, -0.0010723174985042964, 0.0023528368191099275, 0.009430132053124572, 0.012285470263288488, 0.015942307490275445, -0.009818357600977358, 0.017420070574947155, 0.008447043757272572, -0.0007142260572756791, 0.020500831693264946, 0.025610384083806146, -0.0039323527177466955, -0.03423901712010768, -0.026274126519402558, -0.06627391403942781, 0.018559702091355827, -0.008641156531198967, 0.002193163190490191, 0.028828902714673157, -0.030557133834648434, -0.038071182344336166, -0.026699921620625067, -0.005979931094961444, -0.0011388481576932992, -0.04107680249326933, -0.010169013595460425, 0.015441371419668313, -0.0020084428049062276, -0.012028740946197498, -0.02847824672019009, -0.15759466886211596, 0.002473374642590496, 0.013825850822447383, -0.00890414806139997, -0.009430132053124572, 0.0001302239567893473, 0.01149023345957546, -0.019862136247463406, -0.008309286244723352, 0.005569789198207492, 0.035816968163958886, -0.02612384458063331, -0.034364253931727234, -0.01660604992587186, 0.011252288919169332, -0.002888212733515662, 0.011515280449370335, -0.004217260131187567, -0.00028784288404385316, 0.012172759740534141, 0.02587337654532974, -0.027776936593869143, 0.013324913820517658, 0.0006723508831468513, 0.0110456526503455, 0.007870966717280815, -0.008622371754514106, 0.01725726607260306, -0.03443939303846667, -0.03719454328945109, -0.0036756224693331144, -0.018234093086667635, 0.00869751179257614, 0.017407548011372308, 0.015441371419668313, -0.00037511543613758197, -0.018897833659618862, -0.0017892830411849589, -0.021690555326618184, 0.014890341369471429, 0.0068816166739800975, 0.028728714755493656, 0.028653575648754218, 0.008027509006514895, -0.021790743285797682, 0.018935405075633766, 0.0184845611219712, 0.02415766798892931, 0.010745090635452183, -0.021502703834479213, -0.0025422533988651063, -0.009223495784300739, 0.004483382767943579, -0.01663109505302155, 0.05560396344203766, 0.014902864864368866, 0.002858469549549572, 0.021953547788141778, -0.005826518980959778, -0.0034940329574735104, 0.0009556931507638534, -0.017069414580464088, 0.008284239254928476, -0.0034408083369900488, 0.009968638608424016, -0.0014182768331548522, 0.0023528368191099275, 0.03170928791463195, -0.036568374132514764, 0.01815895211728301, -0.019736903161134217, 0.015378753945181125, 0.018872786669823987, -0.0017063153531507312, -0.010068826567603517, 0.01154032743916521, -0.028653575648754218, 0.015766980424356505, 0.012642388470881569, -0.010394434640969116, 0.003403238085128384, 0.018259140076462507, -0.01660604992587186, -0.02316831841128989, 0.003763286467953881, 0.02524720552574823, 0.003368798706991079, -0.004646187270287675, -0.007802087961006204, -0.012523415735017208, 0.0053099283089002, -0.03393845696785954, -0.0060425481037873355, -0.04566037368605371, 0.02047578470347007, 0.018271662640037354, 0.013725663794590476, 0.015554081942422658, -0.0018284187299088032, -0.01398865532479148, 0.024270378511683656, -0.00363805221747145, 0.0010723174985042964, -0.001970872553044563, 0.016167730398429322, -0.002122718880938077, -0.01026293934152991, 0.007175916941424695, 0.012874070798177683, 0.018735029157274766, -0.006418250622403981, 0.0025219028360720943, 0.014865294379676553, 0.02246700828496894, -0.005313058949793911, -0.00823414620666132, 0.004073240871189628, -0.008703774005686154, 0.012241638496808751, -0.011327428957231364, 0.06717559822146259, 0.017470164554536902, 0.020162698262356723, 0.03058218082444331, -0.012260424204816205, -0.01365052282520585, -0.1028923858768227, -0.04017511831123457, -0.007169655659637273, 0.011364999441923677, -0.011377522936821115, 0.003606743713058504, -0.003941745106089126, 0.02915451171936135, -0.007889751493965674, 0.023268506370469393, 0.007745732699629031, -0.020187745252151598, -0.010763875412137044, -0.013587906282041253, -0.0004978057789593938, 0.006693765647502423, 0.0012828674176912388, -0.010488360387038601, -0.00595801474606028, 0.007050682923772912, 0.018860264106249143, 0.004048193881394753, -0.0007878011241368285, -0.007971153745137722, 0.012861548234602838, -0.0012734747965181606, -0.03651828015292501, 0.018747553583494794, 0.004057586735398479, 0.020638589205814167, -0.004718196667455997, -0.008002462948042613, 0.0050438056721441886, -0.0018565963605973895, -0.023468880426183208, 0.011684347164824445, -0.005751378477236449, 0.0046117478921503694, 0.012686220237361304, -0.02207878087447097, 0.005225394951173145, -0.0007561012314045068, -0.018033719030953816, -0.02375691987750168, -0.02393224694342062, -0.007395076705145965, 0.0014628914926886633, 0.009455179042919445, 0.00446772863215243, -0.028453199730395215, -0.019461388136035776, -0.0055259569660664615, -0.025435057017887203, 0.009899759852149406, 0.03674370119843371, -0.017996147614938913, 0.006299277886539621, 0.03075750789036225, -0.014389404367541703, 0.011671823669927008, -0.006825261412602925, -0.009354991083739946, 0.015003051892225774, 0.02797731064958296, 0.007107038185150085, 0.00039272648442177947, 0.013663046320103287, -0.013525288807554067, 0.007626759963764671, -0.03143377288953351, 0.0001732731940128943, 0.017445117564742027, -0.02025036365796138, 0.014840247389881678, -0.009448916829809431, 0.01554155844752522, -0.01152154266248035, -0.019398771592871178, 0.020413168160305476, 0.024195239404944217, -0.027902169680198333, -0.021076908733256704, 0.008140220460591834, -0.018121382563913286, 0.026524594554706123, 0.013976131829894042, -0.007269842687494181, 0.0035785660823699178, 0.00850966123175976, -0.003227910320717499, 0.0012139885450013043, 0.027050577615108134, 0.0011435443518645143, -0.026048703611248683, -0.019674286617969623, 0.006130212102408102, -0.0008625502395407818, -0.018672412614110172, 0.0079648924633503, 0.004871608781457663, -0.015403800934976, -0.005093899186072642, -0.04140241149795752, 0.023669256344542207, -0.006089510976822078, -0.0017360585371168215, 0.013888468296934572, -0.019862136247463406, -0.004088895006980777, -0.013688093309898163, -0.04040053935674326, 0.0010370953437282393, -0.008447043757272572, 0.0069630189251521455, -0.006556008134953202, 0.006411988874955262, -0.012197806730329016, -0.0016217823446696479, -0.002072625367009623, -7.641240662193466e-05, 0.00041718627532226667, -0.028277872664476275, -0.011383785149931129, -0.005538480460963899, 0.005253573047523027, -0.004974926915869578, 0.012949211767562308, 0.029930962815066926, -0.013938561345201729, 0.008578539988034371, -0.0195365291054204, 0.0007318370764560455, -0.005181563184693409, -0.037620340253318785, 0.013162110249496154, 0.016455767987102608, 0.009561627352563776, -0.027751889604074268, 0.008760129267063326, 0.02115204970264133, -0.01085780115820653, 0.011158363173099846, -0.01591726050048057, -0.0275014215687707, 0.019135779131347584, -0.03741996433495978, 0.015366231381606279, 0.0008758563946616472, -0.01106443742703036, 0.01135247594702624, 0.015341184391811404, 0.018033719030953816, 0.04162783254346621, 0.024408137886878064, -0.0013196548929141514, 0.0008797699286094343, -0.034689862936415426, -0.04130222353877802, 0.025485150997476953, 0.015353707886708841, 0.0025250337097964537, -0.0025610384083806143, 0.004993712158215735, 0.005851565970754653, 0.025673002489615925, -0.00474011301635716, 0.015003051892225774, 0.019148301694922428, -0.013550335797348942, -0.03351266000399185, 0.011477709964678022, -0.038246509410255106, 0.0032967890769921094, -0.012636126257771553, 0.006718812637297298, -0.012504630027009756, 0.008184052227071569, 0.014627349839270425, -0.011784534192681355, 0.0018127643612870063, -0.02542253445431236, 0.011170886667997284, 0.004110811355881941, -0.007257319192596743, 0.0010441397514003858, -0.005585443333998642, 0.03411378403377848, 0.023919724379845776, -0.016142683408634447, -0.0024905943316591485, 0.0075578812074900605, 0.006988065914947021, -0.03484014114989431, -0.0074013384525946834, -0.019711856171339342, -0.016355580027923106, 0.015303613907119092, 0.030782554880157124, 0.010169013595460425, 0.0017110116637372704, 0.00665619516281011, 0.03561659224559988, 0.002163420006524101, 0.0015129851230324413, -0.03731978010107065, 0.0019943539895619345, 0.005995585230752593, -0.0018049372933914318, -0.009711908360010435, -0.009880975075464546, -0.01853465510156095, 0.008083865199214661, 0.005006235187451876, 0.009286112327465335, 0.0177331570160605, 0.023281028934044237, -0.021440087291314615, 0.009192187512718442, 0.00594862235771785, -0.008747605772165889, -0.005657453196828259, 0.03143377288953351, 0.0013259166403628703, -0.003328097581405055, -0.008296762749825914, -0.003475247715127354, 0.008465828533957434, 0.0175327810977015, 0.022391867315584315, 0.004245437761876154, -0.018121382563913286, -0.021790743285797682, -0.0290042297805921, -0.0023669256344542207, -0.017946053635349162, 0.011271073695854191, -0.02617393856022306, -0.01356285929224638, -0.009793310611182483, 0.020312980201125975, -0.02174064930620793, 0.024483276993617503, 0.0029868346737563626, -0.014326787824377109, 0.005131469670764955, -0.006787691393571908, 0.006170913227994126, 0.017232219082808184, 0.004736981909802153, -0.016756330001995924, 0.002813072229792333, 0.007902274988863112, -0.014088842352648387, -0.008290501468038492, -0.029855823708327484, -0.0018080681671157912, -0.008447043757272572, -0.00551343393683032, -0.01331239032562022, 0.017282313062397935, 0.0013720967367588611, 0.03043190074831924, 0.012147712750739266, 0.018409420152586575, 0.011534066157377787, -0.03188461498055089, -0.025209635972378512, 0.048741132941726314, 0.01641819843373289, 0.001955218184422766, -0.046712339806857725, -0.00888536328471511, -0.004076371977744636, -0.004624271387047807, -0.004339363507945639, -0.002038185988872318, -0.006631148638676531, 0.003090152808168278, -0.009693123583325575, -0.002568865709106837, -0.005920444727029264, -0.01824661565024248, 0.015679316891397035, -0.011840889454058527, -0.006349371866129371, -0.0022229063744562813, 0.01111453140662011, -0.023155795847715047, 0.0013744448338444688, -0.03611753204149738]\n"
          ]
        }
      ]
    },
    {
      "cell_type": "code",
      "source": [
        "len(query_embedding)"
      ],
      "metadata": {
        "colab": {
          "base_uri": "https://localhost:8080/"
        },
        "id": "W-aQqv2k-eDO",
        "outputId": "3407babe-1837-4ba6-d367-a963bc5fad19"
      },
      "execution_count": null,
      "outputs": [
        {
          "output_type": "execute_result",
          "data": {
            "text/plain": [
              "1536"
            ]
          },
          "metadata": {},
          "execution_count": 16
        }
      ]
    },
    {
      "cell_type": "code",
      "source": [
        "!pip install sentence-transformers"
      ],
      "metadata": {
        "colab": {
          "base_uri": "https://localhost:8080/"
        },
        "id": "Pkf4FmkD-IXi",
        "outputId": "f1248fad-23ad-4e08-b765-93aecdd37387"
      },
      "execution_count": null,
      "outputs": [
        {
          "output_type": "stream",
          "name": "stdout",
          "text": [
            "Collecting sentence-transformers\n",
            "  Downloading sentence_transformers-2.5.1-py3-none-any.whl (156 kB)\n",
            "\u001b[?25l     \u001b[90m━━━━━━━━━━━━━━━━━━━━━━━━━━━━━━━━━━━━━━━━\u001b[0m \u001b[32m0.0/156.5 kB\u001b[0m \u001b[31m?\u001b[0m eta \u001b[36m-:--:--\u001b[0m\r\u001b[2K     \u001b[91m━━━━━━━━━━━━━━━━━━━━━━━━━━━━━━━━━━━━━━━\u001b[0m\u001b[90m╺\u001b[0m \u001b[32m153.6/156.5 kB\u001b[0m \u001b[31m4.9 MB/s\u001b[0m eta \u001b[36m0:00:01\u001b[0m\r\u001b[2K     \u001b[90m━━━━━━━━━━━━━━━━━━━━━━━━━━━━━━━━━━━━━━━━\u001b[0m \u001b[32m156.5/156.5 kB\u001b[0m \u001b[31m4.0 MB/s\u001b[0m eta \u001b[36m0:00:00\u001b[0m\n",
            "\u001b[?25hRequirement already satisfied: transformers<5.0.0,>=4.32.0 in /usr/local/lib/python3.10/dist-packages (from sentence-transformers) (4.38.2)\n",
            "Requirement already satisfied: tqdm in /usr/local/lib/python3.10/dist-packages (from sentence-transformers) (4.66.2)\n",
            "Requirement already satisfied: torch>=1.11.0 in /usr/local/lib/python3.10/dist-packages (from sentence-transformers) (2.2.1+cu121)\n",
            "Requirement already satisfied: numpy in /usr/local/lib/python3.10/dist-packages (from sentence-transformers) (1.25.2)\n",
            "Requirement already satisfied: scikit-learn in /usr/local/lib/python3.10/dist-packages (from sentence-transformers) (1.2.2)\n",
            "Requirement already satisfied: scipy in /usr/local/lib/python3.10/dist-packages (from sentence-transformers) (1.11.4)\n",
            "Requirement already satisfied: huggingface-hub>=0.15.1 in /usr/local/lib/python3.10/dist-packages (from sentence-transformers) (0.20.3)\n",
            "Requirement already satisfied: Pillow in /usr/local/lib/python3.10/dist-packages (from sentence-transformers) (9.4.0)\n",
            "Requirement already satisfied: filelock in /usr/local/lib/python3.10/dist-packages (from huggingface-hub>=0.15.1->sentence-transformers) (3.13.1)\n",
            "Requirement already satisfied: fsspec>=2023.5.0 in /usr/local/lib/python3.10/dist-packages (from huggingface-hub>=0.15.1->sentence-transformers) (2023.6.0)\n",
            "Requirement already satisfied: requests in /usr/local/lib/python3.10/dist-packages (from huggingface-hub>=0.15.1->sentence-transformers) (2.31.0)\n",
            "Requirement already satisfied: pyyaml>=5.1 in /usr/local/lib/python3.10/dist-packages (from huggingface-hub>=0.15.1->sentence-transformers) (6.0.1)\n",
            "Requirement already satisfied: typing-extensions>=3.7.4.3 in /usr/local/lib/python3.10/dist-packages (from huggingface-hub>=0.15.1->sentence-transformers) (4.10.0)\n",
            "Requirement already satisfied: packaging>=20.9 in /usr/local/lib/python3.10/dist-packages (from huggingface-hub>=0.15.1->sentence-transformers) (23.2)\n",
            "Requirement already satisfied: sympy in /usr/local/lib/python3.10/dist-packages (from torch>=1.11.0->sentence-transformers) (1.12)\n",
            "Requirement already satisfied: networkx in /usr/local/lib/python3.10/dist-packages (from torch>=1.11.0->sentence-transformers) (3.2.1)\n",
            "Requirement already satisfied: jinja2 in /usr/local/lib/python3.10/dist-packages (from torch>=1.11.0->sentence-transformers) (3.1.3)\n",
            "Collecting nvidia-cuda-nvrtc-cu12==12.1.105 (from torch>=1.11.0->sentence-transformers)\n",
            "  Downloading nvidia_cuda_nvrtc_cu12-12.1.105-py3-none-manylinux1_x86_64.whl (23.7 MB)\n",
            "\u001b[2K     \u001b[90m━━━━━━━━━━━━━━━━━━━━━━━━━━━━━━━━━━━━━━━━\u001b[0m \u001b[32m23.7/23.7 MB\u001b[0m \u001b[31m39.7 MB/s\u001b[0m eta \u001b[36m0:00:00\u001b[0m\n",
            "\u001b[?25hCollecting nvidia-cuda-runtime-cu12==12.1.105 (from torch>=1.11.0->sentence-transformers)\n",
            "  Downloading nvidia_cuda_runtime_cu12-12.1.105-py3-none-manylinux1_x86_64.whl (823 kB)\n",
            "\u001b[2K     \u001b[90m━━━━━━━━━━━━━━━━━━━━━━━━━━━━━━━━━━━━━━━━\u001b[0m \u001b[32m823.6/823.6 kB\u001b[0m \u001b[31m53.3 MB/s\u001b[0m eta \u001b[36m0:00:00\u001b[0m\n",
            "\u001b[?25hCollecting nvidia-cuda-cupti-cu12==12.1.105 (from torch>=1.11.0->sentence-transformers)\n",
            "  Downloading nvidia_cuda_cupti_cu12-12.1.105-py3-none-manylinux1_x86_64.whl (14.1 MB)\n",
            "\u001b[2K     \u001b[90m━━━━━━━━━━━━━━━━━━━━━━━━━━━━━━━━━━━━━━━━\u001b[0m \u001b[32m14.1/14.1 MB\u001b[0m \u001b[31m68.0 MB/s\u001b[0m eta \u001b[36m0:00:00\u001b[0m\n",
            "\u001b[?25hCollecting nvidia-cudnn-cu12==8.9.2.26 (from torch>=1.11.0->sentence-transformers)\n",
            "  Downloading nvidia_cudnn_cu12-8.9.2.26-py3-none-manylinux1_x86_64.whl (731.7 MB)\n",
            "\u001b[2K     \u001b[90m━━━━━━━━━━━━━━━━━━━━━━━━━━━━━━━━━━━━━━━━\u001b[0m \u001b[32m731.7/731.7 MB\u001b[0m \u001b[31m1.3 MB/s\u001b[0m eta \u001b[36m0:00:00\u001b[0m\n",
            "\u001b[?25hCollecting nvidia-cublas-cu12==12.1.3.1 (from torch>=1.11.0->sentence-transformers)\n",
            "  Downloading nvidia_cublas_cu12-12.1.3.1-py3-none-manylinux1_x86_64.whl (410.6 MB)\n",
            "\u001b[2K     \u001b[90m━━━━━━━━━━━━━━━━━━━━━━━━━━━━━━━━━━━━━━━━\u001b[0m \u001b[32m410.6/410.6 MB\u001b[0m \u001b[31m2.1 MB/s\u001b[0m eta \u001b[36m0:00:00\u001b[0m\n",
            "\u001b[?25hCollecting nvidia-cufft-cu12==11.0.2.54 (from torch>=1.11.0->sentence-transformers)\n",
            "  Downloading nvidia_cufft_cu12-11.0.2.54-py3-none-manylinux1_x86_64.whl (121.6 MB)\n",
            "\u001b[2K     \u001b[90m━━━━━━━━━━━━━━━━━━━━━━━━━━━━━━━━━━━━━━━━\u001b[0m \u001b[32m121.6/121.6 MB\u001b[0m \u001b[31m7.7 MB/s\u001b[0m eta \u001b[36m0:00:00\u001b[0m\n",
            "\u001b[?25hCollecting nvidia-curand-cu12==10.3.2.106 (from torch>=1.11.0->sentence-transformers)\n",
            "  Downloading nvidia_curand_cu12-10.3.2.106-py3-none-manylinux1_x86_64.whl (56.5 MB)\n",
            "\u001b[2K     \u001b[90m━━━━━━━━━━━━━━━━━━━━━━━━━━━━━━━━━━━━━━━━\u001b[0m \u001b[32m56.5/56.5 MB\u001b[0m \u001b[31m9.1 MB/s\u001b[0m eta \u001b[36m0:00:00\u001b[0m\n",
            "\u001b[?25hCollecting nvidia-cusolver-cu12==11.4.5.107 (from torch>=1.11.0->sentence-transformers)\n",
            "  Downloading nvidia_cusolver_cu12-11.4.5.107-py3-none-manylinux1_x86_64.whl (124.2 MB)\n",
            "\u001b[2K     \u001b[90m━━━━━━━━━━━━━━━━━━━━━━━━━━━━━━━━━━━━━━━━\u001b[0m \u001b[32m124.2/124.2 MB\u001b[0m \u001b[31m5.7 MB/s\u001b[0m eta \u001b[36m0:00:00\u001b[0m\n",
            "\u001b[?25hCollecting nvidia-cusparse-cu12==12.1.0.106 (from torch>=1.11.0->sentence-transformers)\n",
            "  Downloading nvidia_cusparse_cu12-12.1.0.106-py3-none-manylinux1_x86_64.whl (196.0 MB)\n",
            "\u001b[2K     \u001b[90m━━━━━━━━━━━━━━━━━━━━━━━━━━━━━━━━━━━━━━━━\u001b[0m \u001b[32m196.0/196.0 MB\u001b[0m \u001b[31m2.3 MB/s\u001b[0m eta \u001b[36m0:00:00\u001b[0m\n",
            "\u001b[?25hCollecting nvidia-nccl-cu12==2.19.3 (from torch>=1.11.0->sentence-transformers)\n",
            "  Downloading nvidia_nccl_cu12-2.19.3-py3-none-manylinux1_x86_64.whl (166.0 MB)\n",
            "\u001b[2K     \u001b[90m━━━━━━━━━━━━━━━━━━━━━━━━━━━━━━━━━━━━━━━━\u001b[0m \u001b[32m166.0/166.0 MB\u001b[0m \u001b[31m5.2 MB/s\u001b[0m eta \u001b[36m0:00:00\u001b[0m\n",
            "\u001b[?25hCollecting nvidia-nvtx-cu12==12.1.105 (from torch>=1.11.0->sentence-transformers)\n",
            "  Downloading nvidia_nvtx_cu12-12.1.105-py3-none-manylinux1_x86_64.whl (99 kB)\n",
            "\u001b[2K     \u001b[90m━━━━━━━━━━━━━━━━━━━━━━━━━━━━━━━━━━━━━━━━\u001b[0m \u001b[32m99.1/99.1 kB\u001b[0m \u001b[31m11.1 MB/s\u001b[0m eta \u001b[36m0:00:00\u001b[0m\n",
            "\u001b[?25hRequirement already satisfied: triton==2.2.0 in /usr/local/lib/python3.10/dist-packages (from torch>=1.11.0->sentence-transformers) (2.2.0)\n",
            "Collecting nvidia-nvjitlink-cu12 (from nvidia-cusolver-cu12==11.4.5.107->torch>=1.11.0->sentence-transformers)\n",
            "  Downloading nvidia_nvjitlink_cu12-12.4.99-py3-none-manylinux2014_x86_64.whl (21.1 MB)\n",
            "\u001b[2K     \u001b[90m━━━━━━━━━━━━━━━━━━━━━━━━━━━━━━━━━━━━━━━━\u001b[0m \u001b[32m21.1/21.1 MB\u001b[0m \u001b[31m56.0 MB/s\u001b[0m eta \u001b[36m0:00:00\u001b[0m\n",
            "\u001b[?25hRequirement already satisfied: regex!=2019.12.17 in /usr/local/lib/python3.10/dist-packages (from transformers<5.0.0,>=4.32.0->sentence-transformers) (2023.12.25)\n",
            "Requirement already satisfied: tokenizers<0.19,>=0.14 in /usr/local/lib/python3.10/dist-packages (from transformers<5.0.0,>=4.32.0->sentence-transformers) (0.15.2)\n",
            "Requirement already satisfied: safetensors>=0.4.1 in /usr/local/lib/python3.10/dist-packages (from transformers<5.0.0,>=4.32.0->sentence-transformers) (0.4.2)\n",
            "Requirement already satisfied: joblib>=1.1.1 in /usr/local/lib/python3.10/dist-packages (from scikit-learn->sentence-transformers) (1.3.2)\n",
            "Requirement already satisfied: threadpoolctl>=2.0.0 in /usr/local/lib/python3.10/dist-packages (from scikit-learn->sentence-transformers) (3.3.0)\n",
            "Requirement already satisfied: MarkupSafe>=2.0 in /usr/local/lib/python3.10/dist-packages (from jinja2->torch>=1.11.0->sentence-transformers) (2.1.5)\n",
            "Requirement already satisfied: charset-normalizer<4,>=2 in /usr/local/lib/python3.10/dist-packages (from requests->huggingface-hub>=0.15.1->sentence-transformers) (3.3.2)\n",
            "Requirement already satisfied: idna<4,>=2.5 in /usr/local/lib/python3.10/dist-packages (from requests->huggingface-hub>=0.15.1->sentence-transformers) (3.6)\n",
            "Requirement already satisfied: urllib3<3,>=1.21.1 in /usr/local/lib/python3.10/dist-packages (from requests->huggingface-hub>=0.15.1->sentence-transformers) (2.0.7)\n",
            "Requirement already satisfied: certifi>=2017.4.17 in /usr/local/lib/python3.10/dist-packages (from requests->huggingface-hub>=0.15.1->sentence-transformers) (2024.2.2)\n",
            "Requirement already satisfied: mpmath>=0.19 in /usr/local/lib/python3.10/dist-packages (from sympy->torch>=1.11.0->sentence-transformers) (1.3.0)\n",
            "Installing collected packages: nvidia-nvtx-cu12, nvidia-nvjitlink-cu12, nvidia-nccl-cu12, nvidia-curand-cu12, nvidia-cufft-cu12, nvidia-cuda-runtime-cu12, nvidia-cuda-nvrtc-cu12, nvidia-cuda-cupti-cu12, nvidia-cublas-cu12, nvidia-cusparse-cu12, nvidia-cudnn-cu12, nvidia-cusolver-cu12, sentence-transformers\n",
            "Successfully installed nvidia-cublas-cu12-12.1.3.1 nvidia-cuda-cupti-cu12-12.1.105 nvidia-cuda-nvrtc-cu12-12.1.105 nvidia-cuda-runtime-cu12-12.1.105 nvidia-cudnn-cu12-8.9.2.26 nvidia-cufft-cu12-11.0.2.54 nvidia-curand-cu12-10.3.2.106 nvidia-cusolver-cu12-11.4.5.107 nvidia-cusparse-cu12-12.1.0.106 nvidia-nccl-cu12-2.19.3 nvidia-nvjitlink-cu12-12.4.99 nvidia-nvtx-cu12-12.1.105 sentence-transformers-2.5.1\n"
          ]
        }
      ]
    },
    {
      "cell_type": "code",
      "source": [
        "from langchain_community.embeddings import HuggingFaceEmbeddings\n",
        "\n",
        "embeddings_hf = HuggingFaceEmbeddings()"
      ],
      "metadata": {
        "colab": {
          "base_uri": "https://localhost:8080/",
          "height": 493,
          "referenced_widgets": [
            "fb271da2793d47aa86016d4125105802",
            "680f6becefb54433b60ebfa59bbee333",
            "fb8095acc1714a669960f642bcb73c4c",
            "35b9e2d83cd24bf8948cccceaddaaa55",
            "8e42169e46b5464a96bf54c0d72f4c1d",
            "c58533a8d1814649878a74e6275eecac",
            "538eceff0b5f4c2db61edbacb1488e81",
            "bbcdb8aabd424c6b9a377021d7359635",
            "844f2f5fccf94d11aaf8a3dcf3a790bc",
            "3c3f5f29e6934a588026c5b15bcc897f",
            "2993ffccbbbb4a91a4235f9cad2ed0bc",
            "91990719931444dd82e8b6f54e22d99a",
            "7b8851a7fb3848d0bb80bece0ab5ef11",
            "ae08c6f83db94e73989a040b6e04b409",
            "33733940a04e474bade881fc0c155814",
            "1e44ec52d66a49fd988ec342d2350be2",
            "7fe9d1338755436893174e3f330a600a",
            "32b6e1df5f7146a2bf9e131f61caf6f3",
            "c902decdd2e146bb9904d958331e0925",
            "83c59bc35196409f9b860934a2372df6",
            "adeb6071fc0d4533a9aee66749ee10bf",
            "387bf8df70f84511aaee38ae4c535c4f",
            "f3597a5134d840bf899b565c4719d3c2",
            "21244ecee2cf44e189c8222e8bfacc24",
            "50809cd7b670416bb2c7c91958a498d8",
            "ade96a00edc349258bf57d53720205a3",
            "3adbdd360d3943ea9e5b619441ffebf0",
            "7f264747da7b4e27b99fb48f3810f603",
            "ff95fd02dd84434eb7eb15fbe1134dee",
            "0a316701447c4d2ea06c03ef7cb0c357",
            "90dc785a09a34cd6b347aa7e6e482806",
            "79af48c92a504e00a3b30f6ebaa9cfa9",
            "395dd328efa84ee887be9aae2c469aab",
            "dfffbe5fe41646e2861a1d3b2859eea6",
            "38e28a742bd444a18e77c87444a920b4",
            "92bdc74fb9124d658c61db7d0426e1b7",
            "2a5067d8c1fc4cab9c6daddddf3a50b9",
            "23445228b94d4fc8ad7ccc0c12b60a0e",
            "f34f9d65f139473e892095b170d28cc7",
            "a7caacf4595a4563907d16aff3441dc2",
            "2303b53a7d1b478689a0ff2c5208f06f",
            "dbd519f99bab49a2a7611d5a1bbe90af",
            "20c430ec9a214cd79e33118851889e64",
            "deb782074d3d448dbf0afe2d5595d1ed",
            "a58a3527fa894147bd58f2273f908ce6",
            "1cb466da15f848599bca9e0f078b3e8c",
            "ec6734f6f9cb47399ece97e693d492f6",
            "7d9745958acc43e989b87b915ba821d6",
            "a8146bc51d3549df8fd74e7654ee7bbf",
            "32472bac083e4b899bf4b3925cb8ff0a",
            "0324a76968f946039ac625cdf0305652",
            "113dca74cc2b4e8784d6b933271796ff",
            "ecd0cea13de44809acca02dcf2879fc2",
            "c822feff60bc4c50a11dd17477c7abc2",
            "e55767f190c34aa491c45dfde029f094",
            "8e63b326637d471b9228cc3357ed7046",
            "74cec673596a47059f4c82e50313db76",
            "7e562beaaad94523ad5a6f361867904f",
            "a6f8f69336a24762aa597f12625e952c",
            "5fc8a855217c485eb4abcbea97296573",
            "0f56a9b0c8f142be8463b4f5b982cedf",
            "a7b01681fe5c42cca64042565a02aaa8",
            "dfafe1e704c04af281592c61ecaeeac1",
            "ad16516bbf5e4fcfa3282590e0f330ff",
            "b5e19685d1124dada23e23cec81b1ff5",
            "21b219fe9d774202987d342d38641974",
            "389aac133a944da38c9549aba0ede7b3",
            "20c7a77384d14aa1aff72feb207d267d",
            "505202781173452381cd2f90cbd2cb01",
            "cec50d0117d6410bad8e4965f573eb19",
            "503ae90484524b6ab1f4d39bc82f1f94",
            "338b9b9c863249aa8df6732d2168e9a2",
            "834d389ced9748c48a925371675f6ac9",
            "6afc5252a63a4a0990e3a0bdbc54bd84",
            "e921bd35f2d34d0f981a3fc22127b2c8",
            "239275f69ea645f49dc5b7fe0e3687a0",
            "61e60e507c5b4487a056d0e864e93c48",
            "6a46facd52184acd9d66c350f417a809",
            "1744681f2b64424981c2bf6bfbc281c5",
            "93d04922014c4af8819c0472f449e32a",
            "f07f34ec82de44b99937e895369f4d96",
            "58f24d3003ce4ba9a8fdee439d70b739",
            "8094a314e2f14c7387e3ba5b9bd02109",
            "08b450cf303a4a078c67f4df27de906a",
            "35711731859248bfae3082fda0527e88",
            "60a05920f2e2454faf4508ee293285b3",
            "7010c35d6d024a17be72760389a3d7de",
            "27b52a0396694505aa2f59ea449781b7",
            "f6b1d17c36a14b37ab8167ab1d1fd852",
            "3e14c476374a4aea84f2bf2d3f0e0fb0",
            "17c5c76e5ac94073ba739a34999bb7ce",
            "36a289d8b5fd4863bbf47330369835d2",
            "141d446b31f445aea9d2c18605526675",
            "fd5f2aaa7825474a94d342e4b0c4e95a",
            "1873ca88421a42b7aa54c277d2c140cb",
            "f55112f3d21644d2ae041b49ad2ba01d",
            "4e6eee4a72634365a86e1dc165637cc9",
            "90a462b803ab4f2a94742dbed42cb7d4",
            "171f10a2fa074f94a4884872afcb3c0d",
            "2d18a79b27cc4403b888c981187502af",
            "ca3019758af14e67a8532d41d45b80f6",
            "e2b6a611d16f4e8fb67f7a577c0a8601",
            "1a4175b522d248a297a5b3ed654430d2",
            "3b23a26db774491697f47a404e86b6d0",
            "f023c5ccb1834ade889870dccd5683a3",
            "749441cf768a485fa1730ba3ded01fc9",
            "09649c852aa442d397614abe62c04224",
            "f4db6d1797404eaead41795cb8fdf9d5",
            "a14b913dea70434b93f73dc45422c67f",
            "99afa9ac98d3407f8a74a482332677df",
            "be79726363d2409c975f453065542a8b",
            "34333d2aead249ffa41472ccd5fd8606",
            "e018355bc01f4cc8b75d4ea1c0b42428",
            "c390e734782542ba91e4606da1272595",
            "7d8921248b8b44c0954a217f56b2cff7",
            "4ba4c57101694d48a50e2c1811e6ebdc",
            "8a7209f1ad8a4658925fb7b33993151a",
            "dbbee93c80e44a68b3953738d90b554f",
            "792930d19e3a478e8880dd4aa05ab76f",
            "38418412a10f42b69d81c44ef938784d",
            "d04f889ea0a44baeb12c6e3eb8f6f8be"
          ]
        },
        "id": "clvTpGLO-Dki",
        "outputId": "a6b948c8-cc76-48cd-80c2-1d3dcf2bca5a"
      },
      "execution_count": null,
      "outputs": [
        {
          "output_type": "stream",
          "name": "stderr",
          "text": [
            "/usr/local/lib/python3.10/dist-packages/huggingface_hub/utils/_token.py:88: UserWarning: \n",
            "The secret `HF_TOKEN` does not exist in your Colab secrets.\n",
            "To authenticate with the Hugging Face Hub, create a token in your settings tab (https://huggingface.co/settings/tokens), set it as secret in your Google Colab and restart your session.\n",
            "You will be able to reuse this secret in all of your notebooks.\n",
            "Please note that authentication is recommended but still optional to access public models or datasets.\n",
            "  warnings.warn(\n"
          ]
        },
        {
          "output_type": "display_data",
          "data": {
            "text/plain": [
              "modules.json:   0%|          | 0.00/349 [00:00<?, ?B/s]"
            ],
            "application/vnd.jupyter.widget-view+json": {
              "version_major": 2,
              "version_minor": 0,
              "model_id": "fb271da2793d47aa86016d4125105802"
            }
          },
          "metadata": {}
        },
        {
          "output_type": "display_data",
          "data": {
            "text/plain": [
              "config_sentence_transformers.json:   0%|          | 0.00/116 [00:00<?, ?B/s]"
            ],
            "application/vnd.jupyter.widget-view+json": {
              "version_major": 2,
              "version_minor": 0,
              "model_id": "91990719931444dd82e8b6f54e22d99a"
            }
          },
          "metadata": {}
        },
        {
          "output_type": "display_data",
          "data": {
            "text/plain": [
              "README.md:   0%|          | 0.00/10.6k [00:00<?, ?B/s]"
            ],
            "application/vnd.jupyter.widget-view+json": {
              "version_major": 2,
              "version_minor": 0,
              "model_id": "f3597a5134d840bf899b565c4719d3c2"
            }
          },
          "metadata": {}
        },
        {
          "output_type": "display_data",
          "data": {
            "text/plain": [
              "sentence_bert_config.json:   0%|          | 0.00/53.0 [00:00<?, ?B/s]"
            ],
            "application/vnd.jupyter.widget-view+json": {
              "version_major": 2,
              "version_minor": 0,
              "model_id": "dfffbe5fe41646e2861a1d3b2859eea6"
            }
          },
          "metadata": {}
        },
        {
          "output_type": "display_data",
          "data": {
            "text/plain": [
              "config.json:   0%|          | 0.00/571 [00:00<?, ?B/s]"
            ],
            "application/vnd.jupyter.widget-view+json": {
              "version_major": 2,
              "version_minor": 0,
              "model_id": "a58a3527fa894147bd58f2273f908ce6"
            }
          },
          "metadata": {}
        },
        {
          "output_type": "display_data",
          "data": {
            "text/plain": [
              "pytorch_model.bin:   0%|          | 0.00/438M [00:00<?, ?B/s]"
            ],
            "application/vnd.jupyter.widget-view+json": {
              "version_major": 2,
              "version_minor": 0,
              "model_id": "8e63b326637d471b9228cc3357ed7046"
            }
          },
          "metadata": {}
        },
        {
          "output_type": "display_data",
          "data": {
            "text/plain": [
              "tokenizer_config.json:   0%|          | 0.00/363 [00:00<?, ?B/s]"
            ],
            "application/vnd.jupyter.widget-view+json": {
              "version_major": 2,
              "version_minor": 0,
              "model_id": "389aac133a944da38c9549aba0ede7b3"
            }
          },
          "metadata": {}
        },
        {
          "output_type": "display_data",
          "data": {
            "text/plain": [
              "vocab.txt:   0%|          | 0.00/232k [00:00<?, ?B/s]"
            ],
            "application/vnd.jupyter.widget-view+json": {
              "version_major": 2,
              "version_minor": 0,
              "model_id": "6a46facd52184acd9d66c350f417a809"
            }
          },
          "metadata": {}
        },
        {
          "output_type": "display_data",
          "data": {
            "text/plain": [
              "tokenizer.json:   0%|          | 0.00/466k [00:00<?, ?B/s]"
            ],
            "application/vnd.jupyter.widget-view+json": {
              "version_major": 2,
              "version_minor": 0,
              "model_id": "f6b1d17c36a14b37ab8167ab1d1fd852"
            }
          },
          "metadata": {}
        },
        {
          "output_type": "display_data",
          "data": {
            "text/plain": [
              "special_tokens_map.json:   0%|          | 0.00/239 [00:00<?, ?B/s]"
            ],
            "application/vnd.jupyter.widget-view+json": {
              "version_major": 2,
              "version_minor": 0,
              "model_id": "2d18a79b27cc4403b888c981187502af"
            }
          },
          "metadata": {}
        },
        {
          "output_type": "display_data",
          "data": {
            "text/plain": [
              "1_Pooling/config.json:   0%|          | 0.00/190 [00:00<?, ?B/s]"
            ],
            "application/vnd.jupyter.widget-view+json": {
              "version_major": 2,
              "version_minor": 0,
              "model_id": "be79726363d2409c975f453065542a8b"
            }
          },
          "metadata": {}
        }
      ]
    },
    {
      "cell_type": "code",
      "source": [
        "query_embedding_hf = embeddings_hf.embed_query(query)\n",
        "\n",
        "print(query_embedding_hf)"
      ],
      "metadata": {
        "colab": {
          "base_uri": "https://localhost:8080/"
        },
        "id": "656klq4UAsvl",
        "outputId": "6f6cebe2-eeb8-4b60-a564-3e3cd2c17c78"
      },
      "execution_count": null,
      "outputs": [
        {
          "output_type": "stream",
          "name": "stdout",
          "text": [
            "[0.0009806090965867043, -0.002615506760776043, -0.01855199784040451, -0.016329461708664894, 0.04622287303209305, 0.056840501725673676, -0.00943505298346281, 0.03670763596892357, 0.0659763365983963, -0.05291019007563591, 0.01366744190454483, 0.0409340038895607, -0.04412906616926193, 0.02599515952169895, 0.022571654990315437, 0.06724225729703903, 0.0007562898681499064, 0.06397366523742676, 0.07188370823860168, 0.003069598926231265, 0.04837045073509216, 0.029838645830750465, -0.02106550522148609, 0.04847287759184837, -0.09756846725940704, -0.011624937877058983, -0.022803345695137978, 0.05381122976541519, 0.0006884282920509577, -0.038861144334077835, 0.025494588539004326, 0.020741067826747894, 0.01953040063381195, 0.03701429441571236, 1.7555510112288175e-06, 0.0183637123554945, -0.014142039231956005, 0.044115468859672546, 0.03808527812361717, -0.03987184166908264, 0.012729419395327568, -0.07349445670843124, 0.00639321468770504, 0.011878453195095062, 0.04090743139386177, -0.08040538430213928, 0.023838024586439133, 0.024724064394831657, 0.02977985516190529, 0.07358727604150772, -0.011259196326136589, -0.056265443563461304, -0.04761010408401489, -0.0040059019811451435, 0.0010689868358895183, -0.01053980179131031, -0.022840596735477448, 0.04495352506637573, 0.0072525362484157085, -0.04670744016766548, -0.0066915713250637054, -0.054391540586948395, -0.019512901082634926, -0.04839572310447693, -0.0720180869102478, 0.04583049938082695, 0.057430293411016464, 0.02645700052380562, -0.0027053826488554478, 0.016432659700512886, -0.06284239143133163, 0.04123499616980553, 0.01947658881545067, 0.03968562185764313, -0.02018129639327526, -0.03184827044606209, 0.005221822299063206, 0.06656232476234436, 0.001658744877204299, 0.01972036063671112, 0.012472090311348438, -0.006906756665557623, -0.023578200489282608, -0.017206402495503426, -0.018506253138184547, -0.0517534576356411, -0.02208094671368599, -0.011225667782127857, 0.04918403923511505, -0.04673852398991585, -0.020577825605869293, 0.013294240459799767, -0.06288350373506546, -0.024044565856456757, -0.0645981952548027, -0.008487082086503506, -0.026539336889982224, 0.028146926313638687, -0.051408931612968445, -0.0727897360920906, 0.02091132663190365, 0.0035768740344792604, 0.043234068900346756, 0.0011477210791781545, 0.021549103781580925, 0.03614198416471481, -0.007181552238762379, -0.0015876389807090163, -0.05118662118911743, 0.03419159725308418, -0.05448830872774124, 0.011562494561076164, 0.012568947859108448, -0.021117806434631348, 0.009686351753771305, 0.008487436920404434, -0.025174876675009727, 0.0035699682775884867, -0.009919767268002033, 0.024387704208493233, -0.04018016532063484, 0.03464982286095619, 0.03080110438168049, 0.002359684556722641, -0.005537493620067835, -0.03850847855210304, -0.00847512949258089, 0.007330627646297216, 0.008621039800345898, -0.0833398625254631, 0.01914958469569683, -0.014485933817923069, -0.09025987237691879, -0.017071908339858055, -0.0352507047355175, 0.05645928159356117, -0.029625223949551582, 0.057421598583459854, -0.013543217442929745, 0.023173470050096512, -0.03589596599340439, -0.02085043676197529, -0.005630815867334604, 0.01922977715730667, -0.02157735265791416, -0.02553420700132847, -0.007170235272496939, -0.03074675239622593, 0.012633676640689373, -0.0314505398273468, 0.011409802362322807, 0.02397056668996811, -0.044238511472940445, -0.013409423641860485, -0.0052610039710998535, -0.012538732960820198, -0.029638364911079407, -0.012052842415869236, -0.03251972049474716, 0.0015890873037278652, -0.01405481155961752, -0.033534493297338486, 0.030084367841482162, -0.0062462338246405125, -0.0007297609699890018, -0.04074515402317047, -0.04760351404547691, 0.03452875837683678, -0.021767601370811462, -0.0077521284110844135, 0.01919216848909855, -0.013569844886660576, -0.008231744170188904, 0.0368240661919117, -0.009114974178373814, 0.0028958970215171576, -0.03515540435910225, 0.07227887213230133, -0.039802055805921555, 0.014904080890119076, -0.06481046974658966, 0.03025680221617222, 0.025443971157073975, -0.0011451501632109284, -0.03962264209985733, -0.04097355902194977, 0.019115231931209564, -0.035150714218616486, -0.02545035257935524, -0.007970346137881279, -0.022842125967144966, -0.011832836084067822, -0.06002403050661087, 0.013321476057171822, -0.010864676907658577, 0.006632543168962002, 0.010957054793834686, 0.03557168319821358, 0.02548063173890114, -0.05704749375581741, -0.01704082079231739, 0.019474752247333527, 0.012528933584690094, 0.04153917357325554, 0.0322505347430706, -0.028973648324608803, 0.02274220623075962, -0.039572831243276596, 0.022290676832199097, -0.0045233964920043945, -0.02035350538790226, -0.043016448616981506, -0.06003861129283905, -0.01473837997764349, -0.0005231751129031181, -0.02609948255121708, 0.018358824774622917, -0.002317974343895912, -0.0007971912855282426, 0.06173813343048096, -0.040318239480257034, 0.022006871178746223, -0.06575198471546173, 0.021603304892778397, 0.029640335589647293, -0.02804185263812542, -0.05339988321065903, -0.03945425525307655, 0.006642842199653387, -0.025722062215209007, -0.0029424703679978848, -0.023337800055742264, 0.04232669621706009, -0.041956257075071335, 0.023381849750876427, -0.030165687203407288, 0.04695755988359451, -0.048703741282224655, 0.03925678879022598, -0.05094166100025177, 0.016010897234082222, 0.0771438330411911, -0.017193131148815155, 0.039264921098947525, 0.031766053289175034, 0.01484317984431982, -0.08792414516210556, -0.012702004052698612, 0.026613175868988037, -0.034615326672792435, 0.01773383468389511, -0.003952880389988422, -0.02538599632680416, -0.00019063337822444737, 0.018512625247240067, 0.004822965245693922, -0.05903029814362526, -0.009388189762830734, 0.03309478610754013, -0.019487375393509865, 0.030891019850969315, 0.037381596863269806, -0.03134245425462723, -0.02006426453590393, -0.008262023329734802, -0.008300789631903172, -0.041457708925008774, 0.0850815623998642, 0.020948372781276703, 0.022071683779358864, 8.05951640359126e-05, 0.010458896867930889, -0.013559493236243725, -0.001480520935729146, 0.023131713271141052, -0.012018779292702675, -0.07126904278993607, -0.03862122818827629, -0.00984527263790369, -0.0036743131931871176, -0.035428065806627274, -0.04010246321558952, 0.014309948310256004, 0.028505761176347733, -0.02181149274110794, 0.036829810589551926, -0.033571235835552216, -0.007244352716952562, 0.02362869121134281, -0.010395404882729053, 0.03523700311779976, 0.0306487325578928, -0.06704669445753098, -0.039536286145448685, 0.029363898560404778, -0.032596077769994736, -0.1021435409784317, -0.0856688842177391, 0.028623905032873154, 0.08249128609895706, -0.02331584133207798, -0.029759317636489868, -0.021206486970186234, -0.0011449645971879363, -0.022404151037335396, -0.07486985623836517, -0.045846179127693176, -0.02082538604736328, -0.03793228045105934, 0.07733271270990372, -0.0031436278950423002, 0.0061507448554039, 0.033184029161930084, -0.002919945400208235, -0.021571792662143707, -0.0558648444712162, -0.1094043105840683, -0.04379967972636223, 0.05177798122167587, -0.021370764821767807, 0.031015615910291672, -0.03526155278086662, -0.012559724040329456, 0.002094995230436325, -0.009563593193888664, -0.009058774448931217, 0.006654378026723862, -0.025212489068508148, 0.06769999116659164, -0.03040088713169098, 0.001816695905290544, -0.007187651935964823, 0.04114769026637077, -0.0007049468113109469, -0.07974495738744736, 0.008739643730223179, -0.029629573225975037, -0.057876624166965485, -0.02438066154718399, 0.019736934453248978, -0.024829953908920288, 0.038022927939891815, -0.06130602955818176, -0.04481137916445732, 0.02527436427772045, 0.009668064303696156, 0.026504607871174812, 0.008096265606582165, -0.0006158011965453625, 0.008895622566342354, -0.011749045923352242, -0.05218622460961342, 0.0067322892136871815, -0.02379748411476612, 0.04178334400057793, 0.011943467892706394, -0.0004642040003091097, 0.03670067340135574, 0.019675424322485924, 0.0055022151209414005, -0.03157326206564903, 0.04057559370994568, 0.008919661864638329, -0.015312988311052322, -0.047183386981487274, 0.038921840488910675, -0.02810390666127205, -0.012829827144742012, 0.05174672231078148, -0.06480076909065247, -0.02480390854179859, 0.012815169990062714, 0.006107351742684841, 0.017772600054740906, -0.004554835148155689, 0.07841465622186661, 0.0288960300385952, -0.028642328456044197, -0.017412468791007996, -0.034570205956697464, 0.040541574358940125, -0.01044691726565361, -0.0021651526913046837, -0.018419984728097916, -0.04796804487705231, 0.0007604715647175908, 0.025648338720202446, -0.010897915810346603, -0.013086557388305664, 0.02248220331966877, -0.011127714067697525, 0.024719836190342903, -0.09209281206130981, 0.15349170565605164, 0.04152773320674896, 0.004467453807592392, -0.02935255691409111, 0.00228414055891335, 0.085382379591465, -0.012767174281179905, 0.021994927898049355, 0.08436188101768494, 0.05411948636174202, -0.02323950082063675, 0.03984856978058815, 0.024077866226434708, -0.045527417212724686, 0.020864443853497505, 0.010305054485797882, 0.021015383303165436, 0.14580737054347992, -0.08791057765483856, -0.001439424930140376, -0.00024917078553698957, -0.02359827421605587, 0.03338825702667236, 0.02592785470187664, 0.05179264768958092, 0.013105826452374458, -0.024222563952207565, 0.024828512221574783, 0.015529166907072067, -0.0675092488527298, -0.014146135188639164, 0.03305952250957489, -0.05986318364739418, -0.03879875689744949, 0.006395814009010792, 0.026204468682408333, 0.045752719044685364, 0.01873190328478813, -0.06120847538113594, 0.037418123334646225, -0.07282266765832901, 0.03741191327571869, -0.011601325124502182, 0.0007000209880061448, 0.029968222603201866, -0.09973293542861938, -0.024509450420737267, 0.013173500075936317, 0.0018934516701847315, -0.04509003832936287, 0.012725326232612133, -0.04513794928789139, -0.031298357993364334, -0.007679848466068506, 0.0497063472867012, 0.050194282084703445, 0.06009715795516968, 0.014428895898163319, 0.040880732238292694, -0.01055656187236309, -0.01769396848976612, 0.006075577344745398, -0.018358245491981506, 0.010993399657309055, 0.021042751148343086, 0.02820635214447975, 0.03774302080273628, 0.019379515200853348, -0.010097378864884377, 0.049040671437978745, -0.02634202130138874, -0.008455389179289341, 0.03469453752040863, 0.047493088990449905, 0.07094164937734604, -0.006339816842228174, 0.04020107537508011, 0.018196504563093185, 0.01943632774055004, 0.0005910294712521136, 0.007442442700266838, 0.07372342050075531, -0.049380455166101456, -0.012819749303162098, -0.019407784566283226, -0.07455077767372131, -0.039263226091861725, -0.007904396392405033, 0.015440291725099087, -0.01505185104906559, -0.09759584069252014, -0.024586696177721024, 0.018322188407182693, 0.033488981425762177, 0.0007863911450840533, 0.013955684378743172, -0.01957838237285614, 0.016771724447607994, 0.01557205431163311, 0.0008848903235048056, -0.05905112996697426, -0.009519828483462334, -0.058016277849674225, 0.0594157800078392, -0.0035706968046724796, 0.012161138467490673, -0.02471667155623436, -0.027051424607634544, 0.039183732122182846, 0.015633124858140945, 0.028688643127679825, -0.038562510162591934, 0.011884613893926144, -0.027147598564624786, -0.026725249364972115, -0.008111932314932346, -0.028999587520956993, 0.010489854030311108, 0.07038598507642746, 0.03800854831933975, 0.003535926342010498, 0.020609572529792786, -0.01972002163529396, -0.03126602992415428, -0.03641977161169052, -0.0036446915473788977, -0.03091597743332386, 0.006489299703389406, 0.005927130579948425, 0.0004446708189789206, 0.030388956889510155, 0.01077998336404562, -0.033141180872917175, 0.01823958195745945, -0.01508302427828312, -0.034315671771764755, 0.039220161736011505, -0.030762935057282448, 0.07118750363588333, -0.0020889746956527233, -0.01989065110683441, 0.004366521257907152, 0.024156654253602028, -0.02210324816405773, -0.0070935501717031, 0.030420035123825073, -0.028709230944514275, 0.012477033771574497, 0.012626285664737225, 0.02719058282673359, 0.01950962096452713, 0.016581237316131592, 0.02071498893201351, 0.040951818227767944, 0.003305909689515829, -0.04519630968570709, 0.044447679072618484, 0.026195386424660683, 0.06876840442419052, 0.02032199315726757, -0.012122959829866886, 0.025075605139136314, -5.997315974571662e-33, 0.00150965410284698, -0.009446434676647186, -0.020677587017416954, 0.03830303996801376, -0.03678102046251297, 0.04969978705048561, 0.043546583503484726, -0.004843716509640217, -0.017223842442035675, 0.03364236280322075, -0.006178621202707291, -0.010774864815175533, 0.010217050090432167, -0.011908243410289288, 0.0507180392742157, -0.05449167266488075, -0.012456582859158516, 0.022452352568507195, 0.007316507399082184, -0.028071867302060127, -0.002492541214451194, -0.017208080738782883, 0.005583319813013077, -0.07898478955030441, -0.05072002112865448, -0.04119193181395531, -0.044828664511442184, -0.027899589389562607, 0.02710767649114132, 0.04149214178323746, 0.017393581569194794, -0.01909549906849861, -0.002851707860827446, 0.00022771362273488194, 0.007238840684294701, -0.027128009125590324, -0.022613391280174255, 0.004215080291032791, 0.010362816043198109, -0.054329682141542435, -0.04126491770148277, 0.0166661124676466, -0.008681870996952057, 0.04675498977303505, -0.016874322667717934, -0.018418654799461365, 0.010731971822679043, 0.029392097145318985, 0.020669110119342804, -0.011359498836100101, -0.0322251133620739, 0.01543505024164915, -0.046602003276348114, -0.08483318984508514, -0.04381879046559334, -0.011534745804965496, 0.026805920526385307, 0.04447553679347038, 0.015927990898489952, 0.0025381690356880426, 0.057298947125673294, 0.012944464571774006, 0.03499428182840347, 0.04022146761417389, -0.0010807248763740063, 0.04045746102929115, 0.07584957033395767, -0.008262324146926403, -0.05146963149309158, 0.007106340955942869, -0.03116508759558201, 0.015589835122227669, -0.014996957033872604, 0.011575516313314438, 0.025771409273147583, -0.0003115899453405291, -0.034258365631103516, 0.06353867053985596, 0.020983658730983734, 0.025968005880713463, 0.041382115334272385, 0.03359343484044075, 0.0025715334340929985, 0.005028577987104654, 0.04412556812167168, -0.013082663528621197, 0.01808047480881214, 0.01642364263534546, 0.0376000739634037, 0.011905482970178127, 0.0558333657681942, 0.020260585471987724, 0.017345642670989037, 0.016168707981705666, -0.0010187580483034253, -0.06715694814920425, -0.010579802095890045, 0.056472599506378174, 0.017182523384690285, -0.047341857105493546, 0.03702523559331894, -0.03580668941140175, 0.028378836810588837, 0.02390970289707184, 0.04180287569761276, 0.06685008108615875, 0.017215367406606674, -0.021079184487462044, 0.061673518270254135, -0.011127961799502373, -0.015353305265307426, 0.009726948104798794, -0.026752769947052002, 0.01476689800620079, -0.04124365374445915, -0.028192130848765373, -0.017685769125819206, -0.05373192951083183, -0.043689653277397156, 0.06418461352586746, 0.057488106191158295, 0.11386658996343613, 0.03077387996017933, -0.02450205199420452, 0.020453045144677162, 0.03169647976756096, -0.04436758533120155, 0.016528479754924774, -0.06459677219390869, -0.051063623279333115, 0.0037112394347786903, -0.06561961024999619, 2.4290275746352563e-07, 0.03750639781355858, 0.0011241474421694875, 0.07484014332294464, 0.00034475402208045125, 0.04879910871386528, 0.006684205029159784, -0.03233851492404938, 0.0013706982135772705, -0.03103109635412693, -0.04222879931330681, 0.052114538848400116, -0.0009875608375295997, -0.008096996694803238, 0.052107926458120346, 0.034129563719034195, -0.02118549682199955, -0.0017530054319649935, -0.021288501098752022, -0.015441645868122578, 0.005269168876111507, 0.04824875667691231, -0.04589933529496193, 0.010575635358691216, -0.016493020579218864, 0.027659213170409203, -0.00771002471446991, 0.0036621205508708954, -0.01633210852742195, -0.004723997786641121, -0.01633775793015957, -0.12147346138954163, 0.056682758033275604, -0.00017554267833475024, -0.0030017655808478594, -0.006978470832109451, -0.05563740059733391, -0.0025175896007567644, -0.02052311785519123, -0.003178209997713566, 0.011719107627868652, 0.04854365810751915, 0.0331873893737793, -0.012742538005113602, 0.039244767278432846, 0.0007480770582333207, 0.007646121550351381, 0.037515994161367416, 0.004210701212286949, 0.07360304892063141, -0.0039122398011386395, 0.03166254237294197, -0.04723213613033295, 0.0019608023576438427, 0.06680873036384583, -0.006381388753652573, -0.00947842001914978, -0.013382121920585632, -0.036286137998104095, 0.013933885842561722, -0.018940268084406853, -0.017110517248511314, -0.032535064965486526, 0.010526170954108238, -0.023303775116801262, 0.05510864406824112, 0.06101813167333603, 0.009622710756957531, 7.070844754120133e-35, -0.0053426045924425125, 0.003402458969503641, 0.01159816887229681, 0.010404462926089764, -0.02890288457274437, 0.026908062398433685, -0.026577116921544075, 0.014438155107200146, 0.024960795417428017, -0.06275752931833267, -0.008158139884471893]\n"
          ]
        }
      ]
    },
    {
      "cell_type": "code",
      "source": [
        "len(query_embedding_hf)"
      ],
      "metadata": {
        "colab": {
          "base_uri": "https://localhost:8080/"
        },
        "id": "98SMJGspA9ox",
        "outputId": "6ddfa7de-0dd0-4ad2-fed3-d7f0ff7c6931"
      },
      "execution_count": null,
      "outputs": [
        {
          "output_type": "execute_result",
          "data": {
            "text/plain": [
              "768"
            ]
          },
          "metadata": {},
          "execution_count": 19
        }
      ]
    },
    {
      "cell_type": "markdown",
      "source": [
        "### Fixed size Chunking"
      ],
      "metadata": {
        "id": "gZhudITpCtcO"
      }
    },
    {
      "cell_type": "code",
      "source": [
        "text = \"\"\"\n",
        "Batman, also known as the Dark Knight, is a fictional superhero appearing in American comic books published by DC Comics. Created by artist Bob Kane and writer Bill Finger, Batman first appeared in Detective Comics #27 in 1939. Unlike many superheroes, Batman does not possess superhuman powers; instead, he relies on his intellect, physical prowess, martial arts abilities, detective skills, and vast wealth to fight crime in Gotham City. He is often depicted as a dark, brooding character with a tragic past, having witnessed the murder of his parents as a child, which drives his lifelong crusade against crime.\n",
        "\n",
        "One of Batman's most iconic traits is his vast array of gadgets, vehicles, and technology, all housed in his high-tech Batcave beneath Wayne Manor. From the Batmobile to the Batarang, Batman is known for his strategic planning and use of cutting-edge technology to combat his enemies. His rogues' gallery includes iconic villains such as the Joker, Catwoman, Two-Face, and the Riddler, each presenting a unique challenge that Batman must overcome using his wit and resourcefulness.\n",
        "\n",
        "Despite his dark and brooding exterior, Batman is also known for his strong moral code, refusing to kill his enemies and always striving to protect the innocent. This duality of darkness and light within Batman's character has made him one of the most complex and enduring superheroes in comic book history, resonating with audiences of all ages for generations.\n",
        "\"\"\""
      ],
      "metadata": {
        "id": "PP7gruliCy8R"
      },
      "execution_count": null,
      "outputs": []
    },
    {
      "cell_type": "code",
      "source": [
        "from langchain_text_splitters import CharacterTextSplitter\n",
        "\n",
        "text_splitter = CharacterTextSplitter(\n",
        "    separator=\"\\n\\n\",\n",
        "    chunk_size=1000,\n",
        "    chunk_overlap=200,\n",
        "    length_function=len,\n",
        "    is_separator_regex=False,\n",
        ")"
      ],
      "metadata": {
        "id": "lG7GgG31CwTD"
      },
      "execution_count": null,
      "outputs": []
    },
    {
      "cell_type": "code",
      "source": [
        "chunks = text_splitter.create_documents([text])\n",
        "print(chunks[0])"
      ],
      "metadata": {
        "colab": {
          "base_uri": "https://localhost:8080/"
        },
        "id": "rUCYJDDGDJZM",
        "outputId": "5ee7712c-2af8-49b3-f1e7-3313313dce3d"
      },
      "execution_count": null,
      "outputs": [
        {
          "output_type": "stream",
          "name": "stdout",
          "text": [
            "page_content='Batman, also known as the Dark Knight, is a fictional superhero appearing in American comic books published by DC Comics. Created by artist Bob Kane and writer Bill Finger, Batman first appeared in Detective Comics #27 in 1939. Unlike many superheroes, Batman does not possess superhuman powers; instead, he relies on his intellect, physical prowess, martial arts abilities, detective skills, and vast wealth to fight crime in Gotham City. He is often depicted as a dark, brooding character with a tragic past, having witnessed the murder of his parents as a child, which drives his lifelong crusade against crime.'\n"
          ]
        }
      ]
    },
    {
      "cell_type": "code",
      "source": [
        "len(chunks)"
      ],
      "metadata": {
        "colab": {
          "base_uri": "https://localhost:8080/"
        },
        "id": "u3AMUCL1DW-H",
        "outputId": "2e6b5a1f-ff8a-40d4-d220-1da437f2742f"
      },
      "execution_count": null,
      "outputs": [
        {
          "output_type": "execute_result",
          "data": {
            "text/plain": [
              "2"
            ]
          },
          "metadata": {},
          "execution_count": 29
        }
      ]
    },
    {
      "cell_type": "markdown",
      "source": [
        "### Recursive Text Splitter"
      ],
      "metadata": {
        "id": "vbuUUllHFZYM"
      }
    },
    {
      "cell_type": "code",
      "source": [
        "from langchain_text_splitters import RecursiveCharacterTextSplitter"
      ],
      "metadata": {
        "id": "CAfrfLSrFcBv"
      },
      "execution_count": null,
      "outputs": []
    },
    {
      "cell_type": "code",
      "source": [
        "text_splitter_rec = RecursiveCharacterTextSplitter(\n",
        "    chunk_size=100,\n",
        "    chunk_overlap=20,\n",
        "    length_function=len,\n",
        "    is_separator_regex=False,\n",
        ")"
      ],
      "metadata": {
        "id": "YTSHVKSzF_fH"
      },
      "execution_count": null,
      "outputs": []
    },
    {
      "cell_type": "code",
      "source": [
        "chunks_rec = text_splitter_rec.create_documents([text])\n",
        "print(chunks_rec[0])"
      ],
      "metadata": {
        "colab": {
          "base_uri": "https://localhost:8080/"
        },
        "id": "jDDAUAhUGHz6",
        "outputId": "065d325d-0a9f-41e7-dba2-e1e93e748106"
      },
      "execution_count": null,
      "outputs": [
        {
          "output_type": "stream",
          "name": "stdout",
          "text": [
            "page_content='Batman, also known as the Dark Knight, is a fictional superhero appearing in American comic books'\n"
          ]
        }
      ]
    },
    {
      "cell_type": "code",
      "source": [
        "len(chunks_rec)"
      ],
      "metadata": {
        "colab": {
          "base_uri": "https://localhost:8080/"
        },
        "id": "tVxwLaBcGM2C",
        "outputId": "fbdfa5f5-6125-44c1-a470-67ecb0bb8102"
      },
      "execution_count": null,
      "outputs": [
        {
          "output_type": "execute_result",
          "data": {
            "text/plain": [
              "19"
            ]
          },
          "metadata": {},
          "execution_count": 34
        }
      ]
    },
    {
      "cell_type": "markdown",
      "source": [
        "### Semantic Chunking"
      ],
      "metadata": {
        "id": "hPHG5KfIGua5"
      }
    },
    {
      "cell_type": "code",
      "source": [
        "from langchain_experimental.text_splitter import SemanticChunker"
      ],
      "metadata": {
        "id": "GhZjrdDQGtmh"
      },
      "execution_count": null,
      "outputs": []
    },
    {
      "cell_type": "code",
      "source": [
        "text_splitter_sem = SemanticChunker(embeddings)"
      ],
      "metadata": {
        "id": "l3gzBaCcHCuJ"
      },
      "execution_count": null,
      "outputs": []
    },
    {
      "cell_type": "code",
      "source": [
        "chunks_sem = text_splitter.create_documents([text])\n",
        "print(chunks_sem[0])"
      ],
      "metadata": {
        "colab": {
          "base_uri": "https://localhost:8080/"
        },
        "id": "hwHIB9F1HQRo",
        "outputId": "ca5d8c9f-e36c-4f36-f359-842dfdd43d5a"
      },
      "execution_count": null,
      "outputs": [
        {
          "output_type": "stream",
          "name": "stdout",
          "text": [
            "page_content='Batman, also known as the Dark Knight, is a fictional superhero appearing in American comic books'\n"
          ]
        }
      ]
    },
    {
      "cell_type": "code",
      "source": [
        "text_splitter_sem_percentile = SemanticChunker(\n",
        "    embeddings, breakpoint_threshold_type=\"percentile\" # interquartile, standard_deviation\n",
        ")"
      ],
      "metadata": {
        "id": "-l7kaLoWIxn3"
      },
      "execution_count": null,
      "outputs": []
    },
    {
      "cell_type": "code",
      "source": [
        "chunks_sem_rec = text_splitter_sem_percentile.create_documents([text])\n",
        "print(chunks_sem_rec[0])"
      ],
      "metadata": {
        "colab": {
          "base_uri": "https://localhost:8080/"
        },
        "id": "eTuZim-7I5gc",
        "outputId": "6a2068a7-4fec-4322-fed6-25ea44feb7c6"
      },
      "execution_count": null,
      "outputs": [
        {
          "output_type": "stream",
          "name": "stdout",
          "text": [
            "page_content='Batman, also known as the Dark Knight, is a fictional superhero appearing in American comic books'\n"
          ]
        }
      ]
    },
    {
      "cell_type": "markdown",
      "source": [
        "### Vector store"
      ],
      "metadata": {
        "id": "1vB-8OGYoprP"
      }
    },
    {
      "cell_type": "code",
      "source": [
        "!pip install faiss-cpu\n",
        "!pip install langchain"
      ],
      "metadata": {
        "colab": {
          "base_uri": "https://localhost:8080/"
        },
        "id": "RILdJUGSoro9",
        "outputId": "3a409114-c82b-44b6-9624-2ede2878975a"
      },
      "execution_count": null,
      "outputs": [
        {
          "output_type": "stream",
          "name": "stdout",
          "text": [
            "Collecting faiss-cpu\n",
            "  Downloading faiss_cpu-1.8.0-cp310-cp310-manylinux_2_17_x86_64.manylinux2014_x86_64.whl (27.0 MB)\n",
            "\u001b[2K     \u001b[90m━━━━━━━━━━━━━━━━━━━━━━━━━━━━━━━━━━━━━━━━\u001b[0m \u001b[32m27.0/27.0 MB\u001b[0m \u001b[31m14.1 MB/s\u001b[0m eta \u001b[36m0:00:00\u001b[0m\n",
            "\u001b[?25hRequirement already satisfied: numpy in /usr/local/lib/python3.10/dist-packages (from faiss-cpu) (1.25.2)\n",
            "Installing collected packages: faiss-cpu\n",
            "Successfully installed faiss-cpu-1.8.0\n",
            "Requirement already satisfied: langchain in /usr/local/lib/python3.10/dist-packages (0.1.12)\n",
            "Requirement already satisfied: PyYAML>=5.3 in /usr/local/lib/python3.10/dist-packages (from langchain) (6.0.1)\n",
            "Requirement already satisfied: SQLAlchemy<3,>=1.4 in /usr/local/lib/python3.10/dist-packages (from langchain) (2.0.28)\n",
            "Requirement already satisfied: aiohttp<4.0.0,>=3.8.3 in /usr/local/lib/python3.10/dist-packages (from langchain) (3.9.3)\n",
            "Requirement already satisfied: async-timeout<5.0.0,>=4.0.0 in /usr/local/lib/python3.10/dist-packages (from langchain) (4.0.3)\n",
            "Requirement already satisfied: dataclasses-json<0.7,>=0.5.7 in /usr/local/lib/python3.10/dist-packages (from langchain) (0.6.4)\n",
            "Requirement already satisfied: jsonpatch<2.0,>=1.33 in /usr/local/lib/python3.10/dist-packages (from langchain) (1.33)\n",
            "Requirement already satisfied: langchain-community<0.1,>=0.0.28 in /usr/local/lib/python3.10/dist-packages (from langchain) (0.0.28)\n",
            "Requirement already satisfied: langchain-core<0.2.0,>=0.1.31 in /usr/local/lib/python3.10/dist-packages (from langchain) (0.1.32)\n",
            "Requirement already satisfied: langchain-text-splitters<0.1,>=0.0.1 in /usr/local/lib/python3.10/dist-packages (from langchain) (0.0.1)\n",
            "Requirement already satisfied: langsmith<0.2.0,>=0.1.17 in /usr/local/lib/python3.10/dist-packages (from langchain) (0.1.27)\n",
            "Requirement already satisfied: numpy<2,>=1 in /usr/local/lib/python3.10/dist-packages (from langchain) (1.25.2)\n",
            "Requirement already satisfied: pydantic<3,>=1 in /usr/local/lib/python3.10/dist-packages (from langchain) (2.6.4)\n",
            "Requirement already satisfied: requests<3,>=2 in /usr/local/lib/python3.10/dist-packages (from langchain) (2.31.0)\n",
            "Requirement already satisfied: tenacity<9.0.0,>=8.1.0 in /usr/local/lib/python3.10/dist-packages (from langchain) (8.2.3)\n",
            "Requirement already satisfied: aiosignal>=1.1.2 in /usr/local/lib/python3.10/dist-packages (from aiohttp<4.0.0,>=3.8.3->langchain) (1.3.1)\n",
            "Requirement already satisfied: attrs>=17.3.0 in /usr/local/lib/python3.10/dist-packages (from aiohttp<4.0.0,>=3.8.3->langchain) (23.2.0)\n",
            "Requirement already satisfied: frozenlist>=1.1.1 in /usr/local/lib/python3.10/dist-packages (from aiohttp<4.0.0,>=3.8.3->langchain) (1.4.1)\n",
            "Requirement already satisfied: multidict<7.0,>=4.5 in /usr/local/lib/python3.10/dist-packages (from aiohttp<4.0.0,>=3.8.3->langchain) (6.0.5)\n",
            "Requirement already satisfied: yarl<2.0,>=1.0 in /usr/local/lib/python3.10/dist-packages (from aiohttp<4.0.0,>=3.8.3->langchain) (1.9.4)\n",
            "Requirement already satisfied: marshmallow<4.0.0,>=3.18.0 in /usr/local/lib/python3.10/dist-packages (from dataclasses-json<0.7,>=0.5.7->langchain) (3.21.1)\n",
            "Requirement already satisfied: typing-inspect<1,>=0.4.0 in /usr/local/lib/python3.10/dist-packages (from dataclasses-json<0.7,>=0.5.7->langchain) (0.9.0)\n",
            "Requirement already satisfied: jsonpointer>=1.9 in /usr/local/lib/python3.10/dist-packages (from jsonpatch<2.0,>=1.33->langchain) (2.4)\n",
            "Requirement already satisfied: anyio<5,>=3 in /usr/local/lib/python3.10/dist-packages (from langchain-core<0.2.0,>=0.1.31->langchain) (3.7.1)\n",
            "Requirement already satisfied: packaging<24.0,>=23.2 in /usr/local/lib/python3.10/dist-packages (from langchain-core<0.2.0,>=0.1.31->langchain) (23.2)\n",
            "Requirement already satisfied: orjson<4.0.0,>=3.9.14 in /usr/local/lib/python3.10/dist-packages (from langsmith<0.2.0,>=0.1.17->langchain) (3.9.15)\n",
            "Requirement already satisfied: annotated-types>=0.4.0 in /usr/local/lib/python3.10/dist-packages (from pydantic<3,>=1->langchain) (0.6.0)\n",
            "Requirement already satisfied: pydantic-core==2.16.3 in /usr/local/lib/python3.10/dist-packages (from pydantic<3,>=1->langchain) (2.16.3)\n",
            "Requirement already satisfied: typing-extensions>=4.6.1 in /usr/local/lib/python3.10/dist-packages (from pydantic<3,>=1->langchain) (4.10.0)\n",
            "Requirement already satisfied: charset-normalizer<4,>=2 in /usr/local/lib/python3.10/dist-packages (from requests<3,>=2->langchain) (3.3.2)\n",
            "Requirement already satisfied: idna<4,>=2.5 in /usr/local/lib/python3.10/dist-packages (from requests<3,>=2->langchain) (3.6)\n",
            "Requirement already satisfied: urllib3<3,>=1.21.1 in /usr/local/lib/python3.10/dist-packages (from requests<3,>=2->langchain) (2.0.7)\n",
            "Requirement already satisfied: certifi>=2017.4.17 in /usr/local/lib/python3.10/dist-packages (from requests<3,>=2->langchain) (2024.2.2)\n",
            "Requirement already satisfied: greenlet!=0.4.17 in /usr/local/lib/python3.10/dist-packages (from SQLAlchemy<3,>=1.4->langchain) (3.0.3)\n",
            "Requirement already satisfied: sniffio>=1.1 in /usr/local/lib/python3.10/dist-packages (from anyio<5,>=3->langchain-core<0.2.0,>=0.1.31->langchain) (1.3.1)\n",
            "Requirement already satisfied: exceptiongroup in /usr/local/lib/python3.10/dist-packages (from anyio<5,>=3->langchain-core<0.2.0,>=0.1.31->langchain) (1.2.0)\n",
            "Requirement already satisfied: mypy-extensions>=0.3.0 in /usr/local/lib/python3.10/dist-packages (from typing-inspect<1,>=0.4.0->dataclasses-json<0.7,>=0.5.7->langchain) (1.0.0)\n"
          ]
        }
      ]
    },
    {
      "cell_type": "code",
      "source": [
        "from langchain_text_splitters import CharacterTextSplitter\n",
        "from langchain_community.vectorstores import FAISS\n",
        "\n",
        "# Load the document, split it into chunks, embed each chunk and load it into the vector store.\n",
        "\n",
        "text_about_company = \"\"\"\n",
        "In the bustling world of international commerce, XYZ Corporation stands as a beacon of innovation and success. With a global presence spanning continents and industries, our multinational company has cemented its reputation as a leader in cutting-edge technology, sustainable practices, and unparalleled customer service. Founded on the principles of integrity, excellence, and forward-thinking, XYZ Corporation has grown from humble beginnings to a multinational powerhouse, serving millions of customers worldwide. Our diverse portfolio of products and services caters to a wide range of industries, including technology, healthcare, finance, consumer goods, and more. From state-of-the-art electronics to life-saving medical devices, from financial services to household essentials, XYZ Corporation is at the forefront of meeting the needs and exceeding the expectations of our customers.\n",
        "\n",
        "At XYZ Corporation, we are committed to driving positive change in the world. Through our innovative products and sustainable practices, we strive to minimize our environmental impact and contribute to the well-being of communities everywhere. Our corporate social responsibility initiatives focus on education, healthcare, environmental conservation, and community development. From providing scholarships to underprivileged students to supporting local farmers in sustainable agriculture, XYZ Corporation is dedicated to making a difference in people's lives.\n",
        "\n",
        "In addition to our commitment to sustainability, XYZ Corporation is also a leader in technological innovation. Our research and development teams are constantly pushing the boundaries of what is possible, developing new technologies that revolutionize industries and improve the lives of people around the world. From artificial intelligence to biotechnology, from renewable energy to space exploration, XYZ Corporation is at the forefront of innovation, driving progress and shaping the future of humanity.\n",
        "\n",
        "XYZ Corporation's success is built on the dedication and expertise of our employees. With a diverse and talented workforce, we are able to tackle the most complex challenges and deliver the best solutions to our customers. Our employees are our most valuable asset, and we invest in their development and well-being. From training programs to health and wellness initiatives, from flexible work arrangements to competitive compensation packages, XYZ Corporation is committed to creating a supportive and rewarding work environment for all our employees.\n",
        "\n",
        "In conclusion, XYZ Corporation is not just a multinational company; we are a force for good in the world. Through our commitment to innovation, sustainability, and social responsibility, we are shaping a brighter future for generations to come. Join us on our journey to make the world a better place, one innovation at a time.\"\"\"\n",
        "\n",
        "text_splitter_company = CharacterTextSplitter(\n",
        "    chunk_size=1000,\n",
        "    chunk_overlap=50,\n",
        ")\n",
        "\n",
        "chunks_company = text_splitter_company.create_documents([text_about_company])\n",
        "\n",
        "print(chunks_company)\n",
        "print(len(chunks_company))"
      ],
      "metadata": {
        "colab": {
          "base_uri": "https://localhost:8080/"
        },
        "id": "3hzfBb3gpESb",
        "outputId": "e1acea09-c17b-4c37-d9b2-b8145acc41ee"
      },
      "execution_count": null,
      "outputs": [
        {
          "output_type": "stream",
          "name": "stdout",
          "text": [
            "[Document(page_content='In the bustling world of international commerce, XYZ Corporation stands as a beacon of innovation and success. With a global presence spanning continents and industries, our multinational company has cemented its reputation as a leader in cutting-edge technology, sustainable practices, and unparalleled customer service. Founded on the principles of integrity, excellence, and forward-thinking, XYZ Corporation has grown from humble beginnings to a multinational powerhouse, serving millions of customers worldwide. Our diverse portfolio of products and services caters to a wide range of industries, including technology, healthcare, finance, consumer goods, and more. From state-of-the-art electronics to life-saving medical devices, from financial services to household essentials, XYZ Corporation is at the forefront of meeting the needs and exceeding the expectations of our customers.'), Document(page_content=\"At XYZ Corporation, we are committed to driving positive change in the world. Through our innovative products and sustainable practices, we strive to minimize our environmental impact and contribute to the well-being of communities everywhere. Our corporate social responsibility initiatives focus on education, healthcare, environmental conservation, and community development. From providing scholarships to underprivileged students to supporting local farmers in sustainable agriculture, XYZ Corporation is dedicated to making a difference in people's lives.\"), Document(page_content='In addition to our commitment to sustainability, XYZ Corporation is also a leader in technological innovation. Our research and development teams are constantly pushing the boundaries of what is possible, developing new technologies that revolutionize industries and improve the lives of people around the world. From artificial intelligence to biotechnology, from renewable energy to space exploration, XYZ Corporation is at the forefront of innovation, driving progress and shaping the future of humanity.'), Document(page_content=\"XYZ Corporation's success is built on the dedication and expertise of our employees. With a diverse and talented workforce, we are able to tackle the most complex challenges and deliver the best solutions to our customers. Our employees are our most valuable asset, and we invest in their development and well-being. From training programs to health and wellness initiatives, from flexible work arrangements to competitive compensation packages, XYZ Corporation is committed to creating a supportive and rewarding work environment for all our employees.\\n\\nIn conclusion, XYZ Corporation is not just a multinational company; we are a force for good in the world. Through our commitment to innovation, sustainability, and social responsibility, we are shaping a brighter future for generations to come. Join us on our journey to make the world a better place, one innovation at a time.\")]\n",
            "4\n"
          ]
        }
      ]
    },
    {
      "cell_type": "code",
      "source": [
        "db = FAISS.from_documents(chunks_company, embeddings)"
      ],
      "metadata": {
        "id": "qrQox9bJqfpW"
      },
      "execution_count": null,
      "outputs": []
    },
    {
      "cell_type": "code",
      "source": [
        "question = \"What is the reason for XYZ Corporation's success\"\n",
        "docs_company = db.similarity_search_with_score(question)\n",
        "print(docs_company)"
      ],
      "metadata": {
        "colab": {
          "base_uri": "https://localhost:8080/"
        },
        "id": "ukEZfK1fr_4p",
        "outputId": "3acac78e-f7d7-411b-a9e7-d434d79a16aa"
      },
      "execution_count": null,
      "outputs": [
        {
          "output_type": "stream",
          "name": "stdout",
          "text": [
            "[(Document(page_content='In the bustling world of international commerce, XYZ Corporation stands as a beacon of innovation and success. With a global presence spanning continents and industries, our multinational company has cemented its reputation as a leader in cutting-edge technology, sustainable practices, and unparalleled customer service. Founded on the principles of integrity, excellence, and forward-thinking, XYZ Corporation has grown from humble beginnings to a multinational powerhouse, serving millions of customers worldwide. Our diverse portfolio of products and services caters to a wide range of industries, including technology, healthcare, finance, consumer goods, and more. From state-of-the-art electronics to life-saving medical devices, from financial services to household essentials, XYZ Corporation is at the forefront of meeting the needs and exceeding the expectations of our customers.'), 0.22270745), (Document(page_content=\"XYZ Corporation's success is built on the dedication and expertise of our employees. With a diverse and talented workforce, we are able to tackle the most complex challenges and deliver the best solutions to our customers. Our employees are our most valuable asset, and we invest in their development and well-being. From training programs to health and wellness initiatives, from flexible work arrangements to competitive compensation packages, XYZ Corporation is committed to creating a supportive and rewarding work environment for all our employees.\\n\\nIn conclusion, XYZ Corporation is not just a multinational company; we are a force for good in the world. Through our commitment to innovation, sustainability, and social responsibility, we are shaping a brighter future for generations to come. Join us on our journey to make the world a better place, one innovation at a time.\"), 0.22282639), (Document(page_content='In addition to our commitment to sustainability, XYZ Corporation is also a leader in technological innovation. Our research and development teams are constantly pushing the boundaries of what is possible, developing new technologies that revolutionize industries and improve the lives of people around the world. From artificial intelligence to biotechnology, from renewable energy to space exploration, XYZ Corporation is at the forefront of innovation, driving progress and shaping the future of humanity.'), 0.2766921), (Document(page_content=\"At XYZ Corporation, we are committed to driving positive change in the world. Through our innovative products and sustainable practices, we strive to minimize our environmental impact and contribute to the well-being of communities everywhere. Our corporate social responsibility initiatives focus on education, healthcare, environmental conservation, and community development. From providing scholarships to underprivileged students to supporting local farmers in sustainable agriculture, XYZ Corporation is dedicated to making a difference in people's lives.\"), 0.2919758)]\n"
          ]
        }
      ]
    },
    {
      "cell_type": "code",
      "source": [
        "question_new = \"Who is Bill gates?\"\n",
        "docs_company_new = db.similarity_search_with_score(question_new)\n",
        "print(docs_company_new)"
      ],
      "metadata": {
        "colab": {
          "base_uri": "https://localhost:8080/"
        },
        "id": "iP8GMfq7tJyA",
        "outputId": "df3381dd-ae42-45eb-c4c8-1d655a7232be"
      },
      "execution_count": null,
      "outputs": [
        {
          "output_type": "stream",
          "name": "stdout",
          "text": [
            "[(Document(page_content='In addition to our commitment to sustainability, XYZ Corporation is also a leader in technological innovation. Our research and development teams are constantly pushing the boundaries of what is possible, developing new technologies that revolutionize industries and improve the lives of people around the world. From artificial intelligence to biotechnology, from renewable energy to space exploration, XYZ Corporation is at the forefront of innovation, driving progress and shaping the future of humanity.'), 0.5291761), (Document(page_content='In the bustling world of international commerce, XYZ Corporation stands as a beacon of innovation and success. With a global presence spanning continents and industries, our multinational company has cemented its reputation as a leader in cutting-edge technology, sustainable practices, and unparalleled customer service. Founded on the principles of integrity, excellence, and forward-thinking, XYZ Corporation has grown from humble beginnings to a multinational powerhouse, serving millions of customers worldwide. Our diverse portfolio of products and services caters to a wide range of industries, including technology, healthcare, finance, consumer goods, and more. From state-of-the-art electronics to life-saving medical devices, from financial services to household essentials, XYZ Corporation is at the forefront of meeting the needs and exceeding the expectations of our customers.'), 0.53594923), (Document(page_content=\"XYZ Corporation's success is built on the dedication and expertise of our employees. With a diverse and talented workforce, we are able to tackle the most complex challenges and deliver the best solutions to our customers. Our employees are our most valuable asset, and we invest in their development and well-being. From training programs to health and wellness initiatives, from flexible work arrangements to competitive compensation packages, XYZ Corporation is committed to creating a supportive and rewarding work environment for all our employees.\\n\\nIn conclusion, XYZ Corporation is not just a multinational company; we are a force for good in the world. Through our commitment to innovation, sustainability, and social responsibility, we are shaping a brighter future for generations to come. Join us on our journey to make the world a better place, one innovation at a time.\"), 0.54963934), (Document(page_content=\"At XYZ Corporation, we are committed to driving positive change in the world. Through our innovative products and sustainable practices, we strive to minimize our environmental impact and contribute to the well-being of communities everywhere. Our corporate social responsibility initiatives focus on education, healthcare, environmental conservation, and community development. From providing scholarships to underprivileged students to supporting local farmers in sustainable agriculture, XYZ Corporation is dedicated to making a difference in people's lives.\"), 0.58270335)]\n"
          ]
        }
      ]
    },
    {
      "cell_type": "markdown",
      "source": [
        "### Retriever"
      ],
      "metadata": {
        "id": "YUVkTBy1v89q"
      }
    },
    {
      "cell_type": "code",
      "source": [
        "retriever_company = db.as_retriever()"
      ],
      "metadata": {
        "id": "tnvJIkGWwAxv"
      },
      "execution_count": null,
      "outputs": []
    },
    {
      "cell_type": "code",
      "source": [
        "docs_latest = retriever_company.get_relevant_documents(\"What are corporate social responsibility initiatives of XYZ Company?\")"
      ],
      "metadata": {
        "id": "cq6TOwnDwCzV"
      },
      "execution_count": null,
      "outputs": []
    },
    {
      "cell_type": "code",
      "source": [
        "docs_latest"
      ],
      "metadata": {
        "colab": {
          "base_uri": "https://localhost:8080/"
        },
        "id": "gY0ftkVYwaEM",
        "outputId": "57d1431d-f9f4-4ac0-f05d-21972b2a8a94"
      },
      "execution_count": null,
      "outputs": [
        {
          "output_type": "execute_result",
          "data": {
            "text/plain": [
              "[Document(page_content=\"At XYZ Corporation, we are committed to driving positive change in the world. Through our innovative products and sustainable practices, we strive to minimize our environmental impact and contribute to the well-being of communities everywhere. Our corporate social responsibility initiatives focus on education, healthcare, environmental conservation, and community development. From providing scholarships to underprivileged students to supporting local farmers in sustainable agriculture, XYZ Corporation is dedicated to making a difference in people's lives.\"),\n",
              " Document(page_content=\"XYZ Corporation's success is built on the dedication and expertise of our employees. With a diverse and talented workforce, we are able to tackle the most complex challenges and deliver the best solutions to our customers. Our employees are our most valuable asset, and we invest in their development and well-being. From training programs to health and wellness initiatives, from flexible work arrangements to competitive compensation packages, XYZ Corporation is committed to creating a supportive and rewarding work environment for all our employees.\\n\\nIn conclusion, XYZ Corporation is not just a multinational company; we are a force for good in the world. Through our commitment to innovation, sustainability, and social responsibility, we are shaping a brighter future for generations to come. Join us on our journey to make the world a better place, one innovation at a time.\"),\n",
              " Document(page_content='In addition to our commitment to sustainability, XYZ Corporation is also a leader in technological innovation. Our research and development teams are constantly pushing the boundaries of what is possible, developing new technologies that revolutionize industries and improve the lives of people around the world. From artificial intelligence to biotechnology, from renewable energy to space exploration, XYZ Corporation is at the forefront of innovation, driving progress and shaping the future of humanity.'),\n",
              " Document(page_content='In the bustling world of international commerce, XYZ Corporation stands as a beacon of innovation and success. With a global presence spanning continents and industries, our multinational company has cemented its reputation as a leader in cutting-edge technology, sustainable practices, and unparalleled customer service. Founded on the principles of integrity, excellence, and forward-thinking, XYZ Corporation has grown from humble beginnings to a multinational powerhouse, serving millions of customers worldwide. Our diverse portfolio of products and services caters to a wide range of industries, including technology, healthcare, finance, consumer goods, and more. From state-of-the-art electronics to life-saving medical devices, from financial services to household essentials, XYZ Corporation is at the forefront of meeting the needs and exceeding the expectations of our customers.')]"
            ]
          },
          "metadata": {},
          "execution_count": 34
        }
      ]
    },
    {
      "cell_type": "markdown",
      "source": [
        "### RAG App"
      ],
      "metadata": {
        "id": "Adr-41NM3k7g"
      }
    },
    {
      "cell_type": "code",
      "source": [
        "from langchain_community.document_loaders import PyPDFLoader\n",
        "\n",
        "loader_krutrim = PyPDFLoader(\"/content/privacy_policy_krutrim.pdf\")\n",
        "loader_chatgpt = PyPDFLoader(\"/content/chat_gpt_privacy_policy.pdf\")"
      ],
      "metadata": {
        "id": "RxxEAYYO3m6I"
      },
      "execution_count": null,
      "outputs": []
    },
    {
      "cell_type": "code",
      "source": [
        "pages_krutrim = loader_krutrim.load_and_split()\n",
        "pages_chatgpt = loader_chatgpt.load_and_split()"
      ],
      "metadata": {
        "id": "_9HppeXfJjvS"
      },
      "execution_count": null,
      "outputs": []
    },
    {
      "cell_type": "code",
      "source": [
        "pages_krutrim"
      ],
      "metadata": {
        "colab": {
          "base_uri": "https://localhost:8080/"
        },
        "id": "2sH7-tty_fZw",
        "outputId": "409ff4f4-1ee2-445b-a1e2-1b643c3a3462"
      },
      "execution_count": null,
      "outputs": [
        {
          "output_type": "execute_result",
          "data": {
            "text/plain": [
              "[Document(page_content='Privacy\\nPolicy\\nSCOPE\\nAND\\nPURPOSE\\nThis\\npolicy\\nis\\napplicable\\nto\\nthe\\nProcessing\\nof\\nusers’\\nPersonal\\nData\\nat\\nKrutrim\\nSI\\nDesigns\\nPrivate\\nLimited\\n(\"Krutrim\",\\n“our”,\\n“us”\\nor\\n\"we\").\\nThe\\npurpose\\nof\\nthis\\npolicy\\nis\\nto\\nprovide\\nour\\ncurrent,\\nformer\\nand\\npotential\\nusers’\\n(jointly\\nreferred\\nto\\nas\\n\"users\"\\nor\\n\"you\")\\nwith\\na\\ngeneral\\nunderstanding\\nof:\\n●\\nType\\nof\\npersonal\\ninformation\\nand\\nmanner\\nof\\ncollection\\n●\\nPurpose\\nof\\ncollection\\nand\\nprocessing\\nof\\npersonal\\ninformation\\n●\\nHow\\ninformation\\nis\\nprocessed\\n●\\nSharing/Transfer\\nof\\nPersonal\\nData.\\n●\\nDistribution\\nof\\nresponsibility\\nfor\\nthe\\nProcessing\\nof\\nPersonal\\nData\\nbetween\\naffiliated\\nof\\nKrutrim,\\nand\\n●\\nContact\\ndetails\\nfor\\nus\\nso\\nyou\\ncan\\nreceive\\ninformation\\nabout\\nand\\nclaim\\nyour\\nrights\\nin\\nrelation\\nto\\nour\\nprocessing\\nof\\nyour\\nPersonal\\nData.\\nThis\\npolicy\\nis\\nupdated\\ncontinuously\\nto\\nreflect\\nthe\\nmeasures\\ntaken\\nby\\nus\\nin\\nrelation\\nto\\nyour\\nPersonal\\nData.\\nDEFINITIONS\\nThe\\nfollowing\\ndefinitions\\nare\\nused\\nin\\nthis\\npolicy.\\nIn\\ncase\\nof\\nany\\nconflict\\nwith\\nrespect\\nto\\ninterpretation\\nof\\nthese\\ndefinitions\\nbetween\\napplicable\\nlaw\\nand\\nthese\\nterms,\\ninterpretation\\nprovided\\nunder\\nthe\\napplicable\\nlaw\\nshall\\nprevail.\\nAnonymous\\ndata\\nor\\nanonymized\\ndata\\n-\\nThis\\nis\\nthe\\ncategory\\nof\\ndata\\nwhich\\nis\\nnot\\nidentifiable\\nto\\na\\nnatural\\nperson.\\nEven\\nif\\ncoupled\\nwith\\nother\\ninformation,\\nidentification\\nof\\nsuch\\na\\nnatural\\nperson\\nis\\nnot\\npossible.\\nAutomated\\ndecision\\nmaking-\\nAutomated\\ndecision\\nmaking\\nis\\nthe\\nprocess\\nof\\nmaking\\na\\ndecision\\nby\\nautomated\\nmeans\\nthrough\\nalgorithms\\nwithout\\nany\\nhuman\\ninvolvement.\\nThese\\ndecisions\\ncan\\nbe\\nbased\\non\\nfactual\\ndata,\\ndigitally\\ncreated\\nprofiles\\nor\\nthrough\\ndata\\ninferred.\\nConsent\\n-\\nAny\\nfreely\\ngiven,\\ninformed\\nand\\nunambiguous\\nstatement\\nwhich\\nmay\\nbe\\ngiven\\nby\\na\\nclear\\naffirmative\\naction\\nmaybe\\nreferred\\nto\\nas\\nconsent.\\nCookies\\n-\\ncookie\\nis\\na\\nsmall\\npiece\\nof\\ndata\\ngiven\\nto\\na\\nweb\\nbrowser\\nby\\na\\nweb\\nserver.\\nThe\\nbrowser\\nstores\\nthe\\ndata\\nin\\na\\ntext\\nfile\\nso\\nit\\ncan\\nbe\\nsent\\nback\\nto\\nthe\\nserver\\neach\\ntime\\nthe\\nbrowser\\nrequests\\na\\npage\\nfrom\\nthe\\nserver.\\nCookies\\nhave\\nthe\\ncapacity\\nto\\nstore\\nsome\\nof\\nyour\\npersonal\\ndata.\\nFor\\nmore\\ndetails\\non\\nwhat\\ncookies\\nwe\\nuse\\nand\\nwhat\\npersonal\\ndata\\nwe\\nstore\\nthrough\\nthe\\nuse\\nof\\ncookies\\nyou\\nmay\\nrefer\\nto\\nour\\ncookie\\npolicy\\nhere.\\nData\\nFiduciary\\n-\\nAny\\nnatural\\nor\\nlegal\\nperson\\nthat\\nalone\\nor\\njointly\\nwith\\nothers,\\ndetermines\\nthe\\npurposes\\nand\\nmeans\\nof\\nthe\\nprocessing\\nof\\npersonal\\ndata.\\nFor\\nthe\\npurposes\\nof\\nthis\\nprivacy\\npolicy\\nKrutrim\\nSI\\nDesigns\\nPrivate\\nLimited\\nis\\nthe\\ndata\\nfiduciary\\nof\\ndata.\\nData\\nProcessor\\n-\\nThe\\nnatural\\nor\\nlegal\\nperson\\nwho\\nprocesses\\npersonal\\ndata\\nof\\ndata\\nprincipals\\non\\nbehalf\\nof\\nthe\\ndata\\nfiduciary.\\nData\\nPrincipal\\n-\\nis\\nthe\\nnatural\\nperson\\nwho\\ninteracts\\nwith\\nus\\nand\\nwhose\\npersonal\\ndata\\nwe\\ncollect\\nin\\naccordance\\nwith\\nthe\\nprovisions\\nof\\nthis\\nprivacy\\npolicy.', metadata={'source': '/content/privacy_policy_krutrim.pdf', 'page': 0}),\n",
              " Document(page_content='Erasure\\nor\\nDeletion\\n-\\nthe\\nirretrievable\\nobliteration\\nor\\ndestruction\\nof\\nyour\\nsaved\\npersonal\\ndata\\nstored\\nwith\\nus,\\nsuch\\nthat\\nyour\\nre\\nidentification\\nthrough\\nthis\\ndata\\nbecomes\\nimpossible.\\nPersonal\\nData\\n-\\nThis\\nrefers\\nto\\nany\\ninformation\\nidentified\\nor\\nidentifiable\\nto\\na\\nnatural\\nperson\\n(‘data\\nprincipal’).\\nThis\\nrefers\\nto\\nany\\ndirect\\nor\\nindirect\\nidentification\\nof\\na\\nnatural\\nperson.\\nThis\\nalso\\nincludes\\nany\\ninference\\ndrawn\\nfrom\\nsuch\\ndata\\nabout\\nthe\\ndata\\nprincipal.\\nProcessing\\n-\\nIt\\nmeans\\nany\\noperation\\nor\\nset\\nof\\noperations,\\nperformed\\non\\npersonal\\ndata\\nor\\nsets\\nof\\npersonal\\ndata,\\nincluding\\nbut\\nnot\\nlimited\\nto\\nprocessing\\nby\\nautomated\\nmeans.\\nThis\\nmay\\ninclude\\ncollection,\\nrecording,\\nstructuring,\\nalteration,\\nadaptation,\\norganization,\\nuse,\\ndisclosure,\\ndissemination,\\nalignment\\nor\\ncombination\\nand\\nanalysis\\nof\\nyour\\npersonal\\ndata.\\nAnonymization\\nof\\ndata\\nis\\nalso\\na\\nform\\nof\\nprocessing.\\nPseudonymization\\n-\\nA\\nprocessing\\ntechnique\\nwhere\\nthe\\nprocessed\\ndata\\nis\\nnot\\nidentifiable\\nto\\na\\nnatural\\nperson\\nunless\\ncoupled\\nwith\\nsome\\nother\\ninformation.\\nThis\\ndata\\nis\\nkept\\nseparately\\nwith\\ntechnical\\nand\\nsecurity\\nstandards\\nsince\\nthis\\ndata\\nmay\\nbe\\nconverted\\npersonal\\ndata.\\nThird\\nParty\\n-\\n‘third\\nparty’\\nmeans\\na\\nnatural\\nor\\nlegal\\nperson,\\npublic\\nauthority,\\nagency\\nor\\nbody\\nother\\nthan\\nthe\\ndata\\nprincipal,\\ndata\\nfiduciary,\\nprocessor\\nand\\npersons\\nwho,\\nunder\\nthe\\ndirect\\nauthority\\nof\\nthe\\ndata\\nfiduciary\\nor\\nprocessor,\\nare\\nauthorized\\nto\\nprocess\\npersonal\\ndata;\\nDETAILS\\nOF\\nTHE\\nDATA\\nFIDUCIARY/JOINT\\nDATA\\nFIDUCIARY\\nKrutrim\\nSI\\nDesigns\\nPrivate\\nLimited\\nand\\nits\\nsubsidiaries\\nand\\naffiliates\\n(the\\n‘Company’,\\n‘we’\\nor\\n‘us’)\\nhaving\\nits\\nregistered\\noffice\\nat\\n8th\\nFloor,\\nWing\\nC,\\nPrestige\\nRMZ\\nStartech\\nBlock\\nC,\\nIndustrial\\nLayout,\\nHosur\\nRoad,\\nKoramangala,\\nBengaluru,\\nBengaluru\\nUrban,\\nKarnataka,\\n560095\\nis\\nthe\\ndata\\nfiduciary\\nunder\\nthis\\nPrivacy\\nPolicy.\\nThe\\ncompany\\nis\\nengaged\\nin\\nthe\\nbusiness\\nof\\nresearching,\\ndesigning,\\ndeveloping\\nAI\\napplications\\nand\\nAI\\nsolutions\\nby\\nusing\\ncloud\\ninfrastructure\\nto\\nprovide\\nunique\\nAI\\nsolutions\\nto\\nits\\ncustomers/users.\\nDATA\\nPROTECTION\\nOFFICER\\nIf\\nyou\\nhave\\nany\\nqueries\\nunder\\nthis\\nPrivacy\\nPolicy\\nor\\nwant\\nclarification\\nabout\\nour\\nprocessing\\nof\\nyour\\npersonal\\ninformation,\\nyou\\ncan\\nconnect\\nwith\\nour\\nData\\nProtection\\nOfficer\\nat\\ndpo@olakrutrim.com\\n.\\nWe\\nwill\\nresolve\\nyour\\nqueries\\nwithin\\none\\ncalendar\\nmonth.\\nTYPE\\nOF\\nPERSONAL\\nINFORMATION\\nAND\\nMANNER\\nOF\\nCOLLECTION\\nUser\\nsign-up\\nconsent\\nWe\\nwill\\nbe\\ncollecting\\nand\\nstoring\\nthe\\nfollowing\\ndetails\\nfrom\\nyou\\nduring\\nthe\\nsign-up\\nprocess\\nto\\ncreate\\nyour\\nprofile:\\nName\\nPhone\\nnumber\\nPrimary\\nlocation\\nEmail\\nAddress\\nThe\\nabove-mentioned\\ninformation\\nwill\\nbe\\nutilized\\nto\\ncreate\\nyour\\nprofile\\non\\nour\\nplatform\\nand\\nwill\\nenable\\nus\\nto\\nidentify\\nand\\ncontact\\nyou\\nin\\ncase\\nyou\\ndecide\\nto\\nuse\\nour\\nservices.\\nThey\\nhave\\nto\\nbe\\nmandatorily\\nprovided', metadata={'source': '/content/privacy_policy_krutrim.pdf', 'page': 1}),\n",
              " Document(page_content='for\\ncreation\\nof\\nyour\\nprofile.\\nThe\\ninformation\\nthat\\nwe\\ncollect\\nis\\nstored\\nsecurely\\non\\ncloud\\nservers,\\nlocated\\nin\\nIndia\\nand\\nabroad,\\nemploying\\nstate\\nof\\nthe\\nart\\nsecurity\\nmeasures\\nto\\nkeep\\nyour\\ndata\\nsecure.\\nThis\\ndata\\nmay\\nalso\\nbe\\nshared\\nwith\\nthird\\nparties\\nfor\\nanalytics\\npurposes\\nto\\nprovide\\nyou\\nthe\\nbest\\nuser\\nexperience,\\nif\\nwe\\nhave\\nyour\\nconsent.\\nYou\\nmay\\nselect\\nthe\\napplicable\\noption\\nfor\\nselecting\\nhow\\nsuch\\ninformation\\nmay\\nbe\\nused\\nby\\nsuch\\nvendors.\\nNot\\nselecting\\none\\nor\\nmore\\nof\\nthe\\noptions\\nwill\\nnot\\nhave\\nany\\nimpact\\non\\nhow\\nwe\\nwould\\nprovide\\nour\\nservices\\nto\\nyou.\\nInformation\\nyou\\nprovide\\nto\\nus\\n●\\nContact\\nand\\naccount\\ninformation,\\nsuch\\nas\\nyour\\nfirst\\nand\\nlast\\nname,\\nemail\\naddress,\\nand\\nyour\\nphone\\nnumber.\\n●\\nContent\\nand\\nmetadata\\nof\\nany\\nmessages\\nthat\\nyou\\nsend\\nusing\\nour\\nservices.\\n●\\nCommunications\\nthat\\nwe\\nexchange\\nwith\\nyou,\\nincluding\\nwhen\\nyou\\ncontact\\nus\\nwith\\nquestions,\\nfeedback\\nor\\notherwise.\\n●\\nOther\\ndata\\nnot\\nspecifically\\nlisted\\nhere,\\nwhich\\nwe\\nwill\\nuse\\nas\\ndescribed\\nin\\nthis\\nPrivacy\\nPolicy\\nor\\nas\\notherwise\\ndisclosed\\nat\\nthe\\ntime\\nof\\ncollection.\\nAutomatic\\ndata\\ncollection\\nWe\\nmay\\nautomatically\\nlog\\nand\\ncombine\\ninformation\\nabout\\nyou,\\nyour\\ncomputer\\nor\\nmobile\\ndevice,\\nand\\nyour\\ninteraction\\nover\\ntime\\nwith\\nthe\\nServices,\\nonline\\nresources\\nand\\nour\\ncommunications,\\nsuch\\nas:\\n●\\nDevice\\ndata\\nsuch\\nas\\nyour\\ncomputer’s\\nor\\nmobile\\ndevice’s\\noperating\\nsystem\\ntype\\nand\\nversion,\\nmanufacturer\\nand\\nmodel,\\nbrowser\\ntype,\\nscreen\\nresolution,\\ndevice\\ntype\\n(e.g.,\\nphone,\\ntablet),\\nIP\\naddress,\\nunique\\nidentifiers,\\nlanguage\\nsettings\\nand\\ngeneral\\nlocation\\ninformation\\nsuch\\nas\\ncity,\\nstate\\nor\\ngeographic\\narea.\\n●\\nOnline\\nactivity\\ndata\\nsuch\\nas\\npages\\nor\\nscreens\\nyou\\nviewed,\\nhow\\nlong\\nyou\\nspent\\non\\na\\npage\\nor\\nscreen,\\nthe\\nwebsite\\nyou\\nvisited\\nbefore\\nbrowsing\\nto\\nthe\\nServices,\\nnavigation\\npaths\\nbetween\\npages\\nor\\nscreens,\\ninformation\\nabout\\nyour\\nactivity\\non\\na\\npage\\nor\\nscreen,\\naccess\\ntimes,\\nduration\\nof\\naccess,\\nand\\nwhether\\nyou\\nhave\\nopened\\nor\\notherwise\\nengage\\nwith\\nour\\ncommunications.\\nWe\\nuse\\nthe\\nfollowing\\ntools\\nfor\\nautomatic\\ndata\\ncollection:\\n●\\nCookies\\n,\\nwhich\\nare\\ntext\\nfiles\\nthat\\nwebsites\\nstore\\non\\na\\nvisitor‘s\\ndevice\\nto\\nuniquely\\nidentify\\nthe\\nvisitor’s\\nbrowser\\nor\\nto\\nstore\\ninformation\\nor\\nsettings\\nin\\nthe\\nbrowser\\nfor\\nthe\\npurpose\\nof\\nhelping\\nyou\\nnavigate\\nbetween\\npages\\nefficiently,\\nremembering\\nyour\\npreferences,\\nenabling\\nfunctionality,\\nand\\nhelping\\nus\\nunderstand\\nuser\\nactivity\\nand\\npatterns.\\n●\\nLocal\\nstorage\\ntechnologies\\n,\\nlike\\nHTML5,\\nthat\\nprovide\\ncookie-equivalent\\nfunctionality\\nbut\\ncan\\nstore\\nlarger\\namounts\\nof\\ndata,\\nincluding\\non\\nyour\\ndevice\\noutside\\nof\\nyour\\nbrowser\\nin\\nconnection\\nwith\\nspecific\\napplications.\\n●\\nWeb\\nbeacons\\n,\\nalso\\nknown\\nas\\npixel\\ntags\\nor\\nclear\\nGIFs,\\nwhich\\nare\\nused\\nto\\ndemonstrate\\nthat\\na\\nwebpage\\nor\\nemail\\nwas\\naccessed\\nor\\nopened,\\nor\\nthat\\ncertain\\ncontent\\nwas\\nviewed\\nor\\nclicked.\\nSensitive\\ndata\\n:\\nIn\\nyour\\nconversations\\nwith\\nthe\\nServices,\\nyou\\nmay\\nchoose\\nto\\nprovide\\nsensitive\\ninformation.\\nThis\\nincludes,\\nbut\\nis\\nnot\\nlimited\\nto,\\nyour\\nreligious\\nviews,\\nsexual\\norientation,\\npolitical\\nviews,\\nhealth,\\nracial\\nor\\nethnic\\norigin,\\nphilosophical\\nbeliefs,\\nor\\ntrade\\nunion\\nmembership.\\nBy\\nproviding\\nsensitive\\ninformation,\\nyou\\nconsent\\nto\\nour\\nuse\\nof\\nit\\nfor\\nthe\\npurposes\\nset\\nout\\nin\\nthis\\nPrivacy\\nPolicy.', metadata={'source': '/content/privacy_policy_krutrim.pdf', 'page': 2}),\n",
              " Document(page_content='This\\nis\\ninformation\\nabout\\nyou\\nthat\\nyou\\ngive\\nto\\nus\\nby\\nentering\\ninformation\\nvia\\nour\\nwebsites,\\nour\\nmobile\\napp,\\nor\\nby\\ncorresponding\\nwith\\nus\\nby\\nphone,\\nemail\\nor\\notherwise\\nand\\nis\\nprovided\\nentirely\\nvoluntarily.\\nThe\\ninformation\\nyou\\ngive\\nto\\nus\\nincludes\\nyour\\nname,\\ncontact\\ndetails\\n(such\\nas\\nphone\\nnumber,\\nemail\\naddress\\nand\\naddress),\\netc.,\\nfor\\nexample\\nprovided\\nat\\nthe\\ntime\\nof\\nregistering\\nwith\\nour\\nService.\\nYou\\nare\\nfree\\nto\\nopt-in\\nor\\nopt-out\\nto\\nthe\\nuse\\nof\\ncookies\\nwhen\\nyou\\nfirst\\nvisit\\nthe\\nWebsite\\nor\\nuse\\nthe\\nApp.\\nYou\\ncan\\nchoose,\\nat\\nthe\\ntime\\nof\\nopting\\nin,\\nfor\\nwhat\\npurposes\\nthe\\nCookies\\nused.\\nConsent,\\nonce\\nprovided,\\ncan\\nbe\\nwithdrawn\\nat\\nany\\ntime\\nby\\naltering\\nyour\\ncookie\\npreferences\\nin\\nthe\\nbrowser\\nor\\nin\\nyour\\nApp.\\nThe\\nretention\\nperiod\\nof\\ncookies\\nis\\nlimited\\nand\\ndiffers\\nper\\ncookie.\\nDisabling\\ncookie\\ncollection\\nthrough\\nyour\\nbrowser\\nor\\ndevice\\nor\\nchanging\\nyour\\nconsent\\nbut\\nthis\\nmay\\nresult\\nin\\nsome\\nfeatures\\nof\\nthe\\nServices\\nnot\\nfunctioning\\nproperly\\nand\\nwe\\nwill\\nnot\\nbe\\nable\\nto\\nsend\\ncustomized\\nand\\nrelevant\\ncommunication\\nor\\npromotional\\nmessages\\nto\\nyou.\\nThe\\nCookie\\nprivacy\\npolicy\\nmay\\nbe\\naccessed\\nhere.\\nPersonal\\nInformation\\nthat\\nWe\\nmay\\nreceive\\nfrom\\nother\\nsources:\\nThe\\nthird\\nparties\\nfrom\\nwhom\\nWe\\nmay\\nreceive\\ninformation\\nmay\\ninclude\\nour\\nsubsidiaries,\\naffiliates,\\nor\\nparent \\ncompanies\\nor\\nother\\nthird-party\\ncompanies.\\nFor\\nexample,\\nYou\\nmay\\navail\\nour\\nservices\\nby\\nlogging\\nin\\nthrough \\nYour\\nID\\nlinked\\nwith\\nOla\\nCabs\\naccount\\nor\\nany\\nother\\napplication\\nowned\\nby\\nANI\\nTechnologies\\nPrivate\\nLimited \\n(“ANI”)\\nand\\nits\\nGroup\\nCompanies.\\nSingle\\nsign-on\\nmakes\\nit\\neasy\\nto\\ncentrally\\nmanage\\naccess\\nto\\nthese \\naccounts\\nand\\nprovide\\nusers\\nwith\\nsingle\\nsign-on\\naccess\\nto\\ntheir\\nassigned\\naccounts\\nfrom\\none\\nplace.\\nThe \\nPrivacy\\nPolicy\\nwith\\nrespect\\nto\\nthese\\naccounts\\nmay\\nbe\\nfound \\nhere\\nIn\\nany\\ninstance,\\nWe\\nwill\\nuse\\nthe\\nPersonal\\nInformation\\nWe\\nobtain\\nfrom\\nthese\\nsources\\nfor\\nthe\\npurposes\\nas \\nmentioned\\nbelow.\\nThe\\nremaining\\nprovisions\\nof\\nthis\\nPolicy\\nalso\\napply\\nto\\nany\\nPersonal\\nInformation\\nWe\\nobtain \\nfrom\\nthese\\nsources\\nas\\nwell.\\nPURPOSE\\nOF\\nCOLLECTION\\nAND\\nPROCESSING\\nOF\\nPERSONAL\\nINFORMATION\\nProvide\\nour\\nServices\\n-\\nWe\\nuse\\npersonal\\ninformation\\nto\\noperate,\\nmaintain,\\nand\\nprovide\\nyou\\nwith\\nour\\nServices.\\nIn\\nparticular,\\nwe\\nuse\\npersonal\\ninformation\\nto\\nperform\\nour\\ncontractual\\nobligations\\nunder\\nour\\nTerms\\nof\\nService.\\nCommunicate\\nwith\\nyou\\nabout\\nour\\nServices-\\nIt\\nis\\nin\\nour\\nlegitimate\\nbusiness\\ninterests\\nto\\nuse\\npersonal\\ninformation\\nto\\nrespond\\nto\\nyour\\nrequests,\\nprovide\\nuser\\nsupport,\\nand\\ncommunicate\\nwith\\nyou\\nabout\\nour\\nServices,\\nincluding\\nby\\nsending\\nannouncements,\\nsurveys,\\nreminders,\\nupdates,\\nsecurity\\nalerts,\\nand\\nsupport\\nand\\nadministrative\\nmessages.\\nImprove,\\nmonitor,\\npersonalize,\\nand\\nprotect\\nour\\nServices\\n-\\nIt\\nis\\nin\\nour\\nlegitimate\\nbusiness\\ninterests\\nto\\nimprove\\nand\\nkeep\\nour\\nServices\\nsafe\\nfor\\nour\\nusers,\\nwhich\\nincludes:\\n●\\nUnderstanding\\nyour\\nneeds\\nand\\ninterests,\\nand\\npersonalizing\\nyour\\nexperience\\nwith\\nthe\\nServices\\nand\\nour\\ncommunications.\\n●\\nTroubleshooting,\\ntesting,\\nand\\nresearch,\\nand\\nkeeping\\nthe\\nServices\\nsecure.\\n●\\nInvestigating\\nand\\nprotecting\\nagainst\\nfraudulent,\\nharmful,\\nunauthorized,\\nor\\nillegal\\nactivity.\\nResearch\\nand\\ndevelopment\\n-\\nWe\\nmay\\nuse\\npersonal\\ninformation\\nfor\\nresearch\\nand\\ndevelopment\\npurposes\\nwhere\\nit\\nis\\nin\\nour\\nlegitimate\\nbusiness\\ninterests,\\nincluding\\nto\\nanalyze\\nand\\nimprove\\nthe\\nServices\\nand\\nour\\nbusiness.\\nAs\\npart\\nof\\nthese\\nactivities,\\nwe\\nmay\\ncreate\\nor\\nuse\\naggregated,\\nde-identified\\nor\\nother\\nanonymized\\ndata\\nfrom\\npersonal\\ninformation\\nwe\\ncollect.\\nWe\\nmake\\npersonal\\ninformation\\ninto\\nanonymized\\ndata\\nby\\nremoving\\ninformation\\nthat\\nmakes\\nthe\\ndata\\npersonally\\nidentifiable\\nto\\nyou.\\nWe\\nmay\\nuse\\nthis\\nanonymized\\ndata\\nand\\nshare\\nit\\nwith\\nthird\\nparties\\nfor\\nour\\nlawful\\nbusiness\\npurposes,\\nincluding\\nto\\nanalyze\\nand\\nimprove\\nthe\\nServices\\nand\\npromote\\nour\\nbusiness.\\nCompliance\\nand\\nprotection\\n-\\nWe\\nmay\\nuse\\npersonal\\ninformation\\nto\\ncomply\\nwith\\nlegal\\nobligations,\\nand\\nto\\ndefend\\nus\\nagainst\\nlegal\\nclaims\\nor\\ndisputes,\\nincluding\\nto:\\n●\\nProtect\\nour,\\nyour,\\nor\\nothers’\\nrights,\\nprivacy,\\nsafety,\\nor\\nproperty\\n(including\\nby\\nmaking\\nand\\ndefending\\nlegal\\nclaims).', metadata={'source': '/content/privacy_policy_krutrim.pdf', 'page': 3}),\n",
              " Document(page_content='●\\nAudit\\nour\\ninternal\\nprocesses\\nfor\\ncompliance\\nwith\\nlegal\\nand\\ncontractual\\nrequirements\\nand\\ninternal\\npolicies.\\n●\\nEnforce\\nthe\\nterms\\nand\\nconditions\\nthat\\ngovern\\nthe\\nServices.\\n●\\nPrevent,\\nidentify,\\ninvestigate\\nand\\ndeter\\nfraudulent,\\nharmful,\\nunauthorized,\\nunethical,\\nor\\nillegal\\nactivity,\\nincluding\\ncyberattacks\\nand\\nidentity\\ntheft.\\n●\\nComply\\nwith\\napplicable\\nlaws,\\nlawful\\nrequests,\\nand\\nlegal\\nprocess,\\nsuch\\nas\\nto\\nrespond\\nto\\nsubpoenas\\nor\\nrequests\\nfrom\\ngovernment\\nauthorities.\\nHOW\\nINFORMATION\\nIS\\nPROCESSED\\nThe\\ninformation\\nmay\\nbe\\nprocessed\\nby\\nour\\nWebsite.\\nYour\\nPersonal\\nInformation\\nis\\nprocessed\\nby\\nus\\nunder\\ndifferent\\ncircumstances\\nand\\nunder\\na\\ndifferent\\nlawful\\nbasis.\\nThe\\nsame\\nis\\nprovided\\nbelow\\nfor\\nyour\\ninformation:\\n●\\nTo\\nprovide,\\nadminister,\\nmaintain\\nand/or\\nanalyze\\nthe\\nServices;\\n●\\nTo\\nimprove\\nour\\nServices\\nand\\nconduct\\nresearch;\\n●\\nTo\\ncommunicate\\nwith\\nyou;\\nincluding\\nto\\nsend\\nyou\\ninformation\\nabout\\nour\\nServices\\nand\\nevents;\\n●\\nTo\\ndevelop\\nnew\\nprograms\\nand\\nservices;\\n●\\nTo\\nprevent\\nfraud,\\ncriminal\\nactivity,\\nor\\nmisuses\\nof\\nour\\nServices,\\nand\\nto\\nprotect\\nthe\\nsecurity\\nof\\nour\\nIT\\nsystems,\\narchitecture,\\nand\\nnetworks;\\n●\\nTo\\ncarry\\nout\\nbusiness\\ntransfers;\\nand\\n●\\nTo\\ncomply\\nwith\\nlegal\\nobligations\\nand\\nlegal\\nprocess\\nand\\nto\\nprotect\\nour\\nrights,\\nprivacy,\\nsafety,\\nor\\nproperty,\\nand/or\\nthat\\nof\\nour\\naffiliates,\\nyou,\\nor\\nother\\nthird\\nparties.\\nAggregated\\nor\\nDe-Identified\\nInformation\\n.\\nWe\\nmay\\naggregate\\nor\\nde-identify\\nPersonal\\nInformation\\nso\\nthat\\nit\\nmay\\nno\\nlonger\\nbe\\nused\\nto\\nidentify\\nyou\\nand\\nuse\\nsuch\\ninformation\\nto\\nanalyze\\nthe\\neffectiveness\\nof\\nour\\nServices,\\nto\\nimprove\\nand\\nadd\\nfeatures\\nto\\nour\\nServices,\\nto\\nconduct\\nresearch\\nand\\nfor\\nother\\nsimilar\\npurposes.\\nIn\\naddition,\\nfrom\\ntime\\nto\\ntime,\\nwe\\nmay\\nanalyze\\nthe\\ngeneral\\nbehavior\\nand\\ncharacteristics\\nof\\nusers\\nof\\nour\\nServices\\nand\\nshare\\naggregated\\ninformation\\nlike\\ngeneral\\nuser\\nstatistics\\nwith\\nthird\\nparties,\\npublish\\nsuch\\naggregated\\ninformation\\nor\\nmake\\nsuch\\naggregated\\ninformation\\ngenerally\\navailable.\\nWe\\nmay\\ncollect\\naggregated\\ninformation\\nthrough\\nthe\\nServices,\\nthrough\\ncookies,\\nand\\nthrough\\nother\\nmeans\\ndescribed\\nin\\nthis\\nPrivacy\\nPolicy.\\nWe\\nwill\\nmaintain\\nand\\nuse\\nde-identified\\ninformation\\nin\\nanonymous\\nor\\nde-identified\\nform\\nand\\nwe\\nwill\\nnot\\nattempt\\nto\\nre\\nidentify\\nthe\\ninformation,\\nunless\\nrequired\\nby\\nlaw.\\nSHARING/TRANSFER\\nOF\\nPERSONAL\\nDATA\\nWe\\ndo\\nnot\\nsell\\nor\\nshare\\nyour\\npersonal\\ninformation\\nwith\\nthird-parties\\nfor\\ninterest-based\\nadvertising\\npurposes.\\nWe\\nmay\\ndisclose\\nyour\\npersonal\\ninformation\\nas\\ndescribed\\nbelow:\\nService\\nproviders\\n-\\nWe\\nmay\\nrely\\non\\nthird-party\\nservice\\nproviders\\nin\\nfurtherance\\nof\\nthe\\npurposes\\ndescribed\\nabove.\\nIn\\nthese\\ncases,\\npersonal\\ninformation\\nmay\\nbe\\naccessed\\nby\\nthese\\nthird-parties\\nand\\nprocessed\\nor\\nstored\\non\\nour\\nbehalf.\\nThese\\nservice\\nproviders\\ncan\\ninclude\\nhosting\\nservices,\\ncloud\\ncomputing\\nand\\nstorage\\nservices,\\nmaintenance\\nservices,\\nsecurity\\nservices,\\nand\\nuser\\nsupport\\nservices.\\nWe\\nalso\\nmay\\nshare\\nhashes\\nof\\nnames\\nand\\nphone\\nnumbers\\nand\\nlimited\\ndevice\\ndata\\nfor\\nadvertising\\nattribution\\nand\\nmeasurement\\nservices.\\nThis\\nmeans\\nthat\\nthe\\nrecipient\\ncan\\nrecognize\\nyour\\nname\\nand\\nphone\\nnumber\\nonly\\nif\\nthey\\nalready\\nhave\\nthat\\ninformation\\nfrom\\nanother\\nsource.\\nAffiliated\\n-\\nWe\\nmay\\ndisclose\\nPersonal\\nInformation\\nto\\nour\\naffiliates,\\nmeaning\\nan\\nentity\\nthat\\ncontrols,\\nis\\ncontrolled\\nby,\\nor\\nis\\nunder\\ncommon\\ncontrol\\nwith\\nKrutrim.\\nOur\\naffiliates\\nmay\\nuse\\nthe\\nPersonal\\nInformation\\nwe\\nshare\\nin\\na\\nmanner\\nconsistent\\nwith\\nthis\\nPrivacy\\nPolicy.', metadata={'source': '/content/privacy_policy_krutrim.pdf', 'page': 4}),\n",
              " Document(page_content='Authorities\\nand\\nothers\\n-\\nIf\\nwe\\nare\\nlegally\\nobliged\\nor\\notherwise\\nbelieve\\nit\\nnecessary\\nto\\ndo\\nso,\\npersonal\\ninformation\\nmay\\nbe\\ndisclosed\\nto\\nregulatory\\nagencies,\\nlaw\\nenforcement\\nagencies,\\ncourts,\\nand\\nother\\ngovernment\\nauthorities,\\nincluding\\nfor\\nthe\\ncompliance\\nand\\nprotection\\npurposes\\ndescribed\\nabove.\\nInternational\\ntransfers\\nWe\\nmay\\ntransfer\\nyour\\nPersonal\\nData\\nto\\nrecipients\\nin\\ncountries\\noutside\\nIndia\\nthat\\nmay\\nhave\\ndiffering\\ndata\\nprotection\\nlaws.\\nThis\\nincludes\\ncountries\\nwhich\\nmay\\nnot\\nhave\\nan\\nadequate\\nlevel\\nof\\nprotection\\nfor\\nPersonal\\nData.\\nIn\\nthose\\ninstances,\\nwe\\nwill\\nensure\\nthat\\nappropriate\\nsafeguards\\nare\\nin\\nplace\\nfor\\nthat\\ntransfer\\nand\\nstorage\\nas\\nrequired\\nby\\napplicable\\nlaw.\\nWe\\nwill\\nensure\\nthere\\nis\\na\\nlegal\\nground\\nfor\\nthe\\ntransfer\\nin\\naccordance\\nwith\\napplicable\\ndata\\nprotection\\nlegislation.\\nYou\\nwill\\nalso\\nbe\\ninformed\\nabout\\nthe\\nlegal\\nground,\\nwhat\\nsafeguards\\nwere\\nimplemented,\\nand\\nwhere\\nyou\\ncan\\nobtain\\na\\ncopy\\nof\\ninformation\\non\\nthese\\nsafeguards.\\nIn\\ncase\\nof\\nsensitive\\npersonal\\ndata,\\nwe\\nwill\\nspecifically\\nseek\\nyour\\nconsent\\nbefore\\nsuch\\ntransfers\\nto\\nother\\ncountries,\\nand\\nwill\\nalso\\nensure\\nthat\\nthe\\nconditions\\nas\\nrequired\\nunder\\nlaw\\nfor\\nsuch\\ninternational\\ntransfer\\nof\\nsensitive\\ndata\\nare\\ncomplied\\nwith.\\nMarketing\\nbased\\non\\nyour\\nonline\\nweb\\nbehavior\\ndata\\nWhen\\nyou\\nvisit\\nour\\nwebsite(s),\\nand\\nif\\nyou\\nconsent\\nto\\nthe\\nuse\\nof\\ncookies,\\nwe\\ncollect\\nand\\nprocess\\nyour\\nIP\\naddress,\\ninformation\\non\\nyour\\nbrowsing\\non\\nour\\nwebsite,\\ne.g.\\nproduct\\ninterest\\nand\\nconfiguration,\\ndevice\\ninformation,\\nunique\\nonline\\nidentifiers\\nand\\ninteraction\\nin\\nrelation\\nto\\nour\\nads\\non\\nthird-party\\nwebsites\\n(your\\n“Online\\nWeb\\nBehaviour\\nData”).\\nSuch\\ndata\\nis\\ncollected\\nby\\ncookies\\nthat\\nwe\\nand\\nthird\\nparties\\nplace\\non\\nour\\nwebsite\\nand\\nin\\nour\\napp.\\nFor\\nmore\\ninformation\\nregarding\\nthe\\ncookies\\nused,\\nplease\\nconsult\\nour\\ncookie\\npolicy\\nThe\\nlegal\\nground\\nfor\\nplacing,\\ncollecting\\nand\\nhaving\\naccess\\nto\\ninformation\\nfrom\\ncookies\\nis\\nyour\\nconsent.\\nThe\\npurpose\\nof\\nour\\nprocessing\\nof\\nthe\\nOnline\\nWeb\\nBehaviour\\nData\\nis\\nto\\nidentify\\nyou\\nas\\nreturn\\nvisitor\\nto\\nour\\nwebsite,\\nto\\nanalyze\\nthe\\nbehaviour\\nof\\nthe\\nvisitors\\nto\\nour\\nwebsite,\\nto\\nenhance\\nour\\ncommunication\\nand\\nstructure\\nof\\nour\\nwebsite\\nand\\nto\\nbuild\\na\\nprofile\\nof\\nyour\\ninterests\\nto\\nbe\\nable\\nto\\nshow\\nyou\\nrelevant\\nadverts\\nfor\\nour\\nproducts\\nand\\nservices\\nalso\\non\\nother\\nwebsites.\\nThe\\nprofiles\\nwe\\ncreate\\nbased\\non\\nyour\\nOnline\\nWeb\\nBehaviour\\nData\\ncan\\nfor\\nexample\\ninclude,\\n“people\\nthat\\nvisited\\nthe\\nproduct\\npage,\\nstarted\\nconfiguration\\netc.,\".\\nAll\\ndata\\nthat\\nwe\\nstore\\nabout\\nyou\\nfor\\nthese\\npurposes\\nmay\\nalso\\nbe\\nstored\\nin\\npseudonymised\\nform,\\nmeaning\\nthat\\nthe\\ninformation\\nstored\\nabout\\nyou\\nis\\nconnected\\nto\\nan\\nonline\\nidentifier.\\nThe\\ndata\\nthat\\nwe\\nuse\\nhas\\nbeen\\ncollected\\nby\\ncookies\\nand\\nwe\\nalways\\nask\\nfor\\nyour\\nconsent\\nto\\nplace\\nthese\\ncookies\\nbefore\\ncollecting\\nand\\nstoring\\nthe\\ndata.\\nFurthermore,\\nthe\\nprofiling\\nis\\nalways\\nconducted\\non\\ngroup\\nlevel,\\nmeaning\\nthat\\nyou\\nwill\\nreceive\\nthe\\nsame\\ntype\\nof\\nmarketing\\nas\\nother\\nindividuals\\nincluded\\nin\\nthat\\nsame\\nsegment.\\nThe\\nprofiles\\nwe\\ncreate\\nare\\nalso\\nbased\\non\\na\\nfew\\ncriteria,\\nsuch\\nas\\nyour\\nbehaviour\\non\\nour\\nwebsite\\nand\\nproduct\\ninterest.\\nTo\\nthis\\nend,\\nwe\\nhave\\na\\nlegitimate\\ninterest\\nto\\nprocess\\nyour\\npersonal\\ndata\\nfor\\nthese\\npurposes.\\nYou\\nalways\\nhave\\nthe\\npossibility\\nto\\nobject\\nto\\nthis\\nprocessing\\nby\\nwithdrawing\\nyour\\nconsent\\nto\\nthe\\nuse\\nof\\ncookies.\\nFor\\ninstructions\\nto\\ndo\\nso,\\nplease\\nrefer\\nto\\nour\\ncookie\\npolicy\\nwhich\\nis\\naccessible\\nat\\nCookie\\nPolicy\\nSection.\\nIf\\nyou\\nconsent,\\nwe\\nmay\\ncombine\\nthis\\ndata\\nwith\\nyour\\nOnline\\nWeb\\nBehaviour\\nData\\nfor\\nthe\\npurposes\\nof\\nsending\\nyou\\ntargeted\\nmarketing\\nthrough\\nemail,\\non\\nour\\nwebsites\\nby\\nmobile\\npush\\nnotifications\\nincluding\\nbut\\nnot\\nlimited\\nto\\ntext\\nmessages\\nand/or\\nWhatsApp.\\nYour\\nemail\\naddress\\nand\\ncontact\\nnumber\\nwill\\nfor\\nexample\\nbe\\ncollected\\nwhen\\nyou\\nregister\\non\\nour\\nplatform\\nand\\nin\\nsuch\\ncases\\nthe\\nemail\\naddress\\nand\\nthe\\ncontact\\nnumber\\nwill\\nbe\\nconnected\\nto\\nyour\\nonline\\nidentifier.\\nIn\\nthat\\nmanner\\nwe\\nwill\\nbe\\nable\\nto\\nstore\\ninformation', metadata={'source': '/content/privacy_policy_krutrim.pdf', 'page': 5}),\n",
              " Document(page_content='regarding\\nyour\\nonline\\nbehaviour\\nand\\nconnect\\nit\\nto\\nyour\\npseudonymised\\nemail\\naddress.\\nBy\\ndoing\\nthis,\\nwe\\nwill\\nfor\\nexample\\nbe\\nable\\nto\\nsend\\nyou\\npersonalized\\nmarketing\\nby\\nemail.\\nRETENTION\\nWe\\nwill\\nonly\\nretain\\nyour\\nPersonal\\nData\\nfor\\nas\\nlong\\nas\\nit\\nis\\nnecessary\\nto\\nfulfill\\nthe\\npurposes\\noutlined\\nin\\nthis\\npolicy\\nor\\nthe\\npurposes\\nof\\nwhich\\nyou\\nhave\\notherwise\\nbeen\\ninformed.\\nThis\\nmeans\\nthat\\nwhen\\nyou\\nhave\\nconsented\\nto\\nour\\nProcessing\\nof\\nyour\\nPersonal\\nData,\\nwe\\nwill\\nretain\\nthe\\ndata\\nfor\\nas\\nlong\\nas\\nthe\\nactive\\naccount\\nlasts\\n(and,\\nwhere\\napplicable,\\nuntil\\nthe\\nexpiry\\nof\\nthe\\nwarranty\\nperiod)\\nor\\nuntil\\nyou\\nwithdraw\\nyour\\nconsent.\\nIf\\nyou\\nhave\\nrevoked\\nyour\\nconsent,\\nwe\\nmay\\nnevertheless\\nretain\\ncertain\\nPersonal\\nData\\nfor\\nthe\\nperiod\\nrequired\\nin\\norder\\nfor\\nus\\nto\\nmeet\\nour\\nlegal\\nobligations\\nand\\ndefend\\nourselves\\nin\\nlegal\\ndisputes.\\nIf\\nwe\\nhave\\nnot\\nreceived\\nyour\\nconsent\\nfor\\nProcessing,\\nthe\\nPersonal\\nData\\nwill\\nonly\\nbe\\nretained\\nto\\nthe\\nextent\\nwe\\nare\\npermitted\\nto\\ndo\\nso\\nby\\nlaw.\\nRIGHTS\\nOF\\nDATA\\nPRINCIPALS\\nIf\\nyou\\nlive\\nanywhere\\nin\\nIndia,\\nthe\\nlaw\\nhas\\nvarious\\nrights\\nbestowed\\non\\nyou\\nin\\nrelation\\nto\\nyour\\npersonal\\ndata.\\nWe\\nwill\\nhave\\nto\\nconfirm\\nyour\\nidentity,\\nwherever\\napplicable,\\nto\\nensure\\nthat\\nyour\\nrights\\nare\\nbeing\\nexercised\\nappropriately.\\nTo\\nexercise\\nthese\\nrights\\nyou\\nwill\\nhave\\nto\\nwrite\\nto\\nus\\nat\\ndpo@olakrutrim.com\\nExcept\\nin\\nexceptional\\ncircumstances,\\nwe\\nwill\\nrespond\\nto\\nyour\\nrequest\\nwithin\\n30\\ndays\\nfrom\\nthe\\ndate\\nwe\\nreceive\\nyour\\nemail.\\nWe\\nmay\\ncharge\\na\\nminor\\nsum\\nto\\ncomply\\nwith\\nyour\\nexercise\\nof\\nthese\\nrights\\nto\\naid\\nthe\\ncost\\nwe\\nincur\\nfor\\nthis\\ncompliance.\\nYou\\nwill\\nbe\\ninformed\\nof\\nthese\\ncharges\\nonce\\nyou\\nwrite\\nto\\nus.\\nYou\\nhave\\nthe\\nfollowing\\nrights\\nunder\\napplicable\\nlaws\\nin\\nyour\\ncountry\\n-\\n1.\\nAccessing\\nyour\\npersonal\\ninformation\\nYou\\nhave\\nthe\\nright\\nto\\naccess\\nand\\ncopy\\nyour\\npersonal\\ninformation\\nthat\\nwe\\nhold\\nin\\na\\nstandard\\nform\\nthat\\nwill\\nbe\\neasy\\nand\\nunderstandable.\\nIn\\nrare\\noccasions\\nwe\\nmay\\nnot\\nprovide\\nyou\\nwith\\na\\ncopy\\nof\\nyour\\ninformation\\nin\\nwhich\\ncase\\nwe\\nwill\\nconvey\\nyou\\nthis\\nmessage\\nwith\\nappropriate\\nreasons.\\nGenerally,\\nwe\\ncan\\nonly\\ndeny\\nyou\\nyour\\nright\\nof\\naccess\\nif\\nit\\nconcerns\\nthe\\nright\\nof\\nother\\nindividuals\\nor\\nwe\\nhave\\nanother\\nlawful\\nreason\\nto\\nwithhold\\nthat\\ninformation\\nand\\nnot\\notherwise.\\nYou\\nalso\\nhave\\nthe\\nright\\nto\\naccess\\nin\\none\\nplace\\nthe\\nidentities\\nof\\nthe\\ndata\\nfiduciaries\\nwith\\nwhom\\nyour\\npersonal\\ndata\\nhas\\nbeen\\nshared\\nby\\nus\\ntogether\\nwith\\nthe\\ncategories\\nof\\npersonal\\ndata\\nshared\\nwith\\nthem.\\n2.\\nVerify\\nand\\nrectify\\nAccuracy\\nis\\nan\\nimportant\\nprinciple\\nof\\ndata\\nprotection\\nand\\nyou\\nhave\\nthe\\nright\\nto\\nverify\\nyour\\ninformation\\nwith\\nus\\nand\\nask\\nus\\nto\\nrectify\\nit\\nif\\nit\\nis\\ninaccurate.\\nYou\\ncan\\ncorrect,\\ncomplete\\nand\\nupdate\\nyour\\nname,\\naddress,\\ncontact\\ndetails\\nand\\nother\\npersonal\\ninformation\\nyou\\ngive\\nus.\\n3.\\nWithdrawing\\nyour\\nconsent\\nYou\\ncan\\nalways\\nwithdraw\\nyour\\nconsent\\nyou\\nhave\\ngiven\\nus.\\nWe\\nwill\\nbe\\nbound\\nto\\nstop\\ncollecting\\nor\\nprocessing\\nyour\\ndata\\nwe\\ncollect\\nfrom\\nyou\\nsolely\\non\\nthe\\nbasis\\nof\\nyour\\nconsent.\\nFor\\ninstance,\\nthere\\nare\\ncertain\\ndata\\npoints\\nfor\\nwhich\\nwe\\ntake\\nyour\\nexplicit\\nconsent\\nlike\\nGPS\\ntracking.\\nYou\\ncan\\nwithdraw\\nfrom\\nGPS\\ntracking\\nanytime\\nby\\nusing\\nthe\\nApp.\\nHowever,\\nwe\\nwill\\naccordingly\\nbe\\nunable\\nto\\noffer\\nyou\\nother\\nservices\\nthat\\nare\\ndependent\\non\\nGPS\\ntracking\\nlike\\nnavigation.\\n(other\\nmechanisms\\nif\\nthey\\nexist\\nfor\\nconsent\\nwithdrawal\\nto\\nbe\\nmentioned)\\nAlso,\\nwe\\nare\\nlegally\\npermitted\\nto\\ncontinue\\ncollecting\\nor\\nprocessing\\nyour\\npersonal\\ndata\\nif\\nwe\\ncan\\nrely\\non\\ngrounds\\nother\\nthan\\nconsent\\nto\\nprocess\\nyour\\ninformation.\\n4.\\nObjecting\\nto\\nour\\nuse\\nof\\nyour\\npersonal\\ninformation\\nand\\nautomated\\ndecisions\\nmade\\nabout\\nyou', metadata={'source': '/content/privacy_policy_krutrim.pdf', 'page': 6}),\n",
              " Document(page_content='You\\nhave\\nthe\\nright\\nto\\nobject\\nto\\nthe\\nprocessing\\nof\\nyour\\ndata\\nif\\nthe\\nprocessing\\nis\\ncarried\\nout\\non\\na\\nlegal\\nbasis\\nother\\nthan\\nconsent.\\nBut\\nyou\\nwill\\nhave\\nto\\nprovide\\nreasons\\nfor\\nsuch\\nwithdrawal.\\nWhere\\nyour\\npersonal\\ndata\\nis\\nprocessed\\nfor\\nthe\\npurposes\\nof\\nthe\\nlegitimate\\ninterests\\npursued\\nby\\nus,\\nyou\\nmay\\nobject\\nto\\nsuch\\nprocessing\\nby\\nproviding\\na\\nground\\nrelated\\nto\\nyour\\nparticular\\nsituation\\nto\\njustify\\nthe\\nobjection.\\nWe\\nwill\\ntemporarily\\nstop\\nprocessing\\nyour\\npersonal\\ndata\\nuntil\\nwe\\nhave\\nassessed\\nyour\\nconcerns.\\nIf\\nwe\\nagree\\nthat\\nyour\\nobjection\\nis\\njustified\\nin\\naccordance\\nwith\\nyour\\nrights\\nunder\\ndata\\nprotection\\nlaws,\\nwe\\nwill\\npermanently\\nstop\\nusing\\nyour\\ndata\\nfor\\nthose\\npurposes.\\nOtherwise\\nwe\\nwill\\nprovide\\nyou\\nwith\\nour\\njustification\\nas\\nto\\nwhy\\nwe\\nmay\\ncontinue\\nusing\\nyour\\ndata.\\nYou\\nmay\\nat\\nany\\ntime\\nopt\\nto\\nunsubscribe\\nfrom\\nany\\nof\\nour\\noptional\\nservices\\nor\\nmake\\nchanges\\nin\\nthe\\nsettings\\nof\\nthe\\nwebsite\\nor\\nthe\\napplication.\\nYou\\nmay\\nobject\\nto\\na\\ndecision\\nmade\\nabout\\nyou\\nbased\\non\\nautomated\\nprocessing\\nby\\ncontacting\\nour\\ndata\\nprotection\\nofficer.\\n5.\\nErasing\\nyour\\npersonal\\ninformation\\nYou\\nhave\\nthe\\nright\\nto\\nget\\nyour\\ninformation\\nerased\\nfrom\\nour\\nsystems.\\nUnless\\nthere\\nis\\na\\nreason\\nthat\\nthe\\nlaw\\nallows\\nus\\nto\\nuse\\nyour\\npersonal\\ninformation\\nfor\\nlonger,\\nwe\\nwill\\nmake\\nreasonable\\nefforts\\nto\\ncomply\\nwith\\nyour\\nrequest.\\n6.\\nYour\\nright\\nto\\nport\\nyour\\ndata\\nYou\\nhave\\nthe\\nright\\nto\\nask\\nfor\\na\\ncopy\\nof\\ninformation\\nthat\\nwe\\ncollect\\nfrom\\nyou\\nin\\na\\nstructured\\ndata\\nfile.\\nWe\\nwill\\nprovide\\nthis\\nto\\nyou\\nelectronically\\nin\\na\\nstructured,\\ncommonly\\nused\\nand\\nmachine-readable\\nform.\\nYou\\ncan\\nalso\\nask\\nus\\nto\\nsend\\nyour\\npersonal\\ninformation\\ndirectly\\nto\\nanother\\ndata\\nfiduciary,\\nand\\nwe\\nwill\\ndo\\nso\\nif\\nthis\\nis\\ntechnically\\npossible.\\nWe\\nmay\\nnot\\nprovide\\nyou\\nwith\\na\\ncopy\\nof\\nyour\\npersonal\\ninformation\\nif\\nthis\\nconcerns\\nother\\nindividuals\\nor\\nwe\\nhave\\nanother\\nlawful\\nreason\\nto\\nwithhold\\nthat\\ninformation.\\n7.\\nYour\\nright\\nto\\nbe\\nforgotten\\nYou\\nmay\\nalso\\nask\\nus\\nto\\nrestrict\\nor\\nprevent\\nprocessing\\nyour\\npersonal\\ninformation\\nin\\nthe\\nfollowing\\nsituations:\\nwhere\\nyou\\nbelieve\\nit\\nis\\nunlawful\\nfor\\nus\\nto\\ndo\\nso,\\nyou\\nhave\\nobjected\\nto\\nits\\nuse\\nor\\nwithdrawn\\nyour\\nconsent\\nand\\nour\\nassessment\\nis\\npending\\nor\\nWhere\\nyour\\ndata\\nhas\\nserved\\nthe\\npurpose\\nIn\\nthese\\nsituations,\\nwe\\nmay\\nonly\\nprocess\\nyour\\npersonal\\ninformation\\nwhilst\\nits\\nprocessing\\nis\\nrestricted\\nif\\nwe\\nhave\\nyour\\nconsent\\nor\\nare\\nlegally\\npermitted\\nto\\ndo\\nso,\\nfor\\nexample\\nfor\\nstorage\\npurposes,\\nto\\nprotect\\nthe\\nrights\\nof\\nanother\\nindividual\\nor\\ncompany\\nor\\nin\\nconnection\\nwith\\nlegal\\nproceedings.\\nLODGING\\nOF\\nCOMPLAINT\\nIf\\nyou\\nhave\\nany\\nissues\\nwith\\nthe\\nway\\nwe\\nprocess\\ndata\\nor\\nyou\\nneed\\nany\\nclarification\\non\\nour\\nprivacy\\npractices\\nyou\\ncan\\nalways\\ncontact\\nour\\nData\\nProtection\\nOfficer\\nat\\ndpo@olakrutrim.com\\n.\\nYour\\nissues\\nwill\\nbe\\naddressed\\nby\\nus\\nas\\nsoon\\nas\\npossible\\nand\\nwithin\\na\\nmaximum\\nperiod\\nof\\none\\nmonth.\\nHowever,\\nif\\nyou\\nare\\nstill\\nof\\nthe\\nopinion\\nthat\\nwe\\nare\\nprocessing\\nyour\\npersonal\\ndata\\nin\\nviolation\\nof\\ndata\\nprotection\\nlaws\\nand\\nregulations\\nyou\\nhave\\nthe\\nright\\nto\\nlodge\\na\\ncomplaint\\nwith\\nthe\\nsupervisory\\nauthority.', metadata={'source': '/content/privacy_policy_krutrim.pdf', 'page': 7})]"
            ]
          },
          "metadata": {},
          "execution_count": 49
        }
      ]
    },
    {
      "cell_type": "code",
      "source": [
        "pages_chatgpt"
      ],
      "metadata": {
        "colab": {
          "base_uri": "https://localhost:8080/"
        },
        "id": "XMTsEwBEE_6r",
        "outputId": "fbde2c1f-43ad-406e-9bf0-493e301e5956"
      },
      "execution_count": null,
      "outputs": [
        {
          "output_type": "execute_result",
          "data": {
            "text/plain": [
              "[Document(page_content='Effective:\\nJanuary\\n31,\\n2024\\nWe’ve\\nupdated\\nour\\nPrivacy\\nPolicy\\nbelow.\\nThese\\nupdates\\ndo\\nnot\\napply\\nto\\nindividuals\\nlocated\\nin\\nthe\\nEuropean\\nEconomic\\nArea,\\nUK,\\nand\\nSwitzerland.\\nIf\\nyou\\nreside\\nin\\nthose\\nareas,\\nthis\\nversion\\nof\\nour\\nPrivacy\\nPolicy\\napplies\\nto\\nyou.\\nWe\\nat\\nOpenAI\\nOpCo,\\nLLC\\n(together\\nwith\\nour\\naffiliates,\\n“OpenAI”,\\n“we”,\\n“our”\\nor\\n“us”)\\nrespect\\nyour\\nprivacy\\nand\\nare\\nstrongly\\ncommitted\\nto\\nkeeping\\nsecure\\nany\\ninformation\\nwe\\nobtain\\nfrom\\nyou\\nor\\nabout\\nyou.\\nThis\\nPrivacy\\nPolicy\\ndescribes\\nour\\npractices\\nwith\\nrespect\\nto\\nPersonal\\nInformation\\nwe\\ncollect\\nfrom\\nor\\nabout\\nyou\\nwhen\\nyou\\nuse\\nour\\nwebsite,\\napplications,\\nand\\nservices\\n(collectively,\\n“Services”).\\nThis\\nPrivacy\\nPolicy\\ndoes\\nnot\\napply\\nto\\ncontent\\nthat\\nwe\\nprocess\\non\\nbehalf\\nof\\ncustomers\\nof\\nour\\nbusiness\\nofferings,\\nsuch\\nas\\nour\\nAPI.\\nOur\\nuse\\nof\\nthat\\ndata\\nis\\ngoverned\\nby\\nour\\ncustomer\\nagreements\\ncovering\\naccess\\nto\\nand\\nuse\\nof\\nthose\\nofferings.\\nFor\\ninformation\\nabout\\nhow\\nwe\\ncollect\\nand\\nuse\\ntraining\\ninformation\\nto\\ndevelop\\nour\\nlanguage\\nmodels\\nthat\\npower\\nChatGPT\\nand\\nother\\nServices,\\nand\\nyour\\nchoices\\nwith\\nrespect\\nto\\nthat\\ninformation,\\nplease\\nsee\\nthis\\nhelp\\ncenter\\narticle.\\n1.\\nPersonal\\ninformation\\nwe\\ncollect\\nWe\\ncollect\\npersonal\\ninformation\\nrelating\\nto\\nyou\\n(“Personal\\nInformation”)\\nas\\nfollows:\\nPersonal\\nInformation\\nYou\\nProvide:\\nWe\\ncollect\\nPersonal\\nInformation\\nif\\nyou\\ncreate\\nan\\naccount\\nto\\nuse\\nour\\nServices\\nor\\ncommunicate\\nwith\\nus\\nas\\nfollows:\\nAccount\\nInformation:\\nWhen\\nyou\\ncreate\\nan\\naccount\\nwith\\nus,\\nwe\\nwill\\ncollect\\ninformation\\nassociated\\nwith\\nyour\\naccount,\\nincluding\\nyour\\nname,\\ncontact\\ninformation,\\naccount\\ncredentials,\\npayment\\ncard\\ninformation,\\nand\\ntransaction\\nhistory,\\n(collectively,\\n“Account\\nInformation”).\\nUser\\nContent:\\nWhen\\nyou\\nuse\\nour\\nServices,\\nwe\\ncollect\\nPersonal\\nInformation\\nthat\\nis\\nincluded\\nin\\nthe\\ninput,\\nfile\\nuploads,\\nor\\nfeedback\\nthat\\nyou\\nprovide\\nto\\nour\\nServices\\n(“Content”).\\nCommunication\\nInformation:\\nIf\\nyou\\ncommunicate\\nwith\\nus,\\nwe\\ncollect\\nyour\\nname,\\ncontact\\ninformation,\\nand\\nthe\\ncontents\\nof\\nany\\nmessages\\nyou\\nsend\\n(“Communication\\nInformation”).\\nSocial\\nMedia\\nInformation:\\nWe\\nhave\\npages\\non\\nsocial\\nmedia\\nsites\\nlike\\nInstagram,\\nFacebook,\\nMedium,\\nTwitter,\\nYouTube\\nand\\nLinkedIn.\\nWhen\\nyou\\ninteract\\nwith\\nour\\nsocial\\nmedia\\npages,\\nwe\\nwill\\ncollect\\nPersonal\\nInformation\\nthat\\nyou\\nelect\\nto\\nprovide\\nto\\nus,\\nsuch\\nas\\nyour\\ncontact\\ndetails\\n(collectively,\\n“Social\\nInformation”).\\nIn\\naddition,\\nthe\\ncompanies\\nthat\\nhost\\nour\\nsocial\\nmedia\\npages\\nmay\\nprovide\\nus\\nwith\\naggregate\\ninformation\\nand\\nanalytics\\nabout\\nour\\nsocial\\nmedia\\nactivity.\\nOther\\nInformation\\nYou\\nProvide:\\nWe\\ncollect\\nother\\ninformation\\nthat\\nyou\\nmay\\nprovide\\nto\\nus,\\nsuch\\nas\\nwhen\\nyou\\nparticipate\\nin\\nour\\nevents\\nor\\nsurveys\\nor\\nprovide\\nus\\nwith\\ninformation\\nto\\nestablish\\nyour\\nidentity\\n(collectively,\\n“Other\\nInformation\\nYou\\nProvide”\\nPersonal\\nInformation\\nWe\\nReceive\\nAutomatically\\nFrom\\nYour\\nUse\\nof\\nthe\\nServices:\\nWhen\\nyou\\nvisit,\\nuse,\\nor\\ninteract\\nwith\\nthe\\nServices,\\nwe\\nreceive\\nthe\\nfollowing\\ninformation\\nabout\\nyour\\nvisit,\\nuse,\\nor\\ninteractions\\n(“Technical\\nInformation”):\\nLog\\nData:\\nInformation\\nthat\\nyour\\nbrowser\\nor\\ndevice\\nautomatically\\nsends\\nwhen\\nyou\\nuse\\nour\\nServices.\\nLog\\ndata\\nincludes\\nyour\\nInternet\\nProtocol\\naddress,\\nbrowser\\ntype\\nand\\nsettings,\\nthe\\ndate\\nand\\ntime\\nof\\nyour\\nrequest,\\nand\\nhow\\nyou\\ninteract\\nwith\\nour\\nServices.', metadata={'source': '/content/chat_gpt_privacy_policy.pdf', 'page': 0}),\n",
              " Document(page_content='Usage\\nData:\\nWe\\nmay\\nautomatically\\ncollect\\ninformation\\nabout\\nyour\\nuse\\nof\\nthe\\nServices,\\nsuch\\nas\\nthe\\ntypes\\nof\\ncontent\\nthat\\nyou\\nview\\nor\\nengage\\nwith,\\nthe\\nfeatures\\nyou\\nuse\\nand\\nthe\\nactions\\nyou\\ntake,\\nas\\nwell\\nas\\nyour\\ntime\\nzone,\\ncountry,\\nthe\\ndates\\nand\\ntimes\\nof\\naccess,\\nuser\\nagent\\nand\\nversion,\\ntype\\nof\\ncomputer\\nor\\nmobile\\ndevice,\\nand\\nyour\\ncomputer\\nconnection.\\nDevice\\nInformation:\\nIncludes\\nname\\nof\\nthe\\ndevice,\\noperating\\nsystem,\\ndevice\\nidentifiers,\\nand\\nbrowser\\nyou\\nare\\nusing.\\nInformation\\ncollected\\nmay\\ndepend\\non\\nthe\\ntype\\nof\\ndevice\\nyou\\nuse\\nand\\nits\\nsettings.\\nCookies:\\nWe\\nuse\\ncookies\\nto\\noperate\\nand\\nadminister\\nour\\nServices,\\nand\\nimprove\\nyour\\nexperience.\\nA\\n“cookie”\\nis\\na\\npiece\\nof\\ninformation\\nsent\\nto\\nyour\\nbrowser\\nby\\na\\nwebsite\\nyou\\nvisit.\\nYou\\ncan\\nset\\nyour\\nbrowser\\nto\\naccept\\nall\\ncookies,\\nto\\nreject\\nall\\ncookies,\\nor\\nto\\nnotify\\nyou\\nwhenever\\na\\ncookie\\nis\\noffered\\nso\\nthat\\nyou\\ncan\\ndecide\\neach\\ntime\\nwhether\\nto\\naccept\\nit.\\nHowever,\\nrefusing\\na\\ncookie\\nmay\\nin\\nsome\\ncases\\npreclude\\nyou\\nfrom\\nusing,\\nor\\nnegatively\\naffect\\nthe\\ndisplay\\nor\\nfunction\\nof,\\na\\nwebsite\\nor\\ncertain\\nareas\\nor\\nfeatures\\nof\\na\\nwebsite.\\nFor\\nmore\\ndetails\\non\\ncookies,\\nplease\\nvisit\\nAll\\nAbout\\nCookies.\\nAnalytics:\\nWe\\nmay\\nuse\\na\\nvariety\\nof\\nonline\\nanalytics\\nproducts\\nthat\\nuse\\ncookies\\nto\\nhelp\\nus\\nanalyze\\nhow\\nusers\\nuse\\nour\\nServices\\nand\\nenhance\\nyour\\nexperience\\nwhen\\nyou\\nuse\\nthe\\nServices.\\n2.\\nHow\\nwe\\nuse\\npersonal\\ninformation\\nWe\\nmay\\nuse\\nPersonal\\nInformation\\nfor\\nthe\\nfollowing\\npurposes:\\nTo\\nprovide,\\nadminister,\\nmaintain\\nand/or\\nanalyze\\nthe\\nServices;\\nTo\\nimprove\\nour\\nServices\\nand\\nconduct\\nresearch;\\nTo\\ncommunicate\\nwith\\nyou;\\nincluding\\nto\\nsend\\nyou\\ninformation\\nabout\\nour\\nServices\\nand\\nevents;\\nTo\\ndevelop\\nnew\\nprograms\\nand\\nservices;\\nTo\\nprevent\\nfraud,\\ncriminal\\nactivity,\\nor\\nmisuses\\nof\\nour\\nServices,\\nand\\nto\\nprotect\\nthe\\nsecurity\\nof\\nour\\nIT\\nsystems,\\narchitecture,\\nand\\nnetworks;\\nTo\\ncarry\\nout\\nbusiness\\ntransfers;\\nand\\nTo\\ncomply\\nwith\\nlegal\\nobligations\\nand\\nlegal\\nprocess\\nand\\nto\\nprotect\\nour\\nrights,\\nprivacy,\\nsafety,\\nor\\nproperty,\\nand/or\\nthat\\nof\\nour\\naffiliates,\\nyou,\\nor\\nother\\nthird\\nparties.\\nAggregated\\nor\\nDe-Identified\\nInformation.\\nWe\\nmay\\naggregate\\nor\\nde-identify\\nPersonal\\nInformation\\nso\\nthat\\nit\\nmay\\nno\\nlonger\\nbe\\nused\\nto\\nidentify\\nyou\\nand\\nuse\\nsuch\\ninformation\\nto\\nanalyze\\nthe\\neffectiveness\\nof\\nour\\nServices,\\nto\\nimprove\\nand\\nadd\\nfeatures\\nto\\nour\\nServices,\\nto\\nconduct\\nresearch\\nand\\nfor\\nother\\nsimilar\\npurposes.\\nIn\\naddition,\\nfrom\\ntime\\nto\\ntime,\\nwe\\nmay\\nanalyze\\nthe\\ngeneral\\nbehavior\\nand\\ncharacteristics\\nof\\nusers\\nof\\nour\\nServices\\nand\\nshare\\naggregated\\ninformation\\nlike\\ngeneral\\nuser\\nstatistics\\nwith\\nthird\\nparties,\\npublish\\nsuch\\naggregated\\ninformation\\nor\\nmake\\nsuch\\naggregated\\ninformation\\ngenerally\\navailable.\\nWe\\nmay\\ncollect\\naggregated\\ninformation\\nthrough\\nthe\\nServices,\\nthrough\\ncookies,\\nand\\nthrough\\nother\\nmeans\\ndescribed\\nin\\nthis\\nPrivacy\\nPolicy.\\nWe\\nwill\\nmaintain\\nand\\nuse\\nde-identified\\ninformation\\nin\\nanonymous\\nor\\nde-identified\\nform\\nand\\nwe\\nwill\\nnot\\nattempt\\nto\\nreidentify\\nthe\\ninformation,\\nunless\\nrequired\\nby\\nlaw.\\nAs\\nnoted\\nabove,\\nwe\\nmay\\nuse\\nContent\\nyou\\nprovide\\nus\\nto\\nimprove\\nour\\nServices,\\nfor\\nexample\\nto\\ntrain\\nthe\\nmodels\\nthat\\npower\\nChatGPT.\\nRead\\nour\\ninstructions\\non\\nhow\\nyou\\ncan\\nopt\\nout\\nof\\nour\\nuse\\nof\\nyour\\nContent\\nto\\ntrain\\nour\\nmodels.\\n3.\\nDisclosure\\nof\\npersonal\\ninformation\\nIn\\ncertain\\ncircumstances\\nwe\\nmay\\nprovide\\nyour\\nPersonal\\nInformation\\nto\\nthird\\nparties\\nwithout\\nfurther\\nnotice\\nto\\nyou,\\nunless\\nrequired\\nby\\nthe\\nlaw:', metadata={'source': '/content/chat_gpt_privacy_policy.pdf', 'page': 1}),\n",
              " Document(page_content='Vendors\\nand\\nService\\nProviders:\\nTo\\nassist\\nus\\nin\\nmeeting\\nbusiness\\noperations\\nneeds\\nand\\nto\\nperform\\ncertain\\nservices\\nand\\nfunctions,\\nwe\\nmay\\nprovide\\nPersonal\\nInformation\\nto\\nvendors\\nand\\nservice\\nproviders,\\nincluding\\nproviders\\nof\\nhosting\\nservices,\\ncustomer\\nservice\\nvendors,\\ncloud\\nservices,\\nemail\\ncommunication\\nsoftware,\\nweb\\nanalytics\\nservices,\\nand\\nother\\ninformation\\ntechnology\\nproviders,\\namong\\nothers.\\nPursuant\\nto\\nour\\ninstructions,\\nthese\\nparties\\nwill\\naccess,\\nprocess,\\nor\\nstore\\nPersonal\\nInformation\\nonly\\nin\\nthe\\ncourse\\nof\\nperforming\\ntheir\\nduties\\nto\\nus.\\nBusiness\\nTransfers:\\nIf\\nwe\\nare\\ninvolved\\nin\\nstrategic\\ntransactions,\\nreorganization,\\nbankruptcy,\\nreceivership,\\nor\\ntransition\\nof\\nservice\\nto\\nanother\\nprovider\\n(collectively,\\na\\n“Transaction”),\\nyour\\nPersonal\\nInformation\\nand\\nother\\ninformation\\nmay\\nbe\\ndisclosed\\nin\\nthe\\ndiligence\\nprocess\\nwith\\ncounterparties\\nand\\nothers\\nassisting\\nwith\\nthe\\nTransaction\\nand\\ntransferred\\nto\\na\\nsuccessor\\nor\\naffiliate\\nas\\npart\\nof\\nthat\\nTransaction\\nalong\\nwith\\nother\\nassets.\\nLegal\\nRequirements:\\nWe\\nmay\\nshare\\nyour\\nPersonal\\nInformation,\\nincluding\\ninformation\\nabout\\nyour\\ninteraction\\nwith\\nour\\nServices,\\nwith\\ngovernment\\nauthorities,\\nindustry\\npeers,\\nor\\nother\\nthird\\nparties\\n(i)\\nif\\nrequired\\nto\\ndo\\nso\\nby\\nlaw\\nor\\nin\\nthe\\ngood\\nfaith\\nbelief\\nthat\\nsuch\\naction\\nis\\nnecessary\\nto\\ncomply\\nwith\\na\\nlegal\\nobligation,\\n(ii)\\nto\\nprotect\\nand\\ndefend\\nour\\nrights\\nor\\nproperty,\\n(iii)\\nif\\nwe\\ndetermine,\\nin\\nour\\nsole\\ndiscretion,\\nthat\\nthere\\nis\\na\\nviolation\\nof\\nour\\nterms,\\npolicies,\\nor\\nthe\\nlaw;\\n(iv)\\nto\\ndetect\\nor\\nprevent\\nfraud\\nor\\nother\\nillegal\\nactivity;\\n(v)\\nto\\nprotect\\nthe\\nsafety,\\nsecurity,\\nand\\nintegrity\\nof\\nour\\nproducts,\\nemployees,\\nor\\nusers,\\nor\\nthe\\npublic,\\nor\\n(vi)\\nto\\nprotect\\nagainst\\nlegal\\nliability.\\nAffiliates:\\nWe\\nmay\\ndisclose\\nPersonal\\nInformation\\nto\\nour\\naffiliates,\\nmeaning\\nan\\nentity\\nthat\\ncontrols,\\nis\\ncontrolled\\nby,\\nor\\nis\\nunder\\ncommon\\ncontrol\\nwith\\nOpenAI.\\nOur\\naffiliates\\nmay\\nuse\\nthe\\nPersonal\\nInformation\\nwe\\nshare\\nin\\na\\nmanner\\nconsistent\\nwith\\nthis\\nPrivacy\\nPolicy.\\nBusiness\\nAccount\\nAdministrators:\\nWhen\\nyou\\njoin\\na\\nChatGPT\\nEnterprise\\nor\\nbusiness\\naccount,\\nthe\\nadministrators\\nof\\nthat\\naccount\\nmay\\naccess\\nand\\ncontrol\\nyour\\nOpenAI\\naccount.\\nIn\\naddition,\\nif\\nyou\\ncreate\\nan\\naccount\\nusing\\nan\\nemail\\naddress\\nbelonging\\nto\\nyour\\nemployer\\nor\\nanother\\norganization,\\nwe\\nmay\\nshare\\nthe\\nfact\\nthat\\nyou\\nhave\\nan\\nOpenAI\\naccount\\nand\\ncertain\\naccount\\ninformation,\\nsuch\\nas\\nyour\\nemail\\naddress,\\nwith\\nyour\\nemployer\\nor\\norganization\\nto,\\nfor\\nexample,\\nenable\\nyou\\nto\\nbe\\nadded\\nto\\ntheir\\nbusiness\\naccount.\\nOther\\nUsers\\nand\\nThird\\nParties\\nYou\\nShare\\nInformation\\nWith:\\nCertain\\nfeatures\\nallow\\nyou\\nto\\ndisplay\\nor\\nshare\\ninformation\\nwith\\nother\\nusers\\nor\\nthird\\nparties.\\nFor\\nexample,\\nyou\\nmay\\nshare\\nChatGPT\\nconversations\\nwith\\nother\\nusers\\nvia\\nshared\\nlinks\\nor\\nsend\\ninformation\\nto\\nthird-party\\napplications\\nvia\\ncustom\\nactions\\nfor\\nGPTs.\\nBe\\nsure\\nyou\\ntrust\\nany\\nuser\\nor\\nthird\\nparty\\nwith\\nwhom\\nyou\\nshare\\ninformation.\\n4.\\nYour\\nrights\\nDepending\\non\\nlocation,\\nindividuals\\nmay\\nhave\\ncertain\\nstatutory\\nrights\\nin\\nrelation\\nto\\ntheir\\nPersonal\\nInformation.\\nFor\\nexample,\\nyou\\nmay\\nhave\\nthe\\nright\\nto:\\nAccess\\nyour\\nPersonal\\nInformation\\nand\\ninformation\\nrelating\\nto\\nhow\\nit\\nis\\nprocessed.\\nDelete\\nyour\\nPersonal\\nInformation\\nfrom\\nour\\nrecords.\\nRectify\\nor\\nupdate\\nyour\\nPersonal\\nInformation.\\nTransfer\\nyour\\nPersonal\\nInformation\\nto\\na\\nthird\\nparty\\n(right\\nto\\ndata\\nportability).\\nRestrict\\nhow\\nwe\\nprocess\\nyour\\nPersonal\\nInformation.\\nWithdraw\\nyour\\nconsent—where\\nwe\\nrely\\non\\nconsent\\nas\\nthe\\nlegal\\nbasis\\nfor\\nprocessing\\nat\\nany\\ntime.\\nObject\\nto\\nhow\\nwe\\nprocess\\nyour\\nPersonal\\nInformation.\\nLodge\\na\\ncomplaint\\nwith\\nyour\\nlocal\\ndata\\nprotection\\nauthority.', metadata={'source': '/content/chat_gpt_privacy_policy.pdf', 'page': 2}),\n",
              " Document(page_content='You\\ncan\\nexercise\\nsome\\nof\\nthese\\nrights\\nthrough\\nyour\\nOpenAI\\naccount.\\nIf\\nyou\\nare\\nunable\\nto\\nexercise\\nyour\\nrights\\nthrough\\nyour\\naccount,\\nplease\\nsubmit\\nyour\\nrequest\\nthrough\\nprivacy.openai.com\\nor\\nto\\ndsar@openai.com.\\nA\\nnote\\nabout\\naccuracy:\\nServices\\nlike\\nChatGPT\\ngenerate\\nresponses\\nby\\nreading\\na\\nuser’s\\nrequest\\nand,\\nin\\nresponse,\\npredicting\\nthe\\nwords\\nmost\\nlikely\\nto\\nappear\\nnext.\\nIn\\nsome\\ncases,\\nthe\\nwords\\nmost\\nlikely\\nto\\nappear\\nnext\\nmay\\nnot\\nbe\\nthe\\nmost\\nfactually\\naccurate.\\nFor\\nthis\\nreason,\\nyou\\nshould\\nnot\\nrely\\non\\nthe\\nfactual\\naccuracy\\nof\\noutput\\nfrom\\nour\\nmodels.\\nIf\\nyou\\nnotice\\nthat\\nChatGPT\\noutput\\ncontains\\nfactually\\ninaccurate\\ninformation\\nabout\\nyou\\nand\\nyou\\nwould\\nlike\\nus\\nto\\ncorrect\\nthe\\ninaccuracy,\\nyou\\nmay\\nsubmit\\na\\ncorrection\\nrequest\\nthrough\\nprivacy.openai.com\\nor\\nto\\ndsar@openai.com.\\nGiven\\nthe\\ntechnical\\ncomplexity\\nof\\nhow\\nour\\nmodels\\nwork,\\nwe\\nmay\\nnot\\nbe\\nable\\nto\\ncorrect\\nthe\\ninaccuracy\\nin\\nevery\\ninstance.\\nIn\\nthat\\ncase,\\nyou\\nmay\\nrequest\\nthat\\nwe\\nremove\\nyour\\nPersonal\\nInformation\\nfrom\\nChatGPT’s\\noutput\\nby\\nfilling\\nout\\nthis\\nform.\\nFor\\ninformation\\non\\nhow\\nto\\nexercise\\nyour\\nrights\\nwith\\nrespect\\nto\\ndata\\nwe\\nhave\\ncollected\\nfrom\\nthe\\ninternet\\nto\\ntrain\\nour\\nmodels,\\nplease\\nsee\\nthis\\nhelp\\ncenter\\narticle.\\nTo\\nthe\\nextent\\nprovided\\nfor\\nby\\nlocal\\nlaw\\nand\\nsubject\\nto\\napplicable\\nexceptions,\\nindividuals\\nmay\\nhave\\nthe\\nfollowing\\nprivacy\\nrights\\nin\\nrelation\\nto\\ntheir\\nPersonal\\nInformation:\\nThe\\nright\\nto\\nknow\\ninformation\\nabout\\nour\\nprocessing\\nof\\nyour\\nPersonal\\nInformation,\\nincluding\\nthe\\nspecific\\npieces\\nof\\nPersonal\\nInformation\\nthat\\nwe\\nhave\\ncollected\\nfrom\\nyou;\\nThe\\nright\\nto\\nrequest\\ndeletion\\nof\\nyour\\nPersonal\\nInformation;\\nThe\\nright\\nto\\ncorrect\\nyour\\nPersonal\\nInformation;\\nand\\nThe\\nright\\nto\\nbe\\nfree\\nfrom\\ndiscrimination\\nrelating\\nto\\nthe\\nexercise\\nof\\nany\\nof\\nyour\\nprivacy\\nrights.\\nWe\\ndon’t\\n“sell”\\nPersonal\\nInformation\\nor\\n“share”\\nPersonal\\nInformation\\nfor\\ncross-contextual\\nbehavioral\\nadvertising\\n(as\\nthose\\nterms\\nare\\ndefined\\nunder\\napplicable\\nlocal\\nlaw).\\nWe\\nalso\\ndon’t\\nprocess\\nsensitive\\nPersonal\\nInformation\\nfor\\nthe\\npurposes\\nof\\ninferring\\ncharacteristics\\nabout\\na\\nconsumer.\\nExercising\\nYour\\nRights.\\nTo\\nthe\\nextent\\napplicable\\nunder\\nlocal\\nlaw,\\nyou\\ncan\\nexercise\\nprivacy\\nrights\\ndescribed\\nin\\nthis\\nsection\\nby\\nsubmitting\\na\\nrequest\\nthrough\\nprivacy.openai.com\\nor\\nto\\ndsar@openai.com.\\nVerification.\\nIn\\norder\\nto\\nprotect\\nyour\\nPersonal\\nInformation\\nfrom\\nunauthorized\\naccess,\\nchange,\\nor\\ndeletion,\\nwe\\nmay\\nrequire\\nyou\\nto\\nverify\\nyour\\ncredentials\\nbefore\\nyou\\ncan\\nsubmit\\na\\nrequest\\nto\\nknow,\\ncorrect,\\nor\\ndelete\\nPersonal\\nInformation.\\nIf\\nyou\\ndo\\nnot\\nhave\\nan\\naccount\\nwith\\nus,\\nor\\nif\\nwe\\nsuspect\\nfraudulent\\nor\\nmalicious\\nactivity,\\nwe\\nmay\\nask\\nyou\\nto\\nprovide\\nadditional\\nPersonal\\nInformation\\nand\\nproof\\nof\\nresidency\\nfor\\nverification.\\nIf\\nwe\\ncannot\\nverify\\nyour\\nidentity,\\nwe\\nwill\\nnot\\nbe\\nable\\nto\\nhonor\\nyour\\nrequest.\\nAuthorized\\nAgents.\\nYou\\nmay\\nalso\\nsubmit\\na\\nrights\\nrequest\\nthrough\\nan\\nauthorized\\nagent.\\nIf\\nyou\\ndo\\nso,\\nthe\\nagent\\nmust\\npresent\\nsigned\\nwritten\\npermission\\nto\\nact\\non\\nyour\\nbehalf\\nand\\nyou\\nmay\\nalso\\nbe\\nrequired\\nto\\nindependently\\nverify\\nyour\\nidentity\\nand\\nsubmit\\nproof\\nof\\nyour\\nresidency\\nwith\\nus.\\nAuthorized\\nagent\\nrequests\\ncan\\nbe\\nsubmitted\\nto\\ndsar@openai.com.', metadata={'source': '/content/chat_gpt_privacy_policy.pdf', 'page': 3}),\n",
              " Document(page_content='Appeals.\\nDepending\\non\\nwhere\\nyou\\nlive,\\nyou\\nmay\\nhave\\nthe\\nright\\nto\\nappeal\\na\\ndecision\\nwe\\nmake\\nrelating\\nto\\nrequests\\nto\\nexercise\\nyour\\nrights\\nunder\\napplicable\\nlocal\\nlaw.\\nTo\\nappeal\\na\\ndecision,\\nplease\\nsend\\nyour\\nrequest\\nto\\ndsar@openai.com.\\n6.\\nChildren\\nOur\\nService\\nis\\nnot\\ndirected\\nto\\nchildren\\nunder\\nthe\\nage\\nof\\n13.\\nOpenAI\\ndoes\\nnot\\nknowingly\\ncollect\\nPersonal\\nInformation\\nfrom\\nchildren\\nunder\\nthe\\nage\\nof\\n13.\\nIf\\nyou\\nhave\\nreason\\nto\\nbelieve\\nthat\\na\\nchild\\nunder\\nthe\\nage\\nof\\n13\\nhas\\nprovided\\nPersonal\\nInformation\\nto\\nOpenAI\\nthrough\\nthe\\nService,\\nplease\\nemail\\nus\\nat\\nlegal@openai.com.\\nWe\\nwill\\ninvestigate\\nany\\nnotification\\nand\\nif\\nappropriate,\\ndelete\\nthe\\nPersonal\\nInformation\\nfrom\\nour\\nsystems.\\nIf\\nyou\\nare\\n13\\nor\\nolder,\\nbut\\nunder\\n18,\\nyou\\nmust\\nhave\\npermission\\nfrom\\nyour\\nparent\\nor\\nguardian\\nto\\nuse\\nour\\nServices.\\n7.\\nLinks\\nto\\nother\\nwebsites\\nThe\\nService\\nmay\\ncontain\\nlinks\\nto\\nother\\nwebsites\\nnot\\noperated\\nor\\ncontrolled\\nby\\nOpenAI,\\nincluding\\nsocial\\nmedia\\nservices\\n(“Third\\nParty\\nSites”).\\nThe\\ninformation\\nthat\\nyou\\nshare\\nwith\\nThird\\nParty\\nSites\\nwill\\nbe\\ngoverned\\nby\\nthe\\nspecific\\nprivacy\\npolicies\\nand\\nterms\\nof\\nservice\\nof\\nthe\\nThird\\nParty\\nSites\\nand\\nnot\\nby\\nthis\\nPrivacy\\nPolicy.\\nBy\\nproviding\\nthese\\nlinks\\nwe\\ndo\\nnot\\nimply\\nthat\\nwe\\nendorse\\nor\\nhave\\nreviewed\\nthese\\nsites.\\nPlease\\ncontact\\nthe\\nThird\\nParty\\nSites\\ndirectly\\nfor\\ninformation\\non\\ntheir\\nprivacy\\npractices\\nand\\npolicies.\\n8.\\nSecurity\\nand\\nRetention\\nWe\\nimplement\\ncommercially\\nreasonable\\ntechnical,\\nadministrative,\\nand\\norganizational\\nmeasures\\nto\\nprotect\\nPersonal\\nInformation\\nboth\\nonline\\nand\\noffline\\nfrom\\nloss,\\nmisuse,\\nand\\nunauthorized\\naccess,\\ndisclosure,\\nalteration,\\nor\\ndestruction.\\nHowever,\\nno\\nInternet\\nor\\nemail\\ntransmission\\nis\\never\\nfully\\nsecure\\nor\\nerror\\nfree.\\nIn\\nparticular,\\nemail\\nsent\\nto\\nor\\nfrom\\nus\\nmay\\nnot\\nbe\\nsecure.\\nTherefore,\\nyou\\nshould\\ntake\\nspecial\\ncare\\nin\\ndeciding\\nwhat\\ninformation\\nyou\\nsend\\nto\\nus\\nvia\\nthe\\nService\\nor\\nemail.\\nIn\\naddition,\\nwe\\nare\\nnot\\nresponsible\\nfor\\ncircumvention\\nof\\nany\\nprivacy\\nsettings\\nor\\nsecurity\\nmeasures\\ncontained\\non\\nthe\\nService,\\nor\\nthird-party\\nwebsites.\\nWe’ll\\nretain\\nyour\\nPersonal\\nInformation\\nfor\\nonly\\nas\\nlong\\nas\\nwe\\nneed\\nin\\norder\\nto\\nprovide\\nour\\nService\\nto\\nyou,\\nor\\nfor\\nother\\nlegitimate\\nbusiness\\npurposes\\nsuch\\nas\\nresolving\\ndisputes,\\nsafety\\nand\\nsecurity\\nreasons,\\nor\\ncomplying\\nwith\\nour\\nlegal\\nobligations.\\nHow\\nlong\\nwe\\nretain\\nPersonal\\nInformation\\nwill\\ndepend\\non\\na\\nnumber\\nof\\nfactors,\\nsuch\\nas\\nthe\\namount,\\nnature,\\nand\\nsensitivity\\nof\\nthe\\ninformation,\\nthe\\npotential\\nrisk\\nof\\nharm\\nfrom\\nunauthorized\\nuse\\nor\\ndisclosure,\\nour\\npurpose\\nfor\\nprocessing\\nthe\\ninformation,\\nand\\nany\\nlegal\\nrequirements.\\n9.\\nInternational\\nusers\\nBy\\nusing\\nour\\nService,\\nyou\\nunderstand\\nand\\nacknowledge\\nthat\\nyour\\nPersonal\\nInformation\\nwill\\nbe\\nprocessed\\nand\\nstored\\nin\\nour\\nfacilities\\nand\\nservers\\nin\\nthe\\nUnited\\nStates\\nand\\nmay\\nbe\\ndisclosed\\nto\\nour\\nservice\\nproviders\\nand\\naffiliates\\nin\\nother\\njurisdictions.\\nLegal\\nBasis\\nfor\\nProcessing.\\nOur\\nlegal\\nbases\\nfor\\nprocessing\\nyour\\nPersonal\\nInformation\\ninclude:\\nPerformance\\nof\\na\\ncontract\\nwith\\nyou\\nwhen\\nwe\\nprovide\\nand\\nmaintain\\nour\\nServices.\\nWhen\\nwe\\nprocess\\nAccount\\nInformation,\\nContent,\\nand\\nTechnical\\nInformation\\nsolely\\nto\\nprovide\\nour\\nServices\\nto\\nyou,\\nthis\\ninformation\\nis\\nnecessary\\nto\\nbe\\nable\\nto\\nprovide\\nour\\nServices.\\nIf\\nyou\\ndo\\nnot\\nprovide\\nthis\\ninformation,\\nwe\\nmay\\nnot\\nbe\\nable\\nto\\nprovide\\nour\\nServices\\nto\\nyou.', metadata={'source': '/content/chat_gpt_privacy_policy.pdf', 'page': 4}),\n",
              " Document(page_content='Our\\nlegitimate\\ninterests\\nin\\nprotecting\\nour\\nServices\\nfrom\\nabuse,\\nfraud,\\nor\\nsecurity\\nrisks,\\nor\\nin\\ndeveloping,\\nimproving,\\nor\\npromoting\\nour\\nServices,\\nincluding\\nwhen\\nwe\\ntrain\\nour\\nmodels.\\nThis\\nmay\\ninclude\\nthe\\nprocessing\\nof\\nAccount\\nInformation,\\nContent,\\nSocial\\nInformation,\\nand\\nTechnical\\nInformation.\\nRead\\nour\\ninstructions\\non\\nhow\\nyou\\ncan\\nopt\\nout\\nof\\nour\\nuse\\nof\\nyour\\ninformation\\nto\\ntrain\\nour\\nmodels.\\nYour\\nconsent\\nwhen\\nwe\\nask\\nfor\\nyour\\nconsent\\nto\\nprocess\\nyour\\nPersonal\\nInformation\\nfor\\na\\nspecific\\npurpose\\nthat\\nwe\\ncommunicate\\nto\\nyou.\\nYou\\nhave\\nthe\\nright\\nto\\nwithdraw\\nyour\\nconsent\\nat\\nany\\ntime.\\nCompliance\\nwith\\nour\\nlegal\\nobligations\\nwhen\\nwe\\nuse\\nyour\\nPersonal\\nInformation\\nto\\ncomply\\nwith\\napplicable\\nlaw\\nor\\nwhen\\nwe\\nprotect\\nour\\nor\\nour\\naffiliates’,\\nusers’,\\nor\\nthird\\nparties’\\nrights,\\nsafety,\\nand\\nproperty.\\nData\\nTransfers.\\nWhere\\nrequired,\\nwe\\nwill\\nuse\\nappropriate\\nsafeguards\\nfor\\ntransferring\\nPersonal\\nInformation\\noutside\\nof\\ncertain\\ncountries.\\nWe\\nwill\\nonly\\ntransfer\\nPersonal\\nInformation\\npursuant\\nto\\na\\nlegally\\nvalid\\ntransfer\\nmechanism.\\nData\\nProtection\\nOfficer.\\nYou\\ncan\\ncontact\\nour\\ndata\\nprotection\\nofficer\\nat\\nprivacy@openai.com\\nin\\nmatters\\nrelated\\nto\\nPersonal\\nInformation\\nprocessing.\\n10.\\nChanges\\nto\\nthe\\nprivacy\\npolicy\\nWe\\nmay\\nupdate\\nthis\\nPrivacy\\nPolicy\\nfrom\\ntime\\nto\\ntime.\\nWhen\\nwe\\ndo,\\nwe\\nwill\\npost\\nan\\nupdated\\nversion\\non\\nthis\\npage,\\nunless\\nanother\\ntype\\nof\\nnotice\\nis\\nrequired\\nby\\napplicable\\nlaw.\\n11.\\nHow\\nto\\ncontact\\nus\\nPlease\\ncontact\\nsupport\\nif\\nyou\\nhave\\nany\\nquestions\\nor\\nconcerns\\nnot\\nalready\\naddressed\\nin\\nthis\\nPrivacy\\nPolicy.', metadata={'source': '/content/chat_gpt_privacy_policy.pdf', 'page': 5})]"
            ]
          },
          "metadata": {},
          "execution_count": 50
        }
      ]
    },
    {
      "cell_type": "code",
      "source": [
        "from langchain_community.vectorstores import FAISS"
      ],
      "metadata": {
        "id": "EHR-3rEjIkND"
      },
      "execution_count": null,
      "outputs": []
    },
    {
      "cell_type": "code",
      "source": [
        "db_krutrim = FAISS.from_documents(pages_krutrim, embeddings)\n",
        "db_chatgpt = FAISS.from_documents(pages_chatgpt, embeddings)"
      ],
      "metadata": {
        "id": "s2VFgiLvIPJF"
      },
      "execution_count": null,
      "outputs": []
    },
    {
      "cell_type": "code",
      "source": [
        "retriever_krutrim = db_krutrim.as_retriever()\n",
        "retriever_chatgpt = db_chatgpt.as_retriever()"
      ],
      "metadata": {
        "id": "OuxYBgiaMyb7"
      },
      "execution_count": null,
      "outputs": []
    },
    {
      "cell_type": "code",
      "source": [
        "from langchain_core.messages import AIMessage, HumanMessage, get_buffer_string\n",
        "from langchain_core.prompts import format_document\n",
        "from langchain_core.runnables import RunnableParallel\n",
        "from langchain.prompts import ChatPromptTemplate"
      ],
      "metadata": {
        "id": "syqirArXTxPy"
      },
      "execution_count": null,
      "outputs": []
    },
    {
      "cell_type": "code",
      "source": [
        "template_krutrim = \"\"\"You are an assistant having 10 years of experience in understanding terms and condition.\n",
        "You will be given context about the terms and condition of krutrim.\n",
        "You have to provide concise answer about the questions asked.\n",
        "\n",
        "Question: {question}\n",
        "Context: {context}\n",
        "Answer:\n",
        "\"\"\"\n",
        "prompt_krutrim = ChatPromptTemplate.from_template(template_krutrim)\n",
        "\n",
        "print(prompt_krutrim)"
      ],
      "metadata": {
        "colab": {
          "base_uri": "https://localhost:8080/"
        },
        "id": "EHt1Ol2yNBJz",
        "outputId": "5d84c81b-6705-450c-e5df-c4f57cee1380"
      },
      "execution_count": null,
      "outputs": [
        {
          "output_type": "stream",
          "name": "stdout",
          "text": [
            "input_variables=['context', 'question'] messages=[HumanMessagePromptTemplate(prompt=PromptTemplate(input_variables=['context', 'question'], template='You are an assistant having 10 years of experience in understanding terms and condition.\\nYou will be given context about the terms and condition of krutrim. \\nYou have to provide concise answer about the questions asked.\\n\\nQuestion: {question} \\nContext: {context} \\nAnswer:\\n'))]\n"
          ]
        }
      ]
    },
    {
      "cell_type": "code",
      "source": [
        "template_chatgpt = \"\"\"You are an assistant having 10 years of experience in understanding terms and condition.\n",
        "You will be given context about the terms and condition of ChatGPT.\n",
        "You have to provide concise answer about the questions asked.\n",
        "\n",
        "\n",
        "Question: {question}\n",
        "Context: {context}\n",
        "Answer:\n",
        "\"\"\"\n",
        "prompt_chatgpt = ChatPromptTemplate.from_template(template_chatgpt)\n",
        "\n",
        "print(prompt_chatgpt)"
      ],
      "metadata": {
        "colab": {
          "base_uri": "https://localhost:8080/"
        },
        "id": "MXWp3zPJNh10",
        "outputId": "32834da1-ea30-49bd-b58e-0b362146907f"
      },
      "execution_count": null,
      "outputs": [
        {
          "output_type": "stream",
          "name": "stdout",
          "text": [
            "input_variables=['context', 'question'] messages=[HumanMessagePromptTemplate(prompt=PromptTemplate(input_variables=['context', 'question'], template='You are an assistant having 10 years of experience in understanding terms and condition.\\nYou will be given context about the terms and condition of ChatGPT. \\nYou have to provide concise answer about the questions asked.\\n\\n\\nQuestion: {question} \\nContext: {context} \\nAnswer:\\n'))]\n"
          ]
        }
      ]
    },
    {
      "cell_type": "code",
      "source": [
        "from langchain.schema.runnable import RunnablePassthrough\n",
        "from langchain.schema.output_parser import StrOutputParser\n",
        "\n",
        "rag_chain_krutrim = (\n",
        "    {\"context\": retriever_krutrim,  \"question\": RunnablePassthrough()}\n",
        "    | prompt_krutrim\n",
        "    | llm_openai\n",
        "    | StrOutputParser()\n",
        ")\n",
        "\n",
        "rag_chain_chatgpt = (\n",
        "    {\"context\": retriever_chatgpt,  \"question\": RunnablePassthrough()}\n",
        "    | prompt_chatgpt\n",
        "    | llm_openai\n",
        "    | StrOutputParser()\n",
        ")"
      ],
      "metadata": {
        "id": "AYXVs-5sOOKc"
      },
      "execution_count": null,
      "outputs": []
    },
    {
      "cell_type": "code",
      "source": [
        "rag_chain_krutrim.invoke(\"What is the personal data collected by krutrim?\")"
      ],
      "metadata": {
        "colab": {
          "base_uri": "https://localhost:8080/",
          "height": 52
        },
        "id": "t9M_fRlfOdEQ",
        "outputId": "104e335d-df45-40c5-bf04-99e220936536"
      },
      "execution_count": null,
      "outputs": [
        {
          "output_type": "execute_result",
          "data": {
            "text/plain": [
              "'The personal data collected by Krutrim includes information such as name, phone number, primary location, and email address provided during the sign-up process to create a user profile.'"
            ],
            "application/vnd.google.colaboratory.intrinsic+json": {
              "type": "string"
            }
          },
          "metadata": {},
          "execution_count": 138
        }
      ]
    },
    {
      "cell_type": "code",
      "source": [
        "rag_chain_chatgpt.invoke(\"What is the personal data collected by chatgpt?\")"
      ],
      "metadata": {
        "colab": {
          "base_uri": "https://localhost:8080/",
          "height": 70
        },
        "id": "6Va50aTFPZPn",
        "outputId": "a29ec9f0-5537-4fe3-d2a3-387a9c2dcd79"
      },
      "execution_count": null,
      "outputs": [
        {
          "output_type": "execute_result",
          "data": {
            "text/plain": [
              "'Personal data collected by ChatGPT includes account information (name, contact details, account credentials, payment card information), user-generated content, communication information, social media information, device information, log data, usage data, and information collected through cookies.'"
            ],
            "application/vnd.google.colaboratory.intrinsic+json": {
              "type": "string"
            }
          },
          "metadata": {},
          "execution_count": 139
        }
      ]
    },
    {
      "cell_type": "code",
      "source": [
        "!pip install langchainhub"
      ],
      "metadata": {
        "colab": {
          "base_uri": "https://localhost:8080/"
        },
        "id": "gZC5Xxf-RVFM",
        "outputId": "48336e26-4c92-4aef-d96c-13c3e01f2d8d"
      },
      "execution_count": null,
      "outputs": [
        {
          "output_type": "stream",
          "name": "stdout",
          "text": [
            "Requirement already satisfied: langchainhub in /usr/local/lib/python3.10/dist-packages (0.1.15)\n",
            "Requirement already satisfied: requests<3,>=2 in /usr/local/lib/python3.10/dist-packages (from langchainhub) (2.31.0)\n",
            "Requirement already satisfied: types-requests<3.0.0.0,>=2.31.0.2 in /usr/local/lib/python3.10/dist-packages (from langchainhub) (2.31.0.20240311)\n",
            "Requirement already satisfied: charset-normalizer<4,>=2 in /usr/local/lib/python3.10/dist-packages (from requests<3,>=2->langchainhub) (3.3.2)\n",
            "Requirement already satisfied: idna<4,>=2.5 in /usr/local/lib/python3.10/dist-packages (from requests<3,>=2->langchainhub) (3.6)\n",
            "Requirement already satisfied: urllib3<3,>=1.21.1 in /usr/local/lib/python3.10/dist-packages (from requests<3,>=2->langchainhub) (2.0.7)\n",
            "Requirement already satisfied: certifi>=2017.4.17 in /usr/local/lib/python3.10/dist-packages (from requests<3,>=2->langchainhub) (2024.2.2)\n"
          ]
        }
      ]
    },
    {
      "cell_type": "code",
      "source": [
        "from langchain import hub\n",
        "from langchain.agents import AgentExecutor, create_react_agent\n",
        "from langchain.agents import AgentExecutor, create_structured_chat_agent"
      ],
      "metadata": {
        "id": "cEcopjBqQGz_"
      },
      "execution_count": null,
      "outputs": []
    },
    {
      "cell_type": "code",
      "source": [
        "prompt = hub.pull(\"hwchase17/react\")"
      ],
      "metadata": {
        "id": "gFyio9q8RENf"
      },
      "execution_count": null,
      "outputs": []
    },
    {
      "cell_type": "code",
      "source": [
        "prompt"
      ],
      "metadata": {
        "colab": {
          "base_uri": "https://localhost:8080/"
        },
        "id": "f9ZCwmJnej1Y",
        "outputId": "debc800b-8aa1-4d90-c6f9-03d7f570b710"
      },
      "execution_count": null,
      "outputs": [
        {
          "output_type": "execute_result",
          "data": {
            "text/plain": [
              "PromptTemplate(input_variables=['agent_scratchpad', 'input', 'tool_names', 'tools'], metadata={'lc_hub_owner': 'hwchase17', 'lc_hub_repo': 'react', 'lc_hub_commit_hash': 'd15fe3c426f1c4b3f37c9198853e4a86e20c425ca7f4752ec0c9b0e97ca7ea4d'}, template='Answer the following questions as best you can. You have access to the following tools:\\n\\n{tools}\\n\\nUse the following format:\\n\\nQuestion: the input question you must answer\\nThought: you should always think about what to do\\nAction: the action to take, should be one of [{tool_names}]\\nAction Input: the input to the action\\nObservation: the result of the action\\n... (this Thought/Action/Action Input/Observation can repeat N times)\\nThought: I now know the final answer\\nFinal Answer: the final answer to the original input question\\n\\nBegin!\\n\\nQuestion: {input}\\nThought:{agent_scratchpad}')"
            ]
          },
          "metadata": {},
          "execution_count": 155
        }
      ]
    },
    {
      "cell_type": "code",
      "source": [
        "from langchain import PromptTemplate\n",
        "\n",
        "modified_template = '''\n",
        "Answer the following questions as best you can. You have access to the following tools:\n",
        "\n",
        "{tools}\n",
        "\n",
        "Use the following format:\n",
        "\n",
        "Question: the input question you have to answer\n",
        "Thought: you should always think about what to do\n",
        "Action: the action to take, should be one of [{tool_names}]\n",
        "Action Input: the input to the action\n",
        "Observation: the result of the action\n",
        "... (this Thought/Action/Action Input/Observation can repeat N times)\n",
        "Thought: I now know the final answer\n",
        "Final Answer: the final answer to the original input question\n",
        "\n",
        "Begin!\n",
        "\n",
        "Question: {input}\n",
        "Thought: {agent_scratchpad}\n",
        "Action: determine_if_question_is_related_to_tools\n",
        "Action Input: {input}\n",
        "Observation: If the question is related to the tools, proceed to answer it. Otherwise, return I dont the answer\n",
        "...\n",
        "'''\n",
        "\n",
        "modified_prompt = PromptTemplate(\n",
        "    input_variables=['agent_scratchpad', 'input', 'tool_names', 'tools'],\n",
        "    metadata={'lc_hub_owner': 'hwchase17', 'lc_hub_repo': 'react', 'lc_hub_commit_hash': 'd15fe3c426f1c4b3f37c9198853e4a86e20c425ca7f4752ec0c9b0e97ca7ea4d'},\n",
        "    template=modified_template\n",
        ")\n",
        "\n",
        "modified_prompt"
      ],
      "metadata": {
        "colab": {
          "base_uri": "https://localhost:8080/"
        },
        "id": "5f4p7iMhfKyK",
        "outputId": "99045ed4-8ebe-4d71-f823-fe10de91ab59"
      },
      "execution_count": null,
      "outputs": [
        {
          "output_type": "execute_result",
          "data": {
            "text/plain": [
              "PromptTemplate(input_variables=['agent_scratchpad', 'input', 'tool_names', 'tools'], metadata={'lc_hub_owner': 'hwchase17', 'lc_hub_repo': 'react', 'lc_hub_commit_hash': 'd15fe3c426f1c4b3f37c9198853e4a86e20c425ca7f4752ec0c9b0e97ca7ea4d'}, template='\\nAnswer the following questions as best you can. You have access to the following tools:\\n\\n{tools}\\n\\nUse the following format:\\n\\nQuestion: the input question you have to answer\\nThought: you should always think about what to do\\nAction: the action to take, should be one of [{tool_names}]\\nAction Input: the input to the action\\nObservation: the result of the action\\n... (this Thought/Action/Action Input/Observation can repeat N times)\\nThought: I now know the final answer\\nFinal Answer: the final answer to the original input question\\n\\nBegin!\\n\\nQuestion: {input}\\nThought: {agent_scratchpad}\\nAction: determine_if_question_is_related_to_tools\\nAction Input: {input}\\nObservation: If the question is related to the tools, proceed to answer it. Otherwise, return I dont the answer\\n...\\n')"
            ]
          },
          "metadata": {},
          "execution_count": 166
        }
      ]
    },
    {
      "cell_type": "code",
      "source": [
        "from re import VERBOSE\n",
        "tools = [\n",
        "    Tool(\n",
        "\t    name=\"Krutrim_QnA\",\n",
        "\t    func=rag_chain_krutrim.invoke,\n",
        "\t    description=\"useful for when you need to answer question related to Krutrim terms and conditions\",\n",
        "\t),\n",
        "\tTool(\n",
        "\t    name=\"ChatGPT_QnA\",\n",
        "\t    func=rag_chain_chatgpt.invoke,\n",
        "\t    description=\"useful for when you need to answer question related to ChatGPT terms and conditions\"\n",
        "\t),\n",
        "]"
      ],
      "metadata": {
        "id": "zMFIvUfKP92x"
      },
      "execution_count": null,
      "outputs": []
    },
    {
      "cell_type": "code",
      "source": [
        "agent_tnc = create_react_agent(llm_openai, tools, modified_prompt)"
      ],
      "metadata": {
        "id": "iTjTqFTgRsSS"
      },
      "execution_count": null,
      "outputs": []
    },
    {
      "cell_type": "code",
      "source": [
        "chatbot_agent = AgentExecutor(agent=agent_tnc, tools=tools, max_iterations=4, verbose=True)"
      ],
      "metadata": {
        "id": "D8gVeiBfRx7x"
      },
      "execution_count": null,
      "outputs": []
    },
    {
      "cell_type": "code",
      "source": [
        "chatbot_agent.invoke({\"input\": \"What is the personal data collected by krutrim?\"})"
      ],
      "metadata": {
        "colab": {
          "base_uri": "https://localhost:8080/"
        },
        "id": "6rxq5cPIR5AA",
        "outputId": "9def1116-a571-4f13-d60f-16dd96a69969"
      },
      "execution_count": null,
      "outputs": [
        {
          "output_type": "stream",
          "name": "stdout",
          "text": [
            "\n",
            "\n",
            "\u001b[1m> Entering new AgentExecutor chain...\u001b[0m\n",
            "\u001b[32;1m\u001b[1;3mThought: This question seems to be related to Krutrim's terms and conditions.\n",
            "Action: Krutrim_QnA\n",
            "Action Input: What is the personal data collected by Krutrim?\u001b[0m\u001b[36;1m\u001b[1;3mThe personal data collected by Krutrim includes information such as name, phone number, primary location, and email address provided during the sign-up process to create a user profile.\u001b[0m\u001b[32;1m\u001b[1;3mFinal Answer: The personal data collected by Krutrim includes information such as name, phone number, primary location, and email address provided during the sign-up process to create a user profile.\u001b[0m\n",
            "\n",
            "\u001b[1m> Finished chain.\u001b[0m\n"
          ]
        },
        {
          "output_type": "execute_result",
          "data": {
            "text/plain": [
              "{'input': 'What is the personal data collected by krutrim?',\n",
              " 'output': 'The personal data collected by Krutrim includes information such as name, phone number, primary location, and email address provided during the sign-up process to create a user profile.'}"
            ]
          },
          "metadata": {},
          "execution_count": 162
        }
      ]
    },
    {
      "cell_type": "code",
      "source": [
        "chatbot_agent.invoke({\"input\": \"Do children under 13 years old have permission to use OpenAI's Services?\"})"
      ],
      "metadata": {
        "colab": {
          "base_uri": "https://localhost:8080/"
        },
        "id": "b1VbKPAgc3J6",
        "outputId": "256d922c-0b87-4eeb-de29-114f9698fe21"
      },
      "execution_count": null,
      "outputs": [
        {
          "output_type": "stream",
          "name": "stdout",
          "text": [
            "\n",
            "\n",
            "\u001b[1m> Entering new AgentExecutor chain...\u001b[0m\n",
            "\u001b[32;1m\u001b[1;3mThought: I should check the Krutrim_QnA tool for information on the age limit for using OpenAI's Services.\n",
            "Action: Krutrim_QnA\n",
            "Action Input: What is the age limit for using OpenAI's Services?\u001b[0m\u001b[36;1m\u001b[1;3mThe age limit for using OpenAI's Services is not explicitly mentioned in the provided context. It is advisable to refer directly to OpenAI's official terms and conditions for information regarding the age limit for using their services.\u001b[0m\u001b[32;1m\u001b[1;3mThought: I should now use the ChatGPT_QnA tool to find the answer to the original question.\n",
            "Action: ChatGPT_QnA\n",
            "Action Input: Do children under 13 years old have permission to use OpenAI's Services?\u001b[0m\u001b[33;1m\u001b[1;3mNo, children under the age of 13 are not permitted to use OpenAI's Services. The Service is not directed towards children under 13, and OpenAI does not knowingly collect Personal Information from children under this age. If there are concerns about a child under 13 providing Personal Information, it should be reported to OpenAI for investigation and potential removal of the information. Children who are 13 or older but under 18 must have permission from a parent or guardian to use the Services.\u001b[0m\u001b[32;1m\u001b[1;3mFinal Answer: No, children under the age of 13 are not permitted to use OpenAI's Services.\u001b[0m\n",
            "\n",
            "\u001b[1m> Finished chain.\u001b[0m\n"
          ]
        },
        {
          "output_type": "execute_result",
          "data": {
            "text/plain": [
              "{'input': \"Do children under 13 years old have permission to use OpenAI's Services?\",\n",
              " 'output': \"No, children under the age of 13 are not permitted to use OpenAI's Services.\"}"
            ]
          },
          "metadata": {},
          "execution_count": 163
        }
      ]
    },
    {
      "cell_type": "code",
      "source": [
        "chatbot_agent.invoke({\"input\": \"Tell about spiderman\"})"
      ],
      "metadata": {
        "colab": {
          "base_uri": "https://localhost:8080/"
        },
        "id": "DVeOgnfLeX-z",
        "outputId": "6f6ccd48-0dd9-43bd-b0c7-a2af3e53800c"
      },
      "execution_count": null,
      "outputs": [
        {
          "output_type": "stream",
          "name": "stdout",
          "text": [
            "\n",
            "\n",
            "\u001b[1m> Entering new AgentExecutor chain...\u001b[0m\n",
            "\u001b[32;1m\u001b[1;3mThought: The question \"Tell about spiderman\" is not related to Krutrim terms and conditions.\n",
            "Action: ChatGPT_QnA\n",
            "Action Input: Tell about spiderman\u001b[0m\u001b[33;1m\u001b[1;3mThe provided context does not contain any information related to Spiderman.\u001b[0m\u001b[32;1m\u001b[1;3mThought: The question \"Tell about spiderman\" is not related to Krutrim terms and conditions or the tools available.\n",
            "Final Answer: I don't have the answer.\u001b[0m\n",
            "\n",
            "\u001b[1m> Finished chain.\u001b[0m\n"
          ]
        },
        {
          "output_type": "execute_result",
          "data": {
            "text/plain": [
              "{'input': 'Tell about spiderman', 'output': \"I don't have the answer.\"}"
            ]
          },
          "metadata": {},
          "execution_count": 169
        }
      ]
    }
  ]
}