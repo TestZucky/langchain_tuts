{
 "cells": [
  {
   "cell_type": "markdown",
   "metadata": {},
   "source": [
    "### JSON Output Parser"
   ]
  },
  {
   "cell_type": "code",
   "execution_count": 1,
   "metadata": {},
   "outputs": [],
   "source": [
    "from langchain_core.output_parsers.json import JsonOutputParser\n",
    "from langchain_core.prompts.prompt import PromptTemplate\n",
    "from langchain_core.pydantic_v1 import BaseModel, Field\n",
    "from langchain_community.chat_models import ChatOpenAI"
   ]
  },
  {
   "cell_type": "code",
   "execution_count": 2,
   "metadata": {},
   "outputs": [],
   "source": [
    "import getpass\n",
    "OPENAI_API_KEY = getpass.getpass(\"Enter your OpenAI API Key\")"
   ]
  },
  {
   "cell_type": "code",
   "execution_count": null,
   "metadata": {},
   "outputs": [],
   "source": [
    "llm_openai = ChatOpenAI(openai_api_key=OPENAI_API_KEY, model='gpt-3.5-turbo-1106')"
   ]
  },
  {
   "cell_type": "code",
   "execution_count": 4,
   "metadata": {},
   "outputs": [],
   "source": [
    "class Answer_with_Source(BaseModel):\n",
    "    answer: str = Field(description=\"exact answer to the question\")\n",
    "    source: str = Field(description=\"source wesbite of the answer\")"
   ]
  },
  {
   "cell_type": "code",
   "execution_count": 5,
   "metadata": {},
   "outputs": [],
   "source": [
    "# Set up a parser + inject instructions into the prompt template.\n",
    "parser = JsonOutputParser(pydantic_object=Answer_with_Source)\n",
    "format_response_parser = parser.get_format_instructions()"
   ]
  },
  {
   "cell_type": "code",
   "execution_count": 97,
   "metadata": {},
   "outputs": [],
   "source": [
    "prompt_template = '''\n",
    "    Answer the query. \\n\n",
    "    {format_instructions} \\n\n",
    "    Question: {question}\n",
    "    '''"
   ]
  },
  {
   "cell_type": "code",
   "execution_count": 98,
   "metadata": {},
   "outputs": [],
   "source": [
    "prompt = PromptTemplate(\n",
    "    template=prompt_template,\n",
    "    input_variables=[\"question\"],\n",
    "    partial_variables={\"format_instructions\": format_response_parser},\n",
    ")\n",
    "\n",
    "chain = prompt | llm_openai | parser"
   ]
  },
  {
   "cell_type": "code",
   "execution_count": 99,
   "metadata": {},
   "outputs": [
    {
     "data": {
      "text/plain": [
       "{'answer': 'Rajasthan Royals',\n",
       " 'source': 'https://www.iplt20.com/stats/2021/most-runs'}"
      ]
     },
     "execution_count": 99,
     "metadata": {},
     "output_type": "execute_result"
    }
   ],
   "source": [
    "chain.invoke({\"question\": \"who won the first IPL?\"})"
   ]
  },
  {
   "cell_type": "code",
   "execution_count": 100,
   "metadata": {},
   "outputs": [
    {
     "data": {
      "text/plain": [
       "{'answer': 'Tokyo', 'source': 'https://en.wikipedia.org/wiki/Tokyo'}"
      ]
     },
     "execution_count": 100,
     "metadata": {},
     "output_type": "execute_result"
    }
   ],
   "source": [
    "chain.invoke({\"question\": \"What is the capital of Japan\"})"
   ]
  },
  {
   "cell_type": "markdown",
   "metadata": {},
   "source": [
    "Supports Streaming"
   ]
  },
  {
   "cell_type": "code",
   "execution_count": 101,
   "metadata": {},
   "outputs": [
    {
     "name": "stdout",
     "output_type": "stream",
     "text": [
      "{}\n",
      "{'answer': ''}\n",
      "{'answer': 'The'}\n",
      "{'answer': 'The GDP'}\n",
      "{'answer': 'The GDP of'}\n",
      "{'answer': 'The GDP of India'}\n",
      "{'answer': 'The GDP of India is'}\n",
      "{'answer': 'The GDP of India is $'}\n",
      "{'answer': 'The GDP of India is $2'}\n",
      "{'answer': 'The GDP of India is $2.'}\n",
      "{'answer': 'The GDP of India is $2.87'}\n",
      "{'answer': 'The GDP of India is $2.87 trillion'}\n",
      "{'answer': 'The GDP of India is $2.87 trillion.'}\n",
      "{'answer': 'The GDP of India is $2.87 trillion.', 'source': ''}\n",
      "{'answer': 'The GDP of India is $2.87 trillion.', 'source': 'https'}\n",
      "{'answer': 'The GDP of India is $2.87 trillion.', 'source': 'https://'}\n",
      "{'answer': 'The GDP of India is $2.87 trillion.', 'source': 'https://www'}\n",
      "{'answer': 'The GDP of India is $2.87 trillion.', 'source': 'https://www.world'}\n",
      "{'answer': 'The GDP of India is $2.87 trillion.', 'source': 'https://www.worldbank'}\n",
      "{'answer': 'The GDP of India is $2.87 trillion.', 'source': 'https://www.worldbank.org'}\n",
      "{'answer': 'The GDP of India is $2.87 trillion.', 'source': 'https://www.worldbank.org/'}\n"
     ]
    }
   ],
   "source": [
    "for c in chain.stream({\"question\": \"What is the GDP of India?\"}):\n",
    "    print(c)"
   ]
  },
  {
   "cell_type": "markdown",
   "metadata": {},
   "source": [
    "Let's try without pydantic"
   ]
  },
  {
   "cell_type": "code",
   "execution_count": 102,
   "metadata": {},
   "outputs": [],
   "source": [
    "parser_w_pydantic = JsonOutputParser()"
   ]
  },
  {
   "cell_type": "code",
   "execution_count": 103,
   "metadata": {},
   "outputs": [],
   "source": [
    "prompt_w_pydantic = PromptTemplate(\n",
    "    template=prompt_template,\n",
    "    input_variables=[\"question\"],\n",
    "    partial_variables={\"format_instructions\": parser_w_pydantic},\n",
    ")\n",
    "\n",
    "chain_w_pydantic = prompt | llm_openai | parser_w_pydantic"
   ]
  },
  {
   "cell_type": "code",
   "execution_count": 104,
   "metadata": {},
   "outputs": [
    {
     "data": {
      "text/plain": [
       "{'answer': 'The answer to this question is subjective and depends on individual preferences and experiences. Some people may prefer Amazon for its wider product selection and faster delivery, while others may prefer Flipkart for its user interface and customer service. It is important to consider personal needs and priorities when choosing between the two.',\n",
       " 'source': 'N/A - This is a subjective question and does not have a specific source for the answer'}"
      ]
     },
     "execution_count": 104,
     "metadata": {},
     "output_type": "execute_result"
    }
   ],
   "source": [
    "chain.invoke({\"question\": \"why amazon is better than flipkart\"})"
   ]
  },
  {
   "cell_type": "markdown",
   "metadata": {},
   "source": [
    "### Structured Output Parser"
   ]
  },
  {
   "cell_type": "code",
   "execution_count": 105,
   "metadata": {},
   "outputs": [],
   "source": [
    "from langchain.output_parsers.structured import ResponseSchema, StructuredOutputParser"
   ]
  },
  {
   "cell_type": "code",
   "execution_count": 106,
   "metadata": {},
   "outputs": [],
   "source": [
    "resp_schema_for_answer = ResponseSchema(name=\"answer\", description=\"answer to the user's question\")\n",
    "resp_schema_for_source = ResponseSchema(name=\"source\",description=\"source used to answer\")\n",
    "resp_schema_for_source_link = ResponseSchema(name=\"source_with_link\",description=\"source used to answer the user's question, should be a website.\")"
   ]
  },
  {
   "cell_type": "code",
   "execution_count": 107,
   "metadata": {},
   "outputs": [],
   "source": [
    "response_schemas = [\n",
    "    resp_schema_for_answer,\n",
    "    resp_schema_for_source,\n",
    "    resp_schema_for_source_link,\n",
    "]\n",
    "std_output_parser = StructuredOutputParser.from_response_schemas(response_schemas)"
   ]
  },
  {
   "cell_type": "code",
   "execution_count": 108,
   "metadata": {},
   "outputs": [],
   "source": [
    "std_format_response_parser = std_output_parser.get_format_instructions()"
   ]
  },
  {
   "cell_type": "code",
   "execution_count": 110,
   "metadata": {},
   "outputs": [],
   "source": [
    "std_output_resp_prompt_template = '''\n",
    "    Answer the query. \\n\n",
    "    {format_instructions} \\n\n",
    "    Question: {question}\n",
    "    '''"
   ]
  },
  {
   "cell_type": "code",
   "execution_count": 113,
   "metadata": {},
   "outputs": [],
   "source": [
    "std_output_resp_prompt = PromptTemplate(\n",
    "    template=std_output_resp_prompt_template,\n",
    "    input_variables=[\"question\"],\n",
    "    partial_variables={\"format_instructions\": std_format_response_parser},\n",
    ")\n",
    "\n",
    "std_output_chain = std_output_resp_prompt | llm_openai | std_output_parser"
   ]
  },
  {
   "cell_type": "code",
   "execution_count": 115,
   "metadata": {},
   "outputs": [
    {
     "data": {
      "text/plain": [
       "{'answer': 'Virat Kohli is the captain of the Indian Cricket team.',\n",
       " 'source': 'Various sports news outlets',\n",
       " 'source_with_link': 'https://www.espncricinfo.com/team/india-6'}"
      ]
     },
     "execution_count": 115,
     "metadata": {},
     "output_type": "execute_result"
    }
   ],
   "source": [
    "std_output_chain.invoke({\"question\": \"Who is the captain of Indian Cricket team?\"})"
   ]
  },
  {
   "cell_type": "code",
   "execution_count": 116,
   "metadata": {},
   "outputs": [
    {
     "data": {
      "text/plain": [
       "{'answer': 'The fastest animal in the world is the peregrine falcon, which can reach speeds of up to 240 miles per hour when diving.',\n",
       " 'source': 'National Geographic',\n",
       " 'source_with_link': 'https://www.nationalgeographic.com/animals/birds/facts/peregrine-falcon'}"
      ]
     },
     "execution_count": 116,
     "metadata": {},
     "output_type": "execute_result"
    }
   ],
   "source": [
    "std_output_chain.invoke({\"question\": \"What is the fastest animal in the world?\"})"
   ]
  }
 ],
 "metadata": {
  "kernelspec": {
   "display_name": ".venv",
   "language": "python",
   "name": "python3"
  },
  "language_info": {
   "codemirror_mode": {
    "name": "ipython",
    "version": 3
   },
   "file_extension": ".py",
   "mimetype": "text/x-python",
   "name": "python",
   "nbconvert_exporter": "python",
   "pygments_lexer": "ipython3",
   "version": "3.10.9"
  }
 },
 "nbformat": 4,
 "nbformat_minor": 2
}
