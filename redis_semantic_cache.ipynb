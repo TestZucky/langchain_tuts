{
 "cells": [
  {
   "cell_type": "code",
   "execution_count": 1,
   "metadata": {},
   "outputs": [
    {
     "name": "stdout",
     "output_type": "stream",
     "text": [
      "Requirement already satisfied: langchain_openai in c:\\python311\\lib\\site-packages (0.0.3)\n",
      "Requirement already satisfied: langchain-core<0.2,>=0.1.13 in c:\\python311\\lib\\site-packages (from langchain_openai) (0.1.33)\n",
      "Requirement already satisfied: numpy<2,>=1 in c:\\python311\\lib\\site-packages (from langchain_openai) (1.24.3)\n",
      "Requirement already satisfied: openai<2.0.0,>=1.6.1 in c:\\python311\\lib\\site-packages (from langchain_openai) (1.14.2)\n",
      "Requirement already satisfied: tiktoken<0.6.0,>=0.5.2 in c:\\python311\\lib\\site-packages (from langchain_openai) (0.5.2)\n",
      "Requirement already satisfied: PyYAML>=5.3 in c:\\python311\\lib\\site-packages (from langchain-core<0.2,>=0.1.13->langchain_openai) (6.0)\n",
      "Requirement already satisfied: anyio<5,>=3 in c:\\python311\\lib\\site-packages (from langchain-core<0.2,>=0.1.13->langchain_openai) (3.7.1)\n",
      "Requirement already satisfied: jsonpatch<2.0,>=1.33 in c:\\python311\\lib\\site-packages (from langchain-core<0.2,>=0.1.13->langchain_openai) (1.33)\n",
      "Requirement already satisfied: langsmith<0.2.0,>=0.1.0 in c:\\python311\\lib\\site-packages (from langchain-core<0.2,>=0.1.13->langchain_openai) (0.1.31)\n",
      "Requirement already satisfied: packaging<24.0,>=23.2 in c:\\python311\\lib\\site-packages (from langchain-core<0.2,>=0.1.13->langchain_openai) (23.2)\n",
      "Requirement already satisfied: pydantic<3,>=1 in c:\\python311\\lib\\site-packages (from langchain-core<0.2,>=0.1.13->langchain_openai) (2.5.3)\n",
      "Requirement already satisfied: requests<3,>=2 in c:\\python311\\lib\\site-packages (from langchain-core<0.2,>=0.1.13->langchain_openai) (2.31.0)\n",
      "Requirement already satisfied: tenacity<9.0.0,>=8.1.0 in c:\\python311\\lib\\site-packages (from langchain-core<0.2,>=0.1.13->langchain_openai) (8.2.2)\n",
      "Requirement already satisfied: distro<2,>=1.7.0 in c:\\python311\\lib\\site-packages (from openai<2.0.0,>=1.6.1->langchain_openai) (1.8.0)\n",
      "Requirement already satisfied: httpx<1,>=0.23.0 in c:\\python311\\lib\\site-packages (from openai<2.0.0,>=1.6.1->langchain_openai) (0.24.1)\n",
      "Requirement already satisfied: sniffio in c:\\python311\\lib\\site-packages (from openai<2.0.0,>=1.6.1->langchain_openai) (1.3.0)\n",
      "Requirement already satisfied: tqdm>4 in c:\\python311\\lib\\site-packages (from openai<2.0.0,>=1.6.1->langchain_openai) (4.65.0)\n",
      "Requirement already satisfied: typing-extensions<5,>=4.7 in c:\\python311\\lib\\site-packages (from openai<2.0.0,>=1.6.1->langchain_openai) (4.9.0)\n",
      "Requirement already satisfied: regex>=2022.1.18 in c:\\python311\\lib\\site-packages (from tiktoken<0.6.0,>=0.5.2->langchain_openai) (2023.6.3)\n",
      "Requirement already satisfied: idna>=2.8 in c:\\python311\\lib\\site-packages (from anyio<5,>=3->langchain-core<0.2,>=0.1.13->langchain_openai) (3.4)\n",
      "Requirement already satisfied: certifi in c:\\python311\\lib\\site-packages (from httpx<1,>=0.23.0->openai<2.0.0,>=1.6.1->langchain_openai) (2023.5.7)\n",
      "Requirement already satisfied: httpcore<0.18.0,>=0.15.0 in c:\\python311\\lib\\site-packages (from httpx<1,>=0.23.0->openai<2.0.0,>=1.6.1->langchain_openai) (0.16.3)\n",
      "Requirement already satisfied: jsonpointer>=1.9 in c:\\python311\\lib\\site-packages (from jsonpatch<2.0,>=1.33->langchain-core<0.2,>=0.1.13->langchain_openai) (2.4)\n",
      "Requirement already satisfied: orjson<4.0.0,>=3.9.14 in c:\\python311\\lib\\site-packages (from langsmith<0.2.0,>=0.1.0->langchain-core<0.2,>=0.1.13->langchain_openai) (3.9.15)\n",
      "Requirement already satisfied: annotated-types>=0.4.0 in c:\\python311\\lib\\site-packages (from pydantic<3,>=1->langchain-core<0.2,>=0.1.13->langchain_openai) (0.6.0)\n",
      "Requirement already satisfied: pydantic-core==2.14.6 in c:\\python311\\lib\\site-packages (from pydantic<3,>=1->langchain-core<0.2,>=0.1.13->langchain_openai) (2.14.6)\n",
      "Requirement already satisfied: charset-normalizer<4,>=2 in c:\\python311\\lib\\site-packages (from requests<3,>=2->langchain-core<0.2,>=0.1.13->langchain_openai) (3.1.0)\n",
      "Requirement already satisfied: urllib3<3,>=1.21.1 in c:\\python311\\lib\\site-packages (from requests<3,>=2->langchain-core<0.2,>=0.1.13->langchain_openai) (1.26.16)\n",
      "Requirement already satisfied: colorama in c:\\users\\mindstix\\appdata\\roaming\\python\\python311\\site-packages (from tqdm>4->openai<2.0.0,>=1.6.1->langchain_openai) (0.4.6)\n",
      "Requirement already satisfied: h11<0.15,>=0.13 in c:\\python311\\lib\\site-packages (from httpcore<0.18.0,>=0.15.0->httpx<1,>=0.23.0->openai<2.0.0,>=1.6.1->langchain_openai) (0.14.0)\n",
      "Note: you may need to restart the kernel to use updated packages.\n"
     ]
    }
   ],
   "source": [
    "pip install langchain_openai"
   ]
  },
  {
   "cell_type": "code",
   "execution_count": 2,
   "metadata": {},
   "outputs": [],
   "source": [
    "from langchain.globals import set_llm_cache\n",
    "from langchain_openai import OpenAI\n",
    "from langchain.cache import RedisSemanticCache\n",
    "from langchain_openai import OpenAIEmbeddings\n",
    "import time, os"
   ]
  },
  {
   "cell_type": "code",
   "execution_count": 3,
   "metadata": {},
   "outputs": [],
   "source": [
    "os.environ['OPENAI_API_KEY'] = 'sk-XXXX'\n",
    "llm_openai = OpenAI(model_name=\"gpt-3.5-turbo-instruct\")"
   ]
  },
  {
   "cell_type": "code",
   "execution_count": 4,
   "metadata": {},
   "outputs": [],
   "source": [
    "set_llm_cache(\n",
    "    RedisSemanticCache(redis_url=\"redis://localhost:6379\", embedding=OpenAIEmbeddings())\n",
    ")"
   ]
  },
  {
   "cell_type": "code",
   "execution_count": 5,
   "metadata": {},
   "outputs": [
    {
     "name": "stdout",
     "output_type": "stream",
     "text": [
      "Answer: \n",
      "\n",
      "Tokyo. \n",
      " Time taken: 3.3112523555755615\n"
     ]
    }
   ],
   "source": [
    "question = \"What is capital of Japan?\"\n",
    "start_time = time.time()\n",
    "res = llm_openai.invoke(question)\n",
    "end_time = time.time()\n",
    "print(f\"Answer: {res} \\n Time taken: {end_time-start_time}\")"
   ]
  },
  {
   "cell_type": "code",
   "execution_count": 6,
   "metadata": {},
   "outputs": [
    {
     "name": "stdout",
     "output_type": "stream",
     "text": [
      "Answer: \n",
      "\n",
      "Tokyo. \n",
      " Time taken: 0.9358816146850586\n"
     ]
    }
   ],
   "source": [
    "question_1 = \"What is capital of Japan?\"\n",
    "start_time_1 = time.time()\n",
    "res_1 = llm_openai.invoke(question_1)\n",
    "end_time_1 = time.time()\n",
    "print(f\"Answer: {res_1} \\n Time taken: {end_time_1-start_time_1}\")"
   ]
  },
  {
   "cell_type": "code",
   "execution_count": 7,
   "metadata": {},
   "outputs": [
    {
     "name": "stdout",
     "output_type": "stream",
     "text": [
      "Answer: \n",
      "\n",
      "Tokyo. \n",
      " Time taken: 0.4690685272216797\n"
     ]
    }
   ],
   "source": [
    "question_2 = \"Japan Capital?\"\n",
    "start_time_2 = time.time()\n",
    "res_2 = llm_openai.invoke(question_2)\n",
    "end_time_2 = time.time()\n",
    "print(f\"Answer: {res_2} \\n Time taken: {end_time_2-start_time_2}\")"
   ]
  },
  {
   "cell_type": "code",
   "execution_count": 8,
   "metadata": {},
   "outputs": [
    {
     "name": "stdout",
     "output_type": "stream",
     "text": [
      "Answer: \n",
      "\n",
      "Tokyo. \n",
      " Time taken: 0.48920369148254395\n"
     ]
    }
   ],
   "source": [
    "question_3 = \"Capital of Japan?\"\n",
    "start_time_3 = time.time()\n",
    "res_3 = llm_openai.invoke(question_3)\n",
    "end_time_3 = time.time()\n",
    "print(f\"Answer: {res_3} \\n Time taken: {end_time_3-start_time_3}\")"
   ]
  }
 ],
 "metadata": {
  "kernelspec": {
   "display_name": "Python 3",
   "language": "python",
   "name": "python3"
  },
  "language_info": {
   "codemirror_mode": {
    "name": "ipython",
    "version": 3
   },
   "file_extension": ".py",
   "mimetype": "text/x-python",
   "name": "python",
   "nbconvert_exporter": "python",
   "pygments_lexer": "ipython3",
   "version": "3.11.4"
  }
 },
 "nbformat": 4,
 "nbformat_minor": 2
}
